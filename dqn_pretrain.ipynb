{
 "cells": [
  {
   "cell_type": "code",
   "execution_count": 1,
   "metadata": {},
   "outputs": [
    {
     "name": "stderr",
     "output_type": "stream",
     "text": [
      "Using TensorFlow backend.\n"
     ]
    }
   ],
   "source": [
    "%matplotlib inline\n",
    "from keras.models import Model\n",
    "from keras.layers import *\n",
    "from keras.optimizers import *\n",
    "\n",
    "import keras.initializers as kinit\n",
    "import numpy as np\n",
    "import pandas as pd\n",
    "import matplotlib.pyplot as plt\n",
    "\n",
    "from dqnroute.utils import *\n",
    "\n",
    "from sklearn.model_selection import train_test_split"
   ]
  },
  {
   "cell_type": "code",
   "execution_count": 2,
   "metadata": {
    "collapsed": true
   },
   "outputs": [],
   "source": [
    "data = pd.read_csv('logs/data_generated1.csv', names=get_data_cols(10))"
   ]
  },
  {
   "cell_type": "code",
   "execution_count": 3,
   "metadata": {},
   "outputs": [
    {
     "data": {
      "text/html": [
       "<div>\n",
       "<table border=\"1\" class=\"dataframe\">\n",
       "  <thead>\n",
       "    <tr style=\"text-align: right;\">\n",
       "      <th></th>\n",
       "      <th>time</th>\n",
       "      <th>pkg_id</th>\n",
       "      <th>cur_node</th>\n",
       "      <th>dst_0</th>\n",
       "      <th>dst_1</th>\n",
       "      <th>dst_2</th>\n",
       "      <th>dst_3</th>\n",
       "      <th>dst_4</th>\n",
       "      <th>dst_5</th>\n",
       "      <th>dst_6</th>\n",
       "      <th>...</th>\n",
       "      <th>predict_0</th>\n",
       "      <th>predict_1</th>\n",
       "      <th>predict_2</th>\n",
       "      <th>predict_3</th>\n",
       "      <th>predict_4</th>\n",
       "      <th>predict_5</th>\n",
       "      <th>predict_6</th>\n",
       "      <th>predict_7</th>\n",
       "      <th>predict_8</th>\n",
       "      <th>predict_9</th>\n",
       "    </tr>\n",
       "  </thead>\n",
       "  <tbody>\n",
       "    <tr>\n",
       "      <th>0</th>\n",
       "      <td>10.0</td>\n",
       "      <td>1.0</td>\n",
       "      <td>1.0</td>\n",
       "      <td>1.0</td>\n",
       "      <td>0.0</td>\n",
       "      <td>0.0</td>\n",
       "      <td>0.0</td>\n",
       "      <td>0.0</td>\n",
       "      <td>0.0</td>\n",
       "      <td>0.0</td>\n",
       "      <td>...</td>\n",
       "      <td>-10.0</td>\n",
       "      <td>-1000000.0</td>\n",
       "      <td>-1000000.0</td>\n",
       "      <td>-1000000.0</td>\n",
       "      <td>-1000000.0</td>\n",
       "      <td>-1000000.0</td>\n",
       "      <td>-30.0</td>\n",
       "      <td>-1000000.0</td>\n",
       "      <td>-30.0</td>\n",
       "      <td>-1000000.0</td>\n",
       "    </tr>\n",
       "    <tr>\n",
       "      <th>1</th>\n",
       "      <td>20.0</td>\n",
       "      <td>1.0</td>\n",
       "      <td>0.0</td>\n",
       "      <td>1.0</td>\n",
       "      <td>0.0</td>\n",
       "      <td>0.0</td>\n",
       "      <td>0.0</td>\n",
       "      <td>0.0</td>\n",
       "      <td>0.0</td>\n",
       "      <td>0.0</td>\n",
       "      <td>...</td>\n",
       "      <td>-1000000.0</td>\n",
       "      <td>-20.0</td>\n",
       "      <td>-20.0</td>\n",
       "      <td>-1000000.0</td>\n",
       "      <td>-1000000.0</td>\n",
       "      <td>-1000000.0</td>\n",
       "      <td>-1000000.0</td>\n",
       "      <td>-1000000.0</td>\n",
       "      <td>-1000000.0</td>\n",
       "      <td>-1000000.0</td>\n",
       "    </tr>\n",
       "    <tr>\n",
       "      <th>2</th>\n",
       "      <td>20.0</td>\n",
       "      <td>2.0</td>\n",
       "      <td>4.0</td>\n",
       "      <td>0.0</td>\n",
       "      <td>0.0</td>\n",
       "      <td>0.0</td>\n",
       "      <td>1.0</td>\n",
       "      <td>0.0</td>\n",
       "      <td>0.0</td>\n",
       "      <td>0.0</td>\n",
       "      <td>...</td>\n",
       "      <td>-1000000.0</td>\n",
       "      <td>-1000000.0</td>\n",
       "      <td>-1000000.0</td>\n",
       "      <td>-10.0</td>\n",
       "      <td>-1000000.0</td>\n",
       "      <td>-30.0</td>\n",
       "      <td>-1000000.0</td>\n",
       "      <td>-1000000.0</td>\n",
       "      <td>-1000000.0</td>\n",
       "      <td>-1000000.0</td>\n",
       "    </tr>\n",
       "    <tr>\n",
       "      <th>3</th>\n",
       "      <td>30.0</td>\n",
       "      <td>2.0</td>\n",
       "      <td>3.0</td>\n",
       "      <td>0.0</td>\n",
       "      <td>0.0</td>\n",
       "      <td>0.0</td>\n",
       "      <td>1.0</td>\n",
       "      <td>0.0</td>\n",
       "      <td>0.0</td>\n",
       "      <td>0.0</td>\n",
       "      <td>...</td>\n",
       "      <td>-1000000.0</td>\n",
       "      <td>-1000000.0</td>\n",
       "      <td>-1000000.0</td>\n",
       "      <td>-1000000.0</td>\n",
       "      <td>-20.0</td>\n",
       "      <td>-1000000.0</td>\n",
       "      <td>-1000000.0</td>\n",
       "      <td>-20.0</td>\n",
       "      <td>-1000000.0</td>\n",
       "      <td>-1000000.0</td>\n",
       "    </tr>\n",
       "    <tr>\n",
       "      <th>4</th>\n",
       "      <td>30.0</td>\n",
       "      <td>3.0</td>\n",
       "      <td>3.0</td>\n",
       "      <td>0.0</td>\n",
       "      <td>0.0</td>\n",
       "      <td>1.0</td>\n",
       "      <td>0.0</td>\n",
       "      <td>0.0</td>\n",
       "      <td>0.0</td>\n",
       "      <td>0.0</td>\n",
       "      <td>...</td>\n",
       "      <td>-1000000.0</td>\n",
       "      <td>-1000000.0</td>\n",
       "      <td>-1000000.0</td>\n",
       "      <td>-1000000.0</td>\n",
       "      <td>-50.0</td>\n",
       "      <td>-1000000.0</td>\n",
       "      <td>-1000000.0</td>\n",
       "      <td>-30.0</td>\n",
       "      <td>-1000000.0</td>\n",
       "      <td>-1000000.0</td>\n",
       "    </tr>\n",
       "  </tbody>\n",
       "</table>\n",
       "<p>5 rows × 143 columns</p>\n",
       "</div>"
      ],
      "text/plain": [
       "   time  pkg_id  cur_node  dst_0  dst_1  dst_2  dst_3  dst_4  dst_5  dst_6  \\\n",
       "0  10.0     1.0       1.0    1.0    0.0    0.0    0.0    0.0    0.0    0.0   \n",
       "1  20.0     1.0       0.0    1.0    0.0    0.0    0.0    0.0    0.0    0.0   \n",
       "2  20.0     2.0       4.0    0.0    0.0    0.0    1.0    0.0    0.0    0.0   \n",
       "3  30.0     2.0       3.0    0.0    0.0    0.0    1.0    0.0    0.0    0.0   \n",
       "4  30.0     3.0       3.0    0.0    0.0    1.0    0.0    0.0    0.0    0.0   \n",
       "\n",
       "     ...      predict_0  predict_1  predict_2  predict_3  predict_4  \\\n",
       "0    ...          -10.0 -1000000.0 -1000000.0 -1000000.0 -1000000.0   \n",
       "1    ...     -1000000.0      -20.0      -20.0 -1000000.0 -1000000.0   \n",
       "2    ...     -1000000.0 -1000000.0 -1000000.0      -10.0 -1000000.0   \n",
       "3    ...     -1000000.0 -1000000.0 -1000000.0 -1000000.0      -20.0   \n",
       "4    ...     -1000000.0 -1000000.0 -1000000.0 -1000000.0      -50.0   \n",
       "\n",
       "   predict_5  predict_6  predict_7  predict_8  predict_9  \n",
       "0 -1000000.0      -30.0 -1000000.0      -30.0 -1000000.0  \n",
       "1 -1000000.0 -1000000.0 -1000000.0 -1000000.0 -1000000.0  \n",
       "2      -30.0 -1000000.0 -1000000.0 -1000000.0 -1000000.0  \n",
       "3 -1000000.0 -1000000.0      -20.0 -1000000.0 -1000000.0  \n",
       "4 -1000000.0 -1000000.0      -30.0 -1000000.0 -1000000.0  \n",
       "\n",
       "[5 rows x 143 columns]"
      ]
     },
     "execution_count": 3,
     "metadata": {},
     "output_type": "execute_result"
    }
   ],
   "source": [
    "data.head()"
   ]
  },
  {
   "cell_type": "code",
   "execution_count": 4,
   "metadata": {
    "collapsed": true
   },
   "outputs": [],
   "source": [
    "target_cols = get_target_cols(10)\n",
    "neighbors_cols = get_neighbors_cols(10)\n",
    "addr_cols = get_addr_cols(10)\n",
    "dst_cols = get_dst_cols(10)\n",
    "\n",
    "targets = data[target_cols]\n",
    "neighbors_inp = data[neighbors_cols]\n",
    "addr_inp = data[addr_cols]\n",
    "dst_inp = data[dst_cols]"
   ]
  },
  {
   "cell_type": "code",
   "execution_count": 5,
   "metadata": {},
   "outputs": [
    {
     "data": {
      "text/html": [
       "<div>\n",
       "<table border=\"1\" class=\"dataframe\">\n",
       "  <thead>\n",
       "    <tr style=\"text-align: right;\">\n",
       "      <th></th>\n",
       "      <th>neighbors_0</th>\n",
       "      <th>neighbors_1</th>\n",
       "      <th>neighbors_2</th>\n",
       "      <th>neighbors_3</th>\n",
       "      <th>neighbors_4</th>\n",
       "      <th>neighbors_5</th>\n",
       "      <th>neighbors_6</th>\n",
       "      <th>neighbors_7</th>\n",
       "      <th>neighbors_8</th>\n",
       "      <th>neighbors_9</th>\n",
       "    </tr>\n",
       "  </thead>\n",
       "  <tbody>\n",
       "    <tr>\n",
       "      <th>0</th>\n",
       "      <td>1.0</td>\n",
       "      <td>0.0</td>\n",
       "      <td>0.0</td>\n",
       "      <td>0.0</td>\n",
       "      <td>0.0</td>\n",
       "      <td>0.0</td>\n",
       "      <td>1.0</td>\n",
       "      <td>0.0</td>\n",
       "      <td>1.0</td>\n",
       "      <td>0.0</td>\n",
       "    </tr>\n",
       "    <tr>\n",
       "      <th>1</th>\n",
       "      <td>0.0</td>\n",
       "      <td>1.0</td>\n",
       "      <td>1.0</td>\n",
       "      <td>0.0</td>\n",
       "      <td>0.0</td>\n",
       "      <td>0.0</td>\n",
       "      <td>0.0</td>\n",
       "      <td>0.0</td>\n",
       "      <td>0.0</td>\n",
       "      <td>0.0</td>\n",
       "    </tr>\n",
       "    <tr>\n",
       "      <th>2</th>\n",
       "      <td>0.0</td>\n",
       "      <td>0.0</td>\n",
       "      <td>0.0</td>\n",
       "      <td>1.0</td>\n",
       "      <td>0.0</td>\n",
       "      <td>1.0</td>\n",
       "      <td>0.0</td>\n",
       "      <td>0.0</td>\n",
       "      <td>0.0</td>\n",
       "      <td>0.0</td>\n",
       "    </tr>\n",
       "    <tr>\n",
       "      <th>3</th>\n",
       "      <td>0.0</td>\n",
       "      <td>0.0</td>\n",
       "      <td>0.0</td>\n",
       "      <td>0.0</td>\n",
       "      <td>1.0</td>\n",
       "      <td>0.0</td>\n",
       "      <td>0.0</td>\n",
       "      <td>1.0</td>\n",
       "      <td>0.0</td>\n",
       "      <td>0.0</td>\n",
       "    </tr>\n",
       "    <tr>\n",
       "      <th>4</th>\n",
       "      <td>0.0</td>\n",
       "      <td>0.0</td>\n",
       "      <td>0.0</td>\n",
       "      <td>0.0</td>\n",
       "      <td>1.0</td>\n",
       "      <td>0.0</td>\n",
       "      <td>0.0</td>\n",
       "      <td>1.0</td>\n",
       "      <td>0.0</td>\n",
       "      <td>0.0</td>\n",
       "    </tr>\n",
       "  </tbody>\n",
       "</table>\n",
       "</div>"
      ],
      "text/plain": [
       "   neighbors_0  neighbors_1  neighbors_2  neighbors_3  neighbors_4  \\\n",
       "0          1.0          0.0          0.0          0.0          0.0   \n",
       "1          0.0          1.0          1.0          0.0          0.0   \n",
       "2          0.0          0.0          0.0          1.0          0.0   \n",
       "3          0.0          0.0          0.0          0.0          1.0   \n",
       "4          0.0          0.0          0.0          0.0          1.0   \n",
       "\n",
       "   neighbors_5  neighbors_6  neighbors_7  neighbors_8  neighbors_9  \n",
       "0          0.0          1.0          0.0          1.0          0.0  \n",
       "1          0.0          0.0          0.0          0.0          0.0  \n",
       "2          1.0          0.0          0.0          0.0          0.0  \n",
       "3          0.0          0.0          1.0          0.0          0.0  \n",
       "4          0.0          0.0          1.0          0.0          0.0  "
      ]
     },
     "execution_count": 5,
     "metadata": {},
     "output_type": "execute_result"
    }
   ],
   "source": [
    "neighbors_inp.head()"
   ]
  },
  {
   "cell_type": "code",
   "execution_count": 6,
   "metadata": {},
   "outputs": [
    {
     "data": {
      "text/html": [
       "<div>\n",
       "<table border=\"1\" class=\"dataframe\">\n",
       "  <thead>\n",
       "    <tr style=\"text-align: right;\">\n",
       "      <th></th>\n",
       "      <th>predict_0</th>\n",
       "      <th>predict_1</th>\n",
       "      <th>predict_2</th>\n",
       "      <th>predict_3</th>\n",
       "      <th>predict_4</th>\n",
       "      <th>predict_5</th>\n",
       "      <th>predict_6</th>\n",
       "      <th>predict_7</th>\n",
       "      <th>predict_8</th>\n",
       "      <th>predict_9</th>\n",
       "    </tr>\n",
       "  </thead>\n",
       "  <tbody>\n",
       "    <tr>\n",
       "      <th>0</th>\n",
       "      <td>-10.0</td>\n",
       "      <td>-1000000.0</td>\n",
       "      <td>-1000000.0</td>\n",
       "      <td>-1000000.0</td>\n",
       "      <td>-1000000.0</td>\n",
       "      <td>-1000000.0</td>\n",
       "      <td>-30.0</td>\n",
       "      <td>-1000000.0</td>\n",
       "      <td>-30.0</td>\n",
       "      <td>-1000000.0</td>\n",
       "    </tr>\n",
       "    <tr>\n",
       "      <th>1</th>\n",
       "      <td>-1000000.0</td>\n",
       "      <td>-20.0</td>\n",
       "      <td>-20.0</td>\n",
       "      <td>-1000000.0</td>\n",
       "      <td>-1000000.0</td>\n",
       "      <td>-1000000.0</td>\n",
       "      <td>-1000000.0</td>\n",
       "      <td>-1000000.0</td>\n",
       "      <td>-1000000.0</td>\n",
       "      <td>-1000000.0</td>\n",
       "    </tr>\n",
       "    <tr>\n",
       "      <th>2</th>\n",
       "      <td>-1000000.0</td>\n",
       "      <td>-1000000.0</td>\n",
       "      <td>-1000000.0</td>\n",
       "      <td>-10.0</td>\n",
       "      <td>-1000000.0</td>\n",
       "      <td>-30.0</td>\n",
       "      <td>-1000000.0</td>\n",
       "      <td>-1000000.0</td>\n",
       "      <td>-1000000.0</td>\n",
       "      <td>-1000000.0</td>\n",
       "    </tr>\n",
       "    <tr>\n",
       "      <th>3</th>\n",
       "      <td>-1000000.0</td>\n",
       "      <td>-1000000.0</td>\n",
       "      <td>-1000000.0</td>\n",
       "      <td>-1000000.0</td>\n",
       "      <td>-20.0</td>\n",
       "      <td>-1000000.0</td>\n",
       "      <td>-1000000.0</td>\n",
       "      <td>-20.0</td>\n",
       "      <td>-1000000.0</td>\n",
       "      <td>-1000000.0</td>\n",
       "    </tr>\n",
       "    <tr>\n",
       "      <th>4</th>\n",
       "      <td>-1000000.0</td>\n",
       "      <td>-1000000.0</td>\n",
       "      <td>-1000000.0</td>\n",
       "      <td>-1000000.0</td>\n",
       "      <td>-50.0</td>\n",
       "      <td>-1000000.0</td>\n",
       "      <td>-1000000.0</td>\n",
       "      <td>-30.0</td>\n",
       "      <td>-1000000.0</td>\n",
       "      <td>-1000000.0</td>\n",
       "    </tr>\n",
       "  </tbody>\n",
       "</table>\n",
       "</div>"
      ],
      "text/plain": [
       "   predict_0  predict_1  predict_2  predict_3  predict_4  predict_5  \\\n",
       "0      -10.0 -1000000.0 -1000000.0 -1000000.0 -1000000.0 -1000000.0   \n",
       "1 -1000000.0      -20.0      -20.0 -1000000.0 -1000000.0 -1000000.0   \n",
       "2 -1000000.0 -1000000.0 -1000000.0      -10.0 -1000000.0      -30.0   \n",
       "3 -1000000.0 -1000000.0 -1000000.0 -1000000.0      -20.0 -1000000.0   \n",
       "4 -1000000.0 -1000000.0 -1000000.0 -1000000.0      -50.0 -1000000.0   \n",
       "\n",
       "   predict_6  predict_7  predict_8  predict_9  \n",
       "0      -30.0 -1000000.0      -30.0 -1000000.0  \n",
       "1 -1000000.0 -1000000.0 -1000000.0 -1000000.0  \n",
       "2 -1000000.0 -1000000.0 -1000000.0 -1000000.0  \n",
       "3 -1000000.0      -20.0 -1000000.0 -1000000.0  \n",
       "4 -1000000.0      -30.0 -1000000.0 -1000000.0  "
      ]
     },
     "execution_count": 6,
     "metadata": {},
     "output_type": "execute_result"
    }
   ],
   "source": [
    "targets.head()"
   ]
  },
  {
   "cell_type": "code",
   "execution_count": 7,
   "metadata": {
    "collapsed": true
   },
   "outputs": [],
   "source": [
    "neighbors_input_dim = neighbors_inp.shape[1]\n",
    "addr_input_dim = addr_inp.shape[1]\n",
    "dst_input_dim = dst_inp.shape[1]\n",
    "output_dim = targets.shape[1]"
   ]
  },
  {
   "cell_type": "code",
   "execution_count": 8,
   "metadata": {
    "collapsed": true
   },
   "outputs": [],
   "source": [
    "neighbors_input = Input(shape=(neighbors_input_dim,), name='neighbors_input')\n",
    "addr_input = Input(shape=(addr_input_dim,), name='addr_input')\n",
    "dst_input = Input(shape=(dst_input_dim,), name='dst_input')\n",
    "\n",
    "x = concatenate([neighbors_input, addr_input, dst_input])\n",
    "x = Dense(64, activation='relu')(x)\n",
    "x = Dense(64, activation='relu')(x)\n",
    "x = Dense(output_dim, activation='linear')(x)\n",
    "\n",
    "y = Lambda(lambda x: (1 - x) * -1000000)(neighbors_input)\n",
    "\n",
    "x = add([x, y])\n",
    "model = Model(inputs=[neighbors_input, addr_input, dst_input], outputs=x)\n",
    "\n",
    "model.compile(loss='mse', optimizer='rmsprop')"
   ]
  },
  {
   "cell_type": "code",
   "execution_count": 9,
   "metadata": {
    "collapsed": true
   },
   "outputs": [],
   "source": [
    "N_train, N_test, A_train, A_test, D_train, D_test, y_train, y_test = train_test_split(neighbors_inp.values,\n",
    "                                                                                      addr_inp.values,\n",
    "                                                                                      dst_inp.values,\n",
    "                                                                                      targets.values,\n",
    "                                                                                      test_size=0.2, random_state=42)"
   ]
  },
  {
   "cell_type": "code",
   "execution_count": null,
   "metadata": {},
   "outputs": [
    {
     "name": "stdout",
     "output_type": "stream",
     "text": [
      "Epoch 1/10\n",
      "266440/266440 [==============================] - 11s - loss: 5.1193    \n",
      "Epoch 2/10\n",
      "266440/266440 [==============================] - 11s - loss: 0.0527    \n",
      "Epoch 3/10\n",
      "266440/266440 [==============================] - 11s - loss: 0.0414    \n",
      "Epoch 4/10\n",
      "266440/266440 [==============================] - 11s - loss: 0.0341    \n",
      "Epoch 5/10\n",
      "266440/266440 [==============================] - 12s - loss: 0.0291    \n",
      "Epoch 6/10\n",
      "266440/266440 [==============================] - 11s - loss: 0.0252    \n",
      "Epoch 7/10\n",
      "266440/266440 [==============================] - 11s - loss: 0.0226    \n",
      "Epoch 8/10\n",
      "266440/266440 [==============================] - 11s - loss: 0.0205    \n",
      "Epoch 9/10\n",
      "117248/266440 [============>.................] - ETA: 6s - loss: 0.0192"
     ]
    }
   ],
   "source": [
    "model.fit([N_train, A_train, D_train], y_train, epochs=10)"
   ]
  },
  {
   "cell_type": "code",
   "execution_count": 52,
   "metadata": {},
   "outputs": [
    {
     "name": "stdout",
     "output_type": "stream",
     "text": [
      "65664/66610 [============================>.] - ETA: 0s"
     ]
    },
    {
     "data": {
      "text/plain": [
       "0.022835656894448372"
      ]
     },
     "execution_count": 52,
     "metadata": {},
     "output_type": "execute_result"
    }
   ],
   "source": [
    "model.evaluate([N_test, A_test, D_test], y_test)"
   ]
  },
  {
   "cell_type": "code",
   "execution_count": 40,
   "metadata": {},
   "outputs": [
    {
     "data": {
      "text/plain": [
       "array([[ -9.73342037e+00,  -9.99999688e+05,  -9.99999562e+05,\n",
       "         -1.00000019e+06,  -1.00000000e+06,  -1.00000019e+06,\n",
       "         -2.98683186e+01,  -9.99999812e+05,  -2.99020615e+01,\n",
       "         -9.99999812e+05]], dtype=float32)"
      ]
     },
     "execution_count": 40,
     "metadata": {},
     "output_type": "execute_result"
    }
   ],
   "source": [
    "model.predict(list(map(lambda x: x.reshape((1, 10)), [N_test[0], A_test[0], D_test[0]])))"
   ]
  },
  {
   "cell_type": "code",
   "execution_count": 41,
   "metadata": {},
   "outputs": [
    {
     "data": {
      "text/plain": [
       "array([ -1.00000000e+01,  -1.00000000e+06,  -1.00000000e+06,\n",
       "        -1.00000000e+06,  -1.00000000e+06,  -1.00000000e+06,\n",
       "        -3.00000000e+01,  -1.00000000e+06,  -3.00000000e+01,\n",
       "        -1.00000000e+06])"
      ]
     },
     "execution_count": 41,
     "metadata": {},
     "output_type": "execute_result"
    }
   ],
   "source": [
    "y_test[0]"
   ]
  },
  {
   "cell_type": "code",
   "execution_count": 53,
   "metadata": {},
   "outputs": [
    {
     "ename": "ImportError",
     "evalue": "`save_model` requires h5py.",
     "output_type": "error",
     "traceback": [
      "\u001b[0;31m---------------------------------------------------------------------------\u001b[0m",
      "\u001b[0;31mImportError\u001b[0m                               Traceback (most recent call last)",
      "\u001b[0;32m<ipython-input-53-a69cc52f6c7c>\u001b[0m in \u001b[0;36m<module>\u001b[0;34m()\u001b[0m\n\u001b[0;32m----> 1\u001b[0;31m \u001b[0mmodel\u001b[0m\u001b[0;34m.\u001b[0m\u001b[0msave\u001b[0m\u001b[0;34m(\u001b[0m\u001b[0;34m'router_network.h5'\u001b[0m\u001b[0;34m)\u001b[0m\u001b[0;34m\u001b[0m\u001b[0m\n\u001b[0m",
      "\u001b[0;32m/nix/store/v90vvflzy9zc3crnvyvxfc2f51ndakbp-python3.5-Keras-2.0.3/lib/python3.5/site-packages/keras/engine/topology.py\u001b[0m in \u001b[0;36msave\u001b[0;34m(self, filepath, overwrite, include_optimizer)\u001b[0m\n\u001b[1;32m   2432\u001b[0m         \"\"\"\n\u001b[1;32m   2433\u001b[0m         \u001b[0;32mfrom\u001b[0m \u001b[0;34m.\u001b[0m\u001b[0;34m.\u001b[0m\u001b[0mmodels\u001b[0m \u001b[0;32mimport\u001b[0m \u001b[0msave_model\u001b[0m\u001b[0;34m\u001b[0m\u001b[0m\n\u001b[0;32m-> 2434\u001b[0;31m         \u001b[0msave_model\u001b[0m\u001b[0;34m(\u001b[0m\u001b[0mself\u001b[0m\u001b[0;34m,\u001b[0m \u001b[0mfilepath\u001b[0m\u001b[0;34m,\u001b[0m \u001b[0moverwrite\u001b[0m\u001b[0;34m,\u001b[0m \u001b[0minclude_optimizer\u001b[0m\u001b[0;34m)\u001b[0m\u001b[0;34m\u001b[0m\u001b[0m\n\u001b[0m\u001b[1;32m   2435\u001b[0m \u001b[0;34m\u001b[0m\u001b[0m\n\u001b[1;32m   2436\u001b[0m     \u001b[0;32mdef\u001b[0m \u001b[0msave_weights\u001b[0m\u001b[0;34m(\u001b[0m\u001b[0mself\u001b[0m\u001b[0;34m,\u001b[0m \u001b[0mfilepath\u001b[0m\u001b[0;34m,\u001b[0m \u001b[0moverwrite\u001b[0m\u001b[0;34m=\u001b[0m\u001b[0;32mTrue\u001b[0m\u001b[0;34m)\u001b[0m\u001b[0;34m:\u001b[0m\u001b[0;34m\u001b[0m\u001b[0m\n",
      "\u001b[0;32m/nix/store/v90vvflzy9zc3crnvyvxfc2f51ndakbp-python3.5-Keras-2.0.3/lib/python3.5/site-packages/keras/models.py\u001b[0m in \u001b[0;36msave_model\u001b[0;34m(model, filepath, overwrite, include_optimizer)\u001b[0m\n\u001b[1;32m     53\u001b[0m \u001b[0;34m\u001b[0m\u001b[0m\n\u001b[1;32m     54\u001b[0m     \u001b[0;32mif\u001b[0m \u001b[0mh5py\u001b[0m \u001b[0;32mis\u001b[0m \u001b[0;32mNone\u001b[0m\u001b[0;34m:\u001b[0m\u001b[0;34m\u001b[0m\u001b[0m\n\u001b[0;32m---> 55\u001b[0;31m         \u001b[0;32mraise\u001b[0m \u001b[0mImportError\u001b[0m\u001b[0;34m(\u001b[0m\u001b[0;34m'`save_model` requires h5py.'\u001b[0m\u001b[0;34m)\u001b[0m\u001b[0;34m\u001b[0m\u001b[0m\n\u001b[0m\u001b[1;32m     56\u001b[0m \u001b[0;34m\u001b[0m\u001b[0m\n\u001b[1;32m     57\u001b[0m     \u001b[0;32mdef\u001b[0m \u001b[0mget_json_type\u001b[0m\u001b[0;34m(\u001b[0m\u001b[0mobj\u001b[0m\u001b[0;34m)\u001b[0m\u001b[0;34m:\u001b[0m\u001b[0;34m\u001b[0m\u001b[0m\n",
      "\u001b[0;31mImportError\u001b[0m: `save_model` requires h5py."
     ]
    }
   ],
   "source": [
    "model.save('router_network.h5')"
   ]
  },
  {
   "cell_type": "code",
   "execution_count": null,
   "metadata": {
    "collapsed": true
   },
   "outputs": [],
   "source": []
  }
 ],
 "metadata": {
  "kernelspec": {
   "display_name": "Python 3",
   "language": "python",
   "name": "python3"
  },
  "language_info": {
   "codemirror_mode": {
    "name": "ipython",
    "version": 3
   },
   "file_extension": ".py",
   "mimetype": "text/x-python",
   "name": "python",
   "nbconvert_exporter": "python",
   "pygments_lexer": "ipython3",
   "version": "3.5.3"
  }
 },
 "nbformat": 4,
 "nbformat_minor": 2
}
