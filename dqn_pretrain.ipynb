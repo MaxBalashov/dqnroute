{
 "cells": [
  {
   "cell_type": "code",
   "execution_count": 1,
   "metadata": {},
   "outputs": [
    {
     "name": "stderr",
     "output_type": "stream",
     "text": [
      "Using TensorFlow backend.\n"
     ]
    }
   ],
   "source": [
    "%matplotlib inline\n",
    "from keras.models import Model\n",
    "from keras.layers import *\n",
    "from keras.optimizers import *\n",
    "from keras.utils import plot_model\n",
    "\n",
    "import keras.initializers as kinit\n",
    "import numpy as np\n",
    "import pandas as pd\n",
    "import matplotlib.pyplot as plt\n",
    "\n",
    "from dqnroute.utils import *\n",
    "\n",
    "from sklearn.model_selection import train_test_split"
   ]
  },
  {
   "cell_type": "code",
   "execution_count": 2,
   "metadata": {},
   "outputs": [],
   "source": [
    "data = pd.read_csv('logs/data_generated2.csv', names=get_data_cols(10))"
   ]
  },
  {
   "cell_type": "code",
   "execution_count": 3,
   "metadata": {},
   "outputs": [
    {
     "data": {
      "text/plain": [
       "0"
      ]
     },
     "execution_count": 3,
     "metadata": {},
     "output_type": "execute_result"
    }
   ],
   "source": [
    "import gc\n",
    "gc.collect()"
   ]
  },
  {
   "cell_type": "code",
   "execution_count": 4,
   "metadata": {},
   "outputs": [
    {
     "data": {
      "text/html": [
       "<div>\n",
       "<table border=\"1\" class=\"dataframe\">\n",
       "  <thead>\n",
       "    <tr style=\"text-align: right;\">\n",
       "      <th></th>\n",
       "      <th>time</th>\n",
       "      <th>pkg_id</th>\n",
       "      <th>cur_node</th>\n",
       "      <th>dst_0</th>\n",
       "      <th>dst_1</th>\n",
       "      <th>dst_2</th>\n",
       "      <th>dst_3</th>\n",
       "      <th>dst_4</th>\n",
       "      <th>dst_5</th>\n",
       "      <th>dst_6</th>\n",
       "      <th>...</th>\n",
       "      <th>predict_0</th>\n",
       "      <th>predict_1</th>\n",
       "      <th>predict_2</th>\n",
       "      <th>predict_3</th>\n",
       "      <th>predict_4</th>\n",
       "      <th>predict_5</th>\n",
       "      <th>predict_6</th>\n",
       "      <th>predict_7</th>\n",
       "      <th>predict_8</th>\n",
       "      <th>predict_9</th>\n",
       "    </tr>\n",
       "  </thead>\n",
       "  <tbody>\n",
       "    <tr>\n",
       "      <th>0</th>\n",
       "      <td>10.0</td>\n",
       "      <td>1.0</td>\n",
       "      <td>1.0</td>\n",
       "      <td>1.0</td>\n",
       "      <td>0.0</td>\n",
       "      <td>0.0</td>\n",
       "      <td>0.0</td>\n",
       "      <td>0.0</td>\n",
       "      <td>0.0</td>\n",
       "      <td>0.0</td>\n",
       "      <td>...</td>\n",
       "      <td>-10.0</td>\n",
       "      <td>-1000000.0</td>\n",
       "      <td>-1000000.0</td>\n",
       "      <td>-1000000.0</td>\n",
       "      <td>-1000000.0</td>\n",
       "      <td>-1000000.0</td>\n",
       "      <td>-30.0</td>\n",
       "      <td>-1000000.0</td>\n",
       "      <td>-30.0</td>\n",
       "      <td>-1000000.0</td>\n",
       "    </tr>\n",
       "    <tr>\n",
       "      <th>1</th>\n",
       "      <td>20.0</td>\n",
       "      <td>1.0</td>\n",
       "      <td>0.0</td>\n",
       "      <td>1.0</td>\n",
       "      <td>0.0</td>\n",
       "      <td>0.0</td>\n",
       "      <td>0.0</td>\n",
       "      <td>0.0</td>\n",
       "      <td>0.0</td>\n",
       "      <td>0.0</td>\n",
       "      <td>...</td>\n",
       "      <td>-1000000.0</td>\n",
       "      <td>-20.0</td>\n",
       "      <td>-20.0</td>\n",
       "      <td>-1000000.0</td>\n",
       "      <td>-1000000.0</td>\n",
       "      <td>-1000000.0</td>\n",
       "      <td>-1000000.0</td>\n",
       "      <td>-1000000.0</td>\n",
       "      <td>-1000000.0</td>\n",
       "      <td>-1000000.0</td>\n",
       "    </tr>\n",
       "    <tr>\n",
       "      <th>2</th>\n",
       "      <td>20.0</td>\n",
       "      <td>2.0</td>\n",
       "      <td>2.0</td>\n",
       "      <td>0.0</td>\n",
       "      <td>1.0</td>\n",
       "      <td>0.0</td>\n",
       "      <td>0.0</td>\n",
       "      <td>0.0</td>\n",
       "      <td>0.0</td>\n",
       "      <td>0.0</td>\n",
       "      <td>...</td>\n",
       "      <td>-20.0</td>\n",
       "      <td>-1000000.0</td>\n",
       "      <td>-1000000.0</td>\n",
       "      <td>-1000000.0</td>\n",
       "      <td>-1000000.0</td>\n",
       "      <td>-1000000.0</td>\n",
       "      <td>-20.0</td>\n",
       "      <td>-1000000.0</td>\n",
       "      <td>-1000000.0</td>\n",
       "      <td>-1000000.0</td>\n",
       "    </tr>\n",
       "    <tr>\n",
       "      <th>3</th>\n",
       "      <td>30.0</td>\n",
       "      <td>2.0</td>\n",
       "      <td>0.0</td>\n",
       "      <td>0.0</td>\n",
       "      <td>1.0</td>\n",
       "      <td>0.0</td>\n",
       "      <td>0.0</td>\n",
       "      <td>0.0</td>\n",
       "      <td>0.0</td>\n",
       "      <td>0.0</td>\n",
       "      <td>...</td>\n",
       "      <td>-1000000.0</td>\n",
       "      <td>-10.0</td>\n",
       "      <td>-30.0</td>\n",
       "      <td>-1000000.0</td>\n",
       "      <td>-1000000.0</td>\n",
       "      <td>-1000000.0</td>\n",
       "      <td>-1000000.0</td>\n",
       "      <td>-1000000.0</td>\n",
       "      <td>-1000000.0</td>\n",
       "      <td>-1000000.0</td>\n",
       "    </tr>\n",
       "    <tr>\n",
       "      <th>4</th>\n",
       "      <td>40.0</td>\n",
       "      <td>2.0</td>\n",
       "      <td>1.0</td>\n",
       "      <td>0.0</td>\n",
       "      <td>1.0</td>\n",
       "      <td>0.0</td>\n",
       "      <td>0.0</td>\n",
       "      <td>0.0</td>\n",
       "      <td>0.0</td>\n",
       "      <td>0.0</td>\n",
       "      <td>...</td>\n",
       "      <td>-20.0</td>\n",
       "      <td>-1000000.0</td>\n",
       "      <td>-1000000.0</td>\n",
       "      <td>-1000000.0</td>\n",
       "      <td>-1000000.0</td>\n",
       "      <td>-1000000.0</td>\n",
       "      <td>-20.0</td>\n",
       "      <td>-1000000.0</td>\n",
       "      <td>-20.0</td>\n",
       "      <td>-1000000.0</td>\n",
       "    </tr>\n",
       "  </tbody>\n",
       "</table>\n",
       "<p>5 rows × 143 columns</p>\n",
       "</div>"
      ],
      "text/plain": [
       "   time  pkg_id  cur_node  dst_0  dst_1  dst_2  dst_3  dst_4  dst_5  dst_6  \\\n",
       "0  10.0     1.0       1.0    1.0    0.0    0.0    0.0    0.0    0.0    0.0   \n",
       "1  20.0     1.0       0.0    1.0    0.0    0.0    0.0    0.0    0.0    0.0   \n",
       "2  20.0     2.0       2.0    0.0    1.0    0.0    0.0    0.0    0.0    0.0   \n",
       "3  30.0     2.0       0.0    0.0    1.0    0.0    0.0    0.0    0.0    0.0   \n",
       "4  40.0     2.0       1.0    0.0    1.0    0.0    0.0    0.0    0.0    0.0   \n",
       "\n",
       "     ...      predict_0  predict_1  predict_2  predict_3  predict_4  \\\n",
       "0    ...          -10.0 -1000000.0 -1000000.0 -1000000.0 -1000000.0   \n",
       "1    ...     -1000000.0      -20.0      -20.0 -1000000.0 -1000000.0   \n",
       "2    ...          -20.0 -1000000.0 -1000000.0 -1000000.0 -1000000.0   \n",
       "3    ...     -1000000.0      -10.0      -30.0 -1000000.0 -1000000.0   \n",
       "4    ...          -20.0 -1000000.0 -1000000.0 -1000000.0 -1000000.0   \n",
       "\n",
       "   predict_5  predict_6  predict_7  predict_8  predict_9  \n",
       "0 -1000000.0      -30.0 -1000000.0      -30.0 -1000000.0  \n",
       "1 -1000000.0 -1000000.0 -1000000.0 -1000000.0 -1000000.0  \n",
       "2 -1000000.0      -20.0 -1000000.0 -1000000.0 -1000000.0  \n",
       "3 -1000000.0 -1000000.0 -1000000.0 -1000000.0 -1000000.0  \n",
       "4 -1000000.0      -20.0 -1000000.0      -20.0 -1000000.0  \n",
       "\n",
       "[5 rows x 143 columns]"
      ]
     },
     "execution_count": 4,
     "metadata": {},
     "output_type": "execute_result"
    }
   ],
   "source": [
    "data.head()"
   ]
  },
  {
   "cell_type": "code",
   "execution_count": 18,
   "metadata": {
    "collapsed": true
   },
   "outputs": [],
   "source": [
    "target_cols = get_target_cols(10)\n",
    "neighbors_cols = get_neighbors_cols(10)\n",
    "addr_cols = get_addr_cols(10)\n",
    "dst_cols = get_dst_cols(10)\n",
    "amatrix_cols = get_amatrix_cols(10)\n",
    "\n",
    "targets = data[target_cols]\n",
    "neighbors_inp = data[neighbors_cols]\n",
    "addr_inp = data[addr_cols]\n",
    "dst_inp = data[dst_cols]\n",
    "amatrix_inp = data[amatrix_cols]"
   ]
  },
  {
   "cell_type": "code",
   "execution_count": 19,
   "metadata": {},
   "outputs": [
    {
     "data": {
      "text/html": [
       "<div>\n",
       "<table border=\"1\" class=\"dataframe\">\n",
       "  <thead>\n",
       "    <tr style=\"text-align: right;\">\n",
       "      <th></th>\n",
       "      <th>neighbors_0</th>\n",
       "      <th>neighbors_1</th>\n",
       "      <th>neighbors_2</th>\n",
       "      <th>neighbors_3</th>\n",
       "      <th>neighbors_4</th>\n",
       "      <th>neighbors_5</th>\n",
       "      <th>neighbors_6</th>\n",
       "      <th>neighbors_7</th>\n",
       "      <th>neighbors_8</th>\n",
       "      <th>neighbors_9</th>\n",
       "    </tr>\n",
       "  </thead>\n",
       "  <tbody>\n",
       "    <tr>\n",
       "      <th>0</th>\n",
       "      <td>1.0</td>\n",
       "      <td>0.0</td>\n",
       "      <td>0.0</td>\n",
       "      <td>0.0</td>\n",
       "      <td>0.0</td>\n",
       "      <td>0.0</td>\n",
       "      <td>1.0</td>\n",
       "      <td>0.0</td>\n",
       "      <td>1.0</td>\n",
       "      <td>0.0</td>\n",
       "    </tr>\n",
       "    <tr>\n",
       "      <th>1</th>\n",
       "      <td>0.0</td>\n",
       "      <td>1.0</td>\n",
       "      <td>1.0</td>\n",
       "      <td>0.0</td>\n",
       "      <td>0.0</td>\n",
       "      <td>0.0</td>\n",
       "      <td>0.0</td>\n",
       "      <td>0.0</td>\n",
       "      <td>0.0</td>\n",
       "      <td>0.0</td>\n",
       "    </tr>\n",
       "    <tr>\n",
       "      <th>2</th>\n",
       "      <td>1.0</td>\n",
       "      <td>0.0</td>\n",
       "      <td>0.0</td>\n",
       "      <td>0.0</td>\n",
       "      <td>0.0</td>\n",
       "      <td>0.0</td>\n",
       "      <td>1.0</td>\n",
       "      <td>0.0</td>\n",
       "      <td>0.0</td>\n",
       "      <td>0.0</td>\n",
       "    </tr>\n",
       "    <tr>\n",
       "      <th>3</th>\n",
       "      <td>0.0</td>\n",
       "      <td>1.0</td>\n",
       "      <td>1.0</td>\n",
       "      <td>0.0</td>\n",
       "      <td>0.0</td>\n",
       "      <td>0.0</td>\n",
       "      <td>0.0</td>\n",
       "      <td>0.0</td>\n",
       "      <td>0.0</td>\n",
       "      <td>0.0</td>\n",
       "    </tr>\n",
       "    <tr>\n",
       "      <th>4</th>\n",
       "      <td>1.0</td>\n",
       "      <td>0.0</td>\n",
       "      <td>0.0</td>\n",
       "      <td>0.0</td>\n",
       "      <td>0.0</td>\n",
       "      <td>0.0</td>\n",
       "      <td>1.0</td>\n",
       "      <td>0.0</td>\n",
       "      <td>1.0</td>\n",
       "      <td>0.0</td>\n",
       "    </tr>\n",
       "  </tbody>\n",
       "</table>\n",
       "</div>"
      ],
      "text/plain": [
       "   neighbors_0  neighbors_1  neighbors_2  neighbors_3  neighbors_4  \\\n",
       "0          1.0          0.0          0.0          0.0          0.0   \n",
       "1          0.0          1.0          1.0          0.0          0.0   \n",
       "2          1.0          0.0          0.0          0.0          0.0   \n",
       "3          0.0          1.0          1.0          0.0          0.0   \n",
       "4          1.0          0.0          0.0          0.0          0.0   \n",
       "\n",
       "   neighbors_5  neighbors_6  neighbors_7  neighbors_8  neighbors_9  \n",
       "0          0.0          1.0          0.0          1.0          0.0  \n",
       "1          0.0          0.0          0.0          0.0          0.0  \n",
       "2          0.0          1.0          0.0          0.0          0.0  \n",
       "3          0.0          0.0          0.0          0.0          0.0  \n",
       "4          0.0          1.0          0.0          1.0          0.0  "
      ]
     },
     "execution_count": 19,
     "metadata": {},
     "output_type": "execute_result"
    }
   ],
   "source": [
    "neighbors_inp.head()"
   ]
  },
  {
   "cell_type": "code",
   "execution_count": 20,
   "metadata": {},
   "outputs": [
    {
     "data": {
      "text/html": [
       "<div>\n",
       "<table border=\"1\" class=\"dataframe\">\n",
       "  <thead>\n",
       "    <tr style=\"text-align: right;\">\n",
       "      <th></th>\n",
       "      <th>predict_0</th>\n",
       "      <th>predict_1</th>\n",
       "      <th>predict_2</th>\n",
       "      <th>predict_3</th>\n",
       "      <th>predict_4</th>\n",
       "      <th>predict_5</th>\n",
       "      <th>predict_6</th>\n",
       "      <th>predict_7</th>\n",
       "      <th>predict_8</th>\n",
       "      <th>predict_9</th>\n",
       "    </tr>\n",
       "  </thead>\n",
       "  <tbody>\n",
       "    <tr>\n",
       "      <th>0</th>\n",
       "      <td>-10.0</td>\n",
       "      <td>-1000000.0</td>\n",
       "      <td>-1000000.0</td>\n",
       "      <td>-1000000.0</td>\n",
       "      <td>-1000000.0</td>\n",
       "      <td>-1000000.0</td>\n",
       "      <td>-30.0</td>\n",
       "      <td>-1000000.0</td>\n",
       "      <td>-30.0</td>\n",
       "      <td>-1000000.0</td>\n",
       "    </tr>\n",
       "    <tr>\n",
       "      <th>1</th>\n",
       "      <td>-1000000.0</td>\n",
       "      <td>-20.0</td>\n",
       "      <td>-20.0</td>\n",
       "      <td>-1000000.0</td>\n",
       "      <td>-1000000.0</td>\n",
       "      <td>-1000000.0</td>\n",
       "      <td>-1000000.0</td>\n",
       "      <td>-1000000.0</td>\n",
       "      <td>-1000000.0</td>\n",
       "      <td>-1000000.0</td>\n",
       "    </tr>\n",
       "    <tr>\n",
       "      <th>2</th>\n",
       "      <td>-20.0</td>\n",
       "      <td>-1000000.0</td>\n",
       "      <td>-1000000.0</td>\n",
       "      <td>-1000000.0</td>\n",
       "      <td>-1000000.0</td>\n",
       "      <td>-1000000.0</td>\n",
       "      <td>-20.0</td>\n",
       "      <td>-1000000.0</td>\n",
       "      <td>-1000000.0</td>\n",
       "      <td>-1000000.0</td>\n",
       "    </tr>\n",
       "    <tr>\n",
       "      <th>3</th>\n",
       "      <td>-1000000.0</td>\n",
       "      <td>-10.0</td>\n",
       "      <td>-30.0</td>\n",
       "      <td>-1000000.0</td>\n",
       "      <td>-1000000.0</td>\n",
       "      <td>-1000000.0</td>\n",
       "      <td>-1000000.0</td>\n",
       "      <td>-1000000.0</td>\n",
       "      <td>-1000000.0</td>\n",
       "      <td>-1000000.0</td>\n",
       "    </tr>\n",
       "    <tr>\n",
       "      <th>4</th>\n",
       "      <td>-20.0</td>\n",
       "      <td>-1000000.0</td>\n",
       "      <td>-1000000.0</td>\n",
       "      <td>-1000000.0</td>\n",
       "      <td>-1000000.0</td>\n",
       "      <td>-1000000.0</td>\n",
       "      <td>-20.0</td>\n",
       "      <td>-1000000.0</td>\n",
       "      <td>-20.0</td>\n",
       "      <td>-1000000.0</td>\n",
       "    </tr>\n",
       "  </tbody>\n",
       "</table>\n",
       "</div>"
      ],
      "text/plain": [
       "   predict_0  predict_1  predict_2  predict_3  predict_4  predict_5  \\\n",
       "0      -10.0 -1000000.0 -1000000.0 -1000000.0 -1000000.0 -1000000.0   \n",
       "1 -1000000.0      -20.0      -20.0 -1000000.0 -1000000.0 -1000000.0   \n",
       "2      -20.0 -1000000.0 -1000000.0 -1000000.0 -1000000.0 -1000000.0   \n",
       "3 -1000000.0      -10.0      -30.0 -1000000.0 -1000000.0 -1000000.0   \n",
       "4      -20.0 -1000000.0 -1000000.0 -1000000.0 -1000000.0 -1000000.0   \n",
       "\n",
       "   predict_6  predict_7  predict_8  predict_9  \n",
       "0      -30.0 -1000000.0      -30.0 -1000000.0  \n",
       "1 -1000000.0 -1000000.0 -1000000.0 -1000000.0  \n",
       "2      -20.0 -1000000.0 -1000000.0 -1000000.0  \n",
       "3 -1000000.0 -1000000.0 -1000000.0 -1000000.0  \n",
       "4      -20.0 -1000000.0      -20.0 -1000000.0  "
      ]
     },
     "execution_count": 20,
     "metadata": {},
     "output_type": "execute_result"
    }
   ],
   "source": [
    "targets.head()"
   ]
  },
  {
   "cell_type": "code",
   "execution_count": 22,
   "metadata": {
    "collapsed": true
   },
   "outputs": [],
   "source": [
    "neighbors_input_dim = neighbors_inp.shape[1]\n",
    "addr_input_dim = addr_inp.shape[1]\n",
    "dst_input_dim = dst_inp.shape[1]\n",
    "amatrix_input_dim = amatrix_inp.shape[1]\n",
    "output_dim = targets.shape[1]"
   ]
  },
  {
   "cell_type": "code",
   "execution_count": 23,
   "metadata": {},
   "outputs": [],
   "source": [
    "neighbors_input = Input(shape=(neighbors_input_dim,), name='neighbors_input')\n",
    "addr_input = Input(shape=(addr_input_dim,), name='addr_input')\n",
    "dst_input = Input(shape=(dst_input_dim,), name='dst_input')\n",
    "amatrix_input = Input(shape=(amatrix_input_dim,), name='amatrix_input')\n",
    "\n",
    "x = concatenate([neighbors_input, addr_input, dst_input, amatrix_input])\n",
    "x = Dense(64, activation='relu')(x)\n",
    "x = Dense(64, activation='relu')(x)\n",
    "x = Dense(output_dim, activation='linear')(x)\n",
    "\n",
    "y = Lambda(lambda x: (1 - x) * -1000000)(neighbors_input)\n",
    "\n",
    "x = add([x, y])\n",
    "model = Model(inputs=[neighbors_input, addr_input, dst_input, amatrix_input], outputs=x)\n",
    "\n",
    "model.compile(loss='mse', optimizer='rmsprop')"
   ]
  },
  {
   "cell_type": "code",
   "execution_count": 24,
   "metadata": {},
   "outputs": [],
   "source": [
    "N_train, N_test, A_train, A_test, D_train, D_test, M_train, M_test, y_train, y_test = \\\n",
    "    train_test_split(neighbors_inp.values,\n",
    "                     addr_inp.values,\n",
    "                     dst_inp.values,\n",
    "                     amatrix_inp.values,\n",
    "                     targets.values,\n",
    "                     test_size=0.2, random_state=42)"
   ]
  },
  {
   "cell_type": "code",
   "execution_count": 27,
   "metadata": {},
   "outputs": [
    {
     "name": "stdout",
     "output_type": "stream",
     "text": [
      "Epoch 1/30\n",
      "184857/184857 [==============================] - 10s - loss: 0.4483    \n",
      "Epoch 2/30\n",
      "184857/184857 [==============================] - 11s - loss: 0.4350    \n",
      "Epoch 3/30\n",
      "184857/184857 [==============================] - 12s - loss: 0.4229    \n",
      "Epoch 4/30\n",
      "184857/184857 [==============================] - 12s - loss: 0.4126    \n",
      "Epoch 5/30\n",
      "184857/184857 [==============================] - 11s - loss: 0.4016    \n",
      "Epoch 6/30\n",
      "184857/184857 [==============================] - 10s - loss: 0.3930    \n",
      "Epoch 7/30\n",
      "184857/184857 [==============================] - 10s - loss: 0.3837    \n",
      "Epoch 8/30\n",
      "184857/184857 [==============================] - 10s - loss: 0.3736    \n",
      "Epoch 9/30\n",
      "184857/184857 [==============================] - 10s - loss: 0.3655    \n",
      "Epoch 10/30\n",
      "184857/184857 [==============================] - 10s - loss: 0.3573    \n",
      "Epoch 11/30\n",
      "184857/184857 [==============================] - 12s - loss: 0.3489    \n",
      "Epoch 12/30\n",
      "184857/184857 [==============================] - 11s - loss: 0.3404    \n",
      "Epoch 13/30\n",
      "184857/184857 [==============================] - 11s - loss: 0.3326    \n",
      "Epoch 14/30\n",
      "184857/184857 [==============================] - 12s - loss: 0.3265    \n",
      "Epoch 15/30\n",
      "184857/184857 [==============================] - 11s - loss: 0.3191    \n",
      "Epoch 16/30\n",
      "184857/184857 [==============================] - 10s - loss: 0.3137    \n",
      "Epoch 17/30\n",
      "184857/184857 [==============================] - 10s - loss: 0.3074    \n",
      "Epoch 18/30\n",
      "184857/184857 [==============================] - 10s - loss: 0.3021    \n",
      "Epoch 19/30\n",
      "184857/184857 [==============================] - 10s - loss: 0.2962    \n",
      "Epoch 20/30\n",
      "184857/184857 [==============================] - 10s - loss: 0.2904    \n",
      "Epoch 21/30\n",
      "184857/184857 [==============================] - 10s - loss: 0.2857    \n",
      "Epoch 22/30\n",
      "184857/184857 [==============================] - 10s - loss: 0.2810    \n",
      "Epoch 23/30\n",
      "184857/184857 [==============================] - 9s - loss: 0.2755     \n",
      "Epoch 24/30\n",
      "184857/184857 [==============================] - 10s - loss: 0.2712    \n",
      "Epoch 25/30\n",
      "184857/184857 [==============================] - 10s - loss: 0.2671    \n",
      "Epoch 26/30\n",
      "184857/184857 [==============================] - 10s - loss: 0.2637    \n",
      "Epoch 27/30\n",
      "184857/184857 [==============================] - 10s - loss: 0.2593    \n",
      "Epoch 28/30\n",
      "184857/184857 [==============================] - 9s - loss: 0.2560     \n",
      "Epoch 29/30\n",
      "184857/184857 [==============================] - 10s - loss: 0.2517    \n",
      "Epoch 30/30\n",
      "184857/184857 [==============================] - 10s - loss: 0.2482    \n"
     ]
    },
    {
     "data": {
      "text/plain": [
       "<keras.callbacks.History at 0x7fb487041940>"
      ]
     },
     "execution_count": 27,
     "metadata": {},
     "output_type": "execute_result"
    }
   ],
   "source": [
    "model.fit([N_train, A_train, D_train, M_train], y_train, epochs=30)"
   ]
  },
  {
   "cell_type": "code",
   "execution_count": 28,
   "metadata": {},
   "outputs": [
    {
     "name": "stdout",
     "output_type": "stream",
     "text": [
      "44800/46215 [============================>.] - ETA: 0s"
     ]
    },
    {
     "data": {
      "text/plain": [
       "0.22675469348753838"
      ]
     },
     "execution_count": 28,
     "metadata": {},
     "output_type": "execute_result"
    }
   ],
   "source": [
    "model.evaluate([N_test, A_test, D_test, M_test], y_test)"
   ]
  },
  {
   "cell_type": "code",
   "execution_count": 30,
   "metadata": {},
   "outputs": [
    {
     "data": {
      "text/plain": [
       "array([[ -1.00000000e+06,  -1.00000019e+06,  -2.00017242e+01,\n",
       "         -9.99999500e+05,  -1.00000050e+06,  -1.00000031e+06,\n",
       "         -1.00000025e+06,  -9.99999375e+05,  -9.99999812e+05,\n",
       "         -9.99999688e+05]], dtype=float32)"
      ]
     },
     "execution_count": 30,
     "metadata": {},
     "output_type": "execute_result"
    }
   ],
   "source": [
    "model.predict(list(map(lambda x: x.reshape((1, 10)), [N_test[0], A_test[0], D_test[0]])) + [M_test[0].reshape((1, 100))])"
   ]
  },
  {
   "cell_type": "code",
   "execution_count": 31,
   "metadata": {},
   "outputs": [
    {
     "data": {
      "text/plain": [
       "array([ -1.00000000e+06,  -1.00000000e+06,  -2.00000000e+01,\n",
       "        -1.00000000e+06,  -1.00000000e+06,  -1.00000000e+06,\n",
       "        -1.00000000e+06,  -1.00000000e+06,  -1.00000000e+06,\n",
       "        -1.00000000e+06])"
      ]
     },
     "execution_count": 31,
     "metadata": {},
     "output_type": "execute_result"
    }
   ],
   "source": [
    "y_test[0]"
   ]
  },
  {
   "cell_type": "code",
   "execution_count": 32,
   "metadata": {},
   "outputs": [],
   "source": [
    "model.save('router_network.h5')"
   ]
  },
  {
   "cell_type": "code",
   "execution_count": null,
   "metadata": {
    "collapsed": true
   },
   "outputs": [],
   "source": [
    "plot_model(model, show_shapes=True)"
   ]
  },
  {
   "cell_type": "code",
   "execution_count": null,
   "metadata": {
    "collapsed": true
   },
   "outputs": [],
   "source": []
  }
 ],
 "metadata": {
  "kernelspec": {
   "display_name": "Python 3",
   "language": "python",
   "name": "python3"
  },
  "language_info": {
   "codemirror_mode": {
    "name": "ipython",
    "version": 3
   },
   "file_extension": ".py",
   "mimetype": "text/x-python",
   "name": "python",
   "nbconvert_exporter": "python",
   "pygments_lexer": "ipython3",
   "version": "3.5.3"
  }
 },
 "nbformat": 4,
 "nbformat_minor": 2
}
