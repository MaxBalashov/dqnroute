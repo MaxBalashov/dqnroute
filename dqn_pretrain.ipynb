{
 "cells": [
  {
   "cell_type": "code",
   "execution_count": 1,
   "metadata": {},
   "outputs": [
    {
     "name": "stderr",
     "output_type": "stream",
     "text": [
      "Using TensorFlow backend.\n"
     ]
    }
   ],
   "source": [
    "%matplotlib inline\n",
    "from keras.models import Model\n",
    "from keras.layers import *\n",
    "from keras.optimizers import *\n",
    "from keras.utils import plot_model\n",
    "\n",
    "import tensorflow as tf\n",
    "import keras.initializers as kinit\n",
    "import numpy as np\n",
    "import pandas as pd\n",
    "import matplotlib.pyplot as plt\n",
    "\n",
    "from dqnroute.utils import *\n",
    "\n",
    "from sklearn.model_selection import train_test_split"
   ]
  },
  {
   "cell_type": "code",
   "execution_count": 2,
   "metadata": {
    "collapsed": true
   },
   "outputs": [],
   "source": [
    "data = pd.read_csv('logs/data_generated2.csv', names=get_data_cols(10))"
   ]
  },
  {
   "cell_type": "code",
   "execution_count": 3,
   "metadata": {},
   "outputs": [
    {
     "data": {
      "text/plain": [
       "0"
      ]
     },
     "execution_count": 3,
     "metadata": {},
     "output_type": "execute_result"
    }
   ],
   "source": [
    "import gc\n",
    "gc.collect()"
   ]
  },
  {
   "cell_type": "code",
   "execution_count": 4,
   "metadata": {},
   "outputs": [
    {
     "data": {
      "text/html": [
       "<div>\n",
       "<table border=\"1\" class=\"dataframe\">\n",
       "  <thead>\n",
       "    <tr style=\"text-align: right;\">\n",
       "      <th></th>\n",
       "      <th>time</th>\n",
       "      <th>pkg_id</th>\n",
       "      <th>cur_node</th>\n",
       "      <th>dst_0</th>\n",
       "      <th>dst_1</th>\n",
       "      <th>dst_2</th>\n",
       "      <th>dst_3</th>\n",
       "      <th>dst_4</th>\n",
       "      <th>dst_5</th>\n",
       "      <th>dst_6</th>\n",
       "      <th>...</th>\n",
       "      <th>predict_0</th>\n",
       "      <th>predict_1</th>\n",
       "      <th>predict_2</th>\n",
       "      <th>predict_3</th>\n",
       "      <th>predict_4</th>\n",
       "      <th>predict_5</th>\n",
       "      <th>predict_6</th>\n",
       "      <th>predict_7</th>\n",
       "      <th>predict_8</th>\n",
       "      <th>predict_9</th>\n",
       "    </tr>\n",
       "  </thead>\n",
       "  <tbody>\n",
       "    <tr>\n",
       "      <th>0</th>\n",
       "      <td>10.0</td>\n",
       "      <td>1.0</td>\n",
       "      <td>1.0</td>\n",
       "      <td>1.0</td>\n",
       "      <td>0.0</td>\n",
       "      <td>0.0</td>\n",
       "      <td>0.0</td>\n",
       "      <td>0.0</td>\n",
       "      <td>0.0</td>\n",
       "      <td>0.0</td>\n",
       "      <td>...</td>\n",
       "      <td>-10.0</td>\n",
       "      <td>-1000000.0</td>\n",
       "      <td>-1000000.0</td>\n",
       "      <td>-1000000.0</td>\n",
       "      <td>-1000000.0</td>\n",
       "      <td>-1000000.0</td>\n",
       "      <td>-30.0</td>\n",
       "      <td>-1000000.0</td>\n",
       "      <td>-30.0</td>\n",
       "      <td>-1000000.0</td>\n",
       "    </tr>\n",
       "    <tr>\n",
       "      <th>1</th>\n",
       "      <td>20.0</td>\n",
       "      <td>1.0</td>\n",
       "      <td>0.0</td>\n",
       "      <td>1.0</td>\n",
       "      <td>0.0</td>\n",
       "      <td>0.0</td>\n",
       "      <td>0.0</td>\n",
       "      <td>0.0</td>\n",
       "      <td>0.0</td>\n",
       "      <td>0.0</td>\n",
       "      <td>...</td>\n",
       "      <td>-1000000.0</td>\n",
       "      <td>-20.0</td>\n",
       "      <td>-20.0</td>\n",
       "      <td>-1000000.0</td>\n",
       "      <td>-1000000.0</td>\n",
       "      <td>-1000000.0</td>\n",
       "      <td>-1000000.0</td>\n",
       "      <td>-1000000.0</td>\n",
       "      <td>-1000000.0</td>\n",
       "      <td>-1000000.0</td>\n",
       "    </tr>\n",
       "    <tr>\n",
       "      <th>2</th>\n",
       "      <td>20.0</td>\n",
       "      <td>2.0</td>\n",
       "      <td>2.0</td>\n",
       "      <td>0.0</td>\n",
       "      <td>1.0</td>\n",
       "      <td>0.0</td>\n",
       "      <td>0.0</td>\n",
       "      <td>0.0</td>\n",
       "      <td>0.0</td>\n",
       "      <td>0.0</td>\n",
       "      <td>...</td>\n",
       "      <td>-20.0</td>\n",
       "      <td>-1000000.0</td>\n",
       "      <td>-1000000.0</td>\n",
       "      <td>-1000000.0</td>\n",
       "      <td>-1000000.0</td>\n",
       "      <td>-1000000.0</td>\n",
       "      <td>-20.0</td>\n",
       "      <td>-1000000.0</td>\n",
       "      <td>-1000000.0</td>\n",
       "      <td>-1000000.0</td>\n",
       "    </tr>\n",
       "    <tr>\n",
       "      <th>3</th>\n",
       "      <td>30.0</td>\n",
       "      <td>2.0</td>\n",
       "      <td>0.0</td>\n",
       "      <td>0.0</td>\n",
       "      <td>1.0</td>\n",
       "      <td>0.0</td>\n",
       "      <td>0.0</td>\n",
       "      <td>0.0</td>\n",
       "      <td>0.0</td>\n",
       "      <td>0.0</td>\n",
       "      <td>...</td>\n",
       "      <td>-1000000.0</td>\n",
       "      <td>-10.0</td>\n",
       "      <td>-30.0</td>\n",
       "      <td>-1000000.0</td>\n",
       "      <td>-1000000.0</td>\n",
       "      <td>-1000000.0</td>\n",
       "      <td>-1000000.0</td>\n",
       "      <td>-1000000.0</td>\n",
       "      <td>-1000000.0</td>\n",
       "      <td>-1000000.0</td>\n",
       "    </tr>\n",
       "    <tr>\n",
       "      <th>4</th>\n",
       "      <td>40.0</td>\n",
       "      <td>2.0</td>\n",
       "      <td>1.0</td>\n",
       "      <td>0.0</td>\n",
       "      <td>1.0</td>\n",
       "      <td>0.0</td>\n",
       "      <td>0.0</td>\n",
       "      <td>0.0</td>\n",
       "      <td>0.0</td>\n",
       "      <td>0.0</td>\n",
       "      <td>...</td>\n",
       "      <td>-20.0</td>\n",
       "      <td>-1000000.0</td>\n",
       "      <td>-1000000.0</td>\n",
       "      <td>-1000000.0</td>\n",
       "      <td>-1000000.0</td>\n",
       "      <td>-1000000.0</td>\n",
       "      <td>-20.0</td>\n",
       "      <td>-1000000.0</td>\n",
       "      <td>-20.0</td>\n",
       "      <td>-1000000.0</td>\n",
       "    </tr>\n",
       "  </tbody>\n",
       "</table>\n",
       "<p>5 rows × 143 columns</p>\n",
       "</div>"
      ],
      "text/plain": [
       "   time  pkg_id  cur_node  dst_0  dst_1  dst_2  dst_3  dst_4  dst_5  dst_6  \\\n",
       "0  10.0     1.0       1.0    1.0    0.0    0.0    0.0    0.0    0.0    0.0   \n",
       "1  20.0     1.0       0.0    1.0    0.0    0.0    0.0    0.0    0.0    0.0   \n",
       "2  20.0     2.0       2.0    0.0    1.0    0.0    0.0    0.0    0.0    0.0   \n",
       "3  30.0     2.0       0.0    0.0    1.0    0.0    0.0    0.0    0.0    0.0   \n",
       "4  40.0     2.0       1.0    0.0    1.0    0.0    0.0    0.0    0.0    0.0   \n",
       "\n",
       "     ...      predict_0  predict_1  predict_2  predict_3  predict_4  \\\n",
       "0    ...          -10.0 -1000000.0 -1000000.0 -1000000.0 -1000000.0   \n",
       "1    ...     -1000000.0      -20.0      -20.0 -1000000.0 -1000000.0   \n",
       "2    ...          -20.0 -1000000.0 -1000000.0 -1000000.0 -1000000.0   \n",
       "3    ...     -1000000.0      -10.0      -30.0 -1000000.0 -1000000.0   \n",
       "4    ...          -20.0 -1000000.0 -1000000.0 -1000000.0 -1000000.0   \n",
       "\n",
       "   predict_5  predict_6  predict_7  predict_8  predict_9  \n",
       "0 -1000000.0      -30.0 -1000000.0      -30.0 -1000000.0  \n",
       "1 -1000000.0 -1000000.0 -1000000.0 -1000000.0 -1000000.0  \n",
       "2 -1000000.0      -20.0 -1000000.0 -1000000.0 -1000000.0  \n",
       "3 -1000000.0 -1000000.0 -1000000.0 -1000000.0 -1000000.0  \n",
       "4 -1000000.0      -20.0 -1000000.0      -20.0 -1000000.0  \n",
       "\n",
       "[5 rows x 143 columns]"
      ]
     },
     "execution_count": 4,
     "metadata": {},
     "output_type": "execute_result"
    }
   ],
   "source": [
    "data.head()"
   ]
  },
  {
   "cell_type": "code",
   "execution_count": 5,
   "metadata": {
    "collapsed": true
   },
   "outputs": [],
   "source": [
    "target_cols = get_target_cols(10)\n",
    "neighbors_cols = get_neighbors_cols(10)\n",
    "addr_cols = get_addr_cols(10)\n",
    "dst_cols = get_dst_cols(10)\n",
    "amatrix_cols = get_amatrix_cols(10)\n",
    "\n",
    "targets = data[target_cols]\n",
    "neighbors_inp = data[neighbors_cols]\n",
    "addr_inp = data[addr_cols]\n",
    "dst_inp = data[dst_cols]\n",
    "amatrix_inp = data[amatrix_cols]"
   ]
  },
  {
   "cell_type": "code",
   "execution_count": 6,
   "metadata": {},
   "outputs": [
    {
     "data": {
      "text/html": [
       "<div>\n",
       "<table border=\"1\" class=\"dataframe\">\n",
       "  <thead>\n",
       "    <tr style=\"text-align: right;\">\n",
       "      <th></th>\n",
       "      <th>neighbors_0</th>\n",
       "      <th>neighbors_1</th>\n",
       "      <th>neighbors_2</th>\n",
       "      <th>neighbors_3</th>\n",
       "      <th>neighbors_4</th>\n",
       "      <th>neighbors_5</th>\n",
       "      <th>neighbors_6</th>\n",
       "      <th>neighbors_7</th>\n",
       "      <th>neighbors_8</th>\n",
       "      <th>neighbors_9</th>\n",
       "    </tr>\n",
       "  </thead>\n",
       "  <tbody>\n",
       "    <tr>\n",
       "      <th>0</th>\n",
       "      <td>1.0</td>\n",
       "      <td>0.0</td>\n",
       "      <td>0.0</td>\n",
       "      <td>0.0</td>\n",
       "      <td>0.0</td>\n",
       "      <td>0.0</td>\n",
       "      <td>1.0</td>\n",
       "      <td>0.0</td>\n",
       "      <td>1.0</td>\n",
       "      <td>0.0</td>\n",
       "    </tr>\n",
       "    <tr>\n",
       "      <th>1</th>\n",
       "      <td>0.0</td>\n",
       "      <td>1.0</td>\n",
       "      <td>1.0</td>\n",
       "      <td>0.0</td>\n",
       "      <td>0.0</td>\n",
       "      <td>0.0</td>\n",
       "      <td>0.0</td>\n",
       "      <td>0.0</td>\n",
       "      <td>0.0</td>\n",
       "      <td>0.0</td>\n",
       "    </tr>\n",
       "    <tr>\n",
       "      <th>2</th>\n",
       "      <td>1.0</td>\n",
       "      <td>0.0</td>\n",
       "      <td>0.0</td>\n",
       "      <td>0.0</td>\n",
       "      <td>0.0</td>\n",
       "      <td>0.0</td>\n",
       "      <td>1.0</td>\n",
       "      <td>0.0</td>\n",
       "      <td>0.0</td>\n",
       "      <td>0.0</td>\n",
       "    </tr>\n",
       "    <tr>\n",
       "      <th>3</th>\n",
       "      <td>0.0</td>\n",
       "      <td>1.0</td>\n",
       "      <td>1.0</td>\n",
       "      <td>0.0</td>\n",
       "      <td>0.0</td>\n",
       "      <td>0.0</td>\n",
       "      <td>0.0</td>\n",
       "      <td>0.0</td>\n",
       "      <td>0.0</td>\n",
       "      <td>0.0</td>\n",
       "    </tr>\n",
       "    <tr>\n",
       "      <th>4</th>\n",
       "      <td>1.0</td>\n",
       "      <td>0.0</td>\n",
       "      <td>0.0</td>\n",
       "      <td>0.0</td>\n",
       "      <td>0.0</td>\n",
       "      <td>0.0</td>\n",
       "      <td>1.0</td>\n",
       "      <td>0.0</td>\n",
       "      <td>1.0</td>\n",
       "      <td>0.0</td>\n",
       "    </tr>\n",
       "  </tbody>\n",
       "</table>\n",
       "</div>"
      ],
      "text/plain": [
       "   neighbors_0  neighbors_1  neighbors_2  neighbors_3  neighbors_4  \\\n",
       "0          1.0          0.0          0.0          0.0          0.0   \n",
       "1          0.0          1.0          1.0          0.0          0.0   \n",
       "2          1.0          0.0          0.0          0.0          0.0   \n",
       "3          0.0          1.0          1.0          0.0          0.0   \n",
       "4          1.0          0.0          0.0          0.0          0.0   \n",
       "\n",
       "   neighbors_5  neighbors_6  neighbors_7  neighbors_8  neighbors_9  \n",
       "0          0.0          1.0          0.0          1.0          0.0  \n",
       "1          0.0          0.0          0.0          0.0          0.0  \n",
       "2          0.0          1.0          0.0          0.0          0.0  \n",
       "3          0.0          0.0          0.0          0.0          0.0  \n",
       "4          0.0          1.0          0.0          1.0          0.0  "
      ]
     },
     "execution_count": 6,
     "metadata": {},
     "output_type": "execute_result"
    }
   ],
   "source": [
    "neighbors_inp.head()"
   ]
  },
  {
   "cell_type": "code",
   "execution_count": 7,
   "metadata": {},
   "outputs": [
    {
     "data": {
      "text/html": [
       "<div>\n",
       "<table border=\"1\" class=\"dataframe\">\n",
       "  <thead>\n",
       "    <tr style=\"text-align: right;\">\n",
       "      <th></th>\n",
       "      <th>predict_0</th>\n",
       "      <th>predict_1</th>\n",
       "      <th>predict_2</th>\n",
       "      <th>predict_3</th>\n",
       "      <th>predict_4</th>\n",
       "      <th>predict_5</th>\n",
       "      <th>predict_6</th>\n",
       "      <th>predict_7</th>\n",
       "      <th>predict_8</th>\n",
       "      <th>predict_9</th>\n",
       "    </tr>\n",
       "  </thead>\n",
       "  <tbody>\n",
       "    <tr>\n",
       "      <th>0</th>\n",
       "      <td>-10.0</td>\n",
       "      <td>-1000000.0</td>\n",
       "      <td>-1000000.0</td>\n",
       "      <td>-1000000.0</td>\n",
       "      <td>-1000000.0</td>\n",
       "      <td>-1000000.0</td>\n",
       "      <td>-30.0</td>\n",
       "      <td>-1000000.0</td>\n",
       "      <td>-30.0</td>\n",
       "      <td>-1000000.0</td>\n",
       "    </tr>\n",
       "    <tr>\n",
       "      <th>1</th>\n",
       "      <td>-1000000.0</td>\n",
       "      <td>-20.0</td>\n",
       "      <td>-20.0</td>\n",
       "      <td>-1000000.0</td>\n",
       "      <td>-1000000.0</td>\n",
       "      <td>-1000000.0</td>\n",
       "      <td>-1000000.0</td>\n",
       "      <td>-1000000.0</td>\n",
       "      <td>-1000000.0</td>\n",
       "      <td>-1000000.0</td>\n",
       "    </tr>\n",
       "    <tr>\n",
       "      <th>2</th>\n",
       "      <td>-20.0</td>\n",
       "      <td>-1000000.0</td>\n",
       "      <td>-1000000.0</td>\n",
       "      <td>-1000000.0</td>\n",
       "      <td>-1000000.0</td>\n",
       "      <td>-1000000.0</td>\n",
       "      <td>-20.0</td>\n",
       "      <td>-1000000.0</td>\n",
       "      <td>-1000000.0</td>\n",
       "      <td>-1000000.0</td>\n",
       "    </tr>\n",
       "    <tr>\n",
       "      <th>3</th>\n",
       "      <td>-1000000.0</td>\n",
       "      <td>-10.0</td>\n",
       "      <td>-30.0</td>\n",
       "      <td>-1000000.0</td>\n",
       "      <td>-1000000.0</td>\n",
       "      <td>-1000000.0</td>\n",
       "      <td>-1000000.0</td>\n",
       "      <td>-1000000.0</td>\n",
       "      <td>-1000000.0</td>\n",
       "      <td>-1000000.0</td>\n",
       "    </tr>\n",
       "    <tr>\n",
       "      <th>4</th>\n",
       "      <td>-20.0</td>\n",
       "      <td>-1000000.0</td>\n",
       "      <td>-1000000.0</td>\n",
       "      <td>-1000000.0</td>\n",
       "      <td>-1000000.0</td>\n",
       "      <td>-1000000.0</td>\n",
       "      <td>-20.0</td>\n",
       "      <td>-1000000.0</td>\n",
       "      <td>-20.0</td>\n",
       "      <td>-1000000.0</td>\n",
       "    </tr>\n",
       "  </tbody>\n",
       "</table>\n",
       "</div>"
      ],
      "text/plain": [
       "   predict_0  predict_1  predict_2  predict_3  predict_4  predict_5  \\\n",
       "0      -10.0 -1000000.0 -1000000.0 -1000000.0 -1000000.0 -1000000.0   \n",
       "1 -1000000.0      -20.0      -20.0 -1000000.0 -1000000.0 -1000000.0   \n",
       "2      -20.0 -1000000.0 -1000000.0 -1000000.0 -1000000.0 -1000000.0   \n",
       "3 -1000000.0      -10.0      -30.0 -1000000.0 -1000000.0 -1000000.0   \n",
       "4      -20.0 -1000000.0 -1000000.0 -1000000.0 -1000000.0 -1000000.0   \n",
       "\n",
       "   predict_6  predict_7  predict_8  predict_9  \n",
       "0      -30.0 -1000000.0      -30.0 -1000000.0  \n",
       "1 -1000000.0 -1000000.0 -1000000.0 -1000000.0  \n",
       "2      -20.0 -1000000.0 -1000000.0 -1000000.0  \n",
       "3 -1000000.0 -1000000.0 -1000000.0 -1000000.0  \n",
       "4      -20.0 -1000000.0      -20.0 -1000000.0  "
      ]
     },
     "execution_count": 7,
     "metadata": {},
     "output_type": "execute_result"
    }
   ],
   "source": [
    "targets.head()"
   ]
  },
  {
   "cell_type": "code",
   "execution_count": 8,
   "metadata": {
    "collapsed": true
   },
   "outputs": [],
   "source": [
    "neighbors_input_dim = neighbors_inp.shape[1]\n",
    "addr_input_dim = addr_inp.shape[1]\n",
    "dst_input_dim = dst_inp.shape[1]\n",
    "amatrix_input_dim = amatrix_inp.shape[1]\n",
    "output_dim = targets.shape[1]"
   ]
  },
  {
   "cell_type": "code",
   "execution_count": 13,
   "metadata": {
    "collapsed": true
   },
   "outputs": [],
   "source": [
    "neighbors_input = Input(shape=(neighbors_input_dim,), name='neighbors_input')\n",
    "addr_input = Input(shape=(addr_input_dim,), name='addr_input')\n",
    "dst_input = Input(shape=(dst_input_dim,), name='dst_input')\n",
    "amatrix_input = Input(shape=(amatrix_input_dim,), name='amatrix_input')\n",
    "\n",
    "x = concatenate([neighbors_input, addr_input, dst_input, amatrix_input])\n",
    "x = Dense(64, activation='relu')(x)\n",
    "x = Dense(64, activation='relu')(x)\n",
    "x = Dense(output_dim, activation='linear')(x)\n",
    "\n",
    "y = Lambda(lambda x: (1 - x) * -1000000)(neighbors_input)\n",
    "\n",
    "x = add([x, y])\n",
    "model = Model(inputs=[neighbors_input, addr_input, dst_input, amatrix_input], outputs=x)\n",
    "\n",
    "model.compile(loss='mse', optimizer='rmsprop')"
   ]
  },
  {
   "cell_type": "code",
   "execution_count": 14,
   "metadata": {
    "collapsed": true
   },
   "outputs": [],
   "source": [
    "N_train, N_test, A_train, A_test, D_train, D_test, M_train, M_test, y_train, y_test = \\\n",
    "    train_test_split(neighbors_inp.values,\n",
    "                     addr_inp.values,\n",
    "                     dst_inp.values,\n",
    "                     amatrix_inp.values,\n",
    "                     targets.values,\n",
    "                     test_size=0.2, random_state=42)"
   ]
  },
  {
   "cell_type": "code",
   "execution_count": 12,
   "metadata": {},
   "outputs": [
    {
     "name": "stdout",
     "output_type": "stream",
     "text": [
      "Epoch 1/5\n",
      "184857/184857 [==============================] - 9s - loss: 21.5205     \n",
      "Epoch 2/5\n",
      "184857/184857 [==============================] - 9s - loss: 5.2272     \n",
      "Epoch 3/5\n",
      "184857/184857 [==============================] - 9s - loss: 4.0865     \n",
      "Epoch 4/5\n",
      "184857/184857 [==============================] - 10s - loss: 3.2881    \n",
      "Epoch 5/5\n",
      "184857/184857 [==============================] - 10s - loss: 2.7673    \n"
     ]
    },
    {
     "data": {
      "text/plain": [
       "<keras.callbacks.History at 0x7fcf6814e4e0>"
      ]
     },
     "execution_count": 12,
     "metadata": {},
     "output_type": "execute_result"
    }
   ],
   "source": [
    "model.fit([N_train, A_train, D_train, M_train], y_train, epochs=5)"
   ]
  },
  {
   "cell_type": "code",
   "execution_count": 13,
   "metadata": {},
   "outputs": [
    {
     "name": "stdout",
     "output_type": "stream",
     "text": [
      "44608/46215 [===========================>..] - ETA: 0s"
     ]
    },
    {
     "data": {
      "text/plain": [
       "2.4100291145463069"
      ]
     },
     "execution_count": 13,
     "metadata": {},
     "output_type": "execute_result"
    }
   ],
   "source": [
    "model.evaluate([N_test, A_test, D_test, M_test], y_test)"
   ]
  },
  {
   "cell_type": "code",
   "execution_count": null,
   "metadata": {
    "collapsed": true
   },
   "outputs": [],
   "source": [
    "model.predict(list(map(lambda x: x.reshape((1, 10)), [N_test[0], A_test[0], D_test[0]])) + [M_test[0].reshape((1, 100))])"
   ]
  },
  {
   "cell_type": "code",
   "execution_count": 10,
   "metadata": {},
   "outputs": [
    {
     "data": {
      "text/plain": [
       "array([ -1.00000000e+06,  -1.00000000e+06,  -2.00000000e+01,\n",
       "        -1.00000000e+06,  -1.00000000e+06,  -1.00000000e+06,\n",
       "        -1.00000000e+06,  -1.00000000e+06,  -1.00000000e+06,\n",
       "        -1.00000000e+06])"
      ]
     },
     "execution_count": 10,
     "metadata": {},
     "output_type": "execute_result"
    }
   ],
   "source": [
    "y_test[0]"
   ]
  },
  {
   "cell_type": "code",
   "execution_count": null,
   "metadata": {
    "collapsed": true
   },
   "outputs": [],
   "source": [
    "model.save('../router_network.h5')"
   ]
  },
  {
   "cell_type": "code",
   "execution_count": null,
   "metadata": {
    "collapsed": true
   },
   "outputs": [],
   "source": [
    "plot_model(model, show_shapes=True)"
   ]
  },
  {
   "cell_type": "code",
   "execution_count": 12,
   "metadata": {},
   "outputs": [
    {
     "data": {
      "text/plain": [
       "(231072, 143)"
      ]
     },
     "execution_count": 12,
     "metadata": {},
     "output_type": "execute_result"
    }
   ],
   "source": [
    "data.shape"
   ]
  },
  {
   "cell_type": "code",
   "execution_count": 9,
   "metadata": {
    "collapsed": true
   },
   "outputs": [],
   "source": [
    "from dqnroute.q_network import Qnetwork"
   ]
  },
  {
   "cell_type": "code",
   "execution_count": 10,
   "metadata": {
    "collapsed": true
   },
   "outputs": [],
   "source": [
    "def _make_batches(size, batch_size):\n",
    "    num_batches = int(np.ceil(size / float(batch_size)))\n",
    "    return [(i * batch_size, min(size, (i + 1) * batch_size))\n",
    "            for i in range(0, num_batches)]\n",
    "\n",
    "def fit_model(model, x, y, batch_size=32, epochs=1):\n",
    "    for i in range(epochs):\n",
    "        print('Epoch {}...'.format(i))\n",
    "        Ns, As, Ds, Ms = x\n",
    "        count = Ns.shape[0]\n",
    "        \n",
    "        sum_loss = 0\n",
    "        loss_cnt = 0\n",
    "        for (a, b) in _make_batches(count, batch_size):\n",
    "            Nb = Ns[a:b]\n",
    "            Ab = As[a:b]\n",
    "            Db = Ds[a:b]\n",
    "            Mb = Ms[a:b]\n",
    "            target_b = y[a:b]\n",
    "            loss, _ = sess.run([model.loss, model.updateModel],\n",
    "                               feed_dict={model.neighbors_input:Nb, model.addr_input:Ab,\n",
    "                                          model.dst_input:Db, model.amatrix_input:Mb,\n",
    "                                          model.target:target_b})\n",
    "            sum_loss += loss\n",
    "            loss_cnt += 1.0\n",
    "        print('loss: {}'.format(sum_loss / loss_cnt))"
   ]
  },
  {
   "cell_type": "code",
   "execution_count": 20,
   "metadata": {
    "collapsed": true
   },
   "outputs": [],
   "source": [
    "tf.reset_default_graph()\n",
    "rnn_cell = tf.contrib.rnn.BasicLSTMCell(num_units=64)\n",
    "tf_model = Qnetwork(10, rnn_cell, 'mda')\n",
    "init = tf.global_variables_initializer()\n",
    "save_path = '../tf_model'\n",
    "saver = tf.train.Saver()\n",
    "\n",
    "sess = tf.Session()\n",
    "sess.run(init)"
   ]
  },
  {
   "cell_type": "code",
   "execution_count": 23,
   "metadata": {},
   "outputs": [
    {
     "name": "stdout",
     "output_type": "stream",
     "text": [
      "Epoch 0...\n",
      "loss: 0.3293299322010572\n",
      "Epoch 1...\n",
      "loss: 0.3259439491185635\n",
      "Epoch 2...\n",
      "loss: 0.32216161352520856\n",
      "Epoch 3...\n",
      "loss: 0.31976644406428856\n",
      "Epoch 4...\n",
      "loss: 0.31676842226626367\n",
      "Epoch 5...\n",
      "loss: 0.3133126296346753\n",
      "Epoch 6...\n",
      "loss: 0.3102817749554607\n",
      "Epoch 7...\n",
      "loss: 0.30748034813385716\n",
      "Epoch 8...\n",
      "loss: 0.3050080202229712\n",
      "Epoch 9...\n",
      "loss: 0.301901682353678\n"
     ]
    }
   ],
   "source": [
    "fit_model(tf_model, [N_train, A_train, D_train, M_train], y_train, epochs=10)"
   ]
  },
  {
   "cell_type": "code",
   "execution_count": 24,
   "metadata": {},
   "outputs": [
    {
     "data": {
      "text/plain": [
       "'../tf_model'"
      ]
     },
     "execution_count": 24,
     "metadata": {},
     "output_type": "execute_result"
    }
   ],
   "source": [
    "saver.save(sess, save_path)"
   ]
  },
  {
   "cell_type": "code",
   "execution_count": 26,
   "metadata": {
    "collapsed": true
   },
   "outputs": [],
   "source": [
    "N0, A0, D0, M0 = list(map(lambda x: x.reshape((1, 10)), [N_test[0], A_test[0], D_test[0]])) + [M_test[0].reshape((1, 100))]"
   ]
  },
  {
   "cell_type": "code",
   "execution_count": 31,
   "metadata": {},
   "outputs": [
    {
     "data": {
      "text/plain": [
       "array([[ -9.99999938e+05,  -1.00000000e+06,  -1.94056034e+01,\n",
       "         -1.00000006e+06,  -9.99999938e+05,  -9.99999938e+05,\n",
       "         -9.99999750e+05,  -9.99999875e+05,  -1.00000000e+06,\n",
       "         -1.00000031e+06]], dtype=float32)"
      ]
     },
     "execution_count": 31,
     "metadata": {},
     "output_type": "execute_result"
    }
   ],
   "source": [
    "sess.run(tf_model.Qout,\n",
    "         feed_dict={tf_model.neighbors_input:N0, tf_model.addr_input:A0,\n",
    "                    tf_model.dst_input:D0, tf_model.amatrix_input:M0})"
   ]
  },
  {
   "cell_type": "code",
   "execution_count": 34,
   "metadata": {},
   "outputs": [
    {
     "data": {
      "text/plain": [
       "array([ -1.00000000e+06,  -1.00000000e+06,  -2.00000000e+01,\n",
       "        -1.00000000e+06,  -1.00000000e+06,  -1.00000000e+06,\n",
       "        -1.00000000e+06,  -1.00000000e+06,  -1.00000000e+06,\n",
       "        -1.00000000e+06])"
      ]
     },
     "execution_count": 34,
     "metadata": {},
     "output_type": "execute_result"
    }
   ],
   "source": []
  },
  {
   "cell_type": "code",
   "execution_count": 35,
   "metadata": {},
   "outputs": [
    {
     "data": {
      "text/plain": [
       "'../tf_model/model1.ckpt'"
      ]
     },
     "execution_count": 35,
     "metadata": {},
     "output_type": "execute_result"
    }
   ],
   "source": [
    "save_dir = '../tf_model'\n",
    "saver.save(sess, save_dir + '/model1.ckpt')"
   ]
  },
  {
   "cell_type": "code",
   "execution_count": null,
   "metadata": {
    "collapsed": true
   },
   "outputs": [],
   "source": []
  }
 ],
 "metadata": {
  "kernelspec": {
   "display_name": "Python 3",
   "language": "python",
   "name": "python3"
  },
  "language_info": {
   "codemirror_mode": {
    "name": "ipython",
    "version": 3
   },
   "file_extension": ".py",
   "mimetype": "text/x-python",
   "name": "python",
   "nbconvert_exporter": "python",
   "pygments_lexer": "ipython3",
   "version": "3.5.3"
  }
 },
 "nbformat": 4,
 "nbformat_minor": 2
}
