{
 "cells": [
  {
   "cell_type": "code",
   "execution_count": 44,
   "metadata": {},
   "outputs": [
    {
     "name": "stdout",
     "output_type": "stream",
     "text": [
      "-(0.63 - 0.38*β)*ReLU(-2.0*β + (0.54*β + 1.16)*ReLU(0.57 - 2.28*β) + (0.59*β - 1.12)*ReLU(1.69*β - 0.83) + (1.16*β - 1.78)*ReLU(0.9*β + 3.88) - 0.63) + (0.63 - 0.38*β)*ReLU(-2.0*β + (0.54*β + 1.16)*ReLU(2.38 - 2.13*β) + (0.59*β - 1.12)*ReLU(1.26*β + 0.11) + (1.16*β - 1.78)*ReLU(0.29 - 1.58*β) - 0.63) + (-0.73*β - 0.54)*ReLU(2.03*β + (0.24 - 1.3*β)*ReLU(1.26*β + 0.11) + (1.14*β + 0.28)*ReLU(0.29 - 1.58*β) + (1.22*β - 0.17)*ReLU(2.38 - 2.13*β) + 0.16) - (-0.73*β - 0.54)*ReLU(2.03*β + (0.24 - 1.3*β)*ReLU(1.69*β - 0.83) + (1.14*β + 0.28)*ReLU(0.9*β + 3.88) + (1.22*β - 0.17)*ReLU(0.57 - 2.28*β) + 0.16) + (0.54*β - 0.81)*ReLU(-0.69*β + (-0.14*β - 1.42)*ReLU(0.29 - 1.58*β) + (0.32*β + 1.76)*ReLU(1.26*β + 0.11) + (0.73*β + 0.4)*ReLU(2.38 - 2.13*β) + 0.33) - (0.54*β - 0.81)*ReLU(-0.69*β + (-0.14*β - 1.42)*ReLU(0.9*β + 3.88) + (0.32*β + 1.76)*ReLU(1.69*β - 0.83) + (0.73*β + 0.4)*ReLU(0.57 - 2.28*β) + 0.33)\n",
      "(0.63 - 0.38*β)*(-2.13*(0.54*β + 1.16)*Heaviside(2.38 - 2.13*β) + 1.26*(0.59*β - 1.12)*Heaviside(1.26*β + 0.11) - 1.58*(1.16*β - 1.78)*Heaviside(0.29 - 1.58*β) + 1.16*ReLU(0.29 - 1.58*β) + 0.54*ReLU(2.38 - 2.13*β) + 0.59*ReLU(1.26*β + 0.11) - 2.0)*Heaviside(-2.0*β + (0.54*β + 1.16)*ReLU(2.38 - 2.13*β) + (0.59*β - 1.12)*ReLU(1.26*β + 0.11) + (1.16*β - 1.78)*ReLU(0.29 - 1.58*β) - 0.63) + (0.81 - 0.54*β)*(0.9*(-0.14*β - 1.42)*Heaviside(0.9*β + 3.88) + 1.69*(0.32*β + 1.76)*Heaviside(1.69*β - 0.83) - 2.28*(0.73*β + 0.4)*Heaviside(0.57 - 2.28*β) + 0.73*ReLU(0.57 - 2.28*β) - 0.14*ReLU(0.9*β + 3.88) + 0.32*ReLU(1.69*β - 0.83) - 0.69)*Heaviside(-0.69*β + (-0.14*β - 1.42)*ReLU(0.9*β + 3.88) + (0.32*β + 1.76)*ReLU(1.69*β - 0.83) + (0.73*β + 0.4)*ReLU(0.57 - 2.28*β) + 0.33) + (-0.73*β - 0.54)*(1.26*(0.24 - 1.3*β)*Heaviside(1.26*β + 0.11) - 1.58*(1.14*β + 0.28)*Heaviside(0.29 - 1.58*β) - 2.13*(1.22*β - 0.17)*Heaviside(2.38 - 2.13*β) + 1.14*ReLU(0.29 - 1.58*β) + 1.22*ReLU(2.38 - 2.13*β) - 1.3*ReLU(1.26*β + 0.11) + 2.03)*Heaviside(2.03*β + (0.24 - 1.3*β)*ReLU(1.26*β + 0.11) + (1.14*β + 0.28)*ReLU(0.29 - 1.58*β) + (1.22*β - 0.17)*ReLU(2.38 - 2.13*β) + 0.16) + (0.38*β - 0.63)*(-2.28*(0.54*β + 1.16)*Heaviside(0.57 - 2.28*β) + 1.69*(0.59*β - 1.12)*Heaviside(1.69*β - 0.83) + 0.9*(1.16*β - 1.78)*Heaviside(0.9*β + 3.88) + 0.54*ReLU(0.57 - 2.28*β) + 1.16*ReLU(0.9*β + 3.88) + 0.59*ReLU(1.69*β - 0.83) - 2.0)*Heaviside(-2.0*β + (0.54*β + 1.16)*ReLU(0.57 - 2.28*β) + (0.59*β - 1.12)*ReLU(1.69*β - 0.83) + (1.16*β - 1.78)*ReLU(0.9*β + 3.88) - 0.63) + (0.54*β - 0.81)*(-1.58*(-0.14*β - 1.42)*Heaviside(0.29 - 1.58*β) + 1.26*(0.32*β + 1.76)*Heaviside(1.26*β + 0.11) - 2.13*(0.73*β + 0.4)*Heaviside(2.38 - 2.13*β) - 0.14*ReLU(0.29 - 1.58*β) + 0.73*ReLU(2.38 - 2.13*β) + 0.32*ReLU(1.26*β + 0.11) - 0.69)*Heaviside(-0.69*β + (-0.14*β - 1.42)*ReLU(0.29 - 1.58*β) + (0.32*β + 1.76)*ReLU(1.26*β + 0.11) + (0.73*β + 0.4)*ReLU(2.38 - 2.13*β) + 0.33) + (0.73*β + 0.54)*(1.69*(0.24 - 1.3*β)*Heaviside(1.69*β - 0.83) + 0.9*(1.14*β + 0.28)*Heaviside(0.9*β + 3.88) - 2.28*(1.22*β - 0.17)*Heaviside(0.57 - 2.28*β) + 1.22*ReLU(0.57 - 2.28*β) + 1.14*ReLU(0.9*β + 3.88) - 1.3*ReLU(1.69*β - 0.83) + 2.03)*Heaviside(2.03*β + (0.24 - 1.3*β)*ReLU(1.69*β - 0.83) + (1.14*β + 0.28)*ReLU(0.9*β + 3.88) + (1.22*β - 0.17)*ReLU(0.57 - 2.28*β) + 0.16) + 0.38*ReLU(-2.0*β + (0.54*β + 1.16)*ReLU(0.57 - 2.28*β) + (0.59*β - 1.12)*ReLU(1.69*β - 0.83) + (1.16*β - 1.78)*ReLU(0.9*β + 3.88) - 0.63) - 0.38*ReLU(-2.0*β + (0.54*β + 1.16)*ReLU(2.38 - 2.13*β) + (0.59*β - 1.12)*ReLU(1.26*β + 0.11) + (1.16*β - 1.78)*ReLU(0.29 - 1.58*β) - 0.63) + 0.54*ReLU(-0.69*β + (-0.14*β - 1.42)*ReLU(0.29 - 1.58*β) + (0.32*β + 1.76)*ReLU(1.26*β + 0.11) + (0.73*β + 0.4)*ReLU(2.38 - 2.13*β) + 0.33) - 0.54*ReLU(-0.69*β + (-0.14*β - 1.42)*ReLU(0.9*β + 3.88) + (0.32*β + 1.76)*ReLU(1.69*β - 0.83) + (0.73*β + 0.4)*ReLU(0.57 - 2.28*β) + 0.33) - 0.73*ReLU(2.03*β + (0.24 - 1.3*β)*ReLU(1.26*β + 0.11) + (1.14*β + 0.28)*ReLU(0.29 - 1.58*β) + (1.22*β - 0.17)*ReLU(2.38 - 2.13*β) + 0.16) + 0.73*ReLU(2.03*β + (0.24 - 1.3*β)*ReLU(1.69*β - 0.83) + (1.14*β + 0.28)*ReLU(0.9*β + 3.88) + (1.22*β - 0.17)*ReLU(0.57 - 2.28*β) + 0.16)\n"
     ]
    }
   ],
   "source": [
    "# Let's try with sympy\n",
    "\n",
    "import numpy as np\n",
    "import sympy\n",
    "embedding_dim = 2\n",
    "hidden_dim = 3\n",
    "\n",
    "def round_expr(expr, num_digits):\n",
    "    return expr.xreplace({n : round(n, num_digits) for n in expr.atoms(sympy.Number)})\n",
    "\n",
    "def expr_to_string(expr):\n",
    "    return str(round_expr(expr, 2)).replace(\"Max(0, \", \"ReLU(\")\n",
    "\n",
    "def random_matr(*shape):\n",
    "    return sympy.Matrix(np.random.normal(size=shape))\n",
    "\n",
    "A     = random_matr(hidden_dim, 2 * embedding_dim)\n",
    "A_hat = random_matr(*A.shape)\n",
    "b     = random_matr(hidden_dim, 1)\n",
    "b_hat = random_matr(*b.shape)\n",
    "C     = random_matr(hidden_dim, hidden_dim)\n",
    "C_hat = random_matr(*C.shape)\n",
    "d     = random_matr(hidden_dim, 1)\n",
    "d_hat = random_matr(*d.shape)\n",
    "E     = random_matr(1, hidden_dim)\n",
    "E_hat = random_matr(*E.shape)\n",
    "f     = random_matr(1, 1)\n",
    "f_hat = random_matr(*f.shape)\n",
    "\n",
    "beta = sympy.Symbol(\"β\", real=True)\n",
    "\n",
    "class relu(sympy.Function):\n",
    "    @classmethod\n",
    "    def eval(cls, x):\n",
    "        return x.applyfunc(lambda elem: sympy.Max(elem, 0))\n",
    "\n",
    "    def _eval_is_real(self):\n",
    "        return True\n",
    "\n",
    "delta_e1 = np.random.normal(size=(2 * embedding_dim, 1))\n",
    "delta_e2 = np.random.normal(size=(2 * embedding_dim, 1))\n",
    "# the first half of the vectors is always the same\n",
    "delta_e2[:embedding_dim, :] = delta_e1[:embedding_dim, :]\n",
    "delta_e1 = sympy.Matrix(delta_e1)\n",
    "delta_e2 = sympy.Matrix(delta_e2)\n",
    "\n",
    "def q(beta, x):\n",
    "    result = relu((A + beta * A_hat) @ x + b + beta * b_hat)\n",
    "    result = relu((C + beta * C_hat) @ result + d + beta * d_hat)\n",
    "    result = (E + beta * E_hat) @ result + f + beta * f_hat\n",
    "    return result\n",
    "\n",
    "def to_scalar(x):\n",
    "    assert x.shape == (1, 1)\n",
    "    return x[0, 0]\n",
    "    \n",
    "logit = to_scalar(q(beta, delta_e1) - q(beta, delta_e2))\n",
    "print(expr_to_string(logit))\n",
    "dlogit_dbeta = logit.diff(beta)\n",
    "print(expr_to_string(dlogit_dbeta))"
   ]
  },
  {
   "cell_type": "code",
   "execution_count": 48,
   "metadata": {},
   "outputs": [
    {
     "data": {
      "image/png": "[encoded data removed]",
      "text/plain": [
       "<Figure size 1080x216 with 1 Axes>"
      ]
     },
     "metadata": {
      "needs_background": "light"
     },
     "output_type": "display_data"
    }
   ],
   "source": [
    "# let's plot dlogit_dbeta\n",
    "import matplotlib.pyplot as plt\n",
    "\n",
    "xs = np.linspace(-2.5, 2.5, 400)\n",
    "ys = np.array([float(dlogit_dbeta.subs(beta, x).simplify()) for x in xs])\n",
    "plt.figure(figsize=(15, 3))\n",
    "plt.scatter(xs, ys);\n",
    "\n",
    "# it is discontinuous piecewise-quadratic!"
   ]
  },
  {
   "cell_type": "code",
   "execution_count": 50,
   "metadata": {},
   "outputs": [
    {
     "name": "stdout",
     "output_type": "stream",
     "text": [
      "18663.469201701744\n",
      "5067.070224898369\n",
      "-p0(β)*Derivative(p1(β), β) - p1(β)*Derivative(p0(β), β) + 2*p1(β)*Derivative(p2(β), β) + 2*p2(β)*Derivative(p1(β), β)\n"
     ]
    }
   ],
   "source": [
    "def estimate_upper_bound(expr, param_name, abs_param_bound):\n",
    "    #print(type(expr))\n",
    "    if type(expr) == sympy.Add:\n",
    "        arg_bounds = [estimate_upper_bound(x, param_name, abs_param_bound) for x in expr.args]\n",
    "        return sum(arg_bounds)\n",
    "    if type(expr) == sympy.Mul:\n",
    "        arg_bounds = [estimate_upper_bound(x, param_name, abs_param_bound) for x in expr.args]\n",
    "        return np.prod(arg_bounds)\n",
    "    if type(expr) == sympy.Float:\n",
    "        return np.abs(float(expr))\n",
    "    if type(expr) == sympy.numbers.NegativeOne:\n",
    "        return 1.0\n",
    "    if type(expr) == sympy.Symbol:\n",
    "        if str(expr) == param_name:\n",
    "            return abs_param_bound\n",
    "        else:\n",
    "            raise RuntimeError(f\"Unexpected symbol {expr}\")\n",
    "    if type(expr) == sympy.Max:\n",
    "        if len(expr.args) == 2 and str(expr.args[0] == \"0\"):\n",
    "            return estimate_upper_bound(expr.args[1], param_name, abs_param_bound)\n",
    "        else:\n",
    "            raise RuntimeError(f\"Unexpected Max expression {expr}\")\n",
    "    if type(expr) == sympy.Heaviside:\n",
    "        return 1.0\n",
    "    else:\n",
    "        raise RuntimeError(f\"Unexpected type {type(expr)}\")\n",
    "\n",
    "print(estimate_upper_bound(logit, \"β\", 10))\n",
    "print(estimate_upper_bound(dlogit_dbeta, \"β\", 10))\n",
    "\n",
    "poly_params = [sympy.Function(f\"p{i}\") for i in range(3)]\n",
    "p0 = poly_params[0]\n",
    "p1 = poly_params[1]\n",
    "p2 = poly_params[2]\n",
    "poly = 1 - p0(beta)*p1(beta) + 2*p1(beta)*p2(beta)\n",
    "dpoly_dbeta = poly.diff(beta)\n",
    "print(dpoly_dbeta)"
   ]
  },
  {
   "cell_type": "code",
   "execution_count": 51,
   "metadata": {},
   "outputs": [],
   "source": [
    "class sigmoid(sympy.Function):\n",
    "    @classmethod\n",
    "    def eval(cls, x):\n",
    "        return (sympy.functions.elementary.hyperbolic.tanh(2 * x) + 1) / 2\n",
    "\n",
    "    def _eval_is_real(self):\n",
    "        return True\n",
    "\n",
    "smoothing_alpha = 0.01\n",
    "full_poly = 1 - ((1 - smoothing_alpha)*sigmoid(logit) + smoothing_alpha/2)\n",
    "#print(full_poly)"
   ]
  },
  {
   "cell_type": "code",
   "execution_count": 52,
   "metadata": {},
   "outputs": [
    {
     "name": "stdout",
     "output_type": "stream",
     "text": [
      "[(-inf, -4.31106844158925), (-4.31106844158925, -0.0899048155343415), (-0.0899048155343415, 0.180328369303251), (0.180328369303251, 0.250856856835477), (0.250856856835477, 0.494399226693203), (0.494399226693203, 1.12191672134450), (1.12191672134450, inf)]\n",
      "Wall time: 8.87 s\n"
     ]
    }
   ],
   "source": [
    "%%time\n",
    "\n",
    "from typing import *\n",
    "\n",
    "def get_bottom_decision_points(expr, param) -> Tuple[set, bool]:\n",
    "    result_set = set()\n",
    "    all_args_plain = True\n",
    "    for arg in expr.args:\n",
    "        arg_set, arg_plain = get_bottom_decision_points(arg, param)\n",
    "        result_set.update(arg_set)\n",
    "        all_args_plain = all_args_plain and arg_plain\n",
    "    if all_args_plain and type(expr) in [sympy.Heaviside, sympy.Max]:\n",
    "        # new decision point\n",
    "        index = 1 if type(expr) == sympy.Max else 0\n",
    "        #solutions = [0]\n",
    "        #print(expr.args[index])\n",
    "        # even though the expressions are simple, this works very slowly:\n",
    "        solutions = sympy.solve(expr.args[index], param)\n",
    "        #assert len(solutions) == 1\n",
    "        result_set.add(solutions[0])\n",
    "        #print(expr, solutions[0])\n",
    "        all_args_plain = False\n",
    "    return result_set, all_args_plain\n",
    "\n",
    "def to_intervals(points):\n",
    "    return list(zip(points, points[1:]))\n",
    "\n",
    "intervals = to_intervals([-np.infty] + sorted(list(get_bottom_decision_points(dlogit_dbeta, beta)[0])) + [np.infty])\n",
    "print(intervals)"
   ]
  },
  {
   "cell_type": "code",
   "execution_count": 53,
   "metadata": {},
   "outputs": [
    {
     "name": "stdout",
     "output_type": "stream",
     "text": [
      "(-inf, -4.31106844158925)\n",
      "  (-inf, -4.31106844158925)\n",
      "    0\n",
      "    additional points: []\n",
      "(-4.31106844158925, -0.0899048155343415)\n",
      "  (-4.31106844158925, -0.0899048155343415)\n",
      "    -0.63*β**2 + 4.54*β + 13.81\n",
      "    additional points: [-2.30690710046022]\n",
      "(-0.0899048155343415, 0.180328369303251)\n",
      "  (-0.0899048155343415, 0.180328369303251)\n",
      "    3.45*β**2 + 7.0*β - 1.41\n",
      "    additional points: []\n",
      "(0.180328369303251, 0.250856856835477)\n",
      "  (0.180328369303251, 0.250856856835477)\n",
      "    3.45*β**2 + 6.65*β - 2.12\n",
      "    additional points: []\n",
      "(0.250856856835477, 0.494399226693203)\n",
      "  (0.250856856835477, 0.494399226693203)\n",
      "    3.45*β**2 + 6.95*β - 1.51\n",
      "    additional points: []\n",
      "(0.494399226693203, 1.12191672134450)\n",
      "  (0.494399226693203, 1.12191672134450)\n",
      "    3.36*β**2 + 8.56*β - 0.37\n",
      "    additional points: []\n",
      "(1.12191672134450, inf)\n",
      "  (1.12191672134450, inf)\n",
      "    -0.63*β**2 + 4.53*β + 13.85\n",
      "    additional points: [9.52098708796250]\n",
      "Wall time: 3.86 s\n"
     ]
    }
   ],
   "source": [
    "%%time\n",
    "\n",
    "def get_subs_value(interval):\n",
    "    if interval[0] == -np.infty:\n",
    "        return interval[1] - 1\n",
    "    if interval[1] == np.infty:\n",
    "        return interval[0] + 1\n",
    "    return (interval[1] - interval[0]) / 2\n",
    "    \n",
    "def resolve_bottom_decisions(expr, param, param_point) -> Tuple[sympy.Expr, bool]:\n",
    "    if type(expr) in [sympy.Float, sympy.Integer, sympy.numbers.NegativeOne, sympy.Symbol]:\n",
    "        return expr, True\n",
    "    if type(expr) in [sympy.Heaviside, sympy.Max]:\n",
    "        return expr.subs(param, param_point).simplify(), False\n",
    "    all_args_plain = True\n",
    "    arg_expressions = []\n",
    "    for arg in expr.args:\n",
    "        arg_expr, arg_plain = resolve_bottom_decisions(arg, param, param_point)\n",
    "        arg_expressions += [arg_expr]\n",
    "        all_args_plain = all_args_plain and arg_plain\n",
    "    #print(type(expr), arg_expressions)\n",
    "    return type(expr)(*arg_expressions), all_args_plain\n",
    "    \n",
    "for interval in intervals:\n",
    "    print(interval)\n",
    "    e = resolve_bottom_decisions(dlogit_dbeta, beta, get_subs_value(interval))[0].simplify()\n",
    "    final_decision_points = get_bottom_decision_points(e, beta)[0]\n",
    "    final_decision_points = [p for p in final_decision_points if interval[0] < p < interval[1]]\n",
    "    final_decision_points = [interval[0]] + final_decision_points + [interval[1]]\n",
    "    # TODO combine\n",
    "    #points = [-np.infty] + sorted(list(get_bottom_decision_points(dlogit_dbeta, beta))) + [np.infty]\n",
    "    refined_intervals = to_intervals(final_decision_points)\n",
    "    for refined_interval in refined_intervals:\n",
    "        refined_e = resolve_bottom_decisions(e, beta, get_subs_value(refined_interval))[0].simplify()\n",
    "        print(\" \", refined_interval)\n",
    "        print(\"   \", expr_to_string(refined_e))\n",
    "        print(\"    additional points:\", [x for x in sympy.solve(refined_e, beta)\n",
    "                                         if refined_interval[0] < x < refined_interval[1]])"
   ]
  },
  {
   "cell_type": "code",
   "execution_count": null,
   "metadata": {},
   "outputs": [],
   "source": []
  }
 ],
 "metadata": {
  "kernelspec": {
   "display_name": "Python 3",
   "language": "python",
   "name": "python3"
  },
  "language_info": {
   "codemirror_mode": {
    "name": "ipython",
    "version": 3
   },
   "file_extension": ".py",
   "mimetype": "text/x-python",
   "name": "python",
   "nbconvert_exporter": "python",
   "pygments_lexer": "ipython3",
   "version": "3.7.6"
  }
 },
 "nbformat": 4,
 "nbformat_minor": 4
}
