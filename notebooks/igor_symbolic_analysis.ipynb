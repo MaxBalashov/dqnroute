{
 "cells": [
  {
   "cell_type": "code",
   "execution_count": 100,
   "metadata": {},
   "outputs": [
    {
     "name": "stdout",
     "output_type": "stream",
     "text": [
      "(0.42 - 0.28*β)*ReLU(2.72*β + (-1.83*β - 1.0)*ReLU(-1.39*β - 0.85) + (-1.08*β - 1.01)*ReLU(2.47*β - 2.4) + (0.38*β - 0.09)*ReLU(4.88*β + 1.89) + 1.39) - (0.42 - 0.28*β)*ReLU(2.72*β + (-1.83*β - 1.0)*ReLU(1.35*β + 0.58) + (-1.08*β - 1.01)*ReLU(0.55*β - 0.33) + (0.38*β - 0.09)*ReLU(2.17*β - 0.42) + 1.39) + (0.73*β + 0.18)*ReLU((0.12 - 1.39*β)*ReLU(-1.39*β - 0.85) + (-1.01*β - 1.13)*ReLU(2.47*β - 2.4) + (0.36*β + 0.68)*ReLU(4.88*β + 1.89) - 0.03) - (0.73*β + 0.18)*ReLU((0.12 - 1.39*β)*ReLU(1.35*β + 0.58) + (-1.01*β - 1.13)*ReLU(0.55*β - 0.33) + (0.36*β + 0.68)*ReLU(2.17*β - 0.42) - 0.03) - (0.74*β - 0.08)*ReLU(0.16*β + (-0.55*β - 0.43)*ReLU(2.17*β - 0.42) + (0.1*β - 0.68)*ReLU(1.35*β + 0.58) + (0.31*β + 0.11)*ReLU(0.55*β - 0.33) + 0.99) + (0.74*β - 0.08)*ReLU(0.16*β + (-0.55*β - 0.43)*ReLU(4.88*β + 1.89) + (0.1*β - 0.68)*ReLU(-1.39*β - 0.85) + (0.31*β + 0.11)*ReLU(2.47*β - 2.4) + 0.99)\n",
      "(0.08 - 0.74*β)*(2.17*(-0.55*β - 0.43)*Heaviside(2.17*β - 0.42) + 1.35*(0.1*β - 0.68)*Heaviside(1.35*β + 0.58) + 0.55*(0.31*β + 0.11)*Heaviside(0.55*β - 0.33) + 0.31*ReLU(0.55*β - 0.33) + 0.1*ReLU(1.35*β + 0.58) - 0.55*ReLU(2.17*β - 0.42) + 0.16)*Heaviside(0.16*β + (-0.55*β - 0.43)*ReLU(2.17*β - 0.42) + (0.1*β - 0.68)*ReLU(1.35*β + 0.58) + (0.31*β + 0.11)*ReLU(0.55*β - 0.33) + 0.99) + (0.42 - 0.28*β)*(-1.39*(-1.83*β - 1.0)*Heaviside(-1.39*β - 0.85) + 2.47*(-1.08*β - 1.01)*Heaviside(2.47*β - 2.4) + 4.88*(0.38*β - 0.09)*Heaviside(4.88*β + 1.89) - 1.83*ReLU(-1.39*β - 0.85) - 1.08*ReLU(2.47*β - 2.4) + 0.38*ReLU(4.88*β + 1.89) + 2.72)*Heaviside(2.72*β + (-1.83*β - 1.0)*ReLU(-1.39*β - 0.85) + (-1.08*β - 1.01)*ReLU(2.47*β - 2.4) + (0.38*β - 0.09)*ReLU(4.88*β + 1.89) + 1.39) + (-0.73*β - 0.18)*(1.35*(0.12 - 1.39*β)*Heaviside(1.35*β + 0.58) + 0.55*(-1.01*β - 1.13)*Heaviside(0.55*β - 0.33) + 2.17*(0.36*β + 0.68)*Heaviside(2.17*β - 0.42) - 1.01*ReLU(0.55*β - 0.33) - 1.39*ReLU(1.35*β + 0.58) + 0.36*ReLU(2.17*β - 0.42))*Heaviside((0.12 - 1.39*β)*ReLU(1.35*β + 0.58) + (-1.01*β - 1.13)*ReLU(0.55*β - 0.33) + (0.36*β + 0.68)*ReLU(2.17*β - 0.42) - 0.03) + (0.28*β - 0.42)*(1.35*(-1.83*β - 1.0)*Heaviside(1.35*β + 0.58) + 0.55*(-1.08*β - 1.01)*Heaviside(0.55*β - 0.33) + 2.17*(0.38*β - 0.09)*Heaviside(2.17*β - 0.42) - 1.08*ReLU(0.55*β - 0.33) - 1.83*ReLU(1.35*β + 0.58) + 0.38*ReLU(2.17*β - 0.42) + 2.72)*Heaviside(2.72*β + (-1.83*β - 1.0)*ReLU(1.35*β + 0.58) + (-1.08*β - 1.01)*ReLU(0.55*β - 0.33) + (0.38*β - 0.09)*ReLU(2.17*β - 0.42) + 1.39) + (0.73*β + 0.18)*(-1.39*(0.12 - 1.39*β)*Heaviside(-1.39*β - 0.85) + 2.47*(-1.01*β - 1.13)*Heaviside(2.47*β - 2.4) + 4.88*(0.36*β + 0.68)*Heaviside(4.88*β + 1.89) - 1.39*ReLU(-1.39*β - 0.85) - 1.01*ReLU(2.47*β - 2.4) + 0.36*ReLU(4.88*β + 1.89))*Heaviside((0.12 - 1.39*β)*ReLU(-1.39*β - 0.85) + (-1.01*β - 1.13)*ReLU(2.47*β - 2.4) + (0.36*β + 0.68)*ReLU(4.88*β + 1.89) - 0.03) + (0.74*β - 0.08)*(4.88*(-0.55*β - 0.43)*Heaviside(4.88*β + 1.89) - 1.39*(0.1*β - 0.68)*Heaviside(-1.39*β - 0.85) + 2.47*(0.31*β + 0.11)*Heaviside(2.47*β - 2.4) + 0.1*ReLU(-1.39*β - 0.85) + 0.31*ReLU(2.47*β - 2.4) - 0.55*ReLU(4.88*β + 1.89) + 0.16)*Heaviside(0.16*β + (-0.55*β - 0.43)*ReLU(4.88*β + 1.89) + (0.1*β - 0.68)*ReLU(-1.39*β - 0.85) + (0.31*β + 0.11)*ReLU(2.47*β - 2.4) + 0.99) + 0.73*ReLU((0.12 - 1.39*β)*ReLU(-1.39*β - 0.85) + (-1.01*β - 1.13)*ReLU(2.47*β - 2.4) + (0.36*β + 0.68)*ReLU(4.88*β + 1.89) - 0.03) - 0.73*ReLU((0.12 - 1.39*β)*ReLU(1.35*β + 0.58) + (-1.01*β - 1.13)*ReLU(0.55*β - 0.33) + (0.36*β + 0.68)*ReLU(2.17*β - 0.42) - 0.03) - 0.74*ReLU(0.16*β + (-0.55*β - 0.43)*ReLU(2.17*β - 0.42) + (0.1*β - 0.68)*ReLU(1.35*β + 0.58) + (0.31*β + 0.11)*ReLU(0.55*β - 0.33) + 0.99) + 0.74*ReLU(0.16*β + (-0.55*β - 0.43)*ReLU(4.88*β + 1.89) + (0.1*β - 0.68)*ReLU(-1.39*β - 0.85) + (0.31*β + 0.11)*ReLU(2.47*β - 2.4) + 0.99) - 0.28*ReLU(2.72*β + (-1.83*β - 1.0)*ReLU(-1.39*β - 0.85) + (-1.08*β - 1.01)*ReLU(2.47*β - 2.4) + (0.38*β - 0.09)*ReLU(4.88*β + 1.89) + 1.39) + 0.28*ReLU(2.72*β + (-1.83*β - 1.0)*ReLU(1.35*β + 0.58) + (-1.08*β - 1.01)*ReLU(0.55*β - 0.33) + (0.38*β - 0.09)*ReLU(2.17*β - 0.42) + 1.39)\n"
     ]
    }
   ],
   "source": [
    "# Let's try with sympy\n",
    "\n",
    "import numpy as np\n",
    "import sympy\n",
    "embedding_dim = 2\n",
    "hidden_dim = 3\n",
    "\n",
    "def round_expr(expr, num_digits):\n",
    "    return expr.xreplace({n : round(n, num_digits) for n in expr.atoms(sympy.Number)})\n",
    "\n",
    "def expr_to_string(expr):\n",
    "    return str(round_expr(expr, 2)).replace(\"Max(0, \", \"ReLU(\")\n",
    "\n",
    "def random_matr(*shape):\n",
    "    return sympy.Matrix(np.random.normal(size=shape))\n",
    "\n",
    "A     = random_matr(hidden_dim, 2 * embedding_dim)\n",
    "A_hat = random_matr(*A.shape)\n",
    "b     = random_matr(hidden_dim, 1)\n",
    "b_hat = random_matr(*b.shape)\n",
    "C     = random_matr(hidden_dim, hidden_dim)\n",
    "C_hat = random_matr(*C.shape)\n",
    "d     = random_matr(hidden_dim, 1)\n",
    "d_hat = random_matr(*d.shape)\n",
    "E     = random_matr(1, hidden_dim)\n",
    "E_hat = random_matr(*E.shape)\n",
    "f     = random_matr(1, 1)\n",
    "f_hat = random_matr(*f.shape)\n",
    "\n",
    "beta = sympy.Symbol(\"β\", real=True)\n",
    "\n",
    "class relu(sympy.Function):\n",
    "    @classmethod\n",
    "    def eval(cls, x):\n",
    "        return x.applyfunc(lambda elem: sympy.Max(elem, 0))\n",
    "\n",
    "    def _eval_is_real(self):\n",
    "        return True\n",
    "\n",
    "delta_e1 = np.random.normal(size=(2 * embedding_dim, 1))\n",
    "delta_e2 = np.random.normal(size=(2 * embedding_dim, 1))\n",
    "# the first half of the vectors is always the same\n",
    "delta_e2[:embedding_dim, :] = delta_e1[:embedding_dim, :]\n",
    "delta_e1 = sympy.Matrix(delta_e1)\n",
    "delta_e2 = sympy.Matrix(delta_e2)\n",
    "\n",
    "def q(beta, x):\n",
    "    result = relu((A + beta * A_hat) @ x + b + beta * b_hat)\n",
    "    result = relu((C + beta * C_hat) @ result + d + beta * d_hat)\n",
    "    result = (E + beta * E_hat) @ result + f + beta * f_hat\n",
    "    return result\n",
    "\n",
    "def to_scalar(x):\n",
    "    assert x.shape == (1, 1)\n",
    "    return x[0, 0]\n",
    "    \n",
    "logit = to_scalar(q(beta, delta_e1) - q(beta, delta_e2))\n",
    "print(expr_to_string(logit))\n",
    "dlogit_dbeta = logit.diff(beta)\n",
    "print(expr_to_string(dlogit_dbeta))"
   ]
  },
  {
   "cell_type": "code",
   "execution_count": 101,
   "metadata": {},
   "outputs": [
    {
     "data": {
      "image/png": "[encoded data removed]",
      "text/plain": [
       "<Figure size 1080x216 with 1 Axes>"
      ]
     },
     "metadata": {
      "needs_background": "light"
     },
     "output_type": "display_data"
    }
   ],
   "source": [
    "# let's plot dlogit_dbeta\n",
    "import matplotlib.pyplot as plt\n",
    "\n",
    "xs = np.linspace(-2.5, 2.5, 500)\n",
    "ys = np.array([float(dlogit_dbeta.subs(beta, x).simplify()) for x in xs])\n",
    "plt.figure(figsize=(15, 3))\n",
    "plt.plot(xs, ys);\n",
    "\n",
    "# it is discontinuous piecewise-quadratic!"
   ]
  },
  {
   "cell_type": "code",
   "execution_count": 102,
   "metadata": {},
   "outputs": [
    {
     "name": "stdout",
     "output_type": "stream",
     "text": [
      "16611.524708540073\n",
      "4664.706191742972\n",
      "-p0(β)*Derivative(p1(β), β) - p1(β)*Derivative(p0(β), β) + 2*p1(β)*Derivative(p2(β), β) + 2*p2(β)*Derivative(p1(β), β)\n"
     ]
    }
   ],
   "source": [
    "def estimate_upper_bound(expr, param_name, abs_param_bound):\n",
    "    if type(expr).__name__ == \"Add\":\n",
    "        arg_bounds = [estimate_upper_bound(x, param_name, abs_param_bound) for x in expr.args]\n",
    "        return sum(arg_bounds)\n",
    "    if type(expr).__name__ == \"Mul\":\n",
    "        arg_bounds = [estimate_upper_bound(x, param_name, abs_param_bound) for x in expr.args]\n",
    "        return np.prod(arg_bounds)\n",
    "    if type(expr).__name__ == \"Float\":\n",
    "        return np.abs(float(expr))\n",
    "    if type(expr).__name__ == \"NegativeOne\":\n",
    "        return 1.0\n",
    "    if type(expr).__name__ == \"Symbol\":\n",
    "        if str(expr) == param_name:\n",
    "            return abs_param_bound\n",
    "        else:\n",
    "            raise RuntimeError(f\"Unexpected symbol {expr}\")\n",
    "    if type(expr).__name__ == \"Max\":\n",
    "        if len(expr.args) == 2 and str(expr.args[0] == \"0\"):\n",
    "            return estimate_upper_bound(expr.args[1], param_name, abs_param_bound)\n",
    "        else:\n",
    "            raise RuntimeError(f\"Unexpected Max expression {expr}\")\n",
    "    if type(expr).__name__ == \"Heaviside\":\n",
    "        return 1.0\n",
    "    else:\n",
    "        raise RuntimeError(f\"Unexpected type {type(expr)}\")\n",
    "\n",
    "print(estimate_upper_bound(logit, \"β\", 10))\n",
    "print(estimate_upper_bound(dlogit_dbeta, \"β\", 10))\n",
    "\n",
    "poly_params = [sympy.Function(f\"p{i}\") for i in range(3)]\n",
    "p0 = poly_params[0]\n",
    "p1 = poly_params[1]\n",
    "p2 = poly_params[2]\n",
    "poly = 1 - p0(beta)*p1(beta) + 2*p1(beta)*p2(beta)\n",
    "dpoly_dbeta = poly.diff(beta)\n",
    "print(dpoly_dbeta)\n",
    "\n",
    "# TODO\n",
    "#  compute a pool of bounds\n",
    "#  construct kappa\n",
    "#  substitute ps with functions\n",
    "#  get symbolic derivative\n",
    "#  recursive estimation for the symbolic derivative\n",
    "#    see Derivative(p_i) -> subsitute the bound\n",
    "#    see just p_i -> subsitute with the bound\n",
    "\n",
    "# if necessary, take the second derivative?"
   ]
  },
  {
   "cell_type": "code",
   "execution_count": 103,
   "metadata": {},
   "outputs": [],
   "source": [
    "## Let's upper- and lower- bound the derivative with a solver\n",
    "\n",
    "class sigmoid(sympy.Function):\n",
    "    @classmethod\n",
    "    def eval(cls, x):\n",
    "        return (sympy.functions.elementary.hyperbolic.tanh(2 * x) + 1) / 2\n",
    "\n",
    "    def _eval_is_real(self):\n",
    "        return True\n",
    "\n",
    "smoothing_alpha = 0.01\n",
    "    \n",
    "full_poly = 1 - ((1 - smoothing_alpha)*sigmoid(logit) + smoothing_alpha/2)\n",
    "#print(full_poly)"
   ]
  },
  {
   "cell_type": "code",
   "execution_count": 104,
   "metadata": {},
   "outputs": [
    {
     "name": "stdout",
     "output_type": "stream",
     "text": [
      "-672.14*β**7 - 349.41*β**6 + 1317.78*β**5 + 3890.68*β**4 + 2340.08*β**3 - 98.16*β**2 + 64.52*β - 6.12\n"
     ]
    }
   ],
   "source": [
    "# see what the expressions become without ReLU and Heaviside\n",
    "\n",
    "def simplify(expr):\n",
    "    if type(expr).__name__ == \"Add\":\n",
    "        return sum([simplify(x) for x in expr.args])\n",
    "    if type(expr).__name__ == \"Mul\":\n",
    "        result = expr.args[0]\n",
    "        for x in expr.args:\n",
    "            result *= simplify(x)\n",
    "        return result\n",
    "    if type(expr).__name__ in [\"Float\", \"NegativeOne\", \"Symbol\"]:\n",
    "        return expr\n",
    "        if str(expr) == param_name:\n",
    "            return param\n",
    "        else:\n",
    "            raise RuntimeError(f\"Unexpected symbol {expr}\")\n",
    "    if type(expr).__name__ == \"Max\":\n",
    "        if len(expr.args) == 2 and str(expr.args[0] == \"0\"):\n",
    "            return simplify(expr.args[1])\n",
    "        else:\n",
    "            raise RuntimeError(f\"Unexpected Max expression {expr}\")\n",
    "    if type(expr).__name__ == \"Heaviside\":\n",
    "        return simplify(expr.args[0])\n",
    "    else:\n",
    "        raise RuntimeError(f\"Unexpected type {type(expr)}\")\n",
    "\n",
    "print(expr_to_string(simplify(dlogit_dbeta).simplify()))"
   ]
  },
  {
   "cell_type": "code",
   "execution_count": 105,
   "metadata": {},
   "outputs": [
    {
     "name": "stdout",
     "output_type": "stream",
     "text": [
      "[(-inf, -0.612470856425812), (-0.612470856425812, -0.432663231980555), (-0.432663231980555, -0.386488234621100), (-0.386488234621100, 0.193978320651293), (0.193978320651293, 0.595349248851640), (0.595349248851640, 0.972118908464408), (0.972118908464408, inf)]\n"
     ]
    }
   ],
   "source": [
    "def get_bottom_decision_points(expr, param) -> set:\n",
    "    if type(expr).__name__ == \"Heaviside\":\n",
    "        s = str(expr.args[0])\n",
    "        if \"Max(\" not in s and \"Heaviside(\" not in s:\n",
    "            solutions = sympy.solve(expr.args[0], param)\n",
    "            assert len(solutions) == 1\n",
    "            #print(expr, solutions)\n",
    "            return {solutions[0]}\n",
    "        return get_bottom_decision_points(expr.args[0], param)\n",
    "    if type(expr).__name__ == \"Max\":\n",
    "        return get_bottom_decision_points(sympy.Heaviside(expr.args[1]), param)\n",
    "    return set().union(*[get_bottom_decision_points(arg, param) for arg in expr.args])\n",
    "\n",
    "def to_intervals(points):\n",
    "    return list(zip(points, points[1:]))\n",
    "\n",
    "intervals = to_intervals([-np.infty] + sorted(list(get_bottom_decision_points(dlogit_dbeta, beta))) + [np.infty])\n",
    "print(intervals)"
   ]
  },
  {
   "cell_type": "code",
   "execution_count": 106,
   "metadata": {},
   "outputs": [
    {
     "name": "stdout",
     "output_type": "stream",
     "text": [
      "(-inf, -0.612470856425812)\n",
      "  (-inf, -6.15063449207287)\n",
      "    1.42*β**2 - 1.18*β + 9.82\n",
      "    additional points: []\n",
      "  (-6.15063449207287, -0.612470856425812)\n",
      "    -0.81*β**2 + 2.19*β + 1.36\n",
      "    additional points: []\n",
      "(-0.612470856425812, -0.432663231980555)\n",
      "  (-0.612470856425812, -0.475034624899138)\n",
      "    -0.02*β**2 + 4.83*β + 2.62\n",
      "    additional points: [-0.540695295554472]\n",
      "  (-0.475034624899138, -0.432663231980555)\n",
      "    1.35*β**2 + 5.77*β + 2.76\n",
      "    additional points: []\n",
      "(-0.432663231980555, -0.386488234621100)\n",
      "  (-0.432663231980555, -0.386488234621100)\n",
      "    -0.62*β**2 + 3.67*β + 2.72\n",
      "    additional points: []\n",
      "(-0.386488234621100, 0.193978320651293)\n",
      "  (-0.386488234621100, -0.276051778898845)\n",
      "    1.88*β**2 + 5.06*β + 3.48\n",
      "    additional points: []\n",
      "  (-0.276051778898845, -0.253269895906655)\n",
      "    1.88*β**2 + 5.06*β + 3.44\n",
      "    additional points: []\n",
      "  (-0.253269895906655, -0.385928934965550)\n",
      "    1.88*β**2 + 5.06*β + 3.37\n",
      "    additional points: []\n",
      "  (-0.385928934965550, 0.172689782835471)\n",
      "    1.08*β**2 + 5.12*β + 3.64\n",
      "    additional points: []\n",
      "  (0.172689782835471, 0.193978320651293)\n",
      "    1.88*β**2 + 5.06*β + 3.44\n",
      "    additional points: []\n",
      "(0.193978320651293, 0.595349248851640)\n",
      "  (0.193978320651293, 0.595349248851640)\n",
      "    1.08*β**2 + 5.02*β + 3.16\n",
      "    additional points: []\n",
      "(0.595349248851640, 0.972118908464408)\n",
      "  (0.595349248851640, 0.972118908464408)\n",
      "    -0.02*β**2 + 4.83*β + 3.09\n",
      "    additional points: []\n",
      "(0.972118908464408, inf)\n",
      "  (0.972118908464408, inf)\n",
      "    -0.33*β**2 + 0.67*β + 5.18\n",
      "    additional points: [5.10957140838983]\n"
     ]
    }
   ],
   "source": [
    "def get_subs_value(interval):\n",
    "    if interval[0] == -np.infty:\n",
    "        return interval[1] - 1\n",
    "    if interval[1] == np.infty:\n",
    "        return interval[0] + 1\n",
    "    return (interval[1] - interval[0]) / 2\n",
    "    \n",
    "def resolve_bottom_decisions(expr, param, param_point):\n",
    "    if type(expr).__name__ in [\"Float\", \"Integer\", \"NegativeOne\", \"Symbol\"]:\n",
    "        return expr\n",
    "    if type(expr).__name__ in [\"Heaviside\", \"Max\"]:\n",
    "        s = str(expr.args)\n",
    "        if \"Max(\" not in s and \"Heaviside(\" not in s:\n",
    "            substituted = expr.subs(param, param_point).simplify()\n",
    "            value = float(substituted)\n",
    "            #print(f\"{expr} in point {param_point} is {value} ~ {sympy.solve(expr.args[0], param)}\")\n",
    "            return value\n",
    "    return type(expr)(*[resolve_bottom_decisions(arg, param, param_point) for arg in expr.args])\n",
    "\n",
    "for interval in intervals:\n",
    "    print(interval)\n",
    "    e = resolve_bottom_decisions(dlogit_dbeta, beta, get_subs_value(interval)).simplify()\n",
    "    final_decision_points = get_bottom_decision_points(e, beta)\n",
    "    final_decision_points = [p for p in final_decision_points if interval[0] < p < interval[1]]\n",
    "    final_decision_points = [interval[0]] + final_decision_points + [interval[1]]\n",
    "    # TODO combine\n",
    "    #points = [-np.infty] + sorted(list(get_bottom_decision_points(dlogit_dbeta, beta))) + [np.infty]\n",
    "    refined_intervals = to_intervals(final_decision_points)\n",
    "    for refined_interval in refined_intervals:\n",
    "        refined_e = resolve_bottom_decisions(e, beta, get_subs_value(refined_interval)).simplify()\n",
    "        print(\" \", refined_interval)\n",
    "        print(\"   \", expr_to_string(refined_e))\n",
    "        print(\"    additional points:\", [x for x in sympy.solve(refined_e, beta)\n",
    "                                         if refined_interval[0] < x < refined_interval[1]])"
   ]
  },
  {
   "cell_type": "code",
   "execution_count": null,
   "metadata": {},
   "outputs": [],
   "source": []
  }
 ],
 "metadata": {
  "kernelspec": {
   "display_name": "Python 3",
   "language": "python",
   "name": "python3"
  },
  "language_info": {
   "codemirror_mode": {
    "name": "ipython",
    "version": 3
   },
   "file_extension": ".py",
   "mimetype": "text/x-python",
   "name": "python",
   "nbconvert_exporter": "python",
   "pygments_lexer": "ipython3",
   "version": "3.7.6"
  }
 },
 "nbformat": 4,
 "nbformat_minor": 4
}
