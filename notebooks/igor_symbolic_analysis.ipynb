{
 "cells": [
  {
   "cell_type": "code",
   "execution_count": 156,
   "metadata": {},
   "outputs": [
    {
     "name": "stdout",
     "output_type": "stream",
     "text": [
      "(0.4 - 0.1*β)*Max(0, -1.1*β + (0.3 - 1.8*β)*Max(0, 5.58 - 1.83*β) + (-0.8*β - 0.6)*Max(0, 4.14 - 4.48*β) + (0.9*β + 0.4)*Max(0, 0.41 - 2.17*β) + 1.8) - (0.4 - 0.1*β)*Max(0, -1.1*β + (0.3 - 1.8*β)*Max(0, 3.44*β + 1.15) + (-0.8*β - 0.6)*Max(0, 0.26 - 2.89*β) + (0.9*β + 0.4)*Max(0, 2.03*β + 1.57) + 1.8) - (0.5 - 2.0*β)*Max(0, 0.3*β + (0.3 - 0.5*β)*Max(0, 0.26 - 2.89*β) + (-1.1*β - 1.8)*Max(0, 2.03*β + 1.57) + 0.5*Max(0, 3.44*β + 1.15) + 3.4) + (0.5 - 2.0*β)*Max(0, 0.3*β + (0.3 - 0.5*β)*Max(0, 4.14 - 4.48*β) + (-1.1*β - 1.8)*Max(0, 0.41 - 2.17*β) + 0.5*Max(0, 5.58 - 1.83*β) + 3.4) + (0.3*β + 0.3)*Max(0, 0.2*β + (0.1 - 0.2*β)*Max(0, 5.58 - 1.83*β) + (0.3 - 0.7*β)*Max(0, 0.41 - 2.17*β) + (0.3*β + 0.7)*Max(0, 4.14 - 4.48*β) - 0.2) - (0.3*β + 0.3)*Max(0, 0.2*β + (0.1 - 0.2*β)*Max(0, 3.44*β + 1.15) + (0.3 - 0.7*β)*Max(0, 2.03*β + 1.57) + (0.3*β + 0.7)*Max(0, 0.26 - 2.89*β) - 0.2)\n",
      "(0.4 - 0.1*β)*(-1.83*(0.3 - 1.8*β)*Heaviside(5.58 - 1.83*β) - 4.48*(-0.8*β - 0.6)*Heaviside(4.14 - 4.48*β) - 2.17*(0.9*β + 0.4)*Heaviside(0.41 - 2.17*β) + 0.9*Max(0, 0.41 - 2.17*β) - 0.8*Max(0, 4.14 - 4.48*β) - 1.8*Max(0, 5.58 - 1.83*β) - 1.1)*Heaviside(-1.1*β + (0.3 - 1.8*β)*Max(0, 5.58 - 1.83*β) + (-0.8*β - 0.6)*Max(0, 4.14 - 4.48*β) + (0.9*β + 0.4)*Max(0, 0.41 - 2.17*β) + 1.8) + (0.5 - 2.0*β)*(-4.48*(0.3 - 0.5*β)*Heaviside(4.14 - 4.48*β) - 2.17*(-1.1*β - 1.8)*Heaviside(0.41 - 2.17*β) - 0.915*Heaviside(5.58 - 1.83*β) - 1.1*Max(0, 0.41 - 2.17*β) - 0.5*Max(0, 4.14 - 4.48*β) + 0.3)*Heaviside(0.3*β + (0.3 - 0.5*β)*Max(0, 4.14 - 4.48*β) + (-1.1*β - 1.8)*Max(0, 0.41 - 2.17*β) + 0.5*Max(0, 5.58 - 1.83*β) + 3.4) + (-0.3*β - 0.3)*(3.44*(0.1 - 0.2*β)*Heaviside(3.44*β + 1.15) + 2.03*(0.3 - 0.7*β)*Heaviside(2.03*β + 1.57) - 2.89*(0.3*β + 0.7)*Heaviside(0.26 - 2.89*β) + 0.3*Max(0, 0.26 - 2.89*β) - 0.7*Max(0, 2.03*β + 1.57) - 0.2*Max(0, 3.44*β + 1.15) + 0.2)*Heaviside(0.2*β + (0.1 - 0.2*β)*Max(0, 3.44*β + 1.15) + (0.3 - 0.7*β)*Max(0, 2.03*β + 1.57) + (0.3*β + 0.7)*Max(0, 0.26 - 2.89*β) - 0.2) + (0.1*β - 0.4)*(3.44*(0.3 - 1.8*β)*Heaviside(3.44*β + 1.15) - 2.89*(-0.8*β - 0.6)*Heaviside(0.26 - 2.89*β) + 2.03*(0.9*β + 0.4)*Heaviside(2.03*β + 1.57) - 0.8*Max(0, 0.26 - 2.89*β) + 0.9*Max(0, 2.03*β + 1.57) - 1.8*Max(0, 3.44*β + 1.15) - 1.1)*Heaviside(-1.1*β + (0.3 - 1.8*β)*Max(0, 3.44*β + 1.15) + (-0.8*β - 0.6)*Max(0, 0.26 - 2.89*β) + (0.9*β + 0.4)*Max(0, 2.03*β + 1.57) + 1.8) + (0.3*β + 0.3)*(-1.83*(0.1 - 0.2*β)*Heaviside(5.58 - 1.83*β) - 2.17*(0.3 - 0.7*β)*Heaviside(0.41 - 2.17*β) - 4.48*(0.3*β + 0.7)*Heaviside(4.14 - 4.48*β) - 0.7*Max(0, 0.41 - 2.17*β) + 0.3*Max(0, 4.14 - 4.48*β) - 0.2*Max(0, 5.58 - 1.83*β) + 0.2)*Heaviside(0.2*β + (0.1 - 0.2*β)*Max(0, 5.58 - 1.83*β) + (0.3 - 0.7*β)*Max(0, 0.41 - 2.17*β) + (0.3*β + 0.7)*Max(0, 4.14 - 4.48*β) - 0.2) + (2.0*β - 0.5)*(-2.89*(0.3 - 0.5*β)*Heaviside(0.26 - 2.89*β) + 2.03*(-1.1*β - 1.8)*Heaviside(2.03*β + 1.57) + 1.72*Heaviside(3.44*β + 1.15) - 0.5*Max(0, 0.26 - 2.89*β) - 1.1*Max(0, 2.03*β + 1.57) + 0.3)*Heaviside(0.3*β + (0.3 - 0.5*β)*Max(0, 0.26 - 2.89*β) + (-1.1*β - 1.8)*Max(0, 2.03*β + 1.57) + 0.5*Max(0, 3.44*β + 1.15) + 3.4) - 0.1*Max(0, -1.1*β + (0.3 - 1.8*β)*Max(0, 5.58 - 1.83*β) + (-0.8*β - 0.6)*Max(0, 4.14 - 4.48*β) + (0.9*β + 0.4)*Max(0, 0.41 - 2.17*β) + 1.8) + 0.1*Max(0, -1.1*β + (0.3 - 1.8*β)*Max(0, 3.44*β + 1.15) + (-0.8*β - 0.6)*Max(0, 0.26 - 2.89*β) + (0.9*β + 0.4)*Max(0, 2.03*β + 1.57) + 1.8) + 0.3*Max(0, 0.2*β + (0.1 - 0.2*β)*Max(0, 5.58 - 1.83*β) + (0.3 - 0.7*β)*Max(0, 0.41 - 2.17*β) + (0.3*β + 0.7)*Max(0, 4.14 - 4.48*β) - 0.2) - 0.3*Max(0, 0.2*β + (0.1 - 0.2*β)*Max(0, 3.44*β + 1.15) + (0.3 - 0.7*β)*Max(0, 2.03*β + 1.57) + (0.3*β + 0.7)*Max(0, 0.26 - 2.89*β) - 0.2) + 2.0*Max(0, 0.3*β + (0.3 - 0.5*β)*Max(0, 0.26 - 2.89*β) + (-1.1*β - 1.8)*Max(0, 2.03*β + 1.57) + 0.5*Max(0, 3.44*β + 1.15) + 3.4) - 2.0*Max(0, 0.3*β + (0.3 - 0.5*β)*Max(0, 4.14 - 4.48*β) + (-1.1*β - 1.8)*Max(0, 0.41 - 2.17*β) + 0.5*Max(0, 5.58 - 1.83*β) + 3.4)\n"
     ]
    }
   ],
   "source": [
    "# Let's try with sympy\n",
    "\n",
    "import numpy as np\n",
    "import sympy\n",
    "\n",
    "embedding_dim = 2\n",
    "hidden_dim = 3\n",
    "\n",
    "def random_matr(*shape):\n",
    "    return sympy.Matrix(np.random.normal(size=shape).round(1))\n",
    "\n",
    "A     = random_matr(hidden_dim, 2 * embedding_dim)\n",
    "A_hat = random_matr(*A.shape)\n",
    "b     = random_matr(hidden_dim, 1)\n",
    "b_hat = random_matr(*b.shape)\n",
    "C     = random_matr(hidden_dim, hidden_dim)\n",
    "C_hat = random_matr(*C.shape)\n",
    "d     = random_matr(hidden_dim, 1)\n",
    "d_hat = random_matr(*d.shape)\n",
    "E     = random_matr(1, hidden_dim)\n",
    "E_hat = random_matr(*E.shape)\n",
    "f     = random_matr(1, 1)\n",
    "f_hat = random_matr(*f.shape)\n",
    "\n",
    "params = sympy.symbols([\"β\"])\n",
    "beta = params[0]\n",
    "\n",
    "class relu(sympy.Function):\n",
    "    @classmethod\n",
    "    def eval(cls, x):\n",
    "        return x.applyfunc(lambda elem: sympy.Max(elem, 0))\n",
    "\n",
    "    def _eval_is_real(self):\n",
    "        return True\n",
    "\n",
    "delta_e1 = np.random.normal(size=(2 * embedding_dim, 1)).round(1)\n",
    "delta_e2 = np.random.normal(size=(2 * embedding_dim, 1)).round(1)\n",
    "# the first half of the vectors is always the same\n",
    "delta_e2[:embedding_dim, :] = delta_e1[:embedding_dim, :]\n",
    "delta_e1 = sympy.Matrix(delta_e1)\n",
    "delta_e2 = sympy.Matrix(delta_e2)\n",
    "\n",
    "def q(beta, x):\n",
    "    result = relu((A + beta * A_hat) @ x + b + beta * b_hat)\n",
    "    result = relu((C + beta * C_hat) @ result + d + beta * d_hat)\n",
    "    result = (E + beta * E_hat) @ result + f + beta * f_hat\n",
    "    return result\n",
    "\n",
    "def to_scalar(x):\n",
    "    assert x.shape == (1, 1)\n",
    "    return x[0, 0]\n",
    "    \n",
    "logit = to_scalar(q(beta, delta_e1) - q(beta, delta_e2))\n",
    "print(logit)\n",
    "dlogit_dbeta = logit.diff(beta)\n",
    "print(dlogit_dbeta)"
   ]
  },
  {
   "cell_type": "code",
   "execution_count": 157,
   "metadata": {},
   "outputs": [
    {
     "name": "stdout",
     "output_type": "stream",
     "text": [
      "26414.461\n",
      "7263.690200000001\n",
      "-p0(β)*Derivative(p1(β), β) - p1(β)*Derivative(p0(β), β) + 2*p1(β)*Derivative(p2(β), β) + 2*p2(β)*Derivative(p1(β), β)\n"
     ]
    }
   ],
   "source": [
    "def estimate_upper_bound(expr, param_name, abs_param_bound):\n",
    "    if type(expr).__name__ == \"Add\":\n",
    "        arg_bounds = [estimate_upper_bound(x, param_name, abs_param_bound) for x in expr.args]\n",
    "        return sum(arg_bounds)\n",
    "    if type(expr).__name__ == \"Mul\":\n",
    "        arg_bounds = [estimate_upper_bound(x, param_name, abs_param_bound) for x in expr.args]\n",
    "        return np.prod(arg_bounds)\n",
    "    if type(expr).__name__ == \"Float\":\n",
    "        return np.abs(float(expr))\n",
    "    if type(expr).__name__ == \"NegativeOne\":\n",
    "        return 1.0\n",
    "    if type(expr).__name__ == \"Symbol\":\n",
    "        if str(expr) == param_name:\n",
    "            return abs_param_bound\n",
    "        else:\n",
    "            raise RuntimeError(f\"Unexpected symbol {expr}\")\n",
    "    if type(expr).__name__ == \"Max\":\n",
    "        if len(expr.args) == 2 and str(expr.args[0] == \"0\"):\n",
    "            return estimate_upper_bound(expr.args[1], param_name, abs_param_bound)\n",
    "        else:\n",
    "            raise RuntimeError(f\"Unexpected Max expression {expr}\")\n",
    "    if type(expr).__name__ == \"Heaviside\":\n",
    "        return 1.0\n",
    "    else:\n",
    "        raise RuntimeError(f\"Unexpected type {type(expr)}\")\n",
    "    # TODO better estimate of the difference of Heavisides\n",
    "\n",
    "print(estimate_upper_bound(logit, \"β\", 10))\n",
    "print(estimate_upper_bound(dlogit_dbeta, \"β\", 10))\n",
    "\n",
    "poly_params = [sympy.Function(f\"p{i}\") for i in range(3)]\n",
    "p0 = poly_params[0]\n",
    "p1 = poly_params[1]\n",
    "p2 = poly_params[2]\n",
    "poly = 1 - p0(beta)*p1(beta) + 2*p1(beta)*p2(beta)\n",
    "dpoly_dbeta = poly.diff(beta)\n",
    "print(dpoly_dbeta)\n",
    "\n",
    "# TODO\n",
    "#  compute a pool of bounds\n",
    "#  construct kappa\n",
    "#  substitute ps with functions\n",
    "#  get symbolic derivative\n",
    "#  recursive estimation for the symbolic derivative\n",
    "#    see Derivative(p_i) -> subsitute the bound\n",
    "#    see just p_i -> subsitute with the bound\n",
    "\n",
    "# if necessary, take the second derivative?"
   ]
  },
  {
   "cell_type": "code",
   "execution_count": 158,
   "metadata": {},
   "outputs": [],
   "source": [
    "## Let's upper- and lower- bound the derivative with a solver\n",
    "\n",
    "class sigmoid(sympy.Function):\n",
    "    @classmethod\n",
    "    def eval(cls, x):\n",
    "        return (sympy.functions.elementary.hyperbolic.tanh(2 * x) + 1) / 2\n",
    "\n",
    "    def _eval_is_real(self):\n",
    "        return True\n",
    "\n",
    "smoothing_alpha = 0.01\n",
    "    \n",
    "full_poly = 1 - ((1 - smoothing_alpha)*sigmoid(logit) + smoothing_alpha/2)\n",
    "#print(full_poly)"
   ]
  },
  {
   "cell_type": "code",
   "execution_count": 160,
   "metadata": {},
   "outputs": [],
   "source": [
    "#solutions = sympy.solve(full_poly - 1, beta)\n",
    "#print(solutions)\n",
    "# too long even for small dimension"
   ]
  },
  {
   "cell_type": "code",
   "execution_count": null,
   "metadata": {},
   "outputs": [],
   "source": []
  }
 ],
 "metadata": {
  "kernelspec": {
   "display_name": "Python 3",
   "language": "python",
   "name": "python3"
  },
  "language_info": {
   "codemirror_mode": {
    "name": "ipython",
    "version": 3
   },
   "file_extension": ".py",
   "mimetype": "text/x-python",
   "name": "python",
   "nbconvert_exporter": "python",
   "pygments_lexer": "ipython3",
   "version": "3.7.6"
  }
 },
 "nbformat": 4,
 "nbformat_minor": 4
}
