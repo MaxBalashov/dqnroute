{
 "cells": [
  {
   "cell_type": "markdown",
   "metadata": {},
   "source": [
    "## Load everything"
   ]
  },
  {
   "cell_type": "code",
   "execution_count": 1,
   "metadata": {},
   "outputs": [],
   "source": [
    "import yaml\n",
    "import sys\n",
    "import traceback\n",
    "import logging\n",
    "import contextlib\n",
    "import numpy as np\n",
    "import pandas as pd\n",
    "import matplotlib.pyplot as plt\n",
    "import seaborn as sns\n",
    "import torch\n",
    "import torch.nn as nn\n",
    "import sympy\n",
    "\n",
    "%matplotlib inline\n",
    "\n",
    "from tqdm.notebook import tqdm\n",
    "from typing import *\n",
    "\n",
    "%load_ext autoreload\n",
    "%autoreload 2\n",
    "\n",
    "import os\n",
    "current_dir = os.getcwd()\n",
    "os.chdir(\"../src\")\n",
    "from dqnroute import *\n",
    "os.chdir(current_dir)\n",
    "\n",
    "logger = logging.getLogger(DQNROUTE_LOGGER)\n",
    "TORCH_MODELS_DIR = '../torch_models'\n",
    "LOG_DATA_DIR = '../logs/runs'\n",
    "np.set_printoptions(linewidth=500)\n",
    "\n",
    "_legend_txt_replace = {\n",
    "    'networks': {\n",
    "        'link_state': 'Shortest paths', 'simple_q': 'Q-routing', 'pred_q': 'PQ-routing',\n",
    "        'glob_dyn': 'Global-dynamic', 'dqn': 'DQN', 'dqn_oneout': 'DQN (1-out)',\n",
    "        'dqn_emb': 'DQN-LE', 'centralized_simple': 'Centralized control'\n",
    "    },\n",
    "    'conveyors': {\n",
    "        'link_state': 'Vyatkin-Black', 'simple_q': 'Q-routing', 'pred_q': 'PQ-routing',\n",
    "        'glob_dyn': 'Global-dynamic', 'dqn': 'DQN', 'dqn_oneout': 'DQN (1-out)',\n",
    "        'dqn_emb': 'DQN-LE', 'centralized_simple': 'BSR'\n",
    "    }\n",
    "}\n",
    "_targets = {'time': 'avg','energy': 'sum', 'collisions': 'sum'}\n",
    "_ylabels = {\n",
    "    'time': 'Mean delivery time', 'energy': 'Total energy consumption', 'collisions': 'Cargo collisions'\n",
    "}\n",
    "\n",
    "def print_sums(df):\n",
    "    types = set(df['router_type'])\n",
    "    for tp in types:\n",
    "        x = df.loc[df['router_type']==tp, 'count'].sum()\n",
    "        txt = _legend_txt_replace.get(tp, tp)\n",
    "        print('  {}: {}'.format(txt, x))\n",
    "\n",
    "def plot_data(data, meaning='time', figsize=(15,5), xlim=None, ylim=None,\n",
    "              xlabel='Simulation time', ylabel=None,\n",
    "              font_size=14, title=None, save_path=None,\n",
    "              draw_collisions=False, context='networks', **kwargs):\n",
    "    if 'time' not in data.columns:\n",
    "        datas = split_dataframe(data, preserved_cols=['router_type', 'seed'])\n",
    "        for tag, df in datas:\n",
    "            if tag == 'collisions' and not draw_collisions:\n",
    "                print('Number of collisions:')\n",
    "                print_sums(df)\n",
    "                continue\n",
    "                \n",
    "            xlim = kwargs.get(tag+'_xlim', xlim)\n",
    "            ylim = kwargs.get(tag+'_ylim', ylim)\n",
    "            save_path = kwargs.get(tag+'_save_path', save_path)\n",
    "            plot_data(df, meaning=tag, figsize=figsize, xlim=xlim, ylim=ylim,\n",
    "                      xlabel=xlabel, ylabel=ylabel, font_size=font_size,\n",
    "                      title=title, save_path=save_path, context='conveyors')\n",
    "        return \n",
    "    \n",
    "    target = _targets[meaning]\n",
    "    if ylabel is None:\n",
    "        ylabel = _ylabels[meaning]\n",
    "        \n",
    "    fig = plt.figure(figsize=figsize)\n",
    "    ax = sns.lineplot(x='time', y=target, hue='router_type', data=data,\n",
    "                      err_kws={'alpha': 0.1})\n",
    "    \n",
    "    handles, labels = ax.get_legend_handles_labels()\n",
    "    new_labels = list(map(lambda l: _legend_txt_replace[context].get(l, l), labels[1:]))\n",
    "    ax.legend(handles=handles[1:], labels=new_labels, fontsize=font_size)\n",
    "    \n",
    "    ax.tick_params(axis='both', which='both', labelsize=int(font_size*0.75))\n",
    "        \n",
    "    if xlim is not None:\n",
    "        ax.set_xlim(xlim)\n",
    "    if ylim is not None:\n",
    "        ax.set_ylim(ylim)\n",
    "    if title is not None:\n",
    "        ax.set_title(title)\n",
    "    \n",
    "    ax.set_xlabel(xlabel, fontsize=font_size)\n",
    "    ax.set_ylabel(ylabel, fontsize=font_size)\n",
    "    \n",
    "    plt.show(fig)\n",
    "    \n",
    "    if save_path is not None:\n",
    "        fig.savefig('../img/' + save_path, bbox_inches='tight')\n",
    "\n",
    "def split_data(dct):\n",
    "    results = []\n",
    "    \n",
    "    def add_res(i, key, val):\n",
    "        while len(results) <= i:\n",
    "            results.append({})\n",
    "        results[i][key] = val\n",
    "    \n",
    "    for (key, vals) in dct.items():\n",
    "        for (i, val) in enumerate(vals):\n",
    "            add_res(i, key, val)\n",
    "    return tuple(results)\n",
    "    \n",
    "def combine_launch_data(launch_data):\n",
    "    dfs = []\n",
    "    for (job_id, data) in launch_data.items():\n",
    "        router_type, seed = un_job_id(job_id)\n",
    "        df = data.copy()\n",
    "        add_cols(df, router_type=router_type, seed=seed)\n",
    "        dfs.append(df)\n",
    "    return pd.concat(dfs, axis=0)\n",
    "\n",
    "class DummyTqdmFile(object):\n",
    "    \"\"\"Dummy file-like that will write to tqdm\"\"\"\n",
    "    file = None\n",
    "    def __init__(self, file):\n",
    "        self.file = file\n",
    "\n",
    "    def write(self, x):\n",
    "        # Avoid print() second call (useless \\n)\n",
    "        if len(x.rstrip()) > 0:\n",
    "            tqdm.write(x, file=self.file)\n",
    "\n",
    "    def flush(self):\n",
    "        return getattr(self.file, \"flush\", lambda: None)()\n",
    "\n",
    "@contextlib.contextmanager\n",
    "def std_out_err_redirect_tqdm():\n",
    "    orig_out_err = sys.stdout, sys.stderr\n",
    "    try:\n",
    "        sys.stdout, sys.stderr = map(DummyTqdmFile, orig_out_err)\n",
    "        yield orig_out_err[0]\n",
    "    # Relay exceptions\n",
    "    except Exception as exc:\n",
    "        raise exc\n",
    "    # Always restore sys.stdout/err if necessary\n",
    "    finally:\n",
    "        sys.stdout, sys.stderr = orig_out_err"
   ]
  },
  {
   "cell_type": "markdown",
   "metadata": {},
   "source": [
    "## Run simulation"
   ]
  },
  {
   "cell_type": "code",
   "execution_count": 10,
   "metadata": {},
   "outputs": [
    {
     "data": {
      "application/vnd.jupyter.widget-view+json": {
       "model_id": "50564f88cdd546be810e4e44cd7eafb6",
       "version_major": 2,
       "version_minor": 0
      },
      "text/plain": [
       "HBox(children=(FloatProgress(value=1.0, bar_style='info', description='dqn_emb-44', max=1.0, style=ProgressSty…"
      ]
     },
     "metadata": {},
     "output_type": "display_data"
    },
    {
     "name": "stdout",
     "output_type": "stream",
     "text": [
      "\n"
     ]
    }
   ],
   "source": [
    "def run_single(file: str, router_type: str, random_seed: int, **kwargs):\n",
    "    job_id = mk_job_id(router_type, random_seed)\n",
    "    with tqdm(desc=job_id) as bar:\n",
    "        queue = DummyProgressbarQueue(bar)\n",
    "        runner = ConveyorsRunner(run_params=file, router_type=router_type,\n",
    "                                 random_seed=random_seed, progress_queue=queue, **kwargs)\n",
    "        event_series = runner.run(**kwargs)\n",
    "    return event_series, runner\n",
    "\n",
    "#scenario, emb_dim, graph_size = '../launches/igor/acyclic_conveyor_energy_test.yaml', 10, 20\n",
    "scenario, emb_dim, graph_size = '../launches/igor/conveyor_cyclic_energy_test.yaml', 5, 8\n",
    "#scenario, emb_dim, graph_size = '../launches/igor/conveyor_cyclic2_energy_test.yaml', 5, 16\n",
    "#scenario, emb_dim, graph_size = '../launches/igor/tarau2010.yaml', 8, 27\n",
    "#scenario, emb_dim, graph_size = '../launches/igor/johnstone2010.yaml', 12, 54\n",
    "os.environ[\"IGOR_OVERRIDDEN_DQN_LOAD_FILENAME\"] = \\\n",
    "    f\"igor_trained_{emb_dim}_{graph_size}_{os.path.split(scenario)[1]}.bin\"\n",
    "\n",
    "# 'link_state', 'simple_q', 'dqn_emb'\n",
    "router_type='dqn_emb'\n",
    "#router_type='link_state'\n",
    "\n",
    "event_series, runner = run_single(file=scenario, router_type=router_type, progress_step=500,\n",
    "                                  ignore_saved=[True], random_seed=44)"
   ]
  },
  {
   "cell_type": "markdown",
   "metadata": {},
   "source": [
    "## Explore the graph and routers assigned to nodes"
   ]
  },
  {
   "cell_type": "code",
   "execution_count": 11,
   "metadata": {},
   "outputs": [
    {
     "name": "stdout",
     "output_type": "stream",
     "text": [
      "Graph size = 8\n",
      "conveyor 0: [(('sourcing_diverter', 0), 0)], length = 20\n",
      "conveyor 1: [(('junction', 3), 0), (('junction', 4), 20)], length = 40\n",
      "conveyor 2: [(('junction', 0), 0)], length = 20\n",
      "conveyor 3: [(('junction', 1), 0), (('diverter', 0), 20)], length = 40\n",
      "conveyor 4: [(('junction', 2), 0)], length = 20\n",
      "conveyor 5: [(('source', 0), 0)], length = 20\n"
     ]
    }
   ],
   "source": [
    "from router_graph import RouterGraph\n",
    "g = RouterGraph(runner.world)"
   ]
  },
  {
   "cell_type": "markdown",
   "metadata": {},
   "source": [
    "## Find the reachability matrix of the graph"
   ]
  },
  {
   "cell_type": "code",
   "execution_count": 12,
   "metadata": {},
   "outputs": [
    {
     "name": "stdout",
     "output_type": "stream",
     "text": [
      "11111111 # from ('source', 0)\n",
      "01111111 # from ('diverter', 0)\n",
      "01111111 # from ('junction', 0)\n",
      "01111111 # from ('junction', 1)\n",
      "01111111 # from ('junction', 2)\n",
      "01111111 # from ('junction', 3)\n",
      "01111111 # from ('junction', 4)\n",
      "00000001 # from ('sink', 0)\n"
     ]
    }
   ],
   "source": [
    "g.print_reachability_matrix()"
   ]
  },
  {
   "cell_type": "markdown",
   "metadata": {},
   "source": [
    "## Visualize graph"
   ]
  },
  {
   "cell_type": "code",
   "execution_count": 13,
   "metadata": {},
   "outputs": [
    {
     "data": {
      "image/png": "[encoded data removed]",
      "text/plain": [
       "<Figure size 1296x1296 with 1 Axes>"
      ]
     },
     "metadata": {
      "needs_background": "light"
     },
     "output_type": "display_data"
    }
   ],
   "source": [
    "gv_graph = g.to_graphviz()\n",
    "prefix = \"../img/tmp.\"\n",
    "gv_graph.write(prefix + \"gv\")\n",
    "for path in [prefix + \"png\", prefix + \"pdf\"]:\n",
    "    gv_graph.draw(path, prog=\"circo\", args=\"-Gdpi=300 -Gmargin=0 -Grankdir=LR\")\n",
    "fig, ax = plt.subplots(figsize=(18, 18))\n",
    "ax.get_yaxis().set_visible(False)\n",
    "ax.get_xaxis().set_visible(False)\n",
    "image = plt.imread(prefix + \"png\")\n",
    "plt.imshow(image);"
   ]
  },
  {
   "cell_type": "markdown",
   "metadata": {},
   "source": [
    "### Test routing from each source to each sink (with argmax choices)\n",
    "\n",
    "* Routers are different from graph nodes\n",
    "* At junctions, there are routers that do not have choice\n",
    "* Other routeres are at diverters and they have only two choices\n",
    "* During the real system operation, routeres behave stochastically"
   ]
  },
  {
   "cell_type": "code",
   "execution_count": 14,
   "metadata": {},
   "outputs": [
    {
     "name": "stdout",
     "output_type": "stream",
     "text": [
      "Testing delivery from ('source', 0) to ('sink', 0)...\n",
      "    in: ('source', 0)\n",
      "    in: ('junction', 4)\n",
      "    in: ('junction', 0)\n",
      "    in: ('junction', 1)\n",
      "    in: ('diverter', 0)\n",
      "        Q(('diverter', 0) -> ('junction', 2) | ('sink', 0)) = -73.8259\n",
      "        Q(('diverter', 0) -> ('sink', 0) | ('sink', 0)) = -59.9942\n",
      "    in: ('sink', 0)\n",
      "    OK\n"
     ]
    }
   ],
   "source": [
    "for source in g.sources:\n",
    "    for sink in g.sinks:\n",
    "        print(f\"Testing delivery from {source} to {sink}...\")\n",
    "        current_node = source\n",
    "        visited_nodes = set()\n",
    "        sink_embedding, _, _ = g.node_to_embeddings(sink, sink)\n",
    "        while True:\n",
    "            if current_node in visited_nodes:\n",
    "                print(\"    FAIL due to cycle\")\n",
    "                break\n",
    "            visited_nodes.add(current_node)\n",
    "            print(\"    in:\", current_node)\n",
    "            if current_node[0] == \"sink\":\n",
    "                print(\"    \", end=\"\")\n",
    "                print(\"OK\" if current_node == sink else \"FAIL due to wrong destination\")\n",
    "                break\n",
    "            elif current_node[0] in [\"source\", \"junction\"]:\n",
    "                out_nodes = g.get_out_nodes(current_node)\n",
    "                assert len(out_nodes) == 1\n",
    "                current_node = out_nodes[0]\n",
    "            elif current_node[0] == \"diverter\":\n",
    "                current_embedding, neighbors, neighbor_embeddings = g.node_to_embeddings(current_node, sink)\n",
    "                q_values = []\n",
    "                for neighbor, neighbor_embedding in zip(neighbors, neighbor_embeddings):\n",
    "                    with torch.no_grad():\n",
    "                        q = g.q_forward(current_embedding, sink_embedding, neighbor_embedding).item()\n",
    "                    print(f\"        Q({current_node} -> {neighbor} | {sink}) = {q:.4f}\")\n",
    "                    q_values += [q]\n",
    "                best_neighbor_index = np.argmax(np.array(q_values))\n",
    "                current_node = neighbors[best_neighbor_index]\n",
    "            else:\n",
    "                raise AssertionError()"
   ]
  },
  {
   "cell_type": "markdown",
   "metadata": {},
   "source": [
    "## Search of adversarial examples to maximize delivery cost w.r.t. input embeddings"
   ]
  },
  {
   "cell_type": "code",
   "execution_count": 19,
   "metadata": {},
   "outputs": [
    {
     "name": "stdout",
     "output_type": "stream",
     "text": [
      "Measuring robustness of delivery to ('sink', 0)...\n",
      "  Nodes from which ('sink', 0) is reachable: [('source', 0), ('diverter', 0), ('junction', 0), ('junction', 1), ('junction', 2), ('junction', 3), ('junction', 4), ('sink', 0)]\n",
      "  sink index = 7\n",
      "  parameters: [p0]\n",
      "      p0 = P(('diverter', 0) -> ('junction', 2))\n",
      "  1 - p0 = P(('diverter', 0) -> ('sink', 0))\n",
      "  bias: Matrix([[20], [20], [20], [20], [20], [20], [20], [0]])\n",
      "  Measuring robustness of delivery from ('source', 0) to ('sink', 0)...\n",
      "    Expected delivery cost from ('source', 0) = -(20*p0 + 100)/(p0 - 1)\n",
      ">> #run = 0, ║x1║ = 9.26204, ρ = 1.50000\n",
      "step   0: objective = 100.015226, ║Δx║ = 0.25939, ║x║ = 9.10072, param_values = {p0: 0.0001}\n",
      "step   5: objective = 100.034445, ║Δx║ = 0.32132, ║x║ = 9.07520, param_values = {p0: 0.0003}\n",
      "step  10: objective = 100.078021, ║Δx║ = 0.42920, ║x║ = 9.05208, param_values = {p0: 0.0006}\n",
      "step  15: objective = 100.180082, ║Δx║ = 0.55686, ║x║ = 9.03179, param_values = {p0: 0.0015}\n",
      "step  20: objective = 100.418346, ║Δx║ = 0.69349, ║x║ = 9.01422, param_values = {p0: 0.0035}\n",
      "step  25: objective = 100.915215, ║Δx║ = 0.83394, ║x║ = 8.99779, param_values = {p0: 0.0076}\n",
      "step  30: objective = 101.932097, ║Δx║ = 0.97561, ║x║ = 8.98275, param_values = {p0: 0.0158}\n",
      "step  35: objective = 104.173374, ║Δx║ = 1.11785, ║x║ = 8.97065, param_values = {p0: 0.0336}\n",
      "step  40: objective = 109.048167, ║Δx║ = 1.26151, ║x║ = 8.96118, param_values = {p0: 0.0701}\n",
      "step  45: objective = 119.618953, ║Δx║ = 1.40648, ║x║ = 8.95422, param_values = {p0: 0.1405}\n",
      "step  50: objective = 132.680169, ║Δx║ = 1.50000, ║x║ = 8.95614, param_values = {p0: 0.214}\n",
      "step  55: objective = 134.653564, ║Δx║ = 1.50000, ║x║ = 8.96937, param_values = {p0: 0.2241}\n",
      "step  60: objective = 136.850865, ║Δx║ = 1.50000, ║x║ = 8.98160, param_values = {p0: 0.2349}\n",
      "step  65: objective = 138.770706, ║Δx║ = 1.50000, ║x║ = 8.99298, param_values = {p0: 0.2442}\n",
      "step  70: objective = 140.429854, ║Δx║ = 1.50000, ║x║ = 9.00351, param_values = {p0: 0.252}\n",
      "step  75: objective = 141.850619, ║Δx║ = 1.50000, ║x║ = 9.01323, param_values = {p0: 0.2586}\n",
      "step  80: objective = 143.058079, ║Δx║ = 1.50000, ║x║ = 9.02219, param_values = {p0: 0.2641}\n",
      "step  85: objective = 144.077834, ║Δx║ = 1.50000, ║x║ = 9.03041, param_values = {p0: 0.2686}\n",
      "step  90: objective = 144.934718, ║Δx║ = 1.50000, ║x║ = 9.03796, param_values = {p0: 0.2724}\n",
      "step  95: objective = 145.651077, ║Δx║ = 1.50000, ║x║ = 9.04487, param_values = {p0: 0.2756}\n",
      "step  99: objective = 146.136487, ║Δx║ = 1.50000, ║x║ = 9.04996, param_values = {p0: 0.2777}\n",
      ">> #run = 1, ║x1║ = 9.26204, ρ = 1.50000\n",
      "step   0: objective = 100.067119, ║Δx║ = 1.44921, ║x║ = 9.12185, param_values = {p0: 0.0006}\n",
      "step   5: objective = 100.161791, ║Δx║ = 1.49450, ║x║ = 9.10275, param_values = {p0: 0.0013}\n",
      "step  10: objective = 100.344443, ║Δx║ = 1.50000, ║x║ = 9.08763, param_values = {p0: 0.0029}\n",
      "step  15: objective = 100.684092, ║Δx║ = 1.50000, ║x║ = 9.07571, param_values = {p0: 0.0057}\n",
      "step  20: objective = 101.271088, ║Δx║ = 1.50000, ║x║ = 9.06659, param_values = {p0: 0.0105}\n",
      "step  25: objective = 102.207747, ║Δx║ = 1.50000, ║x║ = 9.06000, param_values = {p0: 0.0181}\n",
      "step  30: objective = 103.589392, ║Δx║ = 1.50000, ║x║ = 9.05567, param_values = {p0: 0.029}\n",
      "step  35: objective = 105.480637, ║Δx║ = 1.50000, ║x║ = 9.05326, param_values = {p0: 0.0437}\n",
      "step  40: objective = 108.125272, ║Δx║ = 1.50000, ║x║ = 9.05245, param_values = {p0: 0.0634}\n",
      "step  45: objective = 111.091914, ║Δx║ = 1.50000, ║x║ = 9.05238, param_values = {p0: 0.0846}\n",
      "step  50: objective = 114.457904, ║Δx║ = 1.50000, ║x║ = 9.05341, param_values = {p0: 0.1075}\n",
      "step  55: objective = 118.097173, ║Δx║ = 1.50000, ║x║ = 9.05528, param_values = {p0: 0.131}\n",
      "step  60: objective = 121.878750, ║Δx║ = 1.50000, ║x║ = 9.05779, param_values = {p0: 0.1542}\n",
      "step  65: objective = 125.650839, ║Δx║ = 1.50000, ║x║ = 9.06073, param_values = {p0: 0.1761}\n",
      "step  70: objective = 129.294830, ║Δx║ = 1.50000, ║x║ = 9.06396, param_values = {p0: 0.1962}\n",
      "step  75: objective = 132.720571, ║Δx║ = 1.50000, ║x║ = 9.06734, param_values = {p0: 0.2143}\n",
      "step  80: objective = 135.862697, ║Δx║ = 1.50000, ║x║ = 9.07079, param_values = {p0: 0.2301}\n",
      "step  85: objective = 138.087020, ║Δx║ = 1.50000, ║x║ = 9.07397, param_values = {p0: 0.2409}\n",
      "step  90: objective = 140.020245, ║Δx║ = 1.50000, ║x║ = 9.07706, param_values = {p0: 0.2501}\n",
      "step  95: objective = 141.715426, ║Δx║ = 1.50000, ║x║ = 9.07999, param_values = {p0: 0.258}\n",
      "step  99: objective = 142.878393, ║Δx║ = 1.50000, ║x║ = 9.08227, param_values = {p0: 0.2633}\n"
     ]
    }
   ],
   "source": [
    "from adversarial import PGDAdversary\n",
    "from collections import OrderedDict\n",
    "from ml_util import Util\n",
    "\n",
    "adv = PGDAdversary(rho=1.5, steps=100, step_size=0.02, random_start=True, stop_loss=1e5, verbose=2,\n",
    "                   norm=\"scaled_l_2\", n_repeat=2, repeat_mode=\"min\")\n",
    "\n",
    "ACCOUNT_FOR_CONVEYOR_LENGTHS = True\n",
    "\n",
    "def get_markov_chain_solution(g: RouterGraph, sink: AgentId, reachable_nodes: List[AgentId],\n",
    "                              reachable_diverters: List[AgentId]):\n",
    "    reachable_nodes_to_indices = {node_key: i for i, node_key in enumerate(reachable_nodes)}\n",
    "    sink_index = reachable_nodes_to_indices[sink]\n",
    "    print(f\"  sink index = {sink_index}\")\n",
    "    \n",
    "    reachable_diverters_to_indices = {node_key: i for i, node_key in enumerate(reachable_diverters)}\n",
    "    \n",
    "    system_size = len(reachable_nodes)\n",
    "    matrix = [[0 for _ in range(system_size)] for _ in range(system_size)]\n",
    "    bias = [[0] for _ in range(system_size)]\n",
    "    \n",
    "    params = sympy.symbols([f\"p{i}\" for i in range(len(reachable_diverters))])\n",
    "    print(f\"  parameters: {params}\")\n",
    "\n",
    "    # fill the system of linear equations\n",
    "    for i in range(system_size):\n",
    "        node_key = reachable_nodes[i]\n",
    "        matrix[i][i] = 1\n",
    "        if i == sink_index:\n",
    "            # zero hitting time for the target sink\n",
    "            assert node_key[0] == \"sink\"\n",
    "        elif node_key[0] in [\"source\", \"junction\", \"diverter\"]:\n",
    "            next_node_keys = [node_key for node_key in g.get_out_nodes(node_key) if g.reachable[node_key, sink]]\n",
    "            if not ACCOUNT_FOR_CONVEYOR_LENGTHS:\n",
    "                bias[i][0] = 1\n",
    "            if len(next_node_keys) == 1:\n",
    "                # only one possible destination\n",
    "                # either sink, junction, or a diverter with only one option due to reachability shielding\n",
    "                next_node_key = next_node_keys[0]\n",
    "                matrix[i][reachable_nodes_to_indices[next_node_key]] = -1\n",
    "                if ACCOUNT_FOR_CONVEYOR_LENGTHS:\n",
    "                    bias[i][0] = g.get_edge_length(node_key, next_node_key)\n",
    "            elif len(next_node_key) == 2:\n",
    "                # two possible destinations\n",
    "                k1, k2 = next_node_keys[0], next_node_keys[1]\n",
    "                p = params[reachable_diverters_to_indices[node_key]]\n",
    "                print(f\"      {p} = P({node_key} -> {k1})\" )\n",
    "                print(f\"  1 - {p} = P({node_key} -> {k2})\" )\n",
    "                if k1 != sink:\n",
    "                    matrix[i][reachable_nodes_to_indices[k1]] = -p\n",
    "                if k2 != sink:\n",
    "                    matrix[i][reachable_nodes_to_indices[k2]] = p - 1\n",
    "                if ACCOUNT_FOR_CONVEYOR_LENGTHS:\n",
    "                    bias[i][0] = g.get_edge_length(node_key, k1) * p + g.get_edge_length(node_key, k2) * (1 - p)\n",
    "            else:\n",
    "                assert False\n",
    "        else:\n",
    "            assert False\n",
    "            \n",
    "    matrix = sympy.Matrix(matrix)\n",
    "    #print(f\"  matrix: {matrix}\")\n",
    "    bias = sympy.Matrix(bias)\n",
    "    print(f\"  bias: {bias}\")\n",
    "    solution = matrix.inv() @ bias\n",
    "    #print(f\"  solution: {solution}\")\n",
    "    return params, solution\n",
    "\n",
    "smoothing_alpha = 1e-6\n",
    "\n",
    "def smooth(p, alpha: float):\n",
    "    # smoothing\n",
    "    # to get rid of 0 and 1 probabilities that lead to saturated gradients\n",
    "    return p * (1 - alpha) + alpha / 2\n",
    "\n",
    "for sink in g.sinks:\n",
    "    print(f\"Measuring robustness of delivery to {sink}...\")\n",
    "    # reindex nodes so that only the nodes from which the sink is reachable are considered\n",
    "    # (otherwise, the solution will need to include infinite hitting times)\n",
    "    reachable_nodes = [node_key for node_key in g.node_keys if g.reachable[node_key, sink]]\n",
    "    print(f\"  Nodes from which {sink} is reachable: {reachable_nodes}\")\n",
    "    \n",
    "    reachable_diverters = [node_key for node_key in reachable_nodes if node_key[0] == \"diverter\"]\n",
    "    reachable_sources = [node_key for node_key in reachable_nodes if node_key[0] == \"source\"]\n",
    "    \n",
    "    params, solution = get_markov_chain_solution(g, sink, reachable_nodes, reachable_diverters)\n",
    "    \n",
    "    sink_embedding, _, _ = g.node_to_embeddings(sink, sink)\n",
    "    embedding_size = sink_embedding.flatten().shape[0]\n",
    "    # gather all embeddings that we need to compute the objective\n",
    "    stored_embeddings = OrderedDict({sink: sink_embedding})\n",
    "    for diverter in reachable_diverters:\n",
    "        diverter_embedding, neighbors, neighbor_embeddings = g.node_to_embeddings(diverter, sink)\n",
    "        stored_embeddings[diverter] = diverter_embedding\n",
    "        for neighbor, neighbor_embedding in zip(neighbors, neighbor_embeddings):\n",
    "            stored_embeddings[neighbor] = neighbor_embedding\n",
    "    \n",
    "    def pack_embeddings(embedding_dict: OrderedDict) -> torch.tensor:\n",
    "        return torch.cat(tuple(embedding_dict.values())).flatten()\n",
    "\n",
    "    def unpack_embeddings(embedding_vector: torch.tensor) -> OrderedDict:\n",
    "        embedding_dict = OrderedDict()\n",
    "        for i, (key, value) in enumerate(stored_embeddings.items()):\n",
    "            embedding_dict[key] = embedding_vector[i*embedding_size:(i + 1)*embedding_size]\\\n",
    "                .reshape(1, embedding_size)\n",
    "        return embedding_dict\n",
    "    \n",
    "    initial_vector = pack_embeddings(stored_embeddings)\n",
    "    \n",
    "    for source in reachable_sources:\n",
    "        print(f\"  Measuring robustness of delivery from {source} to {sink}...\")\n",
    "        source_index = g.node_keys_to_indices[source]\n",
    "        symbolic_objective = sympy.simplify(solution[source_index])\n",
    "        print(f\"    Expected delivery cost from {source} = {symbolic_objective}\")\n",
    "        objective = sympy.lambdify(params, symbolic_objective)        \n",
    "\n",
    "        def get_gradient(x: torch.tensor) -> Tuple[torch.tensor, float, str]:\n",
    "            \"\"\"\n",
    "            :param x: parameter vector (the one expected to converge to an adversarial example)\n",
    "            :param smoothing_alpha: smooth probabilities with this small positive number\n",
    "            Returns a tuple (gradient pointing to the direction of the adversarial attack,\n",
    "                                the corresponding loss function value,\n",
    "                                auxiliary information for printing during optimization).\"\"\"\n",
    "            #assert not torch.isnan(x).any()\n",
    "            x = Util.optimizable_clone(x.flatten())\n",
    "            embedding_dict = unpack_embeddings(x)\n",
    "            objective_inputs = []\n",
    "            perturbed_sink_embeddings = embedding_dict[sink].repeat(2, 1)\n",
    "            # source embedding does not influence the decision, use default value:\n",
    "            for diverter in reachable_diverters:\n",
    "                perturbed_diverter_embeddings = embedding_dict[diverter].repeat(2, 1)\n",
    "                _, current_neighbors, _ = g.node_to_embeddings(diverter, sink)\n",
    "                perturbed_neighbor_embeddings = torch.cat([embedding_dict[current_neighbor]\n",
    "                                                           for current_neighbor in current_neighbors])\n",
    "                q_values = g.q_forward(perturbed_diverter_embeddings, perturbed_sink_embeddings,\n",
    "                                       perturbed_neighbor_embeddings).flatten()\n",
    "                #assert not torch.isnan(q_values).any()\n",
    "                propabilities = (q_values / MIN_TEMP).softmax(dim=0)\n",
    "                first_p = smooth(propabilities[0], smoothing_alpha)\n",
    "                objective_inputs += [first_p]\n",
    "            objective_value = objective(*objective_inputs)\n",
    "            #print(objective_value.detach().cpu().numpy())\n",
    "            objective_value.backward()\n",
    "            aux_info = [np.round(x.detach().cpu().item(), 4) for x in objective_inputs]\n",
    "            aux_info = {param: value for param, value in zip(params, aux_info)}\n",
    "            aux_info = f\"param_values = {aux_info}\"\n",
    "            return x.grad, objective_value.item(), aux_info\n",
    "        \n",
    "        adv.perturb(initial_vector, get_gradient)"
   ]
  },
  {
   "cell_type": "code",
   "execution_count": 20,
   "metadata": {},
   "outputs": [],
   "source": [
    "filename = \"saved-net-backup.bin\"\n",
    "torch.save(g.q_network.ff_net, filename)\n",
    "g.q_network.ff_net = torch.load(filename)"
   ]
  },
  {
   "cell_type": "markdown",
   "metadata": {},
   "source": [
    "## Examining delivery cost change after optimization steps"
   ]
  },
  {
   "cell_type": "code",
   "execution_count": 21,
   "metadata": {},
   "outputs": [
    {
     "name": "stdout",
     "output_type": "stream",
     "text": [
      "Measuring robustness of delivery to ('sink', 0)...\n",
      "  nodes from which ('sink', 0) is reachable: [('source', 0), ('diverter', 0), ('junction', 0), ('junction', 1), ('junction', 2), ('junction', 3), ('junction', 4), ('sink', 0)]\n",
      "  sink index = 7\n",
      "  parameters: [p0]\n",
      "      p0 = P(('diverter', 0) -> ('junction', 2))\n",
      "  1 - p0 = P(('diverter', 0) -> ('sink', 0))\n",
      "  bias: Matrix([[20], [20], [20], [20], [20], [20], [20], [0]])\n",
      "  Measuring robustness of delivery from ('source', 0) to ('sink', 0)...\n",
      "    Expected delivery cost from ('source', 0) = -(20*p0 + 100)/(p0 - 1)\n",
      "    Delivery cost from ('source', 0) to ('sink', 0) when making optimization step with current=('source', 0), neighbor=('junction', 4):\n"
     ]
    },
    {
     "data": {
      "image/png": "[encoded data removed]",
      "text/plain": [
       "<Figure size 1008x144 with 1 Axes>"
      ]
     },
     "metadata": {
      "needs_background": "light"
     },
     "output_type": "display_data"
    },
    {
     "name": "stdout",
     "output_type": "stream",
     "text": [
      "    Delivery cost from ('source', 0) to ('sink', 0) when making optimization step with current=('diverter', 0), neighbor=('junction', 2):\n"
     ]
    },
    {
     "data": {
      "image/png": "[encoded data removed]",
      "text/plain": [
       "<Figure size 1008x144 with 1 Axes>"
      ]
     },
     "metadata": {
      "needs_background": "light"
     },
     "output_type": "display_data"
    },
    {
     "name": "stdout",
     "output_type": "stream",
     "text": [
      "    Delivery cost from ('source', 0) to ('sink', 0) when making optimization step with current=('diverter', 0), neighbor=('sink', 0):\n"
     ]
    },
    {
     "data": {
      "image/png": "[encoded data removed]",
      "text/plain": [
       "<Figure size 1008x144 with 1 Axes>"
      ]
     },
     "metadata": {
      "needs_background": "light"
     },
     "output_type": "display_data"
    }
   ],
   "source": [
    "for sink in g.sinks:\n",
    "    print(f\"Measuring robustness of delivery to {sink}...\")\n",
    "    # reindex nodes so that only the nodes from which the sink is reachable are considered\n",
    "    # (otherwise, the solution will need to include infinite hitting times)\n",
    "    reachable_nodes = [node_key for node_key in g.node_keys if g.reachable[node_key, sink]]\n",
    "    print(f\"  nodes from which {sink} is reachable: {reachable_nodes}\")\n",
    "    \n",
    "    reachable_diverters = [node_key for node_key in reachable_nodes if node_key[0] == \"diverter\"]\n",
    "    reachable_sources = [node_key for node_key in reachable_nodes if node_key[0] == \"source\"]\n",
    "    \n",
    "    params, solution = get_markov_chain_solution(g, sink, reachable_nodes, reachable_diverters)\n",
    "    \n",
    "    sink_embedding, _, _ = g.node_to_embeddings(sink, sink)\n",
    "    embedding_size = sink_embedding.flatten().shape[0]\n",
    "    sink_embeddings = sink_embedding.repeat(2, 1)\n",
    "    \n",
    "    for source in reachable_sources:\n",
    "        print(f\"  Measuring robustness of delivery from {source} to {sink}...\")\n",
    "        source_index = g.node_keys_to_indices[source]\n",
    "        symbolic_objective = sympy.simplify(solution[source_index])\n",
    "        print(f\"    Expected delivery cost from {source} = {symbolic_objective}\")\n",
    "        objective = sympy.lambdify(params, symbolic_objective)\n",
    "\n",
    "        # stage 1: linear change of parameters\n",
    "        filename = \"saved-net.bin\"\n",
    "        torch.save(g.q_network.ff_net, filename)\n",
    "        Util.set_param_requires_grad(g.q_network.ff_net, True)\n",
    "        \n",
    "        def get_objective():\n",
    "            objective_inputs = []\n",
    "            for diverter in reachable_diverters:\n",
    "                diverter_embedding, current_neighbors, neighbor_embeddings = g.node_to_embeddings(diverter, sink)\n",
    "                diverter_embeddings = diverter_embedding.repeat(2, 1)\n",
    "                neighbor_embeddings = torch.cat(neighbor_embeddings, dim=0)\n",
    "                q_values = g.q_forward(diverter_embeddings, sink_embeddings, neighbor_embeddings).flatten()\n",
    "                propabilities = (q_values / MIN_TEMP).softmax(dim=0)\n",
    "                first_p = propabilities[0]\n",
    "                first_p = smooth(first_p, smoothing_alpha)\n",
    "                objective_inputs += [first_p]\n",
    "            return objective(*objective_inputs).item()\n",
    "        \n",
    "        # TODO also include junctions?? but they do not have corresponding routers!\n",
    "        for node_key in g.sources + g.diverters:\n",
    "            curent_embedding, neighbors, neighbor_embeddings = g.node_to_embeddings(node_key, sink)\n",
    "            \n",
    "            for neighbor_key, neighbor_embedding in zip(neighbors, neighbor_embeddings):\n",
    "                with torch.no_grad():\n",
    "                    reference_q = g.q_forward(curent_embedding, sink_embedding, neighbor_embedding).flatten().item()\n",
    "                actual_qs = reference_q + np.linspace(-50, 50, 351)\n",
    "                \n",
    "                opt = torch.optim.SGD(g.q_network.parameters(), lr=0.01)\n",
    "                opt.zero_grad()\n",
    "                predicted_q = g.q_forward(curent_embedding, sink_embedding, neighbor_embedding).flatten()\n",
    "                predicted_q.backward()\n",
    "                \n",
    "                def gd_step(predicted_q, actual_q, lr: float):\n",
    "                    for p in g.q_network.parameters():\n",
    "                        if p.grad is not None:\n",
    "                            mse_gradient = 2 * (predicted_q - actual_q) * p.grad \n",
    "                            p -= lr * mse_gradient\n",
    "                #opt = torch.optim.RMSprop(g.q_network.ff_net.parameters(), lr=0.001)\n",
    "                objective_values = []\n",
    "                lr = 0.001\n",
    "                with torch.no_grad():\n",
    "                    for actual_q in actual_qs:\n",
    "                        gd_step(predicted_q, actual_q, lr)\n",
    "                        objective_values += [get_objective()]\n",
    "                        gd_step(predicted_q, actual_q, -lr)\n",
    "                objective_values = torch.tensor(objective_values)\n",
    "                print(f\"    Delivery cost from {source} to {sink} when making optimization step with current={node_key},\"\n",
    "                          f\" neighbor={neighbor_key}:\")\n",
    "                if torch.isinf(objective_values).any():\n",
    "                    print(\"      INFINITIES PRESENT IN COMPUTED VALUES\")\n",
    "                    inf_indices = torch.isinf(objective_values)\n",
    "                    if sum(inf_indices) == objective_values.numel():\n",
    "                        continue\n",
    "                    regular_values = objective_values[~inf_indices]\n",
    "                    neginf_indices = (objective_values < 0) & inf_indices\n",
    "                    posinf_indices = (objective_values > 0) & inf_indices\n",
    "                    objective_values[neginf_indices] = min(regular_values) - 5\n",
    "                    objective_values[posinf_indices] = max(regular_values) + 5\n",
    "                plt.figure(figsize=(14, 2))\n",
    "                plt.yscale(\"log\")\n",
    "                plt.plot(actual_qs, objective_values)\n",
    "                gap = max(objective_values) - min(objective_values)\n",
    "                y_delta = 0 if gap > 0 else 5\n",
    "                plt.vlines(reference_q, min(objective_values) - y_delta, max(objective_values) + y_delta)\n",
    "                plt.hlines(objective_values[len(objective_values) // 2], min(actual_qs), max(actual_qs))\n",
    "                plt.show()"
   ]
  },
  {
   "cell_type": "markdown",
   "metadata": {},
   "source": [
    "## How to verify this? Taking softmax is the same as taking sigmoid of the difference of Q values!"
   ]
  },
  {
   "cell_type": "code",
   "execution_count": 23,
   "metadata": {},
   "outputs": [
    {
     "name": "stdout",
     "output_type": "stream",
     "text": [
      "tensor(0.0013, dtype=torch.float64) tensor(0.9987, dtype=torch.float64)\n",
      "tensor(0.0013, dtype=torch.float64) tensor(0.9987, dtype=torch.float64)\n",
      "tensor(-4.4409e-16, dtype=torch.float64) tensor(4.4409e-16, dtype=torch.float64)\n"
     ]
    },
    {
     "data": {
      "image/png": "[encoded data removed]",
      "text/plain": [
       "<Figure size 720x504 with 3 Axes>"
      ]
     },
     "metadata": {
      "needs_background": "light"
     },
     "output_type": "display_data"
    }
   ],
   "source": [
    "get_range = lambda: torch.tensor(np.linspace(-150, -50, 100))\n",
    "a = get_range()\n",
    "b = get_range()\n",
    "a = a.view((a.numel(), 1)).expand((a.numel(), a.numel())).unsqueeze(2)\n",
    "b = b.view((1, b.numel())).expand((b.numel(), b.numel())).unsqueeze(2)\n",
    "#print(a)\n",
    "#print(b)\n",
    "grid = torch.cat((a, b), dim=2)\n",
    "#temp = MIN_TEMP\n",
    "temp = MIN_TEMP * 10\n",
    "f = lambda x: (x / temp).softmax(dim=2)[:, :, 0]\n",
    "g = lambda x: ((x[:, :, 0] - x[:, :, 1]) / temp).sigmoid()\n",
    "h = lambda x: f(x) - g(x)\n",
    "funcs = [f, g, h]\n",
    "fig, axes = plt.subplots(1, len(funcs), figsize=(10, 7))\n",
    "for func, ax in zip(funcs, axes):\n",
    "    result = func(grid)\n",
    "    ax.imshow(result)\n",
    "    print(result.min(), result.max())"
   ]
  },
  {
   "cell_type": "markdown",
   "metadata": {},
   "source": [
    "## Singular values of row matrices"
   ]
  },
  {
   "cell_type": "code",
   "execution_count": 19,
   "metadata": {},
   "outputs": [
    {
     "name": "stdout",
     "output_type": "stream",
     "text": [
      "*** n = 1 ***\n",
      "matrix: Matrix([[a**2 - x]])\n",
      "determinant: a**2 - x\n",
      "eigenvalues: [a**2]\n",
      "*** n = 2 ***\n",
      "matrix: Matrix([[a**2 - x, a*b], [a*b, b**2 - x]])\n",
      "determinant: x*(-a**2 - b**2 + x)\n",
      "eigenvalues: [0, a**2 + b**2]\n",
      "*** n = 3 ***\n",
      "matrix: Matrix([[a**2 - x, a*b, a*c], [a*b, b**2 - x, b*c], [a*c, b*c, c**2 - x]])\n",
      "determinant: x**2*(a**2 + b**2 + c**2 - x)\n",
      "eigenvalues: [0, a**2 + b**2 + c**2]\n",
      "*** n = 4 ***\n",
      "matrix: Matrix([[a**2 - x, a*b, a*c, a*d], [a*b, b**2 - x, b*c, b*d], [a*c, b*c, c**2 - x, c*d], [a*d, b*d, c*d, d**2 - x]])\n",
      "determinant: x**3*(-a**2 - b**2 - c**2 - d**2 + x)\n",
      "eigenvalues: [0, a**2 + b**2 + c**2 + d**2]\n",
      "*** n = 5 ***\n",
      "matrix: Matrix([[a**2 - x, a*b, a*c, a*d, a*e], [a*b, b**2 - x, b*c, b*d, b*e], [a*c, b*c, c**2 - x, c*d, c*e], [a*d, b*d, c*d, d**2 - x, d*e], [a*e, b*e, c*e, d*e, e**2 - x]])\n",
      "determinant: x**4*(a**2 + b**2 + c**2 + d**2 + e**2 - x)\n",
      "eigenvalues: [0, a**2 + b**2 + c**2 + d**2 + e**2]\n"
     ]
    }
   ],
   "source": [
    "for n in range(1, 6):\n",
    "    print(f\"*** n = {n} ***\")\n",
    "    params = sympy.symbols([f\"{chr(97 + i)}\" for i in range(n)] + [\"x\"])\n",
    "    m = sympy.Matrix([[params[i] for i in range(n)]])\n",
    "    #print(m)\n",
    "    m = m.T @ m\n",
    "    #print(m)\n",
    "    m = m - sympy.diag(*[params[-1]] * n)\n",
    "    print(\"matrix:\", m)\n",
    "    det = m.det().simplify()\n",
    "    print(\"determinant:\", det)\n",
    "    print(\"eigenvalues:\", sympy.solve(det, params[-1]))"
   ]
  },
  {
   "cell_type": "markdown",
   "metadata": {},
   "source": [
    "## Singular values of two-row matrices"
   ]
  },
  {
   "cell_type": "code",
   "execution_count": null,
   "metadata": {},
   "outputs": [],
   "source": [
    "for n in range(1, 6):\n",
    "    print(f\"*** n = {n} ***\")\n",
    "    first_row = sympy.symbols([f\"{chr(97 + i)}1\" for i in range(n)])\n",
    "    second_row = sympy.symbols([f\"{chr(97 + i)}2\" for i in range(n)])\n",
    "    params = first_row + second_row + sympy.symbols([\"x\"])\n",
    "    m = sympy.Matrix([first_row, second_row])\n",
    "    #print(m)\n",
    "    m = m.T @ m\n",
    "    #print(m)\n",
    "    m = m - sympy.diag(*[params[-1]] * n)\n",
    "    print(\"matrix:\", m)\n",
    "    det = m.det().simplify()\n",
    "    print(\"determinant:\", det)\n",
    "    print(\"eigenvalues:\", sympy.solve(det, params[-1]))"
   ]
  },
  {
   "cell_type": "code",
   "execution_count": null,
   "metadata": {},
   "outputs": [],
   "source": []
  }
 ],
 "metadata": {
  "kernelspec": {
   "display_name": "Python 3",
   "language": "python",
   "name": "python3"
  },
  "language_info": {
   "codemirror_mode": {
    "name": "ipython",
    "version": 3
   },
   "file_extension": ".py",
   "mimetype": "text/x-python",
   "name": "python",
   "nbconvert_exporter": "python",
   "pygments_lexer": "ipython3",
   "version": "3.7.6"
  }
 },
 "nbformat": 4,
 "nbformat_minor": 4
}
