{
 "cells": [
  {
   "cell_type": "markdown",
   "metadata": {},
   "source": [
    "## Load everything"
   ]
  },
  {
   "cell_type": "code",
   "execution_count": 1,
   "metadata": {},
   "outputs": [],
   "source": [
    "import yaml\n",
    "import sys\n",
    "import traceback\n",
    "import logging\n",
    "import contextlib\n",
    "import numpy as np\n",
    "import pandas as pd\n",
    "import matplotlib.pyplot as plt\n",
    "import seaborn as sns\n",
    "import torch\n",
    "import torch.nn as nn\n",
    "\n",
    "%matplotlib inline\n",
    "\n",
    "from tqdm.notebook import tqdm\n",
    "from typing import *\n",
    "\n",
    "%load_ext autoreload\n",
    "%autoreload 2\n",
    "\n",
    "import os\n",
    "current_dir = os.getcwd()\n",
    "os.chdir(\"../src\")\n",
    "from dqnroute import *\n",
    "os.chdir(current_dir)\n",
    "\n",
    "logger = logging.getLogger(DQNROUTE_LOGGER)\n",
    "TORCH_MODELS_DIR = '../torch_models'\n",
    "LOG_DATA_DIR = '../logs/runs'\n",
    "np.set_printoptions(linewidth=500)\n",
    "\n",
    "_legend_txt_replace = {\n",
    "    'networks': {\n",
    "        'link_state': 'Shortest paths',\n",
    "        'simple_q': 'Q-routing',\n",
    "        'pred_q': 'PQ-routing',\n",
    "        'glob_dyn': 'Global-dynamic',\n",
    "        'dqn': 'DQN',\n",
    "        'dqn_oneout': 'DQN (1-out)',\n",
    "        'dqn_emb': 'DQN-LE',\n",
    "        'centralized_simple': 'Centralized control'\n",
    "    },\n",
    "    'conveyors': {\n",
    "        'link_state': 'Vyatkin-Black',\n",
    "        'simple_q': 'Q-routing',\n",
    "        'pred_q': 'PQ-routing',\n",
    "        'glob_dyn': 'Global-dynamic',\n",
    "        'dqn': 'DQN',\n",
    "        'dqn_oneout': 'DQN (1-out)',\n",
    "        'dqn_emb': 'DQN-LE',\n",
    "        'centralized_simple': 'BSR'\n",
    "    }\n",
    "}\n",
    "\n",
    "_targets = {'time': 'avg','energy': 'sum', 'collisions': 'sum'}\n",
    "\n",
    "_ylabels = {\n",
    "    'time': 'Mean delivery time',\n",
    "    'energy': 'Total energy consumption',\n",
    "    'collisions': 'Cargo collisions'\n",
    "}\n",
    "\n",
    "def print_sums(df):\n",
    "    types = set(df['router_type'])\n",
    "    for tp in types:\n",
    "        x = df.loc[df['router_type']==tp, 'count'].sum()\n",
    "        txt = _legend_txt_replace.get(tp, tp)\n",
    "        print('  {}: {}'.format(txt, x))\n",
    "\n",
    "def plot_data(data, meaning='time', figsize=(15,5), xlim=None, ylim=None,\n",
    "              xlabel='Simulation time', ylabel=None,\n",
    "              font_size=14, title=None, save_path=None,\n",
    "              draw_collisions=False, context='networks', **kwargs):\n",
    "    if 'time' not in data.columns:\n",
    "        datas = split_dataframe(data, preserved_cols=['router_type', 'seed'])\n",
    "        for tag, df in datas:\n",
    "            if tag == 'collisions' and not draw_collisions:\n",
    "                print('Number of collisions:')\n",
    "                print_sums(df)\n",
    "                continue\n",
    "                \n",
    "            xlim = kwargs.get(tag+'_xlim', xlim)\n",
    "            ylim = kwargs.get(tag+'_ylim', ylim)\n",
    "            save_path = kwargs.get(tag+'_save_path', save_path)\n",
    "            plot_data(df, meaning=tag, figsize=figsize, xlim=xlim, ylim=ylim,\n",
    "                      xlabel=xlabel, ylabel=ylabel, font_size=font_size,\n",
    "                      title=title, save_path=save_path, context='conveyors')\n",
    "        return \n",
    "    \n",
    "    target = _targets[meaning]\n",
    "    if ylabel is None:\n",
    "        ylabel = _ylabels[meaning]\n",
    "        \n",
    "    fig = plt.figure(figsize=figsize)\n",
    "    ax = sns.lineplot(x='time', y=target, hue='router_type', data=data,\n",
    "                      err_kws={'alpha': 0.1})\n",
    "    \n",
    "    handles, labels = ax.get_legend_handles_labels()\n",
    "    new_labels = list(map(lambda l: _legend_txt_replace[context].get(l, l), labels[1:]))\n",
    "    ax.legend(handles=handles[1:], labels=new_labels, fontsize=font_size)\n",
    "    \n",
    "    ax.tick_params(axis='both', which='both', labelsize=int(font_size*0.75))\n",
    "        \n",
    "    if xlim is not None:\n",
    "        ax.set_xlim(xlim)\n",
    "    if ylim is not None:\n",
    "        ax.set_ylim(ylim)\n",
    "    if title is not None:\n",
    "        ax.set_title(title)\n",
    "    \n",
    "    ax.set_xlabel(xlabel, fontsize=font_size)\n",
    "    ax.set_ylabel(ylabel, fontsize=font_size)\n",
    "    \n",
    "    plt.show(fig)\n",
    "    \n",
    "    if save_path is not None:\n",
    "        fig.savefig('../img/' + save_path, bbox_inches='tight')\n",
    "\n",
    "def split_data(dct):\n",
    "    results = []\n",
    "    \n",
    "    def add_res(i, key, val):\n",
    "        while len(results) <= i:\n",
    "            results.append({})\n",
    "        results[i][key] = val\n",
    "    \n",
    "    for (key, vals) in dct.items():\n",
    "        for (i, val) in enumerate(vals):\n",
    "            add_res(i, key, val)\n",
    "    return tuple(results)\n",
    "    \n",
    "def combine_launch_data(launch_data):\n",
    "    dfs = []\n",
    "    for (job_id, data) in launch_data.items():\n",
    "        router_type, seed = un_job_id(job_id)\n",
    "        df = data.copy()\n",
    "        add_cols(df, router_type=router_type, seed=seed)\n",
    "        dfs.append(df)\n",
    "    return pd.concat(dfs, axis=0)\n",
    "\n",
    "class DummyTqdmFile(object):\n",
    "    \"\"\"Dummy file-like that will write to tqdm\"\"\"\n",
    "    file = None\n",
    "    def __init__(self, file):\n",
    "        self.file = file\n",
    "\n",
    "    def write(self, x):\n",
    "        # Avoid print() second call (useless \\n)\n",
    "        if len(x.rstrip()) > 0:\n",
    "            tqdm.write(x, file=self.file)\n",
    "\n",
    "    def flush(self):\n",
    "        return getattr(self.file, \"flush\", lambda: None)()\n",
    "\n",
    "@contextlib.contextmanager\n",
    "def std_out_err_redirect_tqdm():\n",
    "    orig_out_err = sys.stdout, sys.stderr\n",
    "    try:\n",
    "        sys.stdout, sys.stderr = map(DummyTqdmFile, orig_out_err)\n",
    "        yield orig_out_err[0]\n",
    "    # Relay exceptions\n",
    "    except Exception as exc:\n",
    "        raise exc\n",
    "    # Always restore sys.stdout/err if necessary\n",
    "    finally:\n",
    "        sys.stdout, sys.stderr = orig_out_err"
   ]
  },
  {
   "cell_type": "markdown",
   "metadata": {},
   "source": [
    "## Run simulation"
   ]
  },
  {
   "cell_type": "code",
   "execution_count": 2,
   "metadata": {},
   "outputs": [
    {
     "data": {
      "application/vnd.jupyter.widget-view+json": {
       "model_id": "4c8690dc00a543348d83d9276d5f0992",
       "version_major": 2,
       "version_minor": 0
      },
      "text/plain": [
       "HBox(children=(FloatProgress(value=1.0, bar_style='info', description='dqn_emb-44', max=1.0, style=ProgressSty…"
      ]
     },
     "metadata": {},
     "output_type": "display_data"
    },
    {
     "name": "stdout",
     "output_type": "stream",
     "text": [
      "[ World      : 20159.4988286304s ] collision detected: (#1002; 10m) with (#999; 9.901m) on conv 3\n",
      "[ World      : 22350.016751268955s ] collision detected: (#1110; 20m) with (#1107; 19.737m) on conv 1\n",
      "[ World      : 22521.728204489784s ] collision detected: (#1119; 10m) with (#1116; 9.819m) on conv 3\n",
      "[ World      : 24086.355736040416s ] collision detected: (#1196; 20m) with (#1193; 19.66m) on conv 1\n",
      "\n"
     ]
    }
   ],
   "source": [
    "def run_single(file: str, router_type: str, random_seed: int, **kwargs):\n",
    "    job_id = mk_job_id(router_type, random_seed)\n",
    "    with tqdm(desc=job_id) as bar:\n",
    "        queue = DummyProgressbarQueue(bar)\n",
    "        runner = ConveyorsRunner(run_params=file, router_type=router_type,\n",
    "                                 random_seed=random_seed, progress_queue=queue, **kwargs)\n",
    "        event_series = runner.run(**kwargs)\n",
    "    return event_series, runner\n",
    "\n",
    "#scenario = '../launches/conveyor_energy_test.yaml'\n",
    "#scenario = '../launches/conveyor_cyclic_energy_test.yaml'\n",
    "scenario = '../launches/conveyor_cyclic2_energy_test.yaml'\n",
    "\n",
    "event_series, runner = run_single(file=scenario, router_type='dqn_emb', progress_step=500,\n",
    "                                  ignore_saved=[True], random_seed=44)"
   ]
  },
  {
   "cell_type": "markdown",
   "metadata": {},
   "source": [
    "## Explore the graph and routers assigned to nodes"
   ]
  },
  {
   "cell_type": "code",
   "execution_count": 3,
   "metadata": {},
   "outputs": [
    {
     "name": "stdout",
     "output_type": "stream",
     "text": [
      "[<class 'dqnroute.simulation.conveyors.ConveyorsEnvironment'>, <class 'dqnroute.simulation.common.MultiAgentEnv'>, <class 'dqnroute.utils.HasLog'>, <class 'dqnroute.utils.HasTime'>]\n",
      "node ('sink', 0) RouterSink\n",
      "    router ('router', 12) DQNRouterEmbConveyor\n",
      "node ('sink', 1) RouterSink\n",
      "    router ('router', 13) DQNRouterEmbConveyor\n",
      "node ('source', 0) RouterSource\n",
      "    router ('router', 14) DQNRouterEmbConveyor\n",
      "node ('source', 1) RouterSource\n",
      "    router ('router', 15) DQNRouterEmbConveyor\n",
      "node ('conveyor', 0) SimpleRouterConveyor\n",
      "    router ('router', 10) DQNRouterEmbConveyor\n",
      "node ('conveyor', 1) SimpleRouterConveyor\n",
      "    router ('router', 6) DQNRouterEmbConveyor\n",
      "    router ('router', 7) DQNRouterEmbConveyor\n",
      "node ('conveyor', 2) SimpleRouterConveyor\n",
      "    router ('router', 3) DQNRouterEmbConveyor\n",
      "node ('conveyor', 3) SimpleRouterConveyor\n",
      "    router ('router', 4) DQNRouterEmbConveyor\n",
      "    router ('router', 11) DQNRouterEmbConveyor\n",
      "node ('conveyor', 4) SimpleRouterConveyor\n",
      "    router ('router', 5) DQNRouterEmbConveyor\n",
      "node ('conveyor', 5) SimpleRouterConveyor\n",
      "node ('conveyor', 6) SimpleRouterConveyor\n",
      "node ('conveyor', 7) SimpleRouterConveyor\n",
      "    router ('router', 8) DQNRouterEmbConveyor\n",
      "node ('conveyor', 8) SimpleRouterConveyor\n",
      "    router ('router', 9) DQNRouterEmbConveyor\n",
      "node ('conveyor', 9) SimpleRouterConveyor\n",
      "node ('conveyor', 10) SimpleRouterConveyor\n",
      "node ('diverter', 0) RouterDiverter\n",
      "    router ('router', 0) DQNRouterEmbConveyor\n",
      "node ('diverter', 1) RouterDiverter\n",
      "    router ('router', 1) DQNRouterEmbConveyor\n",
      "node ('diverter', 2) RouterDiverter\n",
      "    router ('router', 2) DQNRouterEmbConveyor\n",
      "conveyor 0: [(('sourcing_diverter', 0), 0), (('junction', 7), 10)], length = 20\n",
      "conveyor 1: [(('junction', 3), 0), (('junction', 4), 20), (('diverter', 2), 30)], length = 40\n",
      "conveyor 2: [(('junction', 0), 0), (('diverter', 1), 10)], length = 20\n",
      "conveyor 3: [(('junction', 1), 0), (('junction', 8), 10), (('diverter', 0), 20)], length = 40\n",
      "conveyor 4: [(('junction', 2), 0)], length = 20\n",
      "conveyor 5: [(('source', 0), 0)], length = 20\n",
      "conveyor 6: [(('sourcing_diverter', 1), 0)], length = 20\n",
      "conveyor 7: [(('junction', 5), 0)], length = 20\n",
      "conveyor 8: [(('junction', 6), 0)], length = 30\n",
      "conveyor 9: [(('source', 1), 0)], length = 10\n",
      "conveyor 10: [(('sourcing_diverter', 2), 0)], length = 20\n",
      "{('sourcing_diverter', 0): 10, ('junction', 7): 10, ('junction', 3): 20, ('junction', 4): 10, ('diverter', 2): 10, ('junction', 0): 10, ('diverter', 1): 10, ('junction', 1): 10, ('junction', 8): 10, ('diverter', 0): 20, ('junction', 2): 20, ('source', 0): 20, ('sourcing_diverter', 1): 20, ('junction', 5): 20, ('junction', 6): 30, ('source', 1): 10, ('sourcing_diverter', 2): 20}\n",
      "{('junction', 7): {0, 8}, ('sink', 0): {0}, ('junction', 3): {1, 4}, ('junction', 4): {1, 5}, ('diverter', 2): {1}, ('junction', 0): {1, 2}, ('diverter', 1): {2}, ('junction', 1): {2, 3}, ('junction', 8): {9, 3}, ('diverter', 0): {3}, ('junction', 2): {3, 4}, ('junction', 5): {6, 7}, ('junction', 6): {8, 7}, ('sink', 1): {10}}\n"
     ]
    }
   ],
   "source": [
    "from router_graph import RouterGraph\n",
    "g = RouterGraph(runner)"
   ]
  },
  {
   "cell_type": "markdown",
   "metadata": {},
   "source": [
    "## Find the reachability matrix of the graph"
   ]
  },
  {
   "cell_type": "code",
   "execution_count": 4,
   "metadata": {},
   "outputs": [
    {
     "name": "stdout",
     "output_type": "stream",
     "text": [
      "1011111111111111 # from ('source', 0)\n",
      "0111111111111111 # from ('source', 1)\n",
      "0011111111111111 # from ('diverter', 0)\n",
      "0011111111111111 # from ('diverter', 1)\n",
      "0011111111111111 # from ('diverter', 2)\n",
      "0011111111111111 # from ('junction', 0)\n",
      "0011111111111111 # from ('junction', 1)\n",
      "0011111111111111 # from ('junction', 2)\n",
      "0011111111111111 # from ('junction', 3)\n",
      "0011111111111111 # from ('junction', 4)\n",
      "0000000000111010 # from ('junction', 5)\n",
      "0000000000011010 # from ('junction', 6)\n",
      "0000000000001010 # from ('junction', 7)\n",
      "0011111111111111 # from ('junction', 8)\n",
      "0000000000000010 # from ('sink', 0)\n",
      "0000000000000001 # from ('sink', 1)\n"
     ]
    }
   ],
   "source": [
    "g.print_reachability_matrix()"
   ]
  },
  {
   "cell_type": "markdown",
   "metadata": {},
   "source": [
    "## Visualize graph"
   ]
  },
  {
   "cell_type": "code",
   "execution_count": 5,
   "metadata": {},
   "outputs": [
    {
     "data": {
      "image/png": "[encoded data removed]",
      "text/plain": [
       "<Figure size 1116x1116 with 1 Axes>"
      ]
     },
     "metadata": {
      "needs_background": "light"
     },
     "output_type": "display_data"
    }
   ],
   "source": [
    "import pygraphviz as pgv\n",
    "\n",
    "gv_graph = pgv.AGraph(directed=True)\n",
    "\n",
    "def get_gv_node_name(node_key: AgentId):\n",
    "    return f\"{node_key[0]}\\n{node_key[1]}\"\n",
    "\n",
    "for i, node_key in g.indices_to_node_keys.items():\n",
    "    gv_graph.add_node(i)\n",
    "    n = gv_graph.get_node(i)\n",
    "    n.attr[\"label\"] = get_gv_node_name(node_key)\n",
    "    n.attr[\"shape\"] = \"box\"\n",
    "    n.attr[\"style\"] = \"filled\"\n",
    "    n.attr[\"fixedsize\"] = \"true\"\n",
    "    if node_key[0] == \"source\":\n",
    "        n.attr[\"fillcolor\"] = \"#8888FF\"\n",
    "        n.attr[\"width\"] = \"0.6\"\n",
    "    elif node_key[0] == \"sink\":\n",
    "        n.attr[\"fillcolor\"] = \"#88FF88\"\n",
    "        n.attr[\"width\"] = \"0.5\"\n",
    "    elif node_key[0] == \"diverter\":\n",
    "        n.attr[\"fillcolor\"] = \"#FF9999\"\n",
    "        n.attr[\"width\"] = \"0.7\"\n",
    "    else:\n",
    "        n.attr[\"fillcolor\"] = \"#EEEEEE\"\n",
    "        n.attr[\"width\"] = \"0.7\"\n",
    "\n",
    "for from_node in g.node_keys:\n",
    "    i1 = g.node_keys_to_indices[from_node]\n",
    "    for to_node in g.get_out_nodes(from_node):\n",
    "        i2 = g.node_keys_to_indices[to_node]\n",
    "        gv_graph.add_edge(i1, i2)\n",
    "        e = gv_graph.get_edge(i1, i2)\n",
    "        e.attr[\"label\"] = g.get_edge_length(from_node, to_node)\n",
    "\n",
    "prefix = \"../img/tmp.\"\n",
    "gv_graph.write(prefix + \"gv\")\n",
    "for path in [prefix + \"png\", prefix + \"pdf\"]:\n",
    "    gv_graph.draw(path, prog=\"dot\", args=\"-Gdpi=300 -Gmargin=0 -Grankdir=LR\")\n",
    "fig, ax = plt.subplots(figsize=(15.5, 15.5))\n",
    "ax.get_yaxis().set_visible(False)\n",
    "ax.get_xaxis().set_visible(False)\n",
    "image = plt.imread(prefix + \"png\")\n",
    "plt.imshow(image);"
   ]
  },
  {
   "cell_type": "markdown",
   "metadata": {},
   "source": [
    "### Test routing from each source to each sink\n",
    "\n",
    "* Routers are different from graph nodes\n",
    "* At junctions, there are routers that do not have choice\n",
    "* Other routeres are at diverters and they have only two choices\n",
    "* During the real system operation, routeres behave stochastically"
   ]
  },
  {
   "cell_type": "code",
   "execution_count": 6,
   "metadata": {},
   "outputs": [
    {
     "name": "stdout",
     "output_type": "stream",
     "text": [
      "Testing delivery from ('source', 0) to ('sink', 0)...\n",
      "    in: ('source', 0)\n",
      "    in: ('junction', 4)\n",
      "    in: ('diverter', 2)\n",
      "        Q(('diverter', 2) -> ('junction', 0) | ('sink', 0)) = -131.0239\n",
      "    in: ('junction', 0)\n",
      "    in: ('diverter', 1)\n",
      "        Q(('diverter', 1) -> ('junction', 1) | ('sink', 0)) = -51.6405\n",
      "        Q(('diverter', 1) -> ('junction', 5) | ('sink', 0)) = -76.3726\n",
      "    in: ('junction', 1)\n",
      "    in: ('junction', 8)\n",
      "    in: ('diverter', 0)\n",
      "        Q(('diverter', 0) -> ('junction', 2) | ('sink', 0)) = -61.9724\n",
      "        Q(('diverter', 0) -> ('junction', 7) | ('sink', 0)) = -57.3776\n",
      "    in: ('junction', 7)\n",
      "    in: ('sink', 0)\n",
      "    OK\n",
      "Testing delivery from ('source', 0) to ('sink', 1)...\n",
      "    in: ('source', 0)\n",
      "    in: ('junction', 4)\n",
      "    in: ('diverter', 2)\n",
      "        Q(('diverter', 2) -> ('junction', 0) | ('sink', 1)) = -115.4884\n",
      "        Q(('diverter', 2) -> ('sink', 1) | ('sink', 1)) = -10.3571\n",
      "    in: ('sink', 1)\n",
      "    OK\n",
      "Testing delivery from ('source', 1) to ('sink', 0)...\n",
      "    in: ('source', 1)\n",
      "    in: ('junction', 8)\n",
      "    in: ('diverter', 0)\n",
      "        Q(('diverter', 0) -> ('junction', 2) | ('sink', 0)) = -61.9724\n",
      "        Q(('diverter', 0) -> ('junction', 7) | ('sink', 0)) = -57.3776\n",
      "    in: ('junction', 7)\n",
      "    in: ('sink', 0)\n",
      "    OK\n",
      "Testing delivery from ('source', 1) to ('sink', 1)...\n",
      "    in: ('source', 1)\n",
      "    in: ('junction', 8)\n",
      "    in: ('diverter', 0)\n",
      "        Q(('diverter', 0) -> ('junction', 2) | ('sink', 1)) = 11.3137\n",
      "    in: ('junction', 2)\n",
      "    in: ('junction', 3)\n",
      "    in: ('junction', 4)\n",
      "    in: ('diverter', 2)\n",
      "        Q(('diverter', 2) -> ('junction', 0) | ('sink', 1)) = -115.4884\n",
      "        Q(('diverter', 2) -> ('sink', 1) | ('sink', 1)) = -10.3571\n",
      "    in: ('sink', 1)\n",
      "    OK\n"
     ]
    }
   ],
   "source": [
    "for source in g.sources:\n",
    "    for sink in g.sinks:\n",
    "        print(f\"Testing delivery from {source} to {sink}...\")\n",
    "        current_node = source\n",
    "        visited_nodes = set()\n",
    "        sink_embedding, _, _ = g.node_to_embeddings(sink, sink)\n",
    "        while True:\n",
    "            if current_node in visited_nodes:\n",
    "                print(\"    FAIL due to cycle\")\n",
    "                break\n",
    "            visited_nodes.add(current_node)\n",
    "            print(\"    in:\", current_node)\n",
    "            if current_node[0] == \"sink\":\n",
    "                print(\"    \", end=\"\")\n",
    "                print(\"OK\" if current_node == sink else \"FAIL due to wrong destination\")\n",
    "                break\n",
    "            elif current_node[0] in [\"source\", \"junction\"]:\n",
    "                out_nodes = g.get_out_nodes(current_node)\n",
    "                assert len(out_nodes) == 1\n",
    "                current_node = out_nodes[0]\n",
    "            elif current_node[0] == \"diverter\":\n",
    "                current_embedding, neighbors, neighbor_embeddings = g.node_to_embeddings(current_node, sink)\n",
    "                q_values = []\n",
    "                for neighbor, neighbor_embedding in zip(neighbors, neighbor_embeddings):\n",
    "                    with torch.no_grad():\n",
    "                        q = g.q_forward(current_embedding, sink_embedding, neighbor_embedding).item()\n",
    "                    print(f\"        Q({current_node} -> {neighbor} | {sink}) = {q:.4f}\")\n",
    "                    q_values += [q]\n",
    "                best_neighbor_index = np.argmax(np.array(q_values))\n",
    "                current_node = neighbors[best_neighbor_index]\n",
    "            else:\n",
    "                raise AssertionError()"
   ]
  },
  {
   "cell_type": "markdown",
   "metadata": {},
   "source": [
    "## Search of adversarial examples to maximize delivery cost w.r.t. input embeddings"
   ]
  },
  {
   "cell_type": "code",
   "execution_count": 8,
   "metadata": {},
   "outputs": [
    {
     "name": "stdout",
     "output_type": "stream",
     "text": [
      "Measuring robustness of delivery to ('sink', 0)...\n",
      "  nodes from which ('sink', 0) is reachable: [('source', 0), ('source', 1), ('diverter', 0), ('diverter', 1), ('diverter', 2), ('junction', 0), ('junction', 1), ('junction', 2), ('junction', 3), ('junction', 4), ('junction', 5), ('junction', 6), ('junction', 7), ('junction', 8), ('sink', 0)]\n",
      "  sink index = 14\n",
      "  parameters: [p0, p1, p2]\n",
      "      p0 = P(('diverter', 0) -> ('junction', 2))\n",
      "  1 - p0 = P(('diverter', 0) -> ('junction', 7))\n",
      "      p1 = P(('diverter', 1) -> ('junction', 1))\n",
      "  1 - p1 = P(('diverter', 1) -> ('junction', 5))\n",
      "  bias: Matrix([[20], [10], [10*p0 + 10], [20 - 10*p1], [10], [10], [10], [20], [20], [10], [20], [30], [10], [10], [0]])\n",
      "  Measuring robustness of delivery from ('source', 0) to ('sink', 0)...\n",
      "    expected delivery cost from ('source', 0) = (-20*p0*p1 + 30*p1 - 130)/(p0*p1 - 1)\n",
      ">> #run = 0, ║x1║ = 3.69396, ρ = 1.50000\n",
      "step   0: objective = 103.881294, ║Δx║ = 0.15469, ║x║ = 3.68789, param_values = {p0: 0.0303, p1: 0.9951, p2: 0.5}\n",
      "step   5: objective = 2505.162109, ║Δx║ = 0.20584, ║x║ = 3.68745, param_values = {p0: 0.9564, p1: 0.9958, p2: 0.5}\n",
      "step  10: objective = 16681.750000, ║Δx║ = 0.32232, ║x║ = 3.69295, param_values = {p0: 0.9964, p1: 0.9964, p2: 0.5}\n",
      "step  15: objective = 19560.289062, ║Δx║ = 0.45085, ║x║ = 3.70498, param_values = {p0: 0.9969, p1: 0.9969, p2: 0.5}\n",
      "step  20: objective = 22774.416016, ║Δx║ = 0.56695, ║x║ = 3.74862, param_values = {p0: 0.9974, p1: 0.9974, p2: 0.5}\n",
      "step  25: objective = 26516.765625, ║Δx║ = 0.68017, ║x║ = 3.81538, param_values = {p0: 0.9977, p1: 0.9977, p2: 0.5}\n",
      "step  30: objective = 30875.695312, ║Δx║ = 0.78935, ║x║ = 3.88649, param_values = {p0: 0.9981, p1: 0.9981, p2: 0.5}\n",
      "step  35: objective = 35949.398438, ║Δx║ = 0.90914, ║x║ = 3.96196, param_values = {p0: 0.9983, p1: 0.9983, p2: 0.5}\n",
      "step  40: objective = 41860.425781, ║Δx║ = 1.03507, ║x║ = 4.04268, param_values = {p0: 0.9986, p1: 0.9986, p2: 0.5}\n",
      "step  45: objective = 48741.187500, ║Δx║ = 1.16638, ║x║ = 4.12726, param_values = {p0: 0.9988, p1: 0.9988, p2: 0.5}\n",
      "step  50: objective = 56756.292969, ║Δx║ = 1.30115, ║x║ = 4.21496, param_values = {p0: 0.9989, p1: 0.9989, p2: 0.5}\n",
      "step  55: objective = 66086.070312, ║Δx║ = 1.43640, ║x║ = 4.30560, param_values = {p0: 0.9991, p1: 0.9991, p2: 0.5}\n",
      "step  60: objective = 76954.710938, ║Δx║ = 1.50000, ║x║ = 4.35515, param_values = {p0: 0.9992, p1: 0.9992, p2: 0.5}\n",
      "step  65: objective = 89608.914062, ║Δx║ = 1.50000, ║x║ = 4.36332, param_values = {p0: 0.9993, p1: 0.9993, p2: 0.5}\n",
      "step  69: objective = 101215.015625, ║Δx║ = 1.50000, ║x║ = 4.36894, param_values = {p0: 0.9994, p1: 0.9994, p2: 0.5}\n",
      ">> #run = 1, ║x1║ = 3.69396, ρ = 1.50000\n",
      "step   0: objective = 100.912560, ║Δx║ = 0.65515, ║x║ = 3.84181, param_values = {p0: 0.0064, p1: 0.9951, p2: 0.5}\n",
      "step   5: objective = 345.121490, ║Δx║ = 0.65539, ║x║ = 3.83928, param_values = {p0: 0.6738, p1: 0.9958, p2: 0.5}\n",
      "step  10: objective = 15744.750000, ║Δx║ = 0.69119, ║x║ = 3.84256, param_values = {p0: 0.9959, p1: 0.9964, p2: 0.5}\n",
      "step  15: objective = 19559.527344, ║Δx║ = 0.75471, ║x║ = 3.85138, param_values = {p0: 0.9969, p1: 0.9969, p2: 0.5}\n",
      "step  20: objective = 22774.416016, ║Δx║ = 0.83284, ║x║ = 3.88687, param_values = {p0: 0.9974, p1: 0.9974, p2: 0.5}\n",
      "step  25: objective = 26516.765625, ║Δx║ = 0.92255, ║x║ = 3.95504, param_values = {p0: 0.9977, p1: 0.9977, p2: 0.5}\n",
      "step  30: objective = 30875.695312, ║Δx║ = 1.01256, ║x║ = 4.02928, param_values = {p0: 0.9981, p1: 0.9981, p2: 0.5}\n",
      "step  35: objective = 35949.398438, ║Δx║ = 1.11642, ║x║ = 4.10829, param_values = {p0: 0.9983, p1: 0.9983, p2: 0.5}\n",
      "step  40: objective = 41860.425781, ║Δx║ = 1.23024, ║x║ = 4.19090, param_values = {p0: 0.9986, p1: 0.9986, p2: 0.5}\n",
      "step  45: objective = 48741.187500, ║Δx║ = 1.35091, ║x║ = 4.27485, param_values = {p0: 0.9988, p1: 0.9988, p2: 0.5}\n",
      "step  50: objective = 56756.292969, ║Δx║ = 1.47687, ║x║ = 4.36181, param_values = {p0: 0.9989, p1: 0.9989, p2: 0.5}\n",
      "step  55: objective = 66086.070312, ║Δx║ = 1.50000, ║x║ = 4.38633, param_values = {p0: 0.9991, p1: 0.9991, p2: 0.5}\n",
      "step  60: objective = 76954.710938, ║Δx║ = 1.50000, ║x║ = 4.39304, param_values = {p0: 0.9992, p1: 0.9992, p2: 0.5}\n",
      "step  65: objective = 89608.914062, ║Δx║ = 1.50000, ║x║ = 4.39837, param_values = {p0: 0.9993, p1: 0.9993, p2: 0.5}\n",
      "step  69: objective = 101215.015625, ║Δx║ = 1.50000, ║x║ = 4.40193, param_values = {p0: 0.9994, p1: 0.9994, p2: 0.5}\n",
      "  Measuring robustness of delivery from ('source', 1) to ('sink', 0)...\n",
      "    expected delivery cost from ('source', 1) = 10*(7*p0*p1 - 15*p0 - 4)/(p0*p1 - 1)\n",
      ">> #run = 0, ║x1║ = 3.69396, ρ = 1.50000\n",
      "step   0: objective = 640.080200, ║Δx║ = 0.82083, ║x║ = 3.98922, param_values = {p0: 0.8366, p1: 0.9951, p2: 0.5}\n",
      "step   5: objective = 13973.183594, ║Δx║ = 0.85925, ║x║ = 3.99268, param_values = {p0: 0.9956, p1: 0.9958, p2: 0.5}\n",
      "step  10: objective = 16799.945312, ║Δx║ = 0.92413, ║x║ = 4.00184, param_values = {p0: 0.9964, p1: 0.9964, p2: 0.5}\n",
      "step  15: objective = 19560.531250, ║Δx║ = 0.99981, ║x║ = 4.03676, param_values = {p0: 0.9969, p1: 0.9969, p2: 0.5}\n",
      "step  20: objective = 22774.298828, ║Δx║ = 1.08900, ║x║ = 4.09625, param_values = {p0: 0.9974, p1: 0.9974, p2: 0.5}\n",
      "step  25: objective = 26516.664062, ║Δx║ = 1.18271, ║x║ = 4.16749, param_values = {p0: 0.9977, p1: 0.9977, p2: 0.5}\n",
      "step  30: objective = 30875.605469, ║Δx║ = 1.28456, ║x║ = 4.24239, param_values = {p0: 0.9981, p1: 0.9981, p2: 0.5}\n",
      "step  35: objective = 35949.324219, ║Δx║ = 1.39593, ║x║ = 4.32277, param_values = {p0: 0.9983, p1: 0.9983, p2: 0.5}\n",
      "step  40: objective = 41860.359375, ║Δx║ = 1.50000, ║x║ = 4.39917, param_values = {p0: 0.9986, p1: 0.9986, p2: 0.5}\n",
      "step  45: objective = 48741.128906, ║Δx║ = 1.50000, ║x║ = 4.40733, param_values = {p0: 0.9988, p1: 0.9988, p2: 0.5}\n",
      "step  50: objective = 56756.246094, ║Δx║ = 1.50000, ║x║ = 4.41208, param_values = {p0: 0.9989, p1: 0.9989, p2: 0.5}\n",
      "step  55: objective = 66086.023438, ║Δx║ = 1.50000, ║x║ = 4.41541, param_values = {p0: 0.9991, p1: 0.9991, p2: 0.5}\n",
      "step  60: objective = 76954.679688, ║Δx║ = 1.50000, ║x║ = 4.41761, param_values = {p0: 0.9992, p1: 0.9992, p2: 0.5}\n",
      "step  65: objective = 89608.875000, ║Δx║ = 1.50000, ║x║ = 4.41931, param_values = {p0: 0.9993, p1: 0.9993, p2: 0.5}\n",
      "step  69: objective = 101214.984375, ║Δx║ = 1.50000, ║x║ = 4.42057, param_values = {p0: 0.9994, p1: 0.9994, p2: 0.5}\n",
      ">> #run = 1, ║x1║ = 3.69396, ρ = 1.50000\n",
      "step   0: objective = 46.714996, ║Δx║ = 0.10527, ║x║ = 3.70207, param_values = {p0: 0.0529, p1: 0.9951, p2: 0.5}\n",
      "step   5: objective = 4215.539551, ║Δx║ = 0.18025, ║x║ = 3.70202, param_values = {p0: 0.976, p1: 0.9958, p2: 0.5}\n",
      "step  10: objective = 16745.732422, ║Δx║ = 0.31062, ║x║ = 3.70824, param_values = {p0: 0.9964, p1: 0.9964, p2: 0.5}\n",
      "step  15: objective = 19560.531250, ║Δx║ = 0.45022, ║x║ = 3.72159, param_values = {p0: 0.9969, p1: 0.9969, p2: 0.5}\n",
      "step  20: objective = 22774.298828, ║Δx║ = 0.55954, ║x║ = 3.77967, param_values = {p0: 0.9974, p1: 0.9974, p2: 0.5}\n",
      "step  25: objective = 26516.664062, ║Δx║ = 0.66473, ║x║ = 3.84686, param_values = {p0: 0.9977, p1: 0.9977, p2: 0.5}\n",
      "step  30: objective = 30875.605469, ║Δx║ = 0.78316, ║x║ = 3.91841, param_values = {p0: 0.9981, p1: 0.9981, p2: 0.5}\n",
      "step  35: objective = 35949.324219, ║Δx║ = 0.90886, ║x║ = 3.99454, param_values = {p0: 0.9983, p1: 0.9983, p2: 0.5}\n",
      "step  40: objective = 41860.359375, ║Δx║ = 1.03701, ║x║ = 4.07647, param_values = {p0: 0.9986, p1: 0.9986, p2: 0.5}\n",
      "step  45: objective = 48741.128906, ║Δx║ = 1.17005, ║x║ = 4.16269, param_values = {p0: 0.9988, p1: 0.9988, p2: 0.5}\n",
      "step  50: objective = 56756.246094, ║Δx║ = 1.30670, ║x║ = 4.25293, param_values = {p0: 0.9989, p1: 0.9989, p2: 0.5}\n",
      "step  55: objective = 66086.023438, ║Δx║ = 1.44458, ║x║ = 4.34457, param_values = {p0: 0.9991, p1: 0.9991, p2: 0.5}\n",
      "step  60: objective = 76954.679688, ║Δx║ = 1.50000, ║x║ = 4.38715, param_values = {p0: 0.9992, p1: 0.9992, p2: 0.5}\n",
      "step  65: objective = 89608.875000, ║Δx║ = 1.50000, ║x║ = 4.39227, param_values = {p0: 0.9993, p1: 0.9993, p2: 0.5}\n",
      "step  69: objective = 101214.984375, ║Δx║ = 1.50000, ║x║ = 4.39565, param_values = {p0: 0.9994, p1: 0.9994, p2: 0.5}\n",
      "Measuring robustness of delivery to ('sink', 1)...\n",
      "  nodes from which ('sink', 1) is reachable: [('source', 0), ('source', 1), ('diverter', 0), ('diverter', 1), ('diverter', 2), ('junction', 0), ('junction', 1), ('junction', 2), ('junction', 3), ('junction', 4), ('junction', 8), ('sink', 1)]\n",
      "  sink index = 11\n",
      "  parameters: [p0, p1, p2]\n",
      "      p2 = P(('diverter', 2) -> ('junction', 0))\n",
      "  1 - p2 = P(('diverter', 2) -> ('sink', 1))\n",
      "  bias: Matrix([[20], [10], [20], [10], [20 - 10*p2], [10], [10], [20], [20], [10], [10], [0]])\n",
      "  Measuring robustness of delivery from ('source', 0) to ('sink', 1)...\n",
      "    expected delivery cost from ('source', 0) = -(70*p2 + 50)/(p2 - 1)\n",
      ">> #run = 0, ║x1║ = 3.15990, ρ = 1.50000\n",
      "step   0: objective = 50.584839, ║Δx║ = 1.24487, ║x║ = 3.69435, param_values = {p0: 0.5, p1: 0.5, p2: 0.0049}\n",
      "zero gradient, stopping\n",
      ">> #run = 1, ║x1║ = 3.15990, ρ = 1.50000\n",
      "step   0: objective = 50.584839, ║Δx║ = 1.15071, ║x║ = 3.37336, param_values = {p0: 0.5, p1: 0.5, p2: 0.0049}\n",
      "zero gradient, stopping\n",
      "  Measuring robustness of delivery from ('source', 1) to ('sink', 1)...\n",
      "    expected delivery cost from ('source', 1) = -(10*p2 + 110)/(p2 - 1)\n",
      ">> #run = 0, ║x1║ = 3.15990, ρ = 1.50000\n",
      "step   0: objective = 110.584839, ║Δx║ = 0.11512, ║x║ = 3.13456, param_values = {p0: 0.5, p1: 0.5, p2: 0.0049}\n",
      "zero gradient, stopping\n",
      ">> #run = 1, ║x1║ = 3.15990, ρ = 1.50000\n",
      "step   0: objective = 110.584839, ║Δx║ = 0.09278, ║x║ = 3.12824, param_values = {p0: 0.5, p1: 0.5, p2: 0.0049}\n",
      "zero gradient, stopping\n"
     ]
    }
   ],
   "source": [
    "import sympy\n",
    "from adversarial import PGDAdversary\n",
    "from collections import OrderedDict\n",
    "from ml_util import Util\n",
    "\n",
    "adv = PGDAdversary(rho=1.5, steps=100, step_size=0.02, random_start=True, stop_loss=1e5, verbose=2,\n",
    "                   norm=\"scaled_l_2\", n_repeat=2, repeat_mode=\"min\")\n",
    "\n",
    "ACCOUNT_FOR_CONVEYOR_LENGTHS = True\n",
    "\n",
    "def get_markov_chain_solution(g: RouterGraph, sink: AgentId, reachable_nodes: List[AgentId],\n",
    "                              reachable_diverters: List[AgentId]):\n",
    "    reachable_nodes_to_indices = {node_key: i for i, node_key in enumerate(reachable_nodes)}\n",
    "    sink_index = reachable_nodes_to_indices[sink]\n",
    "    print(f\"  sink index = {sink_index}\")\n",
    "    \n",
    "    reachable_diverters_to_indices = {node_key: i for i, node_key in enumerate(reachable_diverters)}\n",
    "    \n",
    "    system_size = len(reachable_nodes)\n",
    "    matrix = [[0 for _ in range(system_size)] for _ in range(system_size)]\n",
    "    bias = [[0] for _ in range(system_size)]\n",
    "    \n",
    "    params = sympy.symbols([f\"p{i}\" for i in range(len(reachable_diverters))])\n",
    "    print(f\"  parameters: {params}\")\n",
    "\n",
    "    # fill the system of linear equations\n",
    "    for i in range(system_size):\n",
    "        node_key = reachable_nodes[i]\n",
    "        matrix[i][i] = 1\n",
    "        if i == sink_index:\n",
    "            # zero hitting time for the target sink\n",
    "            assert node_key[0] == \"sink\"\n",
    "        elif node_key[0] in [\"source\", \"junction\", \"diverter\"]:\n",
    "            next_node_keys = [node_key for node_key in g.get_out_nodes(node_key) if g.reachable[node_key, sink]]\n",
    "            if not ACCOUNT_FOR_CONVEYOR_LENGTHS:\n",
    "                bias[i][0] = 1\n",
    "            if len(next_node_keys) == 1:\n",
    "                # only one possible destination\n",
    "                # either sink, junction, or a diverter with only one option due to reachability shielding\n",
    "                next_node_key = next_node_keys[0]\n",
    "                matrix[i][reachable_nodes_to_indices[next_node_key]] = -1\n",
    "                if ACCOUNT_FOR_CONVEYOR_LENGTHS:\n",
    "                    bias[i][0] = g.get_edge_length(node_key, next_node_key)\n",
    "            elif len(next_node_key) == 2:\n",
    "                # two possible destinations\n",
    "                k1, k2 = next_node_keys[0], next_node_keys[1]\n",
    "                p = params[reachable_diverters_to_indices[node_key]]\n",
    "                print(f\"      {p} = P({node_key} -> {k1})\" )\n",
    "                print(f\"  1 - {p} = P({node_key} -> {k2})\" )\n",
    "                if k1 != sink:\n",
    "                    matrix[i][reachable_nodes_to_indices[k1]] = -p\n",
    "                if k2 != sink:\n",
    "                    matrix[i][reachable_nodes_to_indices[k2]] = p - 1\n",
    "                if ACCOUNT_FOR_CONVEYOR_LENGTHS:\n",
    "                    bias[i][0] = g.get_edge_length(node_key, k1) * p + g.get_edge_length(node_key, k2) * (1 - p)\n",
    "            else:\n",
    "                assert False\n",
    "        else:\n",
    "            assert False\n",
    "            \n",
    "    matrix = sympy.Matrix(matrix)\n",
    "    #print(f\"  matrix: {matrix}\")\n",
    "    bias = sympy.Matrix(bias)\n",
    "    print(f\"  bias: {bias}\")\n",
    "    solution = matrix.inv() @ bias\n",
    "    #print(f\"  solution: {solution}\")\n",
    "    return params, solution\n",
    "\n",
    "def smooth(p, alpha: float):\n",
    "    # smoothing\n",
    "    # to get rid of 0 and 1 probabilities that lead to saturated gradients\n",
    "    return p * (1 - alpha) + alpha / 2\n",
    "\n",
    "for sink in g.sinks:\n",
    "    print(f\"Measuring robustness of delivery to {sink}...\")\n",
    "    # reindex nodes so that only the nodes from which the sink is reachable are considered\n",
    "    # (otherwise, the solution will need to include infinite hitting times)\n",
    "    reachable_nodes = [node_key for node_key in g.node_keys if g.reachable[node_key, sink]]\n",
    "    print(f\"  Nodes from which {sink} is reachable: {reachable_nodes}\")\n",
    "    \n",
    "    reachable_diverters = [node_key for node_key in reachable_nodes if node_key[0] == \"diverter\"]\n",
    "    reachable_sources = [node_key for node_key in reachable_nodes if node_key[0] == \"source\"]\n",
    "    \n",
    "    params, solution = get_markov_chain_solution(g, sink, reachable_nodes, reachable_diverters)\n",
    "    \n",
    "    sink_embedding, _, _ = g.node_to_embeddings(sink, sink)\n",
    "    embedding_size = sink_embedding.flatten().shape[0]\n",
    "    # gather all embeddings that we need to compute the objective\n",
    "    stored_embeddings = OrderedDict({sink: sink_embedding})\n",
    "    for diverter in reachable_diverters:\n",
    "        diverter_embedding, neighbors, neighbor_embeddings = g.node_to_embeddings(diverter, sink)\n",
    "        stored_embeddings[diverter] = diverter_embedding\n",
    "        for neighbor, neighbor_embedding in zip(neighbors, neighbor_embeddings):\n",
    "            stored_embeddings[neighbor] = neighbor_embedding\n",
    "    \n",
    "    def pack_embeddings(embedding_dict: OrderedDict) -> torch.tensor:\n",
    "        return torch.cat(tuple(embedding_dict.values())).flatten()\n",
    "\n",
    "    def unpack_embeddings(embedding_vector: torch.tensor) -> OrderedDict:\n",
    "        embedding_dict = OrderedDict()\n",
    "        for i, (key, value) in enumerate(stored_embeddings.items()):\n",
    "            embedding_dict[key] = embedding_vector[i*embedding_size:(i + 1)*embedding_size]\\\n",
    "                .reshape(1, embedding_size)\n",
    "        return embedding_dict\n",
    "    \n",
    "    initial_vector = pack_embeddings(stored_embeddings)\n",
    "    \n",
    "    for source in reachable_sources:\n",
    "        print(f\"  Measuring robustness of delivery from {source} to {sink}...\")\n",
    "        source_index = g.node_keys_to_indices[source]\n",
    "        symbolic_objective = sympy.simplify(solution[source_index])\n",
    "        print(f\"    Expected delivery cost from {source} = {symbolic_objective}\")\n",
    "        objective = sympy.lambdify(params, symbolic_objective)        \n",
    "\n",
    "        def get_gradient(x: torch.tensor, smoothing_alpha: float) -> Tuple[torch.tensor, float, str]:\n",
    "            \"\"\"\n",
    "            :param x: parameter vector (the one expected to converge to an adversarial example)\n",
    "            :param smoothing_alpha: smooth probabilities with this small positive number\n",
    "            Returns a tuple (gradient pointing to the direction of the adversarial attack,\n",
    "                                the corresponding loss function value,\n",
    "                                auxiliary information for printing during optimization).\"\"\"\n",
    "            #assert not torch.isnan(x).any()\n",
    "            x = Util.optimizable_clone(x.flatten())\n",
    "            embedding_dict = unpack_embeddings(x)\n",
    "            objective_inputs = []\n",
    "            perturbed_sink_embeddings = embedding_dict[sink].repeat(2, 1)\n",
    "            # source embedding does not influence the decision, use default value:\n",
    "            for diverter in reachable_diverters:\n",
    "                perturbed_diverter_embeddings = embedding_dict[diverter].repeat(2, 1)\n",
    "                _, current_neighbors, _ = g.node_to_embeddings(diverter, sink)\n",
    "                perturbed_neighbor_embeddings = torch.cat([embedding_dict[current_neighbor]\n",
    "                                                           for current_neighbor in current_neighbors])\n",
    "                q_values = g.q_forward(perturbed_diverter_embeddings, perturbed_sink_embeddings,\n",
    "                                       perturbed_neighbor_embeddings).flatten()\n",
    "                #assert not torch.isnan(q_values).any()\n",
    "                propabilities = (q_values / MIN_TEMP).softmax(dim=0)\n",
    "                first_p = smooth(propabilities[0], smoothing_alpha)\n",
    "                objective_inputs += [first_p]\n",
    "            objective_value = objective(*objective_inputs)\n",
    "            #print(objective_value.detach().cpu().numpy())\n",
    "            objective_value.backward()\n",
    "            aux_info = [np.round(x.detach().cpu().item(), 4) for x in objective_inputs]\n",
    "            aux_info = {param: value for param, value in zip(params, aux_info)}\n",
    "            aux_info = f\"param_values = {aux_info}\"\n",
    "            return x.grad, objective_value.item(), aux_info\n",
    "        \n",
    "        adv.perturb(initial_vector, get_gradient)"
   ]
  },
  {
   "cell_type": "code",
   "execution_count": 9,
   "metadata": {},
   "outputs": [],
   "source": [
    "filename = \"saved-net-backup.bin\"\n",
    "torch.save(g.q_network.ff_net, filename)\n",
    "g.q_network.ff_net = torch.load(filename)"
   ]
  },
  {
   "cell_type": "markdown",
   "metadata": {},
   "source": [
    "## Examining delivery cost change after optimization steps"
   ]
  },
  {
   "cell_type": "code",
   "execution_count": 14,
   "metadata": {},
   "outputs": [
    {
     "name": "stdout",
     "output_type": "stream",
     "text": [
      "Measuring robustness of delivery to ('sink', 0)...\n",
      "  nodes from which ('sink', 0) is reachable: [('source', 0), ('source', 1), ('diverter', 0), ('diverter', 1), ('diverter', 2), ('junction', 0), ('junction', 1), ('junction', 2), ('junction', 3), ('junction', 4), ('junction', 5), ('junction', 6), ('junction', 7), ('junction', 8), ('sink', 0)]\n",
      "  sink index = 14\n",
      "  parameters: [p0, p1, p2]\n",
      "      p0 = P(('diverter', 0) -> ('junction', 2))\n",
      "  1 - p0 = P(('diverter', 0) -> ('junction', 7))\n",
      "      p1 = P(('diverter', 1) -> ('junction', 1))\n",
      "  1 - p1 = P(('diverter', 1) -> ('junction', 5))\n",
      "  bias: Matrix([[20], [10], [10*p0 + 10], [20 - 10*p1], [10], [10], [10], [20], [20], [10], [20], [30], [10], [10], [0]])\n",
      "  Measuring robustness of delivery from ('source', 0) to ('sink', 0)...\n",
      "    Expected delivery cost from ('source', 0) = (-20*p0*p1 + 30*p1 - 130)/(p0*p1 - 1)\n",
      "    Delivery cost from ('source', 0) to ('sink', 0) when making optimization step with current=('diverter', 0), neighbor=('junction', 2):\n"
     ]
    },
    {
     "data": {
      "image/png": "[encoded data removed]",
      "text/plain": [
       "<Figure size 936x144 with 1 Axes>"
      ]
     },
     "metadata": {
      "needs_background": "light"
     },
     "output_type": "display_data"
    },
    {
     "name": "stdout",
     "output_type": "stream",
     "text": [
      "    Delivery cost from ('source', 0) to ('sink', 0) when making optimization step with current=('diverter', 0), neighbor=('junction', 7):\n",
      "      INFINITIES PRESENT IN COMPUTED VALUES\n"
     ]
    },
    {
     "data": {
      "image/png": "[encoded data removed]",
      "text/plain": [
       "<Figure size 936x144 with 1 Axes>"
      ]
     },
     "metadata": {
      "needs_background": "light"
     },
     "output_type": "display_data"
    },
    {
     "name": "stdout",
     "output_type": "stream",
     "text": [
      "    Delivery cost from ('source', 0) to ('sink', 0) when making optimization step with current=('diverter', 1), neighbor=('junction', 1):\n",
      "      INFINITIES PRESENT IN COMPUTED VALUES\n",
      "    Delivery cost from ('source', 0) to ('sink', 0) when making optimization step with current=('diverter', 1), neighbor=('junction', 5):\n",
      "      INFINITIES PRESENT IN COMPUTED VALUES\n"
     ]
    },
    {
     "data": {
      "image/png": "[encoded data removed]",
      "text/plain": [
       "<Figure size 936x144 with 1 Axes>"
      ]
     },
     "metadata": {
      "needs_background": "light"
     },
     "output_type": "display_data"
    },
    {
     "name": "stdout",
     "output_type": "stream",
     "text": [
      "    Delivery cost from ('source', 0) to ('sink', 0) when making optimization step with current=('diverter', 2), neighbor=('junction', 0):\n"
     ]
    },
    {
     "data": {
      "image/png": "[encoded data removed]",
      "text/plain": [
       "<Figure size 936x144 with 1 Axes>"
      ]
     },
     "metadata": {
      "needs_background": "light"
     },
     "output_type": "display_data"
    },
    {
     "name": "stdout",
     "output_type": "stream",
     "text": [
      "  Measuring robustness of delivery from ('source', 1) to ('sink', 0)...\n",
      "    Expected delivery cost from ('source', 1) = 10*(7*p0*p1 - 15*p0 - 4)/(p0*p1 - 1)\n",
      "    Delivery cost from ('source', 1) to ('sink', 0) when making optimization step with current=('diverter', 0), neighbor=('junction', 2):\n"
     ]
    },
    {
     "data": {
      "image/png": "[encoded data removed]",
      "text/plain": [
       "<Figure size 936x144 with 1 Axes>"
      ]
     },
     "metadata": {
      "needs_background": "light"
     },
     "output_type": "display_data"
    },
    {
     "name": "stdout",
     "output_type": "stream",
     "text": [
      "    Delivery cost from ('source', 1) to ('sink', 0) when making optimization step with current=('diverter', 0), neighbor=('junction', 7):\n",
      "      INFINITIES PRESENT IN COMPUTED VALUES\n",
      "    Delivery cost from ('source', 1) to ('sink', 0) when making optimization step with current=('diverter', 1), neighbor=('junction', 1):\n",
      "      INFINITIES PRESENT IN COMPUTED VALUES\n",
      "    Delivery cost from ('source', 1) to ('sink', 0) when making optimization step with current=('diverter', 1), neighbor=('junction', 5):\n",
      "      INFINITIES PRESENT IN COMPUTED VALUES\n"
     ]
    },
    {
     "data": {
      "image/png": "[encoded data removed]",
      "text/plain": [
       "<Figure size 936x144 with 1 Axes>"
      ]
     },
     "metadata": {
      "needs_background": "light"
     },
     "output_type": "display_data"
    },
    {
     "name": "stdout",
     "output_type": "stream",
     "text": [
      "    Delivery cost from ('source', 1) to ('sink', 0) when making optimization step with current=('diverter', 2), neighbor=('junction', 0):\n"
     ]
    },
    {
     "data": {
      "image/png": "[encoded data removed]",
      "text/plain": [
       "<Figure size 936x144 with 1 Axes>"
      ]
     },
     "metadata": {
      "needs_background": "light"
     },
     "output_type": "display_data"
    },
    {
     "name": "stdout",
     "output_type": "stream",
     "text": [
      "Measuring robustness of delivery to ('sink', 1)...\n",
      "  nodes from which ('sink', 1) is reachable: [('source', 0), ('source', 1), ('diverter', 0), ('diverter', 1), ('diverter', 2), ('junction', 0), ('junction', 1), ('junction', 2), ('junction', 3), ('junction', 4), ('junction', 8), ('sink', 1)]\n",
      "  sink index = 11\n",
      "  parameters: [p0, p1, p2]\n",
      "      p2 = P(('diverter', 2) -> ('junction', 0))\n",
      "  1 - p2 = P(('diverter', 2) -> ('sink', 1))\n",
      "  bias: Matrix([[20], [10], [20], [10], [20 - 10*p2], [10], [10], [20], [20], [10], [10], [0]])\n",
      "  Measuring robustness of delivery from ('source', 0) to ('sink', 1)...\n",
      "    Expected delivery cost from ('source', 0) = -(70*p2 + 50)/(p2 - 1)\n",
      "    Delivery cost from ('source', 0) to ('sink', 1) when making optimization step with current=('diverter', 0), neighbor=('junction', 2):\n",
      "      INFINITIES PRESENT IN COMPUTED VALUES\n",
      "    Delivery cost from ('source', 0) to ('sink', 1) when making optimization step with current=('diverter', 1), neighbor=('junction', 1):\n",
      "      INFINITIES PRESENT IN COMPUTED VALUES\n",
      "    Delivery cost from ('source', 0) to ('sink', 1) when making optimization step with current=('diverter', 2), neighbor=('junction', 0):\n"
     ]
    },
    {
     "data": {
      "image/png": "[encoded data removed]",
      "text/plain": [
       "<Figure size 936x144 with 1 Axes>"
      ]
     },
     "metadata": {
      "needs_background": "light"
     },
     "output_type": "display_data"
    },
    {
     "name": "stdout",
     "output_type": "stream",
     "text": [
      "    Delivery cost from ('source', 0) to ('sink', 1) when making optimization step with current=('diverter', 2), neighbor=('sink', 1):\n",
      "      INFINITIES PRESENT IN COMPUTED VALUES\n",
      "  Measuring robustness of delivery from ('source', 1) to ('sink', 1)...\n",
      "    Expected delivery cost from ('source', 1) = -(10*p2 + 110)/(p2 - 1)\n",
      "    Delivery cost from ('source', 1) to ('sink', 1) when making optimization step with current=('diverter', 0), neighbor=('junction', 2):\n",
      "      INFINITIES PRESENT IN COMPUTED VALUES\n"
     ]
    },
    {
     "data": {
      "image/png": "[encoded data removed]",
      "text/plain": [
       "<Figure size 936x144 with 1 Axes>"
      ]
     },
     "metadata": {
      "needs_background": "light"
     },
     "output_type": "display_data"
    },
    {
     "name": "stdout",
     "output_type": "stream",
     "text": [
      "    Delivery cost from ('source', 1) to ('sink', 1) when making optimization step with current=('diverter', 1), neighbor=('junction', 1):\n",
      "      INFINITIES PRESENT IN COMPUTED VALUES\n",
      "    Delivery cost from ('source', 1) to ('sink', 1) when making optimization step with current=('diverter', 2), neighbor=('junction', 0):\n"
     ]
    },
    {
     "data": {
      "image/png": "[encoded data removed]",
      "text/plain": [
       "<Figure size 936x144 with 1 Axes>"
      ]
     },
     "metadata": {
      "needs_background": "light"
     },
     "output_type": "display_data"
    },
    {
     "name": "stdout",
     "output_type": "stream",
     "text": [
      "    Delivery cost from ('source', 1) to ('sink', 1) when making optimization step with current=('diverter', 2), neighbor=('sink', 1):\n",
      "      INFINITIES PRESENT IN COMPUTED VALUES\n"
     ]
    }
   ],
   "source": [
    "smoothing_alpha = 0#0.001\n",
    "\n",
    "for sink in g.sinks:\n",
    "    print(f\"Measuring robustness of delivery to {sink}...\")\n",
    "    # reindex nodes so that only the nodes from which the sink is reachable are considered\n",
    "    # (otherwise, the solution will need to include infinite hitting times)\n",
    "    reachable_nodes = [node_key for node_key in g.node_keys if g.reachable[node_key, sink]]\n",
    "    print(f\"  nodes from which {sink} is reachable: {reachable_nodes}\")\n",
    "    \n",
    "    reachable_diverters = [node_key for node_key in reachable_nodes if node_key[0] == \"diverter\"]\n",
    "    reachable_sources = [node_key for node_key in reachable_nodes if node_key[0] == \"source\"]\n",
    "    \n",
    "    params, solution = get_markov_chain_solution(g, sink, reachable_nodes, reachable_diverters)\n",
    "    \n",
    "    sink_embedding, _, _ = g.node_to_embeddings(sink, sink)\n",
    "    embedding_size = sink_embedding.flatten().shape[0]\n",
    "    sink_embeddings = sink_embedding.repeat(2, 1)\n",
    "    \n",
    "    for source in reachable_sources:\n",
    "        print(f\"  Measuring robustness of delivery from {source} to {sink}...\")\n",
    "        source_index = g.node_keys_to_indices[source]\n",
    "        symbolic_objective = sympy.simplify(solution[source_index])\n",
    "        print(f\"    Expected delivery cost from {source} = {symbolic_objective}\")\n",
    "        objective = sympy.lambdify(params, symbolic_objective)\n",
    "\n",
    "        # stage 1: linear change of parameters\n",
    "        filename = \"saved-net.bin\"\n",
    "        torch.save(g.q_network.ff_net, filename)\n",
    "        Util.set_param_requires_grad(g.q_network.ff_net, True)\n",
    "        \n",
    "        def get_objective():\n",
    "            objective_inputs = []\n",
    "            for diverter in reachable_diverters:\n",
    "                diverter_embedding, current_neighbors, neighbor_embeddings = g.node_to_embeddings(diverter, sink)\n",
    "                diverter_embeddings = diverter_embedding.repeat(2, 1)\n",
    "                neighbor_embeddings = torch.cat(neighbor_embeddings, dim=0)\n",
    "                q_values = g.q_forward(diverter_embeddings, sink_embeddings, neighbor_embeddings).flatten()\n",
    "                propabilities = (q_values / MIN_TEMP).softmax(dim=0)\n",
    "                first_p = propabilities[0]\n",
    "                first_p = smooth(first_p, smoothing_alpha)\n",
    "                objective_inputs += [first_p]\n",
    "            return objective(*objective_inputs).item()\n",
    "        \n",
    "        # TODO also include junctions and sources??\n",
    "        for node_key in g.diverters:\n",
    "            curent_embedding, neighbors, neighbor_embeddings = g.node_to_embeddings(node_key, sink)\n",
    "            \n",
    "            with torch.no_grad():\n",
    "                reference_q = g.q_forward(curent_embedding, sink_embedding, neighbor_embedding).flatten().item()\n",
    "            \n",
    "            actual_qs = reference_q + np.linspace(-5, 5, 201)\n",
    "            \n",
    "            for neighbor_key, neighbor_embedding in zip(neighbors, neighbor_embeddings):\n",
    "                objective_values = []\n",
    "                for actual_q in actual_qs:\n",
    "                    #opt = torch.optim.RMSprop(g.q_network.ff_net.parameters(), lr=0.001)\n",
    "                    opt = torch.optim.SGD(g.q_network.ff_net.parameters(), lr=0.01)\n",
    "                    predicted_q = g.q_forward(curent_embedding, sink_embedding, neighbor_embedding).flatten()\n",
    "                    #print(predicted_q)\n",
    "                    loss = torch.square(predicted_q - actual_q)\n",
    "                    loss.backward()\n",
    "                    opt.step()\n",
    "                    with torch.no_grad():\n",
    "                        objective_values += [get_objective()]\n",
    "                    g.q_network.ff_net = torch.load(filename)\n",
    "                objective_values = torch.tensor(objective_values)\n",
    "                print(f\"    Delivery cost from {source} to {sink} when making optimization step with current={node_key},\"\n",
    "                          f\" neighbor={neighbor_key}:\")\n",
    "                if torch.isinf(objective_values).any():\n",
    "                    print(\"      INFINITIES PRESENT IN COMPUTED VALUES\")\n",
    "                    inf_indices = torch.isinf(objective_values)\n",
    "                    if sum(inf_indices) == objective_values.numel():\n",
    "                        continue\n",
    "                    regular_values = objective_values[~inf_indices]\n",
    "                    neginf_indices = (objective_values < 0) & inf_indices\n",
    "                    posinf_indices = (objective_values > 0) & inf_indices\n",
    "                    objective_values[neginf_indices] = min(regular_values) - 5\n",
    "                    objective_values[posinf_indices] = max(regular_values) + 5\n",
    "                plt.figure(figsize=(13, 2))\n",
    "                plt.plot(actual_qs, objective_values)\n",
    "                gap = max(objective_values) - min(objective_values)\n",
    "                y_delta = 0 if gap > 0 else 5\n",
    "                plt.vlines(reference_q, min(objective_values) - y_delta, max(objective_values) + y_delta)\n",
    "                plt.hlines(objective_values[len(objective_values) // 2], min(actual_qs), max(actual_qs))\n",
    "                plt.show()"
   ]
  },
  {
   "cell_type": "code",
   "execution_count": null,
   "metadata": {},
   "outputs": [],
   "source": []
  }
 ],
 "metadata": {
  "kernelspec": {
   "display_name": "Python 3",
   "language": "python",
   "name": "python3"
  },
  "language_info": {
   "codemirror_mode": {
    "name": "ipython",
    "version": 3
   },
   "file_extension": ".py",
   "mimetype": "text/x-python",
   "name": "python",
   "nbconvert_exporter": "python",
   "pygments_lexer": "ipython3",
   "version": "3.7.6"
  }
 },
 "nbformat": 4,
 "nbformat_minor": 4
}
