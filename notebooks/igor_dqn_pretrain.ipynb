{
 "cells": [
  {
   "cell_type": "code",
   "execution_count": 1,
   "metadata": {},
   "outputs": [],
   "source": [
    "%matplotlib inline\n",
    "import random\n",
    "import hashlib\n",
    "import base64\n",
    "import torch\n",
    "import torch.nn as nn\n",
    "import torch.optim as optim\n",
    "import numpy as np\n",
    "import networkx as nx\n",
    "import pandas as pd\n",
    "import matplotlib.pyplot as plt\n",
    "import yaml\n",
    "\n",
    "from sklearn.model_selection import train_test_split\n",
    "from cycler import cycler\n",
    "\n",
    "from functools import partial\n",
    "from tqdm.notebook import tqdm\n",
    "import simpy"
   ]
  },
  {
   "cell_type": "code",
   "execution_count": 2,
   "metadata": {},
   "outputs": [],
   "source": [
    "%load_ext autoreload\n",
    "%autoreload 2"
   ]
  },
  {
   "cell_type": "code",
   "execution_count": 3,
   "metadata": {},
   "outputs": [],
   "source": [
    "import os\n",
    "current_dir = os.getcwd()\n",
    "os.chdir(\"../src\")\n",
    "from dqnroute import *\n",
    "from dqnroute.networks import *\n",
    "os.chdir(current_dir)"
   ]
  },
  {
   "cell_type": "code",
   "execution_count": 4,
   "metadata": {},
   "outputs": [],
   "source": [
    "def train_in_simulation(run_params, router_type, pkg_num,\n",
    "                        training_router_type='link_state',\n",
    "                        breaks_num=0, max_breaks=2, delta=20):\n",
    "    period_len = pkg_num * delta\n",
    "    max_pause = delta * max_breaks\n",
    "    all_br_num = sum([breaks_num*cb for cb in range(1, max_breaks+1)])\n",
    "    approx_total_time = period_len + (period_len + max_pause) * all_br_num\n",
    "    \n",
    "    with tqdm(total=approx_total_time) as bar:\n",
    "        queue = DummyProgressbarQueue(bar)\n",
    "        brain, loss_df, launch_df = run_training(\n",
    "            NetworkRunner, run_params=run_params,\n",
    "            router_type=router_type, training_router_type=training_router_type,\n",
    "            pkg_num=5000, random_seed=42,\n",
    "            progress_queue=queue, progress_step=20)\n",
    "    return brain, loss_df, launch_df\n",
    "\n",
    "def gen_episodes_progress(num_episodes, **kwargs):\n",
    "    with tqdm(total=num_episodes) as bar:\n",
    "        df = gen_episodes(bar=bar, num_episodes=num_episodes, **kwargs)\n",
    "    return df"
   ]
  },
  {
   "cell_type": "code",
   "execution_count": 5,
   "metadata": {},
   "outputs": [],
   "source": [
    "def shuffle(df):\n",
    "    return df.reindex(np.random.permutation(df.index))\n",
    "\n",
    "def find_first_sublist(seq, sublist, start=0):\n",
    "    length = len(sublist)\n",
    "    for index in range(start, len(seq)):\n",
    "        if seq[index:index+length] == sublist:\n",
    "            return index, index+length\n",
    "\n",
    "def replace_sublist(seq, sublist, replacement):\n",
    "    length = len(replacement)\n",
    "    index = 0\n",
    "    for start, end in iter(lambda: find_first_sublist(seq, sublist, index), None):\n",
    "        seq[start:end] = replacement\n",
    "        index = start + length\n",
    "    return seq\n",
    "\n",
    "def transform_to_one_out(df):\n",
    "    old_cols = list(df.columns)\n",
    "    neighbors_cols = [col for col in old_cols if col.startswith('neighbors')]\n",
    "    target_cols = [col for col in old_cols if col.startswith('predict')]\n",
    "    \n",
    "    new_cols = replace_sublist(replace_sublist(old_cols, neighbors_cols, ['neighbour']),\n",
    "                               target_cols, ['predict'])\n",
    "    row_ix = 0\n",
    "    nums = pd.Series(range(len(neighbors_cols)), index=neighbors_cols)\n",
    "    new_rows_num = df[neighbors_cols].sum().sum()\n",
    "    df_new = pd.DataFrame(columns=new_cols, index=np.arange(new_rows_num), dtype=np.float32)\n",
    "    \n",
    "    for idx, row in tqdm(df.iterrows(), total=len(df)):\n",
    "        nbrs = nums[row[neighbors_cols] != 0]\n",
    "        preds = list(row[target_cols][row != -1000000])        \n",
    "        new_row_tpl = row.drop(neighbors_cols + target_cols)\n",
    "        \n",
    "        for nbr, pred in zip(nbrs, preds):\n",
    "            new_row = new_row_tpl\n",
    "            new_row['neighbour'] = nbr\n",
    "            new_row['predict'] = pred\n",
    "            df_new.loc[row_ix] = new_row\n",
    "            row_ix += 1\n",
    "        \n",
    "    return df_new.reindex(np.arange(len(df_new)))"
   ]
  },
  {
   "cell_type": "code",
   "execution_count": 6,
   "metadata": {},
   "outputs": [],
   "source": [
    "def hash_graph(graph):\n",
    "    if type(graph) != np.ndarray:\n",
    "        graph = nx.to_numpy_matrix(graph, nodelist=sorted(graph.nodes))\n",
    "    m = hashlib.sha256()\n",
    "    m.update(graph.tobytes())\n",
    "    return base64.b64encode(m.digest()).decode('utf-8')\n",
    "\n",
    "class CachedEmbedding(Embedding):\n",
    "    def __init__(self, InnerEmbedding, dim, **kwargs):\n",
    "        self.dim = dim\n",
    "        self.InnerEmbedding = InnerEmbedding\n",
    "        self.inner_kwargs = kwargs\n",
    "        self.fit_embeddings = {}\n",
    "        \n",
    "    def fit(self, graph, **kwargs):\n",
    "        h = hash_graph(graph)\n",
    "        if h not in self.fit_embeddings:\n",
    "            embed = self.InnerEmbedding(dim=self.dim, **self.inner_kwargs)\n",
    "            embed.fit(graph, **kwargs)\n",
    "            self.fit_embeddings[h] = embed\n",
    "    \n",
    "    def transform(self, graph, idx):\n",
    "        h = hash_graph(graph)\n",
    "        return self.fit_embeddings[h].transform(idx)"
   ]
  },
  {
   "cell_type": "code",
   "execution_count": 7,
   "metadata": {},
   "outputs": [],
   "source": [
    "def one_or_emb(vals, embedding=None):\n",
    "    if embedding is None:\n",
    "        return vals\n",
    "    return embedding.get_embedding(vals.astype(int))\n",
    "\n",
    "def add_inp_cols(tag, dim):\n",
    "    if dim > 1:\n",
    "        return mk_num_list(tag + '_', dim)\n",
    "    else:\n",
    "        return tag\n",
    "\n",
    "def qnetwork_batches(net, data, batch_size=64, embedding=None):\n",
    "    n = net.graph_size\n",
    "    data_cols = []\n",
    "    amatrix_cols = get_amatrix_cols(n)\n",
    "    \n",
    "    for (tag, dim) in net.add_inputs:\n",
    "        if tag == 'amatrix':\n",
    "            data_cols.append(amatrix_cols)\n",
    "        else:\n",
    "            data_cols.append(add_inp_cols(tag, dim))\n",
    "\n",
    "    for (a, b) in make_batches(data.shape[0], batch_size):\n",
    "        batch = data[a:b]\n",
    "        addr = batch['addr'].values\n",
    "        dst = batch['dst'].values\n",
    "        nbr = batch['neighbour'].values\n",
    "        \n",
    "        if embedding is not None:\n",
    "            amatrices = batch[amatrix_cols].values\n",
    "            new_btch = []\n",
    "            for (addr_, dst_, nbr_, A) in zip(addr, dst, nbr, amatrices):\n",
    "                A = A.reshape(n, n)\n",
    "                embedding.fit(A)\n",
    "                new_addr = embedding.transform(A, int(addr_))\n",
    "                new_dst = embedding.transform(A, int(dst_))\n",
    "                new_nbr = embedding.transform(A, int(nbr_))\n",
    "                new_btch.append((new_addr, new_dst, new_nbr))\n",
    "                \n",
    "            [addr, dst, nbr] = stack_batch(new_btch)\n",
    "            \n",
    "        addr_inp = torch.tensor(addr, dtype=torch.float)\n",
    "        dst_inp = torch.tensor(dst, dtype=torch.float)\n",
    "        nbr_inp = torch.tensor(nbr, dtype=torch.float)\n",
    "                \n",
    "        inputs = tuple(torch.tensor(batch[cols].values, dtype=torch.float)\n",
    "                       for cols in data_cols)\n",
    "        output = torch.tensor(batch['predict'].values, dtype=torch.float)\n",
    "        \n",
    "        yield ((addr_inp, dst_inp, nbr_inp) + inputs, output)\n",
    "\n",
    "def qnetwork_pretrain_epoch(net, optimizer, data, **kwargs):\n",
    "    loss_func = nn.MSELoss()\n",
    "    for (batch, target) in qnetwork_batches(net, data, **kwargs):\n",
    "        optimizer.zero_grad()\n",
    "        output = net(*batch)\n",
    "        loss = loss_func(output, target.unsqueeze(1))\n",
    "        loss.backward()\n",
    "        optimizer.step()\n",
    "        yield float(loss)\n",
    "        \n",
    "def qnetwork_pretrain(net, data, optimizer='rmsprop', epochs=1,\n",
    "                      save_net=True, **kwargs):\n",
    "    optimizer = get_optimizer(optimizer)(net.parameters())\n",
    "    epochs_losses = []\n",
    "    \n",
    "    for i in tqdm(range(epochs)):\n",
    "        sum_loss = 0\n",
    "        loss_cnt = 0\n",
    "        for loss in tqdm(qnetwork_pretrain_epoch(net, optimizer, data, **kwargs),\n",
    "                                  desc='epoch {}'.format(i)):\n",
    "            sum_loss += loss\n",
    "            loss_cnt += 1\n",
    "        epochs_losses.append(sum_loss / loss_cnt)\n",
    "        \n",
    "    if save_net:\n",
    "        net.save()\n",
    "    \n",
    "    return epochs_losses"
   ]
  },
  {
   "cell_type": "code",
   "execution_count": 8,
   "metadata": {},
   "outputs": [],
   "source": [
    "def save_losses(losses_dict, path):\n",
    "    df = pd.DataFrame(losses_dict)\n",
    "    df.to_csv(path, index=False)\n",
    "\n",
    "def load_losses(path):\n",
    "    df = pd.read_csv(path, index_col=False)\n",
    "    return df.to_dict(orient='list')\n",
    "\n",
    "def plot_losses(losses_dict, from_epoch=0, num_epochs=None, xlim=None, ylim=None,\n",
    "                fsize=16, figsize=(13, 3), title=None, save_path=None):\n",
    "    if num_epochs is None:\n",
    "        num_epochs = len(next(iter(losses_dict.values())))\n",
    "        \n",
    "    fig = plt.figure(figsize=figsize)\n",
    "    \n",
    "    x = range(from_epoch+1, num_epochs+1)\n",
    "    for (label, losses) in losses_dict.items():\n",
    "        plt.plot(x, losses[from_epoch:num_epochs], label=label)\n",
    "    plt.legend(prop={'size': fsize})\n",
    "    plt.xlabel('Epoch', fontsize=fsize)\n",
    "    plt.xticks(x)\n",
    "    plt.grid()\n",
    "    plt.ylabel('MSE', fontsize=fsize)\n",
    "    \n",
    "    if xlim is not None:\n",
    "        plt.xlim(xlim)\n",
    "    if ylim is not None:\n",
    "        plt.ylim(ylim)\n",
    "    if title is not None:\n",
    "        plt.title(title, fontsize=fsize)\n",
    "        \n",
    "    plt.show(fig)\n",
    "    if save_path is not None:\n",
    "        fig.savefig('../img/' + save_path, bbox_inches='tight')"
   ]
  },
  {
   "cell_type": "code",
   "execution_count": 63,
   "metadata": {},
   "outputs": [
    {
     "data": {
      "application/vnd.jupyter.widget-view+json": {
       "model_id": "914a1ed0486d46c1906c4294d1d12037",
       "version_major": 2,
       "version_minor": 0
      },
      "text/plain": [
       "HBox(children=(FloatProgress(value=0.0, max=10000.0), HTML(value='')))"
      ]
     },
     "metadata": {},
     "output_type": "display_data"
    },
    {
     "name": "stdout",
     "output_type": "stream",
     "text": [
      "\n"
     ]
    }
   ],
   "source": [
    "#scenario, emd_dim, graph_size = '../launches/igor/acyclic_conveyor_energy_test.yaml', 10, 20\n",
    "#scenario, emb_dim, graph_size = '../launches/igor/conveyor_cyclic_energy_test.yaml', 5, 8\n",
    "#scenario, emb_dim, graph_size = '../launches/igor/conveyor_cyclic2_energy_test.yaml', 6, 16\n",
    "#scenario, emb_dim, graph_size = '../launches/igor/tarau2010.yaml', 8, 27\n",
    "scenario, emb_dim, graph_sizeph_size = '../launches/igor/johnstone2010.yaml', 12, 54\n",
    "\n",
    "data_conv = gen_episodes_progress(ignore_saved=True,\n",
    "    context='conveyors', num_episodes=10000, random_seed=42,\n",
    "    run_params=scenario,\n",
    "    save_path='../logs/data_conveyor1_oneinp_new.csv')"
   ]
  },
  {
   "cell_type": "code",
   "execution_count": 64,
   "metadata": {},
   "outputs": [
    {
     "data": {
      "text/html": [
       "<div>\n",
       "<style scoped>\n",
       "    .dataframe tbody tr th:only-of-type {\n",
       "        vertical-align: middle;\n",
       "    }\n",
       "\n",
       "    .dataframe tbody tr th {\n",
       "        vertical-align: top;\n",
       "    }\n",
       "\n",
       "    .dataframe thead th {\n",
       "        text-align: right;\n",
       "    }\n",
       "</style>\n",
       "<table border=\"1\" class=\"dataframe\">\n",
       "  <thead>\n",
       "    <tr style=\"text-align: right;\">\n",
       "      <th></th>\n",
       "      <th>addr</th>\n",
       "      <th>dst</th>\n",
       "      <th>neighbour</th>\n",
       "      <th>amatrix_0_0</th>\n",
       "      <th>amatrix_0_1</th>\n",
       "      <th>amatrix_0_2</th>\n",
       "      <th>amatrix_0_3</th>\n",
       "      <th>amatrix_0_4</th>\n",
       "      <th>amatrix_0_5</th>\n",
       "      <th>amatrix_0_6</th>\n",
       "      <th>...</th>\n",
       "      <th>amatrix_53_46</th>\n",
       "      <th>amatrix_53_47</th>\n",
       "      <th>amatrix_53_48</th>\n",
       "      <th>amatrix_53_49</th>\n",
       "      <th>amatrix_53_50</th>\n",
       "      <th>amatrix_53_51</th>\n",
       "      <th>amatrix_53_52</th>\n",
       "      <th>amatrix_53_53</th>\n",
       "      <th>predict</th>\n",
       "      <th>working</th>\n",
       "    </tr>\n",
       "  </thead>\n",
       "  <tbody>\n",
       "    <tr>\n",
       "      <th>0</th>\n",
       "      <td>7.0</td>\n",
       "      <td>40.0</td>\n",
       "      <td>8.0</td>\n",
       "      <td>0.0</td>\n",
       "      <td>40.0</td>\n",
       "      <td>0.0</td>\n",
       "      <td>0.0</td>\n",
       "      <td>0.0</td>\n",
       "      <td>0.0</td>\n",
       "      <td>0.0</td>\n",
       "      <td>...</td>\n",
       "      <td>0.0</td>\n",
       "      <td>0.0</td>\n",
       "      <td>0.0</td>\n",
       "      <td>0.0</td>\n",
       "      <td>0.0</td>\n",
       "      <td>0.0</td>\n",
       "      <td>0.0</td>\n",
       "      <td>0.0</td>\n",
       "      <td>-305.0</td>\n",
       "      <td>1.0</td>\n",
       "    </tr>\n",
       "    <tr>\n",
       "      <th>1</th>\n",
       "      <td>7.0</td>\n",
       "      <td>40.0</td>\n",
       "      <td>33.0</td>\n",
       "      <td>0.0</td>\n",
       "      <td>40.0</td>\n",
       "      <td>0.0</td>\n",
       "      <td>0.0</td>\n",
       "      <td>0.0</td>\n",
       "      <td>0.0</td>\n",
       "      <td>0.0</td>\n",
       "      <td>...</td>\n",
       "      <td>0.0</td>\n",
       "      <td>0.0</td>\n",
       "      <td>0.0</td>\n",
       "      <td>0.0</td>\n",
       "      <td>0.0</td>\n",
       "      <td>0.0</td>\n",
       "      <td>0.0</td>\n",
       "      <td>0.0</td>\n",
       "      <td>-465.0</td>\n",
       "      <td>1.0</td>\n",
       "    </tr>\n",
       "    <tr>\n",
       "      <th>2</th>\n",
       "      <td>52.0</td>\n",
       "      <td>1.0</td>\n",
       "      <td>0.0</td>\n",
       "      <td>0.0</td>\n",
       "      <td>40.0</td>\n",
       "      <td>0.0</td>\n",
       "      <td>0.0</td>\n",
       "      <td>0.0</td>\n",
       "      <td>0.0</td>\n",
       "      <td>0.0</td>\n",
       "      <td>...</td>\n",
       "      <td>0.0</td>\n",
       "      <td>0.0</td>\n",
       "      <td>0.0</td>\n",
       "      <td>0.0</td>\n",
       "      <td>0.0</td>\n",
       "      <td>0.0</td>\n",
       "      <td>0.0</td>\n",
       "      <td>0.0</td>\n",
       "      <td>-130.0</td>\n",
       "      <td>1.0</td>\n",
       "    </tr>\n",
       "    <tr>\n",
       "      <th>3</th>\n",
       "      <td>15.0</td>\n",
       "      <td>17.0</td>\n",
       "      <td>16.0</td>\n",
       "      <td>0.0</td>\n",
       "      <td>40.0</td>\n",
       "      <td>0.0</td>\n",
       "      <td>0.0</td>\n",
       "      <td>0.0</td>\n",
       "      <td>0.0</td>\n",
       "      <td>0.0</td>\n",
       "      <td>...</td>\n",
       "      <td>0.0</td>\n",
       "      <td>0.0</td>\n",
       "      <td>0.0</td>\n",
       "      <td>0.0</td>\n",
       "      <td>0.0</td>\n",
       "      <td>0.0</td>\n",
       "      <td>0.0</td>\n",
       "      <td>0.0</td>\n",
       "      <td>-370.0</td>\n",
       "      <td>1.0</td>\n",
       "    </tr>\n",
       "    <tr>\n",
       "      <th>4</th>\n",
       "      <td>8.0</td>\n",
       "      <td>14.0</td>\n",
       "      <td>25.0</td>\n",
       "      <td>0.0</td>\n",
       "      <td>40.0</td>\n",
       "      <td>0.0</td>\n",
       "      <td>0.0</td>\n",
       "      <td>0.0</td>\n",
       "      <td>0.0</td>\n",
       "      <td>0.0</td>\n",
       "      <td>...</td>\n",
       "      <td>0.0</td>\n",
       "      <td>0.0</td>\n",
       "      <td>0.0</td>\n",
       "      <td>0.0</td>\n",
       "      <td>0.0</td>\n",
       "      <td>0.0</td>\n",
       "      <td>0.0</td>\n",
       "      <td>0.0</td>\n",
       "      <td>-530.0</td>\n",
       "      <td>1.0</td>\n",
       "    </tr>\n",
       "  </tbody>\n",
       "</table>\n",
       "<p>5 rows × 2921 columns</p>\n",
       "</div>"
      ],
      "text/plain": [
       "   addr   dst  neighbour  amatrix_0_0  amatrix_0_1  amatrix_0_2  amatrix_0_3  \\\n",
       "0   7.0  40.0        8.0          0.0         40.0          0.0          0.0   \n",
       "1   7.0  40.0       33.0          0.0         40.0          0.0          0.0   \n",
       "2  52.0   1.0        0.0          0.0         40.0          0.0          0.0   \n",
       "3  15.0  17.0       16.0          0.0         40.0          0.0          0.0   \n",
       "4   8.0  14.0       25.0          0.0         40.0          0.0          0.0   \n",
       "\n",
       "   amatrix_0_4  amatrix_0_5  amatrix_0_6  ...  amatrix_53_46  amatrix_53_47  \\\n",
       "0          0.0          0.0          0.0  ...            0.0            0.0   \n",
       "1          0.0          0.0          0.0  ...            0.0            0.0   \n",
       "2          0.0          0.0          0.0  ...            0.0            0.0   \n",
       "3          0.0          0.0          0.0  ...            0.0            0.0   \n",
       "4          0.0          0.0          0.0  ...            0.0            0.0   \n",
       "\n",
       "   amatrix_53_48  amatrix_53_49  amatrix_53_50  amatrix_53_51  amatrix_53_52  \\\n",
       "0            0.0            0.0            0.0            0.0            0.0   \n",
       "1            0.0            0.0            0.0            0.0            0.0   \n",
       "2            0.0            0.0            0.0            0.0            0.0   \n",
       "3            0.0            0.0            0.0            0.0            0.0   \n",
       "4            0.0            0.0            0.0            0.0            0.0   \n",
       "\n",
       "   amatrix_53_53  predict  working  \n",
       "0            0.0   -305.0      1.0  \n",
       "1            0.0   -465.0      1.0  \n",
       "2            0.0   -130.0      1.0  \n",
       "3            0.0   -370.0      1.0  \n",
       "4            0.0   -530.0      1.0  \n",
       "\n",
       "[5 rows x 2921 columns]"
      ]
     },
     "execution_count": 64,
     "metadata": {},
     "output_type": "execute_result"
    }
   ],
   "source": [
    "data_conv.loc[:, 'working'] = 1.0\n",
    "data_conv.head()"
   ]
  },
  {
   "cell_type": "code",
   "execution_count": 65,
   "metadata": {},
   "outputs": [],
   "source": [
    "conv_emb = CachedEmbedding(LaplacianEigenmap, dim=emb_dim)"
   ]
  },
  {
   "cell_type": "code",
   "execution_count": 66,
   "metadata": {},
   "outputs": [],
   "source": [
    "conveyor_network_ng_emb = QNetwork(graph_size, scope='conveyor_test_ng', activation='relu',\n",
    "                                   layers=[64, 64], embedding_dim=conv_emb.dim)\n",
    "conveyor_network_ng_emb_ws = QNetwork(graph_size, scope='conveyor_test_ng', activation='relu',\n",
    "                                      layers=[64, 64], additional_inputs=[{'tag': 'working', 'dim': 1}],\n",
    "                                      embedding_dim=conv_emb.dim)"
   ]
  },
  {
   "cell_type": "code",
   "execution_count": 67,
   "metadata": {},
   "outputs": [
    {
     "data": {
      "application/vnd.jupyter.widget-view+json": {
       "model_id": "782dfdd3b01f43ee81440b194474e29f",
       "version_major": 2,
       "version_minor": 0
      },
      "text/plain": [
       "HBox(children=(FloatProgress(value=0.0, max=10.0), HTML(value='')))"
      ]
     },
     "metadata": {},
     "output_type": "display_data"
    },
    {
     "data": {
      "application/vnd.jupyter.widget-view+json": {
       "model_id": "b4596d9327be440d9781c9c1550be7c1",
       "version_major": 2,
       "version_minor": 0
      },
      "text/plain": [
       "HBox(children=(FloatProgress(value=1.0, bar_style='info', description='epoch 0', max=1.0, style=ProgressStyle(…"
      ]
     },
     "metadata": {},
     "output_type": "display_data"
    },
    {
     "name": "stdout",
     "output_type": "stream",
     "text": [
      "\n"
     ]
    },
    {
     "data": {
      "application/vnd.jupyter.widget-view+json": {
       "model_id": "19dec6efa676472fa7498fa02f5daf0f",
       "version_major": 2,
       "version_minor": 0
      },
      "text/plain": [
       "HBox(children=(FloatProgress(value=1.0, bar_style='info', description='epoch 1', max=1.0, style=ProgressStyle(…"
      ]
     },
     "metadata": {},
     "output_type": "display_data"
    },
    {
     "name": "stdout",
     "output_type": "stream",
     "text": [
      "\n"
     ]
    },
    {
     "data": {
      "application/vnd.jupyter.widget-view+json": {
       "model_id": "88f431f810324925898a47c1f3474169",
       "version_major": 2,
       "version_minor": 0
      },
      "text/plain": [
       "HBox(children=(FloatProgress(value=1.0, bar_style='info', description='epoch 2', max=1.0, style=ProgressStyle(…"
      ]
     },
     "metadata": {},
     "output_type": "display_data"
    },
    {
     "name": "stdout",
     "output_type": "stream",
     "text": [
      "\n"
     ]
    },
    {
     "data": {
      "application/vnd.jupyter.widget-view+json": {
       "model_id": "cca4354978164cffb25ada7fa1a76605",
       "version_major": 2,
       "version_minor": 0
      },
      "text/plain": [
       "HBox(children=(FloatProgress(value=1.0, bar_style='info', description='epoch 3', max=1.0, style=ProgressStyle(…"
      ]
     },
     "metadata": {},
     "output_type": "display_data"
    },
    {
     "name": "stdout",
     "output_type": "stream",
     "text": [
      "\n"
     ]
    },
    {
     "data": {
      "application/vnd.jupyter.widget-view+json": {
       "model_id": "8eb8d6080e9b4c48a41f70eaae03d2b2",
       "version_major": 2,
       "version_minor": 0
      },
      "text/plain": [
       "HBox(children=(FloatProgress(value=1.0, bar_style='info', description='epoch 4', max=1.0, style=ProgressStyle(…"
      ]
     },
     "metadata": {},
     "output_type": "display_data"
    },
    {
     "name": "stdout",
     "output_type": "stream",
     "text": [
      "\n"
     ]
    },
    {
     "data": {
      "application/vnd.jupyter.widget-view+json": {
       "model_id": "3ee116fe5f3e49329c385a28c17131c9",
       "version_major": 2,
       "version_minor": 0
      },
      "text/plain": [
       "HBox(children=(FloatProgress(value=1.0, bar_style='info', description='epoch 5', max=1.0, style=ProgressStyle(…"
      ]
     },
     "metadata": {},
     "output_type": "display_data"
    },
    {
     "name": "stdout",
     "output_type": "stream",
     "text": [
      "\n"
     ]
    },
    {
     "data": {
      "application/vnd.jupyter.widget-view+json": {
       "model_id": "7ee46d46fd7d49de980b0c39c19a58b5",
       "version_major": 2,
       "version_minor": 0
      },
      "text/plain": [
       "HBox(children=(FloatProgress(value=1.0, bar_style='info', description='epoch 6', max=1.0, style=ProgressStyle(…"
      ]
     },
     "metadata": {},
     "output_type": "display_data"
    },
    {
     "name": "stdout",
     "output_type": "stream",
     "text": [
      "\n"
     ]
    },
    {
     "data": {
      "application/vnd.jupyter.widget-view+json": {
       "model_id": "b6a52ab7600c4622bad612fffa55dcde",
       "version_major": 2,
       "version_minor": 0
      },
      "text/plain": [
       "HBox(children=(FloatProgress(value=1.0, bar_style='info', description='epoch 7', max=1.0, style=ProgressStyle(…"
      ]
     },
     "metadata": {},
     "output_type": "display_data"
    },
    {
     "name": "stdout",
     "output_type": "stream",
     "text": [
      "\n"
     ]
    },
    {
     "data": {
      "application/vnd.jupyter.widget-view+json": {
       "model_id": "d8a4142636784c62a8503f438b89125a",
       "version_major": 2,
       "version_minor": 0
      },
      "text/plain": [
       "HBox(children=(FloatProgress(value=1.0, bar_style='info', description='epoch 8', max=1.0, style=ProgressStyle(…"
      ]
     },
     "metadata": {},
     "output_type": "display_data"
    },
    {
     "name": "stdout",
     "output_type": "stream",
     "text": [
      "\n"
     ]
    },
    {
     "data": {
      "application/vnd.jupyter.widget-view+json": {
       "model_id": "ccff3d0269a143a88c03652be86d7bc5",
       "version_major": 2,
       "version_minor": 0
      },
      "text/plain": [
       "HBox(children=(FloatProgress(value=1.0, bar_style='info', description='epoch 9', max=1.0, style=ProgressStyle(…"
      ]
     },
     "metadata": {},
     "output_type": "display_data"
    },
    {
     "name": "stdout",
     "output_type": "stream",
     "text": [
      "\n",
      "\n"
     ]
    }
   ],
   "source": [
    "conveyor_network_ng_emb_losses = qnetwork_pretrain(conveyor_network_ng_emb, shuffle(data_conv), epochs=10,\n",
    "                                                   embedding=conv_emb)"
   ]
  },
  {
   "cell_type": "code",
   "execution_count": 68,
   "metadata": {},
   "outputs": [
    {
     "data": {
      "application/vnd.jupyter.widget-view+json": {
       "model_id": "4e9151d1e7a34dff9679a201999646d2",
       "version_major": 2,
       "version_minor": 0
      },
      "text/plain": [
       "HBox(children=(FloatProgress(value=0.0, max=20.0), HTML(value='')))"
      ]
     },
     "metadata": {},
     "output_type": "display_data"
    },
    {
     "data": {
      "application/vnd.jupyter.widget-view+json": {
       "model_id": "aeda0b1897544da7a5f8b5693dbb5fbe",
       "version_major": 2,
       "version_minor": 0
      },
      "text/plain": [
       "HBox(children=(FloatProgress(value=1.0, bar_style='info', description='epoch 0', max=1.0, style=ProgressStyle(…"
      ]
     },
     "metadata": {},
     "output_type": "display_data"
    },
    {
     "name": "stdout",
     "output_type": "stream",
     "text": [
      "\n"
     ]
    },
    {
     "data": {
      "application/vnd.jupyter.widget-view+json": {
       "model_id": "df2950d46bd747c680406b9fd84e6933",
       "version_major": 2,
       "version_minor": 0
      },
      "text/plain": [
       "HBox(children=(FloatProgress(value=1.0, bar_style='info', description='epoch 1', max=1.0, style=ProgressStyle(…"
      ]
     },
     "metadata": {},
     "output_type": "display_data"
    },
    {
     "name": "stdout",
     "output_type": "stream",
     "text": [
      "\n"
     ]
    },
    {
     "data": {
      "application/vnd.jupyter.widget-view+json": {
       "model_id": "9d8c3ce7aae54e51b098a7273d47c155",
       "version_major": 2,
       "version_minor": 0
      },
      "text/plain": [
       "HBox(children=(FloatProgress(value=1.0, bar_style='info', description='epoch 2', max=1.0, style=ProgressStyle(…"
      ]
     },
     "metadata": {},
     "output_type": "display_data"
    },
    {
     "name": "stdout",
     "output_type": "stream",
     "text": [
      "\n"
     ]
    },
    {
     "data": {
      "application/vnd.jupyter.widget-view+json": {
       "model_id": "33def9cc7a4e48dca971da5beddf8102",
       "version_major": 2,
       "version_minor": 0
      },
      "text/plain": [
       "HBox(children=(FloatProgress(value=1.0, bar_style='info', description='epoch 3', max=1.0, style=ProgressStyle(…"
      ]
     },
     "metadata": {},
     "output_type": "display_data"
    },
    {
     "name": "stdout",
     "output_type": "stream",
     "text": [
      "\n"
     ]
    },
    {
     "data": {
      "application/vnd.jupyter.widget-view+json": {
       "model_id": "cd3c67ddac444e89864189350f44e1b1",
       "version_major": 2,
       "version_minor": 0
      },
      "text/plain": [
       "HBox(children=(FloatProgress(value=1.0, bar_style='info', description='epoch 4', max=1.0, style=ProgressStyle(…"
      ]
     },
     "metadata": {},
     "output_type": "display_data"
    },
    {
     "name": "stdout",
     "output_type": "stream",
     "text": [
      "\n"
     ]
    },
    {
     "data": {
      "application/vnd.jupyter.widget-view+json": {
       "model_id": "db58ba02c6654b62833b95c3dc9218ac",
       "version_major": 2,
       "version_minor": 0
      },
      "text/plain": [
       "HBox(children=(FloatProgress(value=1.0, bar_style='info', description='epoch 5', max=1.0, style=ProgressStyle(…"
      ]
     },
     "metadata": {},
     "output_type": "display_data"
    },
    {
     "name": "stdout",
     "output_type": "stream",
     "text": [
      "\n"
     ]
    },
    {
     "data": {
      "application/vnd.jupyter.widget-view+json": {
       "model_id": "aa3dd080821b4ac1b31357e3d67e7e18",
       "version_major": 2,
       "version_minor": 0
      },
      "text/plain": [
       "HBox(children=(FloatProgress(value=1.0, bar_style='info', description='epoch 6', max=1.0, style=ProgressStyle(…"
      ]
     },
     "metadata": {},
     "output_type": "display_data"
    },
    {
     "name": "stdout",
     "output_type": "stream",
     "text": [
      "\n"
     ]
    },
    {
     "data": {
      "application/vnd.jupyter.widget-view+json": {
       "model_id": "a831434cf43b47858e76209a76ad7139",
       "version_major": 2,
       "version_minor": 0
      },
      "text/plain": [
       "HBox(children=(FloatProgress(value=1.0, bar_style='info', description='epoch 7', max=1.0, style=ProgressStyle(…"
      ]
     },
     "metadata": {},
     "output_type": "display_data"
    },
    {
     "name": "stdout",
     "output_type": "stream",
     "text": [
      "\n"
     ]
    },
    {
     "data": {
      "application/vnd.jupyter.widget-view+json": {
       "model_id": "fa078932efb74cb586c4231bf100c5fe",
       "version_major": 2,
       "version_minor": 0
      },
      "text/plain": [
       "HBox(children=(FloatProgress(value=1.0, bar_style='info', description='epoch 8', max=1.0, style=ProgressStyle(…"
      ]
     },
     "metadata": {},
     "output_type": "display_data"
    },
    {
     "name": "stdout",
     "output_type": "stream",
     "text": [
      "\n"
     ]
    },
    {
     "data": {
      "application/vnd.jupyter.widget-view+json": {
       "model_id": "c2bd4db5571c4f1898f2191188c719ac",
       "version_major": 2,
       "version_minor": 0
      },
      "text/plain": [
       "HBox(children=(FloatProgress(value=1.0, bar_style='info', description='epoch 9', max=1.0, style=ProgressStyle(…"
      ]
     },
     "metadata": {},
     "output_type": "display_data"
    },
    {
     "name": "stdout",
     "output_type": "stream",
     "text": [
      "\n"
     ]
    },
    {
     "data": {
      "application/vnd.jupyter.widget-view+json": {
       "model_id": "e22d677cf28345ada5d34384cf1f1ece",
       "version_major": 2,
       "version_minor": 0
      },
      "text/plain": [
       "HBox(children=(FloatProgress(value=1.0, bar_style='info', description='epoch 10', max=1.0, style=ProgressStyle…"
      ]
     },
     "metadata": {},
     "output_type": "display_data"
    },
    {
     "name": "stdout",
     "output_type": "stream",
     "text": [
      "\n"
     ]
    },
    {
     "data": {
      "application/vnd.jupyter.widget-view+json": {
       "model_id": "e5f91cff0af24199b53587289c7b28c5",
       "version_major": 2,
       "version_minor": 0
      },
      "text/plain": [
       "HBox(children=(FloatProgress(value=1.0, bar_style='info', description='epoch 11', max=1.0, style=ProgressStyle…"
      ]
     },
     "metadata": {},
     "output_type": "display_data"
    },
    {
     "name": "stdout",
     "output_type": "stream",
     "text": [
      "\n"
     ]
    },
    {
     "data": {
      "application/vnd.jupyter.widget-view+json": {
       "model_id": "2e783f150e504dc8bdad117879c9f0d2",
       "version_major": 2,
       "version_minor": 0
      },
      "text/plain": [
       "HBox(children=(FloatProgress(value=1.0, bar_style='info', description='epoch 12', max=1.0, style=ProgressStyle…"
      ]
     },
     "metadata": {},
     "output_type": "display_data"
    },
    {
     "name": "stdout",
     "output_type": "stream",
     "text": [
      "\n"
     ]
    },
    {
     "data": {
      "application/vnd.jupyter.widget-view+json": {
       "model_id": "27147268d2874a4b89d356edbfb0cbad",
       "version_major": 2,
       "version_minor": 0
      },
      "text/plain": [
       "HBox(children=(FloatProgress(value=1.0, bar_style='info', description='epoch 13', max=1.0, style=ProgressStyle…"
      ]
     },
     "metadata": {},
     "output_type": "display_data"
    },
    {
     "name": "stdout",
     "output_type": "stream",
     "text": [
      "\n"
     ]
    },
    {
     "data": {
      "application/vnd.jupyter.widget-view+json": {
       "model_id": "ecc3f5e555554c5599fbc2dbb80c1ea6",
       "version_major": 2,
       "version_minor": 0
      },
      "text/plain": [
       "HBox(children=(FloatProgress(value=1.0, bar_style='info', description='epoch 14', max=1.0, style=ProgressStyle…"
      ]
     },
     "metadata": {},
     "output_type": "display_data"
    },
    {
     "name": "stdout",
     "output_type": "stream",
     "text": [
      "\n"
     ]
    },
    {
     "data": {
      "application/vnd.jupyter.widget-view+json": {
       "model_id": "638518b9633044b5952cc440892cfda7",
       "version_major": 2,
       "version_minor": 0
      },
      "text/plain": [
       "HBox(children=(FloatProgress(value=1.0, bar_style='info', description='epoch 15', max=1.0, style=ProgressStyle…"
      ]
     },
     "metadata": {},
     "output_type": "display_data"
    },
    {
     "name": "stdout",
     "output_type": "stream",
     "text": [
      "\n"
     ]
    },
    {
     "data": {
      "application/vnd.jupyter.widget-view+json": {
       "model_id": "2b1477d92e5f4d7681783272b06a9f2d",
       "version_major": 2,
       "version_minor": 0
      },
      "text/plain": [
       "HBox(children=(FloatProgress(value=1.0, bar_style='info', description='epoch 16', max=1.0, style=ProgressStyle…"
      ]
     },
     "metadata": {},
     "output_type": "display_data"
    },
    {
     "name": "stdout",
     "output_type": "stream",
     "text": [
      "\n"
     ]
    },
    {
     "data": {
      "application/vnd.jupyter.widget-view+json": {
       "model_id": "12aebddadb1648b7b4148d4cffd249d9",
       "version_major": 2,
       "version_minor": 0
      },
      "text/plain": [
       "HBox(children=(FloatProgress(value=1.0, bar_style='info', description='epoch 17', max=1.0, style=ProgressStyle…"
      ]
     },
     "metadata": {},
     "output_type": "display_data"
    },
    {
     "name": "stdout",
     "output_type": "stream",
     "text": [
      "\n"
     ]
    },
    {
     "data": {
      "application/vnd.jupyter.widget-view+json": {
       "model_id": "0944db3c571a41b1a3f67a92c669ac7a",
       "version_major": 2,
       "version_minor": 0
      },
      "text/plain": [
       "HBox(children=(FloatProgress(value=1.0, bar_style='info', description='epoch 18', max=1.0, style=ProgressStyle…"
      ]
     },
     "metadata": {},
     "output_type": "display_data"
    },
    {
     "name": "stdout",
     "output_type": "stream",
     "text": [
      "\n"
     ]
    },
    {
     "data": {
      "application/vnd.jupyter.widget-view+json": {
       "model_id": "0feefbc395904083961d42409745a8de",
       "version_major": 2,
       "version_minor": 0
      },
      "text/plain": [
       "HBox(children=(FloatProgress(value=1.0, bar_style='info', description='epoch 19', max=1.0, style=ProgressStyle…"
      ]
     },
     "metadata": {},
     "output_type": "display_data"
    },
    {
     "name": "stdout",
     "output_type": "stream",
     "text": [
      "\n",
      "\n"
     ]
    }
   ],
   "source": [
    "conveyor_network_ng_emb_ws_losses = qnetwork_pretrain(conveyor_network_ng_emb_ws, shuffle(data_conv), epochs=20,\n",
    "                                                      embedding=conv_emb)"
   ]
  },
  {
   "cell_type": "code",
   "execution_count": 69,
   "metadata": {},
   "outputs": [
    {
     "data": {
      "image/png": "[encoded data removed]",
      "text/plain": [
       "<Figure size 936x216 with 1 Axes>"
      ]
     },
     "metadata": {
      "needs_background": "light"
     },
     "output_type": "display_data"
    }
   ],
   "source": [
    "plot_losses({\n",
    "    'no_inp': conveyor_network_ng_emb_losses,\n",
    "    'work_status': conveyor_network_ng_emb_ws_losses,\n",
    "})"
   ]
  },
  {
   "cell_type": "code",
   "execution_count": null,
   "metadata": {},
   "outputs": [],
   "source": []
  }
 ],
 "metadata": {
  "kernelspec": {
   "display_name": "Python 3",
   "language": "python",
   "name": "python3"
  },
  "language_info": {
   "codemirror_mode": {
    "name": "ipython",
    "version": 3
   },
   "file_extension": ".py",
   "mimetype": "text/x-python",
   "name": "python",
   "nbconvert_exporter": "python",
   "pygments_lexer": "ipython3",
   "version": "3.7.6"
  }
 },
 "nbformat": 4,
 "nbformat_minor": 4
}
