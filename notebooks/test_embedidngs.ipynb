{
 "cells": [
  {
   "cell_type": "code",
   "execution_count": null,
   "metadata": {},
   "outputs": [],
   "source": [
    "%matplotlib inline"
   ]
  },
  {
   "cell_type": "code",
   "execution_count": null,
   "metadata": {},
   "outputs": [],
   "source": [
    "import networkx as nx\n",
    "import numpy as np\n",
    "import matplotlib.pyplot as plt\n",
    "import seaborn as sns"
   ]
  },
  {
   "cell_type": "code",
   "execution_count": null,
   "metadata": {},
   "outputs": [],
   "source": [
    "%load_ext autoreload\n",
    "%autoreload 2\n",
    "\n",
    "from dqnroute import *"
   ]
  },
  {
   "cell_type": "code",
   "execution_count": null,
   "metadata": {},
   "outputs": [],
   "source": [
    "def plot_2d_embedding(X):\n",
    "    fig, ax = plt.subplots()\n",
    "    ax.scatter(X[:, 0], X[:, 1])\n",
    "    \n",
    "    for i, v in enumerate(X):\n",
    "        ax.annotate(str(i), (v[0], v[1]))\n",
    "        \n",
    "def plot_graph(G, figsize=(10, 6), node_size=800, edge_label=None,\n",
    "               font_color='white', save_path=None):\n",
    "    fig, ax = plt.subplots(figsize=figsize)\n",
    "    ax.axis('off')\n",
    "    \n",
    "    degrees = [G.degree(n) for n in G.nodes]\n",
    "    avg_degree = sum(degrees) / len(degrees)\n",
    "    sizes = [node_size * np.log(d / avg_degree + 2) for d in degrees]\n",
    "    \n",
    "    pos = nx.kamada_kawai_layout(G)\n",
    "    nx.draw_networkx(G, pos=pos, ax=ax, with_labels=True, cmap=plt.get_cmap('viridis'),\n",
    "                     node_size=sizes, font_color=font_color)\n",
    "    \n",
    "    if edge_label is not None:\n",
    "        labels = nx.get_edge_attributes(G, edge_label)\n",
    "        nx.draw_networkx_edge_labels(G, pos=pos, ax=ax, edge_labels=labels)\n",
    "    \n",
    "    if save_path is not None:\n",
    "        fig.savefig('../img/' + save_path, bbox_inches='tight')\n",
    "        \n",
    "def scale_edge_weights(G, coeff):\n",
    "    G2 = G.copy()\n",
    "    for (u, v, ps) in G2.edges(data=True):\n",
    "        G2[u][v]['weight'] = coeff * ps.get('weight', 1)\n",
    "    return G2"
   ]
  },
  {
   "cell_type": "code",
   "execution_count": null,
   "metadata": {},
   "outputs": [],
   "source": [
    "np.random.seed(42)"
   ]
  },
  {
   "cell_type": "code",
   "execution_count": null,
   "metadata": {},
   "outputs": [],
   "source": [
    "A = np.random.randint(0, 2, size=(10, 10))\n",
    "G = nx.from_numpy_array(A, create_using=nx.DiGraph)\n",
    "G.remove_edges_from(G.selfloop_edges())"
   ]
  },
  {
   "cell_type": "code",
   "execution_count": null,
   "metadata": {},
   "outputs": [],
   "source": [
    "plot_graph(G)"
   ]
  },
  {
   "cell_type": "code",
   "execution_count": null,
   "metadata": {},
   "outputs": [],
   "source": [
    "emb = LaplacianEigenmap(dim=2)\n",
    "emb.fit(G)\n",
    "X = emb.transform(np.arange(10))\n",
    "X"
   ]
  },
  {
   "cell_type": "code",
   "execution_count": null,
   "metadata": {},
   "outputs": [],
   "source": [
    "plot_2d_embedding(X)"
   ]
  },
  {
   "cell_type": "code",
   "execution_count": null,
   "metadata": {},
   "outputs": [],
   "source": [
    "emb2 = LaplacianEigenmap(dim=2)\n",
    "emb2.fit(scale_edge_weights(G, 10))\n",
    "X2 = emb2.transform(np.arange(10))\n",
    "plot_2d_embedding(X2)"
   ]
  },
  {
   "cell_type": "code",
   "execution_count": null,
   "metadata": {},
   "outputs": [],
   "source": [
    "random_G = nx.barabasi_albert_graph(100, 3, seed=42)\n",
    "for u, v in random_G.edges():\n",
    "    random_G[u][v]['weight'] = np.random.randint(1, 5)"
   ]
  },
  {
   "cell_type": "code",
   "execution_count": null,
   "metadata": {},
   "outputs": [],
   "source": [
    "plot_graph(random_G)"
   ]
  },
  {
   "cell_type": "code",
   "execution_count": null,
   "metadata": {},
   "outputs": [],
   "source": [
    "emb3 = LaplacianEigenmap(dim=8)"
   ]
  },
  {
   "cell_type": "code",
   "execution_count": null,
   "metadata": {},
   "outputs": [],
   "source": [
    "%%time\n",
    "emb3.fit(random_G)"
   ]
  },
  {
   "cell_type": "code",
   "execution_count": null,
   "metadata": {},
   "outputs": [],
   "source": [
    "gen_params = {\n",
    "    'type': 'barabasi-albert',\n",
    "    'n': 40,\n",
    "    'm': 3,\n",
    "    'seed': 42,\n",
    "    'min-latency': 10,\n",
    "    'max-latency': 20,\n",
    "}\n",
    "random_G2 = gen_network_graph(gen_params)\n",
    "plot_graph(random_G2.to_undirected(), node_size=500, save_path='random-graph-40n.pdf')"
   ]
  },
  {
   "cell_type": "code",
   "execution_count": null,
   "metadata": {},
   "outputs": [],
   "source": [
    "gen_params_2 = {\n",
    "    'type': 'barabasi-albert',\n",
    "    'n': 10,\n",
    "    'm': 2,\n",
    "    'seed': 42,\n",
    "    'min-latency': 10,\n",
    "    'max-latency': 20,\n",
    "}\n",
    "random_small = gen_network_graph(gen_params_2)\n",
    "plot_graph(random_small.to_undirected(), edge_label='latency', save_path='random-graph-10n.pdf')"
   ]
  },
  {
   "cell_type": "code",
   "execution_count": null,
   "metadata": {},
   "outputs": [],
   "source": [
    "import yaml\n",
    "\n",
    "with open('../launches/conveyor_energy_test.yaml') as f:\n",
    "    run_params = yaml.safe_load(f)\n",
    "    \n",
    "layout = run_params['configuration']\n",
    "top_G = make_conveyor_topology_graph(layout)\n",
    "conn_G = make_conveyor_conn_graph(layout)"
   ]
  },
  {
   "cell_type": "code",
   "execution_count": null,
   "metadata": {},
   "outputs": [],
   "source": [
    "conveyor_edges(top_G, 2)"
   ]
  },
  {
   "cell_type": "code",
   "execution_count": null,
   "metadata": {},
   "outputs": [],
   "source": [
    "plot_graph(top_G, edge_label='length', font_color='black', node_size=1600)"
   ]
  },
  {
   "cell_type": "code",
   "execution_count": null,
   "metadata": {},
   "outputs": [],
   "source": [
    "plot_graph(conn_G, font_color='black', node_size=1000)"
   ]
  },
  {
   "cell_type": "code",
   "execution_count": null,
   "metadata": {},
   "outputs": [],
   "source": [
    "ls = list(range(100))"
   ]
  },
  {
   "cell_type": "code",
   "execution_count": null,
   "metadata": {},
   "outputs": [],
   "source": [
    "binary_search(ls, differs_from(100), preference='next')"
   ]
  },
  {
   "cell_type": "code",
   "execution_count": null,
   "metadata": {},
   "outputs": [],
   "source": []
  }
 ],
 "metadata": {
  "kernelspec": {
   "display_name": "Python 3",
   "language": "python",
   "name": "python3"
  },
  "language_info": {
   "codemirror_mode": {
    "name": "ipython",
    "version": 3
   },
   "file_extension": ".py",
   "mimetype": "text/x-python",
   "name": "python",
   "nbconvert_exporter": "python",
   "pygments_lexer": "ipython3"
  }
 },
 "nbformat": 4,
 "nbformat_minor": 2
}
