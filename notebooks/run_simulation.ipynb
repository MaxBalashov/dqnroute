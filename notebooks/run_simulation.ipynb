{
 "cells": [
  {
   "cell_type": "code",
   "execution_count": null,
   "metadata": {},
   "outputs": [],
   "source": [
    "%matplotlib inline"
   ]
  },
  {
   "cell_type": "code",
   "execution_count": null,
   "metadata": {},
   "outputs": [],
   "source": [
    "import yaml\n",
    "import sys\n",
    "import traceback\n",
    "import logging\n",
    "import contextlib\n",
    "import numpy as np\n",
    "import pandas as pd\n",
    "import matplotlib.pyplot as plt\n",
    "import seaborn as sns\n",
    "import torch\n",
    "import torch.nn as nn\n",
    "\n",
    "from tqdm import tqdm_notebook\n",
    "from typing import List, Optional, Union\n",
    "from torch import multiprocessing as mp\n",
    "from multiprocessing.pool import Pool\n",
    "from multiprocessing import Queue, Manager"
   ]
  },
  {
   "cell_type": "code",
   "execution_count": null,
   "metadata": {},
   "outputs": [],
   "source": [
    "%load_ext autoreload\n",
    "%autoreload 2\n",
    "\n",
    "from dqnroute import *"
   ]
  },
  {
   "cell_type": "code",
   "execution_count": null,
   "metadata": {},
   "outputs": [],
   "source": [
    "logger = logging.getLogger(DQNROUTE_LOGGER)\n",
    "TORCH_MODELS_DIR = '../torch_models'\n",
    "LOG_DATA_DIR = '../logs/runs'\n",
    "\n",
    "np.set_printoptions(linewidth=500)"
   ]
  },
  {
   "cell_type": "code",
   "execution_count": null,
   "metadata": {},
   "outputs": [],
   "source": [
    "df = pd.DataFrame(columns=['kek', 'mda', 'time_foo'])\n",
    "df.columns.str.startswith('time')"
   ]
  },
  {
   "cell_type": "code",
   "execution_count": null,
   "metadata": {},
   "outputs": [],
   "source": [
    "_legend_txt_replace = {\n",
    "    'networks': {\n",
    "    'link_state': 'Shortest paths',\n",
    "    'simple_q': 'Q-routing',\n",
    "    'pred_q': 'PQ-routing',\n",
    "    'glob_dyn': 'Global-dynamic',\n",
    "    'dqn': 'DQN',\n",
    "    'dqn_oneout': 'DQN (1-out)',\n",
    "    'dqn_emb': 'DQN-LE',\n",
    "    'centralized_simple': 'Centralized control'\n",
    "    },\n",
    "    'conveyors': {\n",
    "    'link_state': 'Vyatkin-Black',\n",
    "    'simple_q': 'Q-routing',\n",
    "    'pred_q': 'PQ-routing',\n",
    "    'glob_dyn': 'Global-dynamic',\n",
    "    'dqn': 'DQN',\n",
    "    'dqn_oneout': 'DQN (1-out)',\n",
    "    'dqn_emb': 'DQN-LE',\n",
    "    'centralized_simple': 'BSR'\n",
    "    }\n",
    "}\n",
    "\n",
    "_targets = {'time': 'avg','energy': 'sum', 'collisions': 'sum'}\n",
    "\n",
    "_ylabels = {\n",
    "    'time': 'Среднее время в пути',\n",
    "    'energy': 'Суммарные энергозатраты',\n",
    "    'collisions': 'Столкновения сумок'\n",
    "}\n",
    "\n",
    "def print_sums(df):\n",
    "    types = set(df['router_type'])\n",
    "    for tp in types:\n",
    "        x = df.loc[df['router_type']==tp, 'count'].sum()\n",
    "        txt = _legend_txt_replace.get(tp, tp)\n",
    "        print('  {}: {}'.format(txt, x))\n",
    "\n",
    "def plot_data(data, meaning='time', figsize=(15,5), xlim=None, ylim=None,\n",
    "              xlabel='Время симулятора', ylabel=None,\n",
    "              font_size=14, title=None, save_path=None,\n",
    "              draw_collisions=False, context='networks', **kwargs):\n",
    "    if 'time' not in data.columns:\n",
    "        datas = split_dataframe(data, preserved_cols=['router_type', 'seed'])\n",
    "        good_time = None\n",
    "        for tag, df in datas:\n",
    "            if tag == 'collisions' and not draw_collisions:\n",
    "                print('Количество столкновений:')\n",
    "                print_sums(df)\n",
    "                continue\n",
    "                \n",
    "            xlim = kwargs.get(tag+'_xlim', xlim)\n",
    "            ylim = kwargs.get(tag+'_ylim', ylim)\n",
    "            save_path = kwargs.get(tag+'_save_path', save_path)\n",
    "            plot_data(df, meaning=tag, figsize=figsize, xlim=xlim, ylim=ylim,\n",
    "                      xlabel=xlabel, ylabel=ylabel, font_size=font_size,\n",
    "                      title=title, save_path=save_path, context='conveyors')\n",
    "        return \n",
    "    \n",
    "    target = _targets[meaning]\n",
    "    if ylabel is None:\n",
    "        ylabel = _ylabels[meaning]\n",
    "        \n",
    "    fig = plt.figure(figsize=figsize)\n",
    "    ax = sns.lineplot(x='time', y=target, hue='router_type', data=data,\n",
    "                      err_kws={'alpha': 0.1})\n",
    "    \n",
    "    handles, labels = ax.get_legend_handles_labels()\n",
    "    new_labels = list(map(lambda l: _legend_txt_replace[context].get(l, l), labels[1:]))\n",
    "    ax.legend(handles=handles[1:], labels=new_labels, fontsize=font_size)\n",
    "        \n",
    "    if xlim is not None:\n",
    "        ax.set_xlim(xlim)\n",
    "    if ylim is not None:\n",
    "        ax.set_ylim(ylim)\n",
    "    if title is not None:\n",
    "        ax.set_title(title)\n",
    "    \n",
    "    ax.set_xlabel(xlabel, fontsize=font_size)\n",
    "    ax.set_ylabel(ylabel, fontsize=font_size)\n",
    "    \n",
    "    plt.show(fig)\n",
    "    \n",
    "    if save_path is not None:\n",
    "        fig.savefig('../img/' + save_path, bbox_inches='tight')\n",
    "\n",
    "def split_data(dct):\n",
    "    results = []\n",
    "    \n",
    "    def add_res(i, key, val):\n",
    "        while len(results) <= i:\n",
    "            results.append({})\n",
    "        results[i][key] = val\n",
    "    \n",
    "    for (key, vals) in dct.items():\n",
    "        for (i, val) in enumerate(vals):\n",
    "            add_res(i, key, val)\n",
    "    return tuple(results)\n",
    "    \n",
    "def combine_launch_data(launch_data):\n",
    "    dfs = []\n",
    "    for (job_id, data) in launch_data.items():\n",
    "        router_type, seed = un_job_id(job_id)\n",
    "        df = data.copy()\n",
    "        add_cols(df, router_type=router_type, seed=seed)\n",
    "        dfs.append(df)\n",
    "    return pd.concat(dfs, axis=0)"
   ]
  },
  {
   "cell_type": "code",
   "execution_count": null,
   "metadata": {},
   "outputs": [],
   "source": [
    "class DummyTqdmFile(object):\n",
    "    \"\"\"Dummy file-like that will write to tqdm\"\"\"\n",
    "    file = None\n",
    "    def __init__(self, file):\n",
    "        self.file = file\n",
    "\n",
    "    def write(self, x):\n",
    "        # Avoid print() second call (useless \\n)\n",
    "        if len(x.rstrip()) > 0:\n",
    "            tqdm.write(x, file=self.file)\n",
    "\n",
    "    def flush(self):\n",
    "        return getattr(self.file, \"flush\", lambda: None)()\n",
    "\n",
    "@contextlib.contextmanager\n",
    "def std_out_err_redirect_tqdm():\n",
    "    orig_out_err = sys.stdout, sys.stderr\n",
    "    try:\n",
    "        sys.stdout, sys.stderr = map(DummyTqdmFile, orig_out_err)\n",
    "        yield orig_out_err[0]\n",
    "    # Relay exceptions\n",
    "    except Exception as exc:\n",
    "        raise exc\n",
    "    # Always restore sys.stdout/err if necessary\n",
    "    finally:\n",
    "        sys.stdout, sys.stderr = orig_out_err"
   ]
  },
  {
   "cell_type": "code",
   "execution_count": null,
   "metadata": {},
   "outputs": [],
   "source": [
    "def run_network_scenario_file(file: str, **kwargs):\n",
    "    \"\"\"\n",
    "    Helper wrapper around `NetworkEnvironment` which should run in a separate thread.\n",
    "    \"\"\"        \n",
    "    return run_simulation(NetworkRunner, run_params=file, **kwargs)\n",
    "\n",
    "def run_conveyor_scenario_file(file: str, **kwargs):\n",
    "    \"\"\"\n",
    "    Helper wrapper around `ConveyorsEnvironment` which should run in a separate thread.\n",
    "    \"\"\"\n",
    "    return run_simulation(ConveyorsRunner, run_params=file, **kwargs)\n",
    "\n",
    "def run_single(func, router_type: str, random_seed: int, **kwargs):\n",
    "    job_id = mk_job_id(router_type, random_seed)\n",
    "    with tqdm_notebook(desc=job_id) as bar:\n",
    "        queue = DummyProgressbarQueue(bar)\n",
    "        results = func(router_type=router_type, random_seed=random_seed,\n",
    "                       progress_queue=queue, **kwargs) \n",
    "     \n",
    "    if type(results) is tuple:\n",
    "        for df in results:\n",
    "            add_cols(df, router_type=router_type, seed=random_seed)\n",
    "    else:\n",
    "        add_cols(results, router_type=router_type, seed=random_seed)\n",
    "    return results\n",
    "\n",
    "def exc_print(e):\n",
    "    print(''.join(traceback.format_exception(etype=type(e), value=e, tb=e.__traceback__)))\n",
    "\n",
    "def run_threaded(func, router_types: List[str], random_seeds: List[int],\n",
    "                 ignore_saved: Union[bool, List[str]] = [], *args, **kwargs):\n",
    "    \"\"\"\n",
    "    Runs several scenario runners in multiple threads and displays progress bars for them\n",
    "    \"\"\"\n",
    "\n",
    "    pool = Pool()\n",
    "    m = Manager()\n",
    "    queue = m.Queue()\n",
    "    jobs = {}\n",
    "    bars = {}\n",
    "    if ignore_saved == True:\n",
    "        ignore_saved = router_types\n",
    "    \n",
    "    for router_type in router_types:\n",
    "        for seed in random_seeds:\n",
    "            job_id = mk_job_id(router_type, seed)\n",
    "            job_args = dict(kwargs, router_type=router_type, random_seed=seed,\n",
    "                            ignore_saved=router_type in ignore_saved, progress_queue=queue)\n",
    "            jobs[job_id] = pool.apply_async(func, args=args, kwds=job_args,\n",
    "                                            error_callback=exc_print)\n",
    "            bars[job_id] = tqdm_notebook(desc=job_id)\n",
    "\n",
    "    while len(bars) > 0:\n",
    "        (job_id, val) = queue.get()\n",
    "        if val is None:\n",
    "            bars.pop(job_id).close()\n",
    "        else:\n",
    "            bars[job_id].update(val)\n",
    "        \n",
    "    results = {job_id: job.get() for (job_id, job) in jobs.items()}\n",
    "    return combine_launch_data(results)"
   ]
  },
  {
   "cell_type": "code",
   "execution_count": null,
   "metadata": {},
   "outputs": [],
   "source": [
    "results_no_pretrain = pd.read_csv('../logs/results5_no_pretrain_dqn.csv', index_col=0)\n",
    "results5_ls = pd.read_csv('../logs/results5_link_state.csv', index_col=0)\n",
    "res5_comb = combine_launch_data({'link_state-42': results5_ls, 'dqn-42': results_no_pretrain})\n",
    "plot_data(res5_comb, ylim=(0, 700), xlim=(0, 40000), ylabel='Среднее время в пути')"
   ]
  },
  {
   "cell_type": "code",
   "execution_count": null,
   "metadata": {},
   "outputs": [],
   "source": [
    "launch6_data = run_threaded(run_network_scenario_file, random_seeds=[42, 43, 44],\n",
    "                            file='../launches/launch6.yaml', router_types=['link_state', 'simple_q', 'dqn', 'dqn_emb'],\n",
    "                            ignore_saved=[], progress_step=500)"
   ]
  },
  {
   "cell_type": "code",
   "execution_count": null,
   "metadata": {},
   "outputs": [],
   "source": [
    "plot_data(launch6_data, figsize=(10,6), ylim=(0, 150))написать такой отзыв?"
   ]
  },
  {
   "cell_type": "code",
   "execution_count": null,
   "metadata": {},
   "outputs": [],
   "source": [
    "launch8_data = run_threaded(run_network_scenario_file, file='../launches/launch8.yaml',\n",
    "                            router_types=['link_state', 'simple_q', 'dqn', 'dqn_emb'], progress_step=500,\n",
    "                            ignore_saved=['link_state', 'simple_q'], random_seeds=[42, 43, 44])"
   ]
  },
  {
   "cell_type": "code",
   "execution_count": null,
   "metadata": {},
   "outputs": [],
   "source": [
    "plot_data(launch8_data, figsize=(15, 10), ylim=(35, 140), xlim=(-300, 35000))"
   ]
  },
  {
   "cell_type": "code",
   "execution_count": null,
   "metadata": {},
   "outputs": [],
   "source": [
    "написать такой отзыв?launch_calm_data = run_threaded(run_network_scenario_file, file='../launches/launch_long_calm.yaml',\n",
    "                                router_types=['link_state', 'dqn', 'dqn_emb'], progress_step=500,\n",
    "                                ignore_saved=[], random_seeds=[42, 43, 44])"
   ]
  },
  {
   "cell_type": "code",
   "execution_count": null,
   "metadata": {},
   "outputs": [],
   "source": [
    "plot_data(combine_launch_data(launch_calm_data), xlim=(0, 40000), ylim=(0, 300))"
   ]
  },
  {
   "cell_type": "code",
   "execution_count": null,
   "metadata": {},
   "outputs": [],
   "source": [
    "launch_rand_data = run_threaded(run_network_scenario_file, file='../launches/launch_dqn_transfer.yaml',\n",
    "                                router_types=['link_state', 'dqn', 'dqn_emb'], progress_step=500,\n",
    "                                ignore_saved=[], random_seeds=[42, 43, 44])"
   ]
  },
  {
   "cell_type": "code",
   "execution_count": null,
   "metadata": {},
   "outputs": [],
   "source": [
    "plot_data(combine_launch_data(launch_rand_data), figsize=(10, 6),\n",
    "          ylim=(20, 150), xlim=(-500, 20000), save_path='learning-transfer-small.pdf')"
   ]
  },
  {
   "cell_type": "code",
   "execution_count": null,
   "metadata": {},
   "outputs": [],
   "source": [
    "launch_rand_data_big = run_threaded(run_network_scenario_file, file='../launches/launch_rand_big.yaml',\n",
    "                                    router_types=['link_state', 'simple_q', 'dqn_emb'], progress_step=500,\n",
    "                                    ignore_saved=[], random_seeds=[42, 43, 44])"
   ]
  },
  {
   "cell_type": "code",
   "execution_count": null,
   "metadata": {},
   "outputs": [],
   "source": [
    "launch_rand_data_comb = combine_launch_data(launch_rand_data_big)\n",
    "plot_data(launch_rand_data_comb, figsize=(6, 6), ylim=(30, 300), xlim=(-500, 50000),\n",
    "          save_path='learning-transfer-big-low-load.pdf')"
   ]
  },
  {
   "cell_type": "code",
   "execution_count": null,
   "metadata": {},
   "outputs": [],
   "source": [
    "debug_data = run_single(run_conveyor_scenario_file, file='../launches/conveyor_energy_test_2.yaml',\n",
    "                        router_type='simple_q', ignore_saved=True,\n",
    "                        random_seed=42, progress_step=100)"
   ]
  },
  {
   "cell_type": "code",
   "execution_count": null,
   "metadata": {},
   "outputs": [],
   "source": [
    "plot_data(debug_data)"
   ]
  },
  {
   "cell_type": "code",
   "execution_count": null,
   "metadata": {},
   "outputs": [],
   "source": [
    "conveyor_data_full = run_threaded(run_conveyor_scenario_file, file='../launches/conveyor_energy_test.yaml',\n",
    "                                  router_types=['link_state', 'simple_q', 'dqn_emb', 'centralized_simple'], progress_step=500,\n",
    "                                  ignore_saved=['centralized_simple'], random_seeds=[42, 43, 44])"
   ]
  },
  {
   "cell_type": "code",
   "execution_count": null,
   "metadata": {},
   "outputs": [],
   "source": [
    "plot_data(conveyor_data_full, figsize=(10, 10), font_size=16, time_ylim=(40, 65), energy_ylim=(7e6, 2e7),\n",
    "          time_save_path='conveyors-new-1-time.pdf', energy_save_path='conveyors-new-1-energy.pdf')"
   ]
  },
  {
   "cell_type": "code",
   "execution_count": null,
   "metadata": {},
   "outputs": [],
   "source": [
    "conveyor2_data_full = run_threaded(run_conveyor_scenario_file, file='../launches/conveyor_energy_test_2.yaml',\n",
    "                                   router_types=['link_state', 'simple_q', 'dqn_emb', 'centralized_simple'], progress_step=500,\n",
    "                                   ignore_saved=[], random_seeds=[42, 43, 44])"
   ]
  },
  {
   "cell_type": "code",
   "execution_count": null,
   "metadata": {},
   "outputs": [],
   "source": [
    "plot_data(conveyor2_data_full, figsize=(10, 10), font_size=16, time_ylim=(40, 65), energy_ylim=(7e6, 2.8e7),\n",
    "          time_save_path='conveyors-new-2-time.pdf', energy_save_path='conveyors-new-2-energy.pdf')"
   ]
  },
  {
   "cell_type": "code",
   "execution_count": null,
   "metadata": {},
   "outputs": [],
   "source": [
    "conveyor2_data_time, conveyor2_data_nrg = conveyor2_data_full\n",
    "conveyor2_data_time_comb = combine_launch_data(conveyor2_data_time)\n",
    "conveyor2_data_nrg_comb = combine_launch_data(conveyor2_data_nrg)\n",
    "\n",
    "plot_data(conveyor2_data_time_comb, figsize=(10, 10), ylim=(40, 100), font_size=18,\n",
    "          save_path='conveyors2-late-time.pdf')\n",
    "plot_data(conveyor2_data_nrg_comb, figsize=(10, 10), font_size=18, ylim=(1000, 2700),\n",
    "          target='sum', ylabel='Суммарные энергозатраты', save_path='conveyors2-late-energy.pdf')"
   ]
  },
  {
   "cell_type": "code",
   "execution_count": null,
   "metadata": {},
   "outputs": [],
   "source": []
  }
 ],
 "metadata": {
  "kernelspec": {
   "display_name": "Python 3",
   "language": "python",
   "name": "python3"
  },
  "language_info": {
   "codemirror_mode": {
    "name": "ipython",
    "version": 3
   },
   "file_extension": ".py",
   "mimetype": "text/x-python",
   "name": "python",
   "nbconvert_exporter": "python",
   "pygments_lexer": "ipython3"
  }
 },
 "nbformat": 4,
 "nbformat_minor": 2
}
