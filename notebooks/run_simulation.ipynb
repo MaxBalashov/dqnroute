{
 "cells": [
  {
   "cell_type": "code",
   "execution_count": 1,
   "metadata": {},
   "outputs": [],
   "source": [
    "%matplotlib inline"
   ]
  },
  {
   "cell_type": "code",
   "execution_count": 2,
   "metadata": {},
   "outputs": [],
   "source": [
    "import yaml\n",
    "import logging\n",
    "import contextlib\n",
    "import numpy as np\n",
    "import pandas as pd\n",
    "import matplotlib.pyplot as plt\n",
    "\n",
    "from tqdm import tqdm\n",
    "from typing import List, Optional\n",
    "from multiprocessing.pool import Pool\n",
    "from multiprocessing import Queue, Manager"
   ]
  },
  {
   "cell_type": "code",
   "execution_count": 3,
   "metadata": {},
   "outputs": [],
   "source": [
    "%load_ext autoreload\n",
    "%autoreload 2\n",
    "\n",
    "import sys\n",
    "sys.path.append('../src')"
   ]
  },
  {
   "cell_type": "code",
   "execution_count": 4,
   "metadata": {},
   "outputs": [],
   "source": [
    "def mk_job_id(router_type, seed):\n",
    "    return '{}:{}'.format(router_type, seed)\n",
    "\n",
    "def un_job_id(job_id):\n",
    "    [router_type, s_seed] = job_id.split(':')\n",
    "    return router_type, int(s_seed)\n",
    "\n",
    "def add_avg(df: pd.DataFrame):\n",
    "    df['avg'] = df['sum'] / df['count']\n",
    "    return df\n",
    "\n",
    "def plot_avgs(figsize=(15,5), xlim=None, ylim=None, **dfs):\n",
    "    fig = plt.figure(figsize=figsize)\n",
    "    handles = []\n",
    "    for (label, df) in dfs.items():\n",
    "        if 'min_avg' in df.columns:\n",
    "            # this is combined data, draw errorbar\n",
    "            minerr = df['avg'] - df['min_avg']\n",
    "            maxerr = df['max_avg'] - df['avg']\n",
    "            line = plt.errorbar(df['time'], df['avg'],\n",
    "                                 yerr=[minerr, maxerr], label=label)\n",
    "        else:\n",
    "            line, = plt.plot(df['time'], df['avg'], label=label)\n",
    "        handles.append(line)\n",
    "        \n",
    "    if xlim is not None:\n",
    "        plt.xlim(xlim)\n",
    "    if ylim is not None:\n",
    "        plt.ylim(ylim)\n",
    "        \n",
    "    plt.legend(handles=handles)\n",
    "    plt.show()\n",
    "    \n",
    "def combine_launch_data(launch_data):\n",
    "    data_unwrapped = {}\n",
    "    for (job_id, data) in launch_data.items():\n",
    "        router_type, seed = un_job_id(job_id)\n",
    "        if router_type not in data_unwrapped:\n",
    "            data_unwrapped[router_type] = []\n",
    "        data_unwrapped[router_type].append(data)\n",
    "    \n",
    "    result_data = {}\n",
    "    for (router_type, runs) in data_unwrapped.items():\n",
    "        df = runs[0].copy()\n",
    "        df['min_avg'] = df['avg']\n",
    "        df['max_avg'] = df['avg']\n",
    "        for run in runs[1:]:\n",
    "            df['sum'] += run['sum']\n",
    "            df['count'] += run['count']\n",
    "            df['min_avg'] = df['min_avg'].combine(run['avg'], min)\n",
    "            df['max_avg'] = df['max_avg'].combine(run['avg'], max)\n",
    "        df = add_avg(df)\n",
    "        result_data[router_type] = df\n",
    "    return result_data"
   ]
  },
  {
   "cell_type": "code",
   "execution_count": 5,
   "metadata": {},
   "outputs": [],
   "source": [
    "class DummyTqdmFile(object):\n",
    "    \"\"\"Dummy file-like that will write to tqdm\"\"\"\n",
    "    file = None\n",
    "    def __init__(self, file):\n",
    "        self.file = file\n",
    "\n",
    "    def write(self, x):\n",
    "        # Avoid print() second call (useless \\n)\n",
    "        if len(x.rstrip()) > 0:\n",
    "            tqdm.write(x, file=self.file)\n",
    "\n",
    "    def flush(self):\n",
    "        return getattr(self.file, \"flush\", lambda: None)()\n",
    "\n",
    "@contextlib.contextmanager\n",
    "def std_out_err_redirect_tqdm():\n",
    "    orig_out_err = sys.stdout, sys.stderr\n",
    "    try:\n",
    "        sys.stdout, sys.stderr = map(DummyTqdmFile, orig_out_err)\n",
    "        yield orig_out_err[0]\n",
    "    # Relay exceptions\n",
    "    except Exception as exc:\n",
    "        raise exc\n",
    "    # Always restore sys.stdout/err if necessary\n",
    "    finally:\n",
    "        sys.stdout, sys.stderr = orig_out_err"
   ]
  },
  {
   "cell_type": "code",
   "execution_count": 6,
   "metadata": {},
   "outputs": [],
   "source": [
    "class DummyProgressbarQueue:\n",
    "    def __init__(self, bar):\n",
    "        self.bar = bar\n",
    "        \n",
    "    def put(self, val):\n",
    "        _, _, delta = val\n",
    "        if delta is not None:\n",
    "            self.bar.update(delta)"
   ]
  },
  {
   "cell_type": "code",
   "execution_count": 7,
   "metadata": {},
   "outputs": [],
   "source": [
    "def run_network_scenario_file(file: str, router_type: str, random_seed: int = None,\n",
    "                              progress_step: Optional[int] = None, progress_queue: Optional[Queue] = None,\n",
    "                              series_period: int = 500,\n",
    "                              series_funcs: List[str] = ['count', 'sum', 'min', 'max']):\n",
    "    \"\"\"\n",
    "    Helper wrapper around `run_network_scenario` which should run in a separate thread.\n",
    "    \"\"\"\n",
    "    \n",
    "    # Importing here because of problemes with Tensorflow in multiple threads\n",
    "    from dqnroute import event_series, run_network_scenario, DQNROUTE_LOGGER, TF_MODELS_DIR\n",
    "\n",
    "    logger = logging.getLogger(DQNROUTE_LOGGER)\n",
    "    TF_MODELS_DIR = '../tf_models'\n",
    "    #logging.basicConfig(stream=sys.stdout, level=logging.DEBUG)\n",
    "    \n",
    "    with open(file) as f:\n",
    "        run_params = yaml.safe_load(f)\n",
    "    \n",
    "    series = event_series(series_period, series_funcs)\n",
    "    series = run_network_scenario(run_params, router_type, series, random_seed=random_seed,\n",
    "                                  progress_step=progress_step, progress_queue=progress_queue)\n",
    "    return add_avg(series.getSeries())\n",
    "\n",
    "def run_threaded(func, router_types: List[str], random_seeds: List[int], *args, **kwargs):\n",
    "    \"\"\"\n",
    "    Runs several scenario runners in multiple threads and displays progress bars for them\n",
    "    \"\"\"\n",
    "\n",
    "    pool = Pool()\n",
    "    m = Manager()\n",
    "    queue = m.Queue()\n",
    "    jobs = {}\n",
    "    bars = {}\n",
    "    for router_type in router_types:\n",
    "        for seed in random_seeds:\n",
    "            job_id = mk_job_id(router_type, seed)\n",
    "            job_args = dict(kwargs, router_type=router_type, random_seed=seed,\n",
    "                            progress_queue=queue)\n",
    "            jobs[job_id] = pool.apply_async(func, args=args, kwds=job_args,\n",
    "                                            error_callback=print)\n",
    "            bars[job_id] = tqdm(desc=job_id)\n",
    "\n",
    "    # TODO: fix progressbars somehow\n",
    "    while len(bars) > 0:\n",
    "        (rt, s, val) = queue.get()\n",
    "        job_id = mk_job_id(rt, s)\n",
    "        if val is None:\n",
    "            bars.pop(job_id).close()\n",
    "        else:\n",
    "            bars[job_id].update(val)\n",
    "        \n",
    "    return {job_id: job.get() for (job_id, job) in jobs.items()}"
   ]
  },
  {
   "cell_type": "code",
   "execution_count": null,
   "metadata": {},
   "outputs": [],
   "source": [
    "launch6_data_mult = run_threaded(run_network_scenario_file, random_seeds=[42, 43, 44],\n",
    "                                 file='../launches/launch6.yaml', router_types=['simple_q', 'link_state', 'dqn'],\n",
    "                                 progress_step=500)"
   ]
  },
  {
   "cell_type": "code",
   "execution_count": 11,
   "metadata": {},
   "outputs": [],
   "source": [
    "launch6_data_comb = combine_launch_data(launch6_data_mult)"
   ]
  },
  {
   "cell_type": "code",
   "execution_count": 12,
   "metadata": {},
   "outputs": [
    {
     "data": {
      "image/png": "[encoded data removed]",
      "text/plain": [
       "<Figure size 720x432 with 1 Axes>"
      ]
     },
     "metadata": {
      "needs_background": "light"
     },
     "output_type": "display_data"
    }
   ],
   "source": [
    "plot_avgs(figsize=(10,6), ylim=(0,450), **launch6_data_comb)"
   ]
  },
  {
   "cell_type": "code",
   "execution_count": 14,
   "metadata": {},
   "outputs": [
    {
     "name": "stderr",
     "output_type": "stream",
     "text": [
      "simple_q:42: 0it [00:00, ?it/s]\n",
      "simple_q:43: 0it [00:00, ?it/s]\u001b[A\n",
      "\n",
      "simple_q:44: 0it [00:00, ?it/s]\u001b[A\u001b[A\n",
      "\n",
      "\n",
      "link_state:42: 0it [00:00, ?it/s]\u001b[A\u001b[A\u001b[A\n",
      "\n",
      "\n",
      "\n",
      "link_state:43: 0it [00:00, ?it/s]\u001b[A\u001b[A\u001b[A\u001b[A\n",
      "\n",
      "\n",
      "\n",
      "\n",
      "link_state:44: 0it [00:00, ?it/s]\u001b[A\u001b[A\u001b[A\u001b[A\u001b[A\n",
      "\n",
      "\n",
      "\n",
      "\n",
      "\n",
      "dqn:42: 0it [00:00, ?it/s]\u001b[A\u001b[A\u001b[A\u001b[A\u001b[A\u001b[A\n",
      "\n",
      "\n",
      "\n",
      "\n",
      "\n",
      "\n",
      "dqn:43: 0it [00:00, ?it/s]\u001b[A\u001b[A\u001b[A\u001b[A\u001b[A\u001b[A\u001b[A\n",
      "\n",
      "\n",
      "\n",
      "\n",
      "\n",
      "\n",
      "\n",
      "dqn:44: 0it [00:00, ?it/s]\u001b[A\u001b[A\u001b[A\u001b[A\u001b[A\u001b[A\u001b[A\u001b[AUsing TensorFlow backend.\n",
      "Using TensorFlow backend.\n",
      "Using TensorFlow backend.\n",
      "Using TensorFlow backend.\n",
      "simple_q:42: 1500it [00:26, 39.64it/s]\n",
      "\n",
      "simple_q:42: 2000it [00:26, 56.03it/s][A\u001b[A\n",
      "\n",
      "simple_q:44: 1000it [00:26, 27.29it/s]\u001b[A\u001b[A\n",
      "\n",
      "\n",
      "link_state:42: 500it [00:26, 18.84it/s]\u001b[A\u001b[A\u001b[A\n",
      "\n",
      "simple_q:42: 2500it [00:26, 78.98it/s]\u001b[A\u001b[A\n",
      "\n",
      "\n",
      "link_state:42: 1000it [00:26, 26.81it/s]\u001b[A\u001b[A\u001b[A\n",
      "\n",
      "simple_q:42: 3000it [00:26, 110.09it/s][A\u001b[A\n",
      "\n",
      "\n",
      "link_state:42: 1500it [00:27, 38.09it/s]\u001b[A\u001b[A\u001b[A\n",
      "\n",
      "simple_q:42: 3500it [00:27, 153.64it/s][A\u001b[A\n",
      "simple_q:43: 500it [00:27, 18.33it/s]\u001b[A\n",
      "\n",
      "\n",
      "link_state:42: 2000it [00:27, 53.98it/s]\u001b[A\u001b[A\u001b[A\n",
      "\n",
      "simple_q:42: 4000it [00:27, 212.82it/s]\u001b[A\u001b[A\n",
      "simple_q:43: 1000it [00:27, 26.09it/s]\u001b[A\n",
      "\n",
      "\n",
      "link_state:42: 2500it [00:27, 76.24it/s]\u001b[A\u001b[A\u001b[A\n",
      "\n",
      "simple_q:42: 4500it [00:27, 286.16it/s]\u001b[A\u001b[A\n",
      "simple_q:43: 1500it [00:27, 37.02it/s]\u001b[A\n",
      "\n",
      "\n",
      "link_state:42: 3000it [00:27, 106.76it/s]\u001b[A\u001b[A\u001b[A\n",
      "\n",
      "simple_q:44: 4000it [00:28, 207.88it/s]\u001b[A\u001b[A\n",
      "\n",
      "\n",
      "link_state:42: 3500it [00:28, 149.00it/s]\u001b[A\u001b[A\u001b[A\n",
      "simple_q:42: 5000it [00:28, 373.58it/s][A\n",
      "\n",
      "simple_q:44: 4500it [00:28, 280.59it/s]\u001b[A\u001b[A\n",
      "\n",
      "\n",
      "simple_q:42: 5500it [00:28, 492.54it/s]s]\u001b[A\u001b[A\u001b[A\n",
      "simple_q:43: 2500it [00:28, 73.61it/s]\u001b[A\n",
      "\n",
      "simple_q:44: 5000it [00:28, 374.57it/s]\u001b[A\u001b[A\n",
      "\n",
      "\n",
      "simple_q:42: 6000it [00:28, 606.18it/s]s]\u001b[A\u001b[A\u001b[A\n",
      "simple_q:43: 3000it [00:28, 102.72it/s]\u001b[A\n",
      "\n",
      "simple_q:44: 5500it [00:28, 479.71it/s]\u001b[A\u001b[A\n",
      "\n",
      "\n",
      "link_state:42: 5000it [00:29, 369.02it/s]\u001b[A\u001b[A\u001b[A\n",
      "simple_q:42: 6500it [00:29, 716.37it/s]\u001b[A\n",
      "\n",
      "\n",
      "link_state:42: 5500it [00:29, 491.35it/s]\u001b[A\u001b[A\u001b[A\n",
      "simple_q:43: 4000it [00:29, 199.84it/s]\u001b[A\n",
      "\n",
      "simple_q:44: 6000it [00:29, 598.97it/s]\u001b[A\u001b[A\n",
      "\n",
      "\n",
      "link_state:42: 6000it [00:29, 634.72it/s]\u001b[A\u001b[A\u001b[A\n",
      "simple_q:42: 7000it [00:29, 787.34it/s]\u001b[A\n",
      "\n",
      "simple_q:44: 6500it [00:29, 704.44it/s]\u001b[A\u001b[A\n",
      "\n",
      "\n",
      "link_state:42: 6500it [00:29, 784.10it/s]\u001b[A\u001b[A\u001b[A\n",
      "simple_q:42: 7500it [00:30, 928.58it/s]\u001b[A\n",
      "\n",
      "simple_q:44: 7000it [00:30, 851.81it/s]\u001b[A\u001b[A\n",
      "\n",
      "\n",
      "link_state:42: 7000it [00:30, 940.33it/s]\u001b[A\u001b[A\u001b[A\n",
      "simple_q:42: 8000it [00:30, 1085.02it/s][A\n",
      "simple_q:43: 6000it [00:30, 638.92it/s]\u001b[A\n",
      "\n",
      "simple_q:44: 7500it [00:30, 990.82it/s]\u001b[A\u001b[A\n",
      "\n",
      "\n",
      "simple_q:42: 8500it [00:30, 1219.77it/s]s]\u001b[A\u001b[A\u001b[A\n",
      "simple_q:43: 6500it [00:30, 790.38it/s]\u001b[A\n",
      "\n",
      "simple_q:44: 8000it [00:30, 1132.61it/s]\u001b[A\u001b[A\n",
      "\n",
      "\n",
      "simple_q:42: 9000it [00:30, 1290.79it/s]s]\u001b[A\u001b[A\u001b[A\n",
      "simple_q:43: 7000it [00:30, 913.56it/s]\u001b[A\n",
      "\n",
      "\n",
      "link_state:42: 8500it [00:31, 1299.08it/s]\u001b[A\u001b[A\u001b[A\n",
      "\n",
      "simple_q:42: 9500it [00:31, 1402.65it/s]\u001b[A\u001b[A\n",
      "simple_q:43: 7500it [00:31, 1061.00it/s]\u001b[A\n",
      "\n",
      "\n",
      "link_state:42: 9000it [00:31, 1416.12it/s]\u001b[A\u001b[A\u001b[A\n",
      "\n",
      "simple_q:42: 10000it [00:31, 1425.28it/s][A\u001b[A\n",
      "simple_q:43: 8000it [00:31, 1167.47it/s]\u001b[A\n",
      "\n",
      "\n",
      "link_state:42: 9500it [00:31, 1359.69it/s]\u001b[A\u001b[A\u001b[A\n",
      "\n",
      "simple_q:42: 10500it [00:32, 1308.89it/s][A\u001b[A\n",
      "\n",
      "\n",
      "link_state:42: 10000it [00:32, 1399.97it/s]\u001b[A\u001b[A\u001b[A\n",
      "simple_q:43: 8500it [00:32, 1113.28it/s]\u001b[A\n",
      "\n",
      "simple_q:44: 10000it [00:32, 1329.34it/s]\u001b[A\u001b[A\n",
      "\n",
      "\n",
      "simple_q:42: 11000it [00:32, 1292.51it/s]s]\u001b[A\u001b[A\u001b[A\n",
      "simple_q:43: 9000it [00:32, 1189.21it/s]\u001b[A\n",
      "\n",
      "simple_q:44: 10500it [00:32, 1347.91it/s]\u001b[A\u001b[A\n",
      "\n",
      "\n",
      "simple_q:42: 11500it [00:32, 1292.34it/s]s]\u001b[A\u001b[A\u001b[A\n",
      "simple_q:43: 9500it [00:32, 1205.91it/s]\u001b[A\n",
      "\n",
      "simple_q:44: 11000it [00:32, 1324.02it/s]\u001b[A\u001b[A\n",
      "\n",
      "\n",
      "link_state:42: 11500it [00:33, 1382.66it/s]\u001b[A\u001b[A\u001b[A\n",
      "simple_q:43: 10000it [00:33, 1282.96it/s]\u001b[A\n",
      "\n",
      "simple_q:42: 12000it [00:33, 1205.51it/s]\u001b[A\u001b[A\n",
      "\n",
      "\n",
      "simple_q:42: 12500it [00:33, 1320.71it/s]s]\u001b[A\u001b[A\u001b[A\n",
      "simple_q:43: 10500it [00:33, 1257.33it/s]\u001b[A\n",
      "\n",
      "\n",
      "link_state:42: 12500it [00:33, 1559.38it/s]\u001b[A\u001b[A\u001b[A\n",
      "\n",
      "simple_q:42: 13000it [00:33, 1375.64it/s]\u001b[A\u001b[A\n",
      "simple_q:43: 11000it [00:33, 1258.02it/s]\u001b[A\n",
      "\n",
      "\n",
      "link_state:42: 13000it [00:33, 1529.30it/s]\u001b[A\u001b[A\u001b[A\n",
      "\n",
      "simple_q:42: 13500it [00:34, 1466.99it/s]\u001b[A\u001b[A\n",
      "\n",
      "\n",
      "link_state:42: 13500it [00:34, 1546.81it/s]\u001b[A\u001b[A\u001b[A\n",
      "simple_q:43: 11500it [00:34, 1301.19it/s]\u001b[A\n",
      "\n",
      "simple_q:42: 14000it [00:34, 1535.19it/s]\u001b[A\u001b[A\n",
      "\n",
      "\n",
      "link_state:42: 14000it [00:34, 1582.15it/s]\u001b[A\u001b[A\u001b[A\n",
      "simple_q:42: 14500it [00:34, 1563.11it/s]\u001b[A\n",
      "\n",
      "simple_q:44: 13500it [00:34, 1207.62it/s]\u001b[A\u001b[A\n",
      "simple_q:43: 12500it [00:35, 1316.87it/s]\u001b[A\n",
      "\n",
      "\n",
      "simple_q:42: 15000it [00:35, 1504.61it/s]s]\u001b[A\u001b[A\u001b[A\n",
      "\n",
      "simple_q:42: 15500it [00:35, 1601.98it/s]\u001b[A\u001b[A\n",
      "\n",
      "\n",
      "link_state:42: 15000it [00:35, 1330.14it/s]\u001b[A\u001b[A\u001b[A\n",
      "simple_q:43: 13000it [00:35, 1225.84it/s]\u001b[A\n",
      "\n",
      "simple_q:42: 16000it [00:35, 1535.82it/s]\u001b[A\u001b[A\n",
      "\n",
      "\n",
      "link_state:42: 15500it [00:35, 1284.20it/s]\u001b[A\u001b[A\u001b[A\n",
      "simple_q:43: 13500it [00:36, 1168.70it/s]\u001b[A\n",
      "\n",
      "simple_q:42: 16500it [00:36, 1436.52it/s]\u001b[A\u001b[A\n",
      "\n",
      "\n",
      "link_state:42: 16000it [00:36, 1272.51it/s]\u001b[A\u001b[A\u001b[A\n",
      "\n",
      "simple_q:42: 17000it [00:36, 1500.28it/s]\u001b[A\u001b[A\n",
      "simple_q:43: 14000it [00:36, 1150.99it/s]\u001b[A\n",
      "\n",
      "simple_q:44: 16000it [00:36, 1349.29it/s]\u001b[A\u001b[A\n",
      "\n",
      "\n",
      "simple_q:42: 17500it [00:36, 1442.73it/s]s]\u001b[A\u001b[A\u001b[A\n",
      "simple_q:43: 14500it [00:36, 1146.43it/s]\u001b[A\n",
      "\n",
      "\n",
      "simple_q:42: 18000it [00:37, 1548.33it/s]s]\u001b[A\u001b[A\u001b[A\n",
      "simple_q:43: 15000it [00:37, 1258.61it/s]\u001b[A\n",
      "\n",
      "simple_q:44: 16500it [00:37, 1210.26it/s]\u001b[A\u001b[A\n",
      "\n",
      "\n",
      "simple_q:42: 18500it [00:37, 1493.82it/s]s]\u001b[A\u001b[A\u001b[A\n",
      "simple_q:43: 15500it [00:37, 1170.47it/s]\u001b[A\n",
      "\n",
      "\n",
      "link_state:42: 18000it [00:37, 1392.92it/s]\u001b[A\u001b[A\u001b[A\n",
      "\n",
      "simple_q:42: 19000it [00:37, 1443.46it/s]\u001b[A\u001b[A\n",
      "\n",
      "\n",
      "link_state:42: 18500it [00:38, 1413.46it/s]\u001b[A\u001b[A\u001b[A\n",
      "simple_q:42: 19500it [00:38, 1492.70it/s]\u001b[A\n",
      "\n",
      "simple_q:44: 17500it [00:38, 1101.24it/s]\u001b[A\u001b[A\n",
      "\n",
      "\n",
      "simple_q:42: 20000it [00:38, 1428.26it/s]s]\u001b[A\u001b[A\u001b[A\n",
      "simple_q:43: 16500it [00:38, 1156.33it/s]\u001b[A\n",
      "\n",
      "simple_q:44: 18000it [00:38, 1128.51it/s]\u001b[A\u001b[A\n",
      "\n",
      "\n",
      "simple_q:42: 20500it [00:38, 1319.64it/s]s]\u001b[A\u001b[A\u001b[A\n",
      "simple_q:43: 17000it [00:39, 1066.17it/s]\u001b[A\n",
      "\n",
      "simple_q:44: 18500it [00:39, 1112.36it/s]\u001b[A\u001b[A\n",
      "\n",
      "\n",
      "simple_q:42: 21000it [00:39, 1365.77it/s]s]\u001b[A\u001b[A\u001b[A\n",
      "simple_q:43: 17500it [00:39, 1125.95it/s]\u001b[A\n",
      "\n",
      "\n",
      "simple_q:42: 21500it [00:39, 1526.80it/s]s]\u001b[A\u001b[A\u001b[A\n",
      "\n",
      "simple_q:42: 22000it [00:39, 1587.24it/s]\u001b[A\u001b[A\n",
      "simple_q:43: 18000it [00:39, 1127.87it/s]\u001b[A\n",
      "\n",
      "\n",
      "simple_q:42: 22500it [00:40, 1705.42it/s]s]\u001b[A\u001b[A\u001b[A\n",
      "\n",
      "simple_q:44: 19500it [00:40, 1072.08it/s]\u001b[A\u001b[A\n",
      "simple_q:42: 23000it [00:40, 1684.82it/s]\u001b[A\n",
      "\n",
      "\n",
      "link_state:42: 21500it [00:40, 1272.20it/s]\u001b[A\u001b[A\u001b[A\n",
      "\n",
      "simple_q:44: 20000it [00:40, 1053.27it/s]\u001b[A\u001b[A\n",
      "\n",
      "\n",
      "simple_q:42: 23500it [00:40, 1684.57it/s]s]\u001b[A\u001b[A\u001b[A\n",
      "simple_q:43: 19000it [00:40, 1109.73it/s]\u001b[A\n",
      "\n",
      "\n",
      "simple_q:42: 24000it [00:41, 1582.29it/s]s]\u001b[A\u001b[A\u001b[A\n",
      "simple_q:43: 19500it [00:41, 1214.15it/s]\u001b[A\n",
      "\n",
      "simple_q:42: 24500it [00:41, 1634.40it/s]\u001b[A\u001b[A\n",
      "\n",
      "\n",
      "link_state:42: 23000it [00:41, 1449.54it/s]\u001b[A\u001b[A\u001b[A\n",
      "simple_q:42: 25000it [00:41, 1756.90it/s]\u001b[A\n",
      "\n",
      "\n",
      "link_state:42: 23500it [00:41, 1385.87it/s]\u001b[A\u001b[A\u001b[A\n",
      "\n",
      "simple_q:42: 25500it [00:41, 1723.41it/s][A\u001b[A\n",
      "\n",
      "\n",
      "link_state:42: 24000it [00:41, 1507.32it/s]\u001b[A\u001b[A\u001b[A\n",
      "simple_q:43: 20500it [00:42, 1162.09it/s]\u001b[A\n",
      "\n",
      "simple_q:42: 26000it [00:42, 1713.10it/s]\u001b[A\u001b[A\n",
      "\n",
      "\n",
      "simple_q:42: 26500it [00:42, 1830.42it/s]s]\u001b[A\u001b[A\u001b[A\n",
      "\n",
      "simple_q:44: 22000it [00:42, 1144.90it/s]\u001b[A\u001b[A\n",
      "simple_q:43: 21000it [00:42, 1141.25it/s]\u001b[A\n",
      "\n",
      "\n",
      "simple_q:42: 27000it [00:42, 1837.25it/s]s]\u001b[A\u001b[A\u001b[A\n",
      "\n",
      "simple_q:44: 22500it [00:42, 1295.73it/s]\u001b[A\u001b[A\n",
      "\n",
      "\n",
      "simple_q:42: 27500it [00:42, 1790.75it/s]s]\u001b[A\u001b[A\u001b[A\n",
      "simple_q:43: 21500it [00:42, 1129.31it/s]\u001b[A\n",
      "\n",
      "simple_q:44: 23000it [00:43, 1389.41it/s]\u001b[A\u001b[A\n",
      "\n",
      "\n",
      "link_state:42: 26000it [00:43, 1751.80it/s]\u001b[A\u001b[A\u001b[A\n",
      "simple_q:42: 28000it [00:43, 1711.85it/s]\u001b[A\n",
      "\n",
      "simple_q:44: 23500it [00:43, 1364.21it/s]\u001b[A\u001b[A\n",
      "\n",
      "\n",
      "link_state:42: 26500it [00:43, 1593.39it/s]\u001b[A\u001b[A\u001b[A\n",
      "simple_q:42: 28500it [00:43, 1620.45it/s]\u001b[A\n",
      "\n",
      "\n",
      "link_state:42: 27000it [00:43, 1575.76it/s]\u001b[A\u001b[A\u001b[A\n",
      "\n",
      "simple_q:44: 24000it [00:43, 1336.38it/s]\u001b[A\u001b[A\n",
      "simple_q:42: 29000it [00:44, 1508.59it/s]\u001b[A\n",
      "\n",
      "simple_q:44: 24500it [00:44, 1424.16it/s]\u001b[A\u001b[A\n",
      "\n",
      "\n",
      "link_state:42: 27500it [00:44, 1553.94it/s]\u001b[A\u001b[A\u001b[A\n",
      "simple_q:42: 29500it [00:44, 1601.35it/s]\u001b[A\n",
      "\n",
      "\n",
      "link_state:42: 28000it [00:44, 1647.46it/s]\u001b[A\u001b[A\u001b[A\n",
      "\n",
      "simple_q:44: 25000it [00:44, 1459.42it/s]\u001b[A\u001b[A\n",
      "simple_q:42: 30000it [00:44, 1647.94it/s]\u001b[A\n",
      "\n",
      "\n",
      "link_state:42: 28500it [00:44, 1673.94it/s]\u001b[A\u001b[A\u001b[A\n",
      "\n",
      "simple_q:44: 25500it [00:44, 1501.11it/s]\u001b[A\u001b[A\n",
      "simple_q:42: 30500it [00:44, 1546.80it/s]\u001b[A\n",
      "\n",
      "simple_q:44: 26000it [00:45, 1566.65it/s]\u001b[A\u001b[A\n",
      "\n",
      "\n",
      "link_state:42: 29000it [00:45, 1493.36it/s]\u001b[A\u001b[A\u001b[A\n",
      "simple_q:42: 31000it [00:45, 1575.09it/s]\u001b[A\n",
      "\n",
      "simple_q:44: 26500it [00:45, 1585.44it/s]\u001b[A\u001b[A\n",
      "\n",
      "\n",
      "link_state:42: 29500it [00:45, 1568.11it/s]\u001b[A\u001b[A\u001b[A\n",
      "simple_q:43: 25500it [00:45, 1546.38it/s]\u001b[A\n",
      "\n",
      "\n",
      "simple_q:42: 31500it [00:45, 1498.03it/s]s]\u001b[A\u001b[A\u001b[A\n",
      "\n",
      "simple_q:44: 27000it [00:45, 1527.68it/s]\u001b[A\u001b[A\n",
      "simple_q:42: 32000it [00:45, 1461.46it/s]\u001b[A\n",
      "\n",
      "\n",
      "link_state:42: 30500it [00:45, 1566.94it/s]\u001b[A\u001b[A\u001b[A\n",
      "\n",
      "simple_q:44: 27500it [00:46, 1532.93it/s]\u001b[A\u001b[A\n",
      "simple_q:42: 32500it [00:46, 1554.02it/s]\u001b[A\n",
      "\n",
      "\n",
      "link_state:42: 31000it [00:46, 1549.84it/s]\u001b[A\u001b[A\u001b[A\n",
      "\n",
      "simple_q:44: 28000it [00:46, 1565.28it/s]\u001b[A\u001b[A\n",
      "simple_q:42: 33000it [00:46, 1613.43it/s]\u001b[A\n",
      "\n",
      "\n",
      "link_state:42: 31500it [00:46, 1609.70it/s]\u001b[A\u001b[A\u001b[A\n",
      "simple_q:43: 27500it [00:46, 1620.07it/s]\u001b[A\n",
      "\n",
      "simple_q:44: 28500it [00:46, 1446.59it/s]\u001b[A\u001b[A\n",
      "\n",
      "\n",
      "simple_q:42: 33500it [00:46, 1480.92it/s]s]\u001b[A\u001b[A\u001b[A\n",
      "\n",
      "simple_q:44: 29000it [00:47, 1517.76it/s]\u001b[A\u001b[A\n",
      "simple_q:43: 28000it [00:47, 1510.97it/s]\u001b[A\n",
      "\n",
      "\n",
      "simple_q:42: 34000it [00:47, 1502.35it/s]s]\u001b[A\u001b[A\u001b[A\n",
      "\n",
      "simple_q:44: 29500it [00:47, 1523.07it/s]\u001b[A\u001b[A\n",
      "\n",
      "\n",
      "link_state:42: 33000it [00:47, 1836.97it/s]\u001b[A\u001b[A\u001b[A\n",
      "simple_q:42: 34500it [00:47, 1520.45it/s]\u001b[A\n",
      "\n",
      "\n",
      "link_state:42: 33500it [00:47, 1821.40it/s]\u001b[A\u001b[A\u001b[A\n",
      "\n",
      "simple_q:44: 30000it [00:47, 1434.76it/s]\u001b[A\u001b[A\n",
      "simple_q:42: 35000it [00:47, 1451.42it/s]\u001b[A\n",
      "\n",
      "\n",
      "link_state:42: 34000it [00:47, 1677.18it/s]\u001b[A\u001b[A\u001b[A\n",
      "\n",
      "simple_q:44: 30500it [00:48, 1453.42it/s]\u001b[A\u001b[A\n",
      "simple_q:43: 29500it [00:48, 1383.03it/s]\u001b[A\n",
      "\n",
      "\n",
      "simple_q:42: 35500it [00:48, 1472.02it/s]s]\u001b[A\u001b[A\u001b[A\n",
      "\n",
      "simple_q:44: 31000it [00:48, 1551.02it/s]\u001b[A\u001b[A\n",
      "simple_q:43: 30000it [00:48, 1472.37it/s]\u001b[A\n",
      "\n",
      "\n",
      "simple_q:42: 36000it [00:48, 1546.17it/s]s]\u001b[A\u001b[A\u001b[A\n",
      "\n",
      "simple_q:42: 36500it [00:48, 1874.19it/s]\u001b[A\u001b[A\n",
      "\n",
      "link_state:42: 35500it [00:48, 1662.37it/s]\u001b[A\u001b[A\n",
      "simple_q:43: 30500it [00:48, 1389.41it/s]\u001b[A\n",
      "\n",
      "link_state:42: 36000it [00:49, 1791.01it/s]\u001b[A\u001b[A\n",
      "\n",
      "link_state:42: 36500it [00:49, 742.45it/s] \u001b[A\u001b[A\n",
      "simple_q:44: 32500it [00:49, 1616.11it/s]\u001b[A\n",
      "\n",
      "simple_q:43: 31000it [00:49, 1429.84it/s]A\u001b[A\n",
      "\n",
      "simple_q:43: 31500it [00:49, 1493.62it/s][A\u001b[A\n",
      "simple_q:44: 33000it [00:49, 1536.53it/s]\u001b[A\n",
      "\n",
      "\n",
      "link_state:44: 500it [00:49, 10.08it/s]\u001b[A\u001b[A\u001b[A\n",
      "\n",
      "simple_q:43: 32000it [00:49, 1523.50it/s][A\u001b[A\n",
      "\n",
      "link_state:43: 2000it [00:49, 29.36it/s]\u001b[A\u001b[A\n",
      "\n",
      "\n",
      "link_state:44: 1000it [00:49, 14.36it/s]\u001b[A\u001b[A\u001b[A\n",
      "simple_q:43: 32500it [00:50, 1667.59it/s]\u001b[A\n",
      "\n",
      "\n",
      "link_state:44: 1500it [00:50, 20.46it/s]\u001b[A\u001b[A\u001b[A\n",
      "\n",
      "link_state:43: 2500it [00:50, 41.59it/s]\u001b[A\u001b[A\n",
      "simple_q:43: 33000it [00:50, 1624.68it/s]\u001b[A\n",
      "\n",
      "\n",
      "link_state:44: 2000it [00:50, 29.05it/s]\u001b[A\u001b[A\u001b[A\n",
      "\n",
      "simple_q:43: 33500it [00:50, 1678.60it/s][A\u001b[A\n",
      "simple_q:44: 34500it [00:50, 1305.62it/s]\u001b[A\n",
      "\n",
      "\n",
      "link_state:44: 2500it [00:50, 41.14it/s]\u001b[A\u001b[A\u001b[A\n",
      "\n",
      "simple_q:43: 34000it [00:51, 1499.38it/s][A\u001b[A\n",
      "simple_q:44: 35000it [00:51, 1353.12it/s]\u001b[A\n",
      "\n",
      "\n",
      "link_state:44: 3000it [00:51, 58.17it/s]\u001b[A\u001b[A\u001b[A\n",
      "\n",
      "simple_q:43: 34500it [00:51, 1507.70it/s]\u001b[A\u001b[A\n",
      "\n",
      "\n",
      "link_state:44: 3500it [00:51, 81.86it/s]\u001b[A\u001b[A\u001b[A\n",
      "simple_q:44: 35500it [00:51, 1381.23it/s]\u001b[A\n",
      "\n",
      "link_state:43: 4500it [00:51, 160.49it/s]\u001b[A\u001b[A\n",
      "\n",
      "link_state:43: 5000it [00:51, 221.91it/s]\u001b[A\u001b[A\n",
      "\n",
      "\n",
      "simple_q:43: 35000it [00:51, 1465.14it/s]\u001b[A\u001b[A\u001b[A\n",
      "simple_q:44: 36000it [00:51, 1433.12it/s]\u001b[A\n",
      "simple_q:43: 35500it [00:51, 1681.99it/s]\u001b[A\n",
      "\n",
      "link_state:44: 4500it [00:52, 159.78it/s]\u001b[A\u001b[A\n",
      "simple_q:43: 36000it [00:52, 1777.33it/s]\u001b[A\n",
      "\n",
      "link_state:43: 6500it [00:52, 508.97it/s]\u001b[A\u001b[A\n",
      "link_state:43: 7000it [00:53, 625.73it/s]\u001b[A\n",
      "link_state:44: 6000it [00:53, 373.27it/s]\u001b[A"
     ]
    },
    {
     "name": "stdout",
     "output_type": "stream",
     "text": [
      "INFO:tensorflow:Restoring parameters from ../tf_models/dqn_rmsprop_amatrix_ff_tanh_64_64\n"
     ]
    },
    {
     "name": "stderr",
     "output_type": "stream",
     "text": [
      "link_state:43: 7500it [00:53, 777.72it/s]\n",
      "link_state:43: 8000it [00:53, 909.03it/s]\u001b[A"
     ]
    },
    {
     "name": "stdout",
     "output_type": "stream",
     "text": [
      "INFO:tensorflow:Restoring parameters from ../tf_models/dqn_rmsprop_amatrix_ff_tanh_64_64\n"
     ]
    },
    {
     "name": "stderr",
     "output_type": "stream",
     "text": [
      "\n",
      "link_state:43: 8500it [00:53, 1057.92it/s][A\n",
      "link_state:43: 9000it [00:54, 1152.85it/s][A\n",
      "link_state:44: 8000it [00:54, 883.86it/s]\u001b[A"
     ]
    },
    {
     "name": "stdout",
     "output_type": "stream",
     "text": [
      "INFO:tensorflow:Restoring parameters from ../tf_models/dqn_rmsprop_amatrix_ff_tanh_64_64\n"
     ]
    },
    {
     "name": "stderr",
     "output_type": "stream",
     "text": [
      "link_state:43: 9500it [00:54, 1263.33it/s]\n",
      "link_state:43: 10000it [00:54, 1288.24it/s]A\n",
      "link_state:44: 9000it [00:55, 1110.25it/s]\u001b[A"
     ]
    },
    {
     "name": "stdout",
     "output_type": "stream",
     "text": [
      "INFO:tensorflow:Restoring parameters from ../tf_models/dqn_rmsprop_amatrix_ff_tanh_64_64\n"
     ]
    },
    {
     "name": "stderr",
     "output_type": "stream",
     "text": [
      "link_state:43: 10500it [00:55, 1374.71it/s]\n",
      "link_state:43: 11000it [00:55, 1474.13it/s][A"
     ]
    },
    {
     "name": "stdout",
     "output_type": "stream",
     "text": [
      "INFO:tensorflow:Restoring parameters from ../tf_models/dqn_rmsprop_amatrix_ff_tanh_64_64\n"
     ]
    },
    {
     "name": "stderr",
     "output_type": "stream",
     "text": [
      "\n",
      "link_state:43: 12000it [00:56, 1563.23it/s]\u001b[A\n",
      "link_state:44: 10500it [00:56, 1257.76it/s]\u001b[A"
     ]
    },
    {
     "name": "stdout",
     "output_type": "stream",
     "text": [
      "INFO:tensorflow:Restoring parameters from ../tf_models/dqn_rmsprop_amatrix_ff_tanh_64_64\n"
     ]
    },
    {
     "name": "stderr",
     "output_type": "stream",
     "text": [
      "link_state:43: 12500it [00:56, 1503.34it/s]\n",
      "link_state:43: 13500it [00:57, 1591.52it/s]\u001b[A\n",
      "link_state:43: 14000it [00:57, 1675.11it/s]\u001b[A"
     ]
    },
    {
     "name": "stdout",
     "output_type": "stream",
     "text": [
      "INFO:tensorflow:Restoring parameters from ../tf_models/dqn_rmsprop_amatrix_ff_tanh_64_64\n"
     ]
    },
    {
     "name": "stderr",
     "output_type": "stream",
     "text": [
      "\n",
      "link_state:44: 12000it [00:57, 1141.92it/s]\u001b[A"
     ]
    },
    {
     "name": "stdout",
     "output_type": "stream",
     "text": [
      "INFO:tensorflow:Restoring parameters from ../tf_models/dqn_rmsprop_amatrix_ff_tanh_64_64\n"
     ]
    },
    {
     "name": "stderr",
     "output_type": "stream",
     "text": [
      "link_state:43: 14500it [00:57, 1408.19it/s]\n",
      "link_state:43: 15000it [00:58, 1395.52it/s]\u001b[A\n",
      "link_state:44: 13000it [00:58, 1226.32it/s]\u001b[A"
     ]
    },
    {
     "name": "stdout",
     "output_type": "stream",
     "text": [
      "INFO:tensorflow:Restoring parameters from ../tf_models/dqn_rmsprop_amatrix_ff_tanh_64_64\n"
     ]
    },
    {
     "name": "stderr",
     "output_type": "stream",
     "text": [
      "link_state:43: 15500it [00:58, 1417.35it/s]\n",
      "link_state:44: 13500it [00:58, 1195.30it/s]\u001b[A"
     ]
    },
    {
     "name": "stdout",
     "output_type": "stream",
     "text": [
      "INFO:tensorflow:Restoring parameters from ../tf_models/dqn_rmsprop_amatrix_ff_tanh_64_64\n"
     ]
    },
    {
     "name": "stderr",
     "output_type": "stream",
     "text": [
      "link_state:43: 16000it [00:58, 1409.94it/s]\n",
      "link_state:43: 16500it [00:59, 1447.50it/s]\u001b[A\n",
      "link_state:44: 14500it [00:59, 1358.39it/s]\u001b[A"
     ]
    },
    {
     "name": "stdout",
     "output_type": "stream",
     "text": [
      "INFO:tensorflow:Restoring parameters from ../tf_models/dqn_rmsprop_amatrix_ff_tanh_64_64\n"
     ]
    },
    {
     "name": "stderr",
     "output_type": "stream",
     "text": [
      "link_state:43: 17000it [00:59, 1436.46it/s]\n",
      "link_state:44: 15000it [00:59, 1298.23it/s]\u001b[A"
     ]
    },
    {
     "name": "stdout",
     "output_type": "stream",
     "text": [
      "INFO:tensorflow:Restoring parameters from ../tf_models/dqn_rmsprop_amatrix_ff_tanh_64_64\n"
     ]
    },
    {
     "name": "stderr",
     "output_type": "stream",
     "text": [
      "link_state:43: 17500it [00:59, 1452.58it/s]\n",
      "link_state:43: 18000it [01:00, 1505.51it/s]\u001b[A\n",
      "link_state:44: 16000it [01:00, 1464.12it/s]\u001b[A"
     ]
    },
    {
     "name": "stdout",
     "output_type": "stream",
     "text": [
      "INFO:tensorflow:Restoring parameters from ../tf_models/dqn_rmsprop_amatrix_ff_tanh_64_64\n"
     ]
    },
    {
     "name": "stderr",
     "output_type": "stream",
     "text": [
      "link_state:43: 18500it [01:00, 1499.13it/s]\n",
      "link_state:44: 16500it [01:00, 1426.02it/s]\u001b[A"
     ]
    },
    {
     "name": "stdout",
     "output_type": "stream",
     "text": [
      "INFO:tensorflow:Restoring parameters from ../tf_models/dqn_rmsprop_amatrix_ff_tanh_64_64\n"
     ]
    },
    {
     "name": "stderr",
     "output_type": "stream",
     "text": [
      "link_state:43: 19000it [01:01, 1447.92it/s]\n",
      "link_state:43: 19500it [01:01, 1480.45it/s]\u001b[A\n",
      "link_state:44: 17500it [01:01, 1568.17it/s]\u001b[A\n",
      "link_state:43: 20000it [01:01, 1284.97it/s]\u001b[A"
     ]
    },
    {
     "name": "stdout",
     "output_type": "stream",
     "text": [
      "INFO:tensorflow:Restoring parameters from ../tf_models/dqn_rmsprop_amatrix_ff_tanh_64_64\n",
      "INFO:tensorflow:Restoring parameters from ../tf_models/dqn_rmsprop_amatrix_ff_tanh_64_64\n"
     ]
    },
    {
     "name": "stderr",
     "output_type": "stream",
     "text": [
      "\n",
      "link_state:43: 20500it [01:02, 1341.78it/s]\u001b[A\n",
      "link_state:43: 21000it [01:02, 1326.93it/s]\u001b[A\n",
      "link_state:43: 21500it [01:02, 1370.68it/s]\u001b[A"
     ]
    },
    {
     "name": "stdout",
     "output_type": "stream",
     "text": [
      "INFO:tensorflow:Restoring parameters from ../tf_models/dqn_rmsprop_amatrix_ff_tanh_64_64\n"
     ]
    },
    {
     "name": "stderr",
     "output_type": "stream",
     "text": [
      "link_state:43: 22000it [01:03, 1524.21it/s]"
     ]
    },
    {
     "name": "stdout",
     "output_type": "stream",
     "text": [
      "INFO:tensorflow:Restoring parameters from ../tf_models/dqn_rmsprop_amatrix_ff_tanh_64_64\n"
     ]
    },
    {
     "name": "stderr",
     "output_type": "stream",
     "text": [
      "\n",
      "link_state:43: 22500it [01:03, 1571.71it/s]\u001b[A\n",
      "link_state:43: 23000it [01:03, 1725.07it/s]\u001b[A\n",
      "link_state:43: 24000it [01:04, 1848.69it/s]\u001b[A"
     ]
    },
    {
     "name": "stdout",
     "output_type": "stream",
     "text": [
      "INFO:tensorflow:Restoring parameters from ../tf_models/dqn_rmsprop_amatrix_ff_tanh_64_64\n"
     ]
    },
    {
     "name": "stderr",
     "output_type": "stream",
     "text": [
      "\n",
      "link_state:44: 21500it [01:04, 1428.19it/s]\u001b[A"
     ]
    },
    {
     "name": "stdout",
     "output_type": "stream",
     "text": [
      "INFO:tensorflow:Restoring parameters from ../tf_models/dqn_rmsprop_amatrix_ff_tanh_64_64\n"
     ]
    },
    {
     "name": "stderr",
     "output_type": "stream",
     "text": [
      "link_state:43: 24500it [01:04, 1892.95it/s]\n",
      "link_state:43: 25000it [01:04, 1836.67it/s]\u001b[A\n",
      "link_state:43: 25500it [01:04, 1882.56it/s]\u001b[A\n",
      "link_state:43: 26000it [01:05, 1854.32it/s]\u001b[A\n",
      "link_state:43: 26500it [01:05, 1836.40it/s]\u001b[A\n",
      "link_state:44: 24000it [01:05, 1815.18it/s]\u001b[A\n",
      "link_state:43: 27000it [01:05, 1731.31it/s]\u001b[A\n",
      "link_state:43: 27500it [01:06, 1780.95it/s]\u001b[A\n",
      "link_state:43: 28000it [01:06, 1692.81it/s]\u001b[A\n",
      "link_state:43: 28500it [01:06, 1560.77it/s]\u001b[A\n",
      "link_state:43: 29000it [01:07, 1688.04it/s]\u001b[A\n",
      "link_state:43: 29500it [01:07, 1721.66it/s]\u001b[A\n",
      "link_state:44: 27500it [01:07, 1959.49it/s]\u001b[A\n",
      "link_state:43: 30000it [01:07, 1580.46it/s]\u001b[A\n",
      "link_state:43: 30500it [01:07, 1653.72it/s]\u001b[A\n",
      "link_state:43: 31000it [01:08, 1672.14it/s]\u001b[A\n",
      "link_state:43: 31500it [01:08, 1694.26it/s]\u001b[A\n",
      "link_state:43: 32000it [01:08, 1630.74it/s]\u001b[A\n",
      "link_state:43: 32500it [01:09, 1648.16it/s]\u001b[A\n",
      "link_state:43: 33000it [01:09, 1676.42it/s]\u001b[A\n",
      "link_state:43: 33500it [01:09, 1542.47it/s]\u001b[A\n",
      "link_state:44: 32000it [01:09, 1745.76it/s]\u001b[A\n",
      "\n",
      "link_state:43: 34000it [01:10, 1594.90it/s]\n",
      "link_state:43: 34500it [01:10, 1659.89it/s]\u001b[A\n",
      "link_state:44: 33000it [01:10, 1697.87it/s]\u001b[A\n",
      "\n",
      "\n",
      "link_state:43: 35000it [01:10, 1463.27it/s]\n",
      "link_state:43: 35500it [01:11, 1505.56it/s]\u001b[A\n",
      "link_state:43: 36000it [01:11, 1580.28it/s]\u001b[A\n",
      "link_state:44: 36500it [01:12, 504.97it/s] \u001b[A"
     ]
    },
    {
     "name": "stdout",
     "output_type": "stream",
     "text": [
      "INFO:tensorflow:Restoring parameters from ../tf_models/dqn_rmsprop_amatrix_ff_tanh_64_64\n",
      "INFO:tensorflow:Restoring parameters from ../tf_models/dqn_rmsprop_amatrix_ff_tanh_64_64\n"
     ]
    },
    {
     "name": "stderr",
     "output_type": "stream",
     "text": [
      "dqn:42: 1000it [01:13,  9.99it/s]\n",
      "dqn:43: 1000it [01:14,  9.91it/s]\u001b[A"
     ]
    },
    {
     "name": "stdout",
     "output_type": "stream",
     "text": [
      "INFO:tensorflow:Restoring parameters from ../tf_models/dqn_rmsprop_amatrix_ff_tanh_64_64\n",
      "INFO:tensorflow:Restoring parameters from ../tf_models/dqn_rmsprop_amatrix_ff_tanh_64_64\n",
      "INFO:tensorflow:Restoring parameters from ../tf_models/dqn_rmsprop_amatrix_ff_tanh_64_64\n",
      "INFO:tensorflow:Restoring parameters from ../tf_models/dqn_rmsprop_amatrix_ff_tanh_64_64\n"
     ]
    },
    {
     "name": "stderr",
     "output_type": "stream",
     "text": [
      "dqn:42: 1500it [01:17, 13.80it/s]"
     ]
    },
    {
     "name": "stdout",
     "output_type": "stream",
     "text": [
      "INFO:tensorflow:Restoring parameters from ../tf_models/dqn_rmsprop_amatrix_ff_tanh_64_64\n"
     ]
    },
    {
     "name": "stderr",
     "output_type": "stream",
     "text": [
      "\n",
      "dqn:43: 1500it [01:18, 13.67it/s]\u001b[A"
     ]
    },
    {
     "name": "stdout",
     "output_type": "stream",
     "text": [
      "INFO:tensorflow:Restoring parameters from ../tf_models/dqn_rmsprop_amatrix_ff_tanh_64_64\n",
      "INFO:tensorflow:Restoring parameters from ../tf_models/dqn_rmsprop_amatrix_ff_tanh_64_64\n",
      "INFO:tensorflow:Restoring parameters from ../tf_models/dqn_rmsprop_amatrix_ff_tanh_64_64\n"
     ]
    },
    {
     "name": "stderr",
     "output_type": "stream",
     "text": [
      "dqn:42: 2000it [01:20, 18.91it/s]\n",
      "dqn:43: 2000it [01:22, 18.64it/s]\u001b[A\n",
      "\n",
      "dqn:42: 2500it [01:24, 25.60it/s][A\u001b[A\n",
      "\n",
      "dqn:44: 1000it [01:25,  8.45it/s]\u001b[A\u001b[A\n",
      "dqn:42: 3000it [01:28, 33.69it/s]\u001b[A\n",
      "\n",
      "dqn:44: 1500it [01:29, 11.76it/s]\u001b[A\u001b[A\n",
      "dqn:42: 3500it [01:31, 43.50it/s]\u001b[A\n",
      "\n",
      "dqn:44: 2000it [01:33, 16.16it/s]\u001b[A\u001b[A\n",
      "dqn:42: 4000it [01:35, 54.37it/s]\u001b[A\n",
      "dqn:43: 4000it [01:37, 54.12it/s]\u001b[A\n",
      "\n",
      "dqn:42: 4500it [01:39, 66.05it/s]\u001b[A\u001b[A\n",
      "\n",
      "dqn:44: 3000it [01:40, 29.28it/s]\u001b[A\u001b[A\n",
      "dqn:42: 5000it [01:43, 77.98it/s]\u001b[A\n",
      "\n",
      "dqn:44: 3500it [01:44, 38.22it/s]\u001b[A\u001b[A\n",
      "dqn:42: 5500it [01:46, 89.69it/s]\u001b[A\n",
      "\n",
      "dqn:44: 4000it [01:48, 48.85it/s]\u001b[A\u001b[A\n",
      "dqn:42: 6000it [01:50, 101.17it/s][A\n",
      "\n",
      "dqn:44: 4500it [01:52, 59.44it/s]\u001b[A\u001b[A\n",
      "dqn:42: 6500it [01:55, 97.17it/s] [A\n",
      "\n",
      "dqn:44: 5000it [01:56, 70.26it/s]\u001b[A\u001b[A\n",
      "dqn:43: 6500it [01:59, 90.61it/s]\u001b[A\n",
      "\n",
      "dqn:42: 7000it [02:03, 85.96it/s]\u001b[A\u001b[A\n",
      "\n",
      "dqn:44: 6000it [02:04, 89.89it/s]\u001b[A\u001b[A\n",
      "dqn:42: 7500it [02:10, 81.13it/s]\u001b[A\n",
      "\n",
      "dqn:44: 6500it [02:11, 82.78it/s]\u001b[A\u001b[A\n",
      "dqn:42: 8000it [02:16, 79.74it/s]\u001b[A\n",
      "dqn:43: 8000it [02:18, 81.14it/s]\u001b[A\n",
      "\n",
      "dqn:42: 8500it [02:23, 77.11it/s]\u001b[A\u001b[A\n",
      "\n",
      "dqn:44: 7500it [02:25, 79.08it/s]\u001b[A\u001b[A\n",
      "dqn:42: 9000it [02:30, 75.89it/s]\u001b[A\n",
      "\n",
      "dqn:44: 8000it [02:32, 77.11it/s]\u001b[A\u001b[A\n",
      "dqn:42: 9500it [02:37, 76.14it/s]\u001b[A\n",
      "\n",
      "dqn:44: 8500it [02:39, 74.06it/s]\u001b[A\u001b[A\n",
      "dqn:42: 10000it [02:44, 75.07it/s][A\n",
      "\n",
      "dqn:44: 9000it [02:46, 73.44it/s]\u001b[A\u001b[A\n",
      "dqn:42: 10500it [02:50, 75.08it/s]\u001b[A\n",
      "dqn:43: 10500it [02:53, 74.10it/s]\u001b[A\n",
      "\n",
      "dqn:42: 11000it [02:59, 69.86it/s][A\u001b[A\n",
      "dqn:43: 11000it [03:00, 73.76it/s]\u001b[A\n",
      "\n",
      "dqn:44: 10000it [03:00, 72.97it/s]\u001b[A\u001b[A\n",
      "\n",
      "dqn:42: 11500it [03:07, 64.97it/s]\u001b[A\u001b[A\n",
      "dqn:43: 11500it [03:09, 66.01it/s]\u001b[A\n",
      "\n",
      "dqn:42: 12000it [03:16, 61.96it/s]\u001b[A\u001b[A\n",
      "dqn:43: 12000it [03:18, 61.78it/s]\u001b[A\n",
      "\n",
      "dqn:42: 12500it [03:25, 60.92it/s]\u001b[A\u001b[A\n",
      "dqn:43: 12500it [03:26, 62.04it/s]\u001b[A\n",
      "\n",
      "dqn:42: 13000it [03:33, 61.17it/s]\u001b[A\u001b[A\n",
      "dqn:43: 13000it [03:36, 59.58it/s]\u001b[A\n",
      "\n",
      "dqn:42: 13500it [03:41, 62.68it/s]\u001b[A\u001b[A\n",
      "dqn:43: 13500it [03:44, 60.46it/s]\u001b[A\n",
      "\n",
      "dqn:42: 14000it [03:48, 63.04it/s]\u001b[A\u001b[A\n",
      "dqn:42: 14500it [03:57, 62.58it/s]\u001b[A\n",
      "\n",
      "dqn:44: 13500it [03:57, 60.65it/s]\u001b[A\u001b[A\n",
      "dqn:42: 15000it [04:04, 63.32it/s]\u001b[A\n",
      "\n",
      "dqn:44: 14000it [04:05, 59.22it/s]\u001b[A\u001b[A\n",
      "dqn:42: 15500it [04:12, 63.98it/s]\u001b[A\n",
      "dqn:43: 15500it [04:13, 66.48it/s]\u001b[A\n",
      "\n",
      "dqn:42: 16000it [04:19, 65.78it/s]\u001b[A\u001b[A\n",
      "dqn:43: 16000it [04:20, 68.21it/s]\u001b[A\n",
      "\n",
      "dqn:42: 16500it [04:27, 64.75it/s]\u001b[A\u001b[A\n",
      "\n",
      "dqn:44: 15500it [04:28, 64.11it/s]\u001b[A\u001b[A\n",
      "dqn:43: 16500it [04:29, 64.43it/s]\u001b[A\n",
      "\n",
      "dqn:42: 17000it [04:39, 56.32it/s]\u001b[A\u001b[A\n",
      "dqn:43: 16500it [04:39, 64.43it/s]\u001b[A\n",
      "dqn:43: 17000it [04:41, 54.81it/s]\u001b[A\n",
      "\n",
      "dqn:42: 17500it [04:51, 50.19it/s]\u001b[A\u001b[A\n",
      "dqn:43: 17500it [04:51, 52.31it/s]\u001b[A\n",
      "\n",
      "dqn:44: 17000it [04:55, 55.93it/s]\u001b[A\u001b[A\n",
      "dqn:42: 18000it [05:01, 49.39it/s]\u001b[A\n",
      "\n",
      "dqn:44: 17500it [05:06, 52.32it/s]\u001b[A\u001b[A\n",
      "dqn:42: 18500it [05:12, 49.42it/s]\u001b[A\n",
      "\n",
      "dqn:44: 18000it [05:18, 48.70it/s]\u001b[A\u001b[A\n",
      "dqn:42: 19000it [05:21, 50.08it/s]\u001b[A\n",
      "dqn:43: 19500it [05:28, 54.85it/s]\u001b[A\n",
      "\n",
      "dqn:42: 19500it [05:30, 51.35it/s]\u001b[A\u001b[A\n",
      "\n",
      "dqn:44: 19000it [05:37, 51.62it/s]\u001b[A\u001b[A\n",
      "dqn:42: 20000it [05:40, 52.21it/s]\u001b[A\n",
      "dqn:43: 20500it [05:45, 57.36it/s]\u001b[A\n",
      "\n",
      "dqn:42: 20500it [05:48, 54.73it/s]\u001b[A\u001b[A\n",
      "dqn:42: 21000it [05:55, 58.35it/s]\u001b[A\n",
      "\n",
      "dqn:44: 20000it [05:56, 51.96it/s]\u001b[A\u001b[A\n",
      "dqn:42: 21500it [06:00, 66.60it/s]\u001b[A\n",
      "dqn:42: 22000it [06:04, 76.28it/s]\u001b[A\n",
      "\n",
      "dqn:44: 20500it [06:05, 53.69it/s]\u001b[A\u001b[A\n",
      "dqn:42: 22500it [06:08, 86.26it/s]\u001b[A\n",
      "dqn:43: 23000it [06:11, 94.85it/s]\u001b[A\n",
      "\n",
      "dqn:42: 23000it [06:13, 91.63it/s]\u001b[A\u001b[A\n",
      "dqn:42: 23500it [06:17, 100.57it/s][A\n",
      "\n",
      "dqn:44: 21500it [06:18, 64.70it/s]\u001b[A\u001b[A\n",
      "dqn:42: 24000it [06:21, 106.69it/s]\u001b[A\n",
      "\n",
      "dqn:44: 22000it [06:22, 74.49it/s]\u001b[A\u001b[A\n",
      "dqn:42: 24500it [06:25, 111.24it/s]\u001b[A\n",
      "\n",
      "dqn:44: 22500it [06:26, 85.75it/s]\u001b[A\u001b[A\n",
      "dqn:42: 25000it [06:29, 112.54it/s]\u001b[A\n",
      "\n",
      "dqn:44: 23000it [06:30, 93.97it/s]\u001b[A\u001b[A\n",
      "dqn:42: 25500it [06:33, 114.72it/s]\u001b[A\n",
      "\n",
      "dqn:44: 23500it [06:34, 99.12it/s]\u001b[A\u001b[A\n",
      "dqn:42: 26000it [06:38, 116.88it/s]\u001b[A\n",
      "\n",
      "dqn:44: 24000it [06:38, 107.33it/s]\u001b[A\u001b[A\n",
      "\n",
      "dqn:44: 24500it [06:42, 111.45it/s]\u001b[A\u001b[A\n",
      "dqn:42: 26500it [06:43, 105.82it/s]\u001b[A\n",
      "\n",
      "dqn:42: 27000it [06:47, 116.58it/s]\u001b[A\u001b[A\n",
      "dqn:43: 27000it [06:47, 107.56it/s]\u001b[A\n",
      "\n",
      "dqn:44: 25500it [06:50, 119.78it/s]\u001b[A\u001b[A\n",
      "dqn:42: 27500it [06:50, 120.52it/s]\u001b[A\n",
      "dqn:42: 28000it [06:54, 123.43it/s]\u001b[A\n",
      "\n",
      "dqn:44: 26000it [06:54, 117.12it/s]\u001b[A\u001b[A\n",
      "dqn:42: 28500it [06:58, 122.10it/s]\u001b[A\n",
      "\n",
      "dqn:44: 26500it [06:59, 111.21it/s]\u001b[A\u001b[A\n",
      "dqn:42: 29000it [07:02, 123.07it/s]\u001b[A\n",
      "dqn:43: 29500it [07:04, 135.20it/s]\u001b[A\n",
      "\n",
      "dqn:42: 29500it [07:06, 129.23it/s]\u001b[A\u001b[A\n",
      "dqn:43: 30000it [07:08, 137.30it/s]\u001b[A\n",
      "\n",
      "dqn:42: 30000it [07:10, 129.54it/s]\u001b[A\u001b[A\n",
      "dqn:42: 30500it [07:13, 133.30it/s]\u001b[A\n",
      "\n",
      "dqn:44: 28000it [07:14, 106.84it/s]\u001b[A\u001b[A\n",
      "dqn:42: 31000it [07:17, 133.18it/s]\u001b[A\n",
      "\n",
      "dqn:44: 28500it [07:18, 108.91it/s]\u001b[A\u001b[A\n",
      "dqn:42: 31500it [07:20, 135.58it/s]\u001b[A\n",
      "\n",
      "dqn:44: 29000it [07:22, 115.62it/s]\u001b[A\u001b[A\n",
      "dqn:42: 32000it [07:24, 136.82it/s]\u001b[A\n",
      "\n",
      "dqn:44: 29500it [07:26, 118.77it/s]\u001b[A\u001b[A\n",
      "dqn:42: 32500it [07:27, 140.27it/s]\u001b[A\n",
      "\n",
      "dqn:42: 33000it [07:31, 140.81it/s]\u001b[A\u001b[A\n",
      "dqn:43: 33000it [07:31, 129.96it/s]\u001b[A\n",
      "\n",
      "dqn:44: 30500it [07:34, 119.88it/s]\u001b[A\u001b[A\n",
      "dqn:42: 33500it [07:35, 138.97it/s]\u001b[A\n",
      "dqn:42: 34000it [07:38, 136.40it/s]\u001b[A\n",
      "\n",
      "dqn:44: 31000it [07:38, 119.19it/s]\u001b[A\u001b[A\n",
      "dqn:42: 34500it [07:43, 131.49it/s]\u001b[A\n",
      "\n",
      "dqn:44: 31500it [07:43, 119.13it/s]\u001b[A\u001b[A\n",
      "dqn:43: 35000it [07:45, 138.41it/s]\u001b[A\n",
      "\n",
      "dqn:42: 35000it [07:46, 130.83it/s]\u001b[A\u001b[A\n",
      "dqn:43: 35500it [07:49, 137.36it/s]\u001b[A\n",
      "\n",
      "dqn:42: 35500it [07:50, 132.28it/s]\u001b[A\u001b[A\n",
      "dqn:43: 36000it [07:52, 137.75it/s]\u001b[A\n",
      "\n",
      "dqn:42: 36000it [07:53, 136.65it/s]\u001b[A\u001b[A\n",
      "dqn:43: 36500it [07:54, 173.41it/s]\u001b[A\n",
      "dqn:42: 36500it [07:54, 177.46it/s]\n",
      "dqn:44: 36500it [08:10, 231.83it/s]\n"
     ]
    }
   ],
   "source": [
    "launch8_data = run_threaded(run_network_scenario_file, file='../launches/launch8.yaml',\n",
    "                            router_types=['simple_q', 'link_state', 'dqn'], progress_step=500,\n",
    "                            random_seeds=[42, 43, 44])\n",
    "\n",
    "launch8_data_comb = combine_launch_data(launch8_data)"
   ]
  },
  {
   "cell_type": "code",
   "execution_count": 16,
   "metadata": {},
   "outputs": [
    {
     "data": {
      "image/png": "[encoded data removed]",
      "text/plain": [
       "<Figure size 936x720 with 1 Axes>"
      ]
     },
     "metadata": {
      "needs_background": "light"
     },
     "output_type": "display_data"
    }
   ],
   "source": [
    "plot_avgs(figsize=(13,10), **launch8_data_comb)"
   ]
  },
  {
   "cell_type": "code",
   "execution_count": 7,
   "metadata": {},
   "outputs": [
    {
     "name": "stderr",
     "output_type": "stream",
     "text": [
      "simple_q:12: 0it [00:00, ?it/s]\n",
      "simple_q:13: 0it [00:00, ?it/s]\u001b[A\n",
      "\n",
      "link_state:12: 0it [00:00, ?it/s]\u001b[A\u001b[A\n",
      "\n",
      "\n",
      "link_state:13: 0it [00:00, ?it/s]\u001b[A\u001b[A\u001b[A"
     ]
    },
    {
     "name": "stdout",
     "output_type": "stream",
     "text": [
      "name 'POMPDAgent' is not defined\n",
      "name 'POMPDAgent' is not defined\n",
      "name 'POMPDAgent' is not defined\n",
      "name 'POMPDAgent' is not defined\n"
     ]
    },
    {
     "name": "stderr",
     "output_type": "stream",
     "text": [
      "Process ForkPoolWorker-4:\n",
      "Process ForkPoolWorker-2:\n",
      "Process ForkPoolWorker-3:\n",
      "Traceback (most recent call last):\n",
      "Process ForkPoolWorker-1:\n",
      "Traceback (most recent call last):\n",
      "  File \"/nix/store/yk7hci7pg3n2kyjh8il317wvd5nam3aw-python3-3.6.7/lib/python3.6/multiprocessing/process.py\", line 258, in _bootstrap\n",
      "    self.run()\n",
      "Traceback (most recent call last):\n",
      "Traceback (most recent call last):\n",
      "  File \"/nix/store/yk7hci7pg3n2kyjh8il317wvd5nam3aw-python3-3.6.7/lib/python3.6/multiprocessing/process.py\", line 258, in _bootstrap\n",
      "    self.run()\n",
      "  File \"/nix/store/yk7hci7pg3n2kyjh8il317wvd5nam3aw-python3-3.6.7/lib/python3.6/multiprocessing/process.py\", line 258, in _bootstrap\n",
      "    self.run()\n",
      "  File \"/nix/store/yk7hci7pg3n2kyjh8il317wvd5nam3aw-python3-3.6.7/lib/python3.6/multiprocessing/process.py\", line 258, in _bootstrap\n",
      "    self.run()\n",
      "  File \"/nix/store/yk7hci7pg3n2kyjh8il317wvd5nam3aw-python3-3.6.7/lib/python3.6/multiprocessing/process.py\", line 93, in run\n",
      "    self._target(*self._args, **self._kwargs)\n",
      "  File \"/nix/store/yk7hci7pg3n2kyjh8il317wvd5nam3aw-python3-3.6.7/lib/python3.6/multiprocessing/process.py\", line 93, in run\n",
      "    self._target(*self._args, **self._kwargs)\n",
      "  File \"/nix/store/yk7hci7pg3n2kyjh8il317wvd5nam3aw-python3-3.6.7/lib/python3.6/multiprocessing/process.py\", line 93, in run\n",
      "    self._target(*self._args, **self._kwargs)\n",
      "  File \"/nix/store/yk7hci7pg3n2kyjh8il317wvd5nam3aw-python3-3.6.7/lib/python3.6/multiprocessing/pool.py\", line 108, in worker\n",
      "    task = get()\n",
      "  File \"/nix/store/yk7hci7pg3n2kyjh8il317wvd5nam3aw-python3-3.6.7/lib/python3.6/multiprocessing/pool.py\", line 108, in worker\n",
      "    task = get()\n",
      "  File \"/nix/store/yk7hci7pg3n2kyjh8il317wvd5nam3aw-python3-3.6.7/lib/python3.6/multiprocessing/queues.py\", line 334, in get\n",
      "    with self._rlock:\n",
      "  File \"/nix/store/yk7hci7pg3n2kyjh8il317wvd5nam3aw-python3-3.6.7/lib/python3.6/multiprocessing/queues.py\", line 334, in get\n",
      "    with self._rlock:\n",
      "  File \"/nix/store/yk7hci7pg3n2kyjh8il317wvd5nam3aw-python3-3.6.7/lib/python3.6/multiprocessing/synchronize.py\", line 95, in __enter__\n",
      "    return self._semlock.__enter__()\n",
      "KeyboardInterrupt\n",
      "  File \"/nix/store/yk7hci7pg3n2kyjh8il317wvd5nam3aw-python3-3.6.7/lib/python3.6/multiprocessing/process.py\", line 93, in run\n",
      "    self._target(*self._args, **self._kwargs)\n",
      "  File \"/nix/store/yk7hci7pg3n2kyjh8il317wvd5nam3aw-python3-3.6.7/lib/python3.6/multiprocessing/synchronize.py\", line 95, in __enter__\n",
      "    return self._semlock.__enter__()\n",
      "  File \"/nix/store/yk7hci7pg3n2kyjh8il317wvd5nam3aw-python3-3.6.7/lib/python3.6/multiprocessing/pool.py\", line 108, in worker\n",
      "    task = get()\n",
      "KeyboardInterrupt\n",
      "  File \"/nix/store/yk7hci7pg3n2kyjh8il317wvd5nam3aw-python3-3.6.7/lib/python3.6/multiprocessing/pool.py\", line 108, in worker\n",
      "    task = get()\n",
      "  File \"/nix/store/yk7hci7pg3n2kyjh8il317wvd5nam3aw-python3-3.6.7/lib/python3.6/multiprocessing/queues.py\", line 334, in get\n",
      "    with self._rlock:\n",
      "  File \"/nix/store/yk7hci7pg3n2kyjh8il317wvd5nam3aw-python3-3.6.7/lib/python3.6/multiprocessing/synchronize.py\", line 95, in __enter__\n",
      "    return self._semlock.__enter__()\n",
      "KeyboardInterrupt\n",
      "  File \"/nix/store/yk7hci7pg3n2kyjh8il317wvd5nam3aw-python3-3.6.7/lib/python3.6/multiprocessing/queues.py\", line 335, in get\n",
      "    res = self._reader.recv_bytes()\n",
      "  File \"/nix/store/yk7hci7pg3n2kyjh8il317wvd5nam3aw-python3-3.6.7/lib/python3.6/multiprocessing/connection.py\", line 216, in recv_bytes\n",
      "    buf = self._recv_bytes(maxlength)\n",
      "  File \"/nix/store/yk7hci7pg3n2kyjh8il317wvd5nam3aw-python3-3.6.7/lib/python3.6/multiprocessing/connection.py\", line 407, in _recv_bytes\n",
      "    buf = self._recv(4)\n",
      "  File \"/nix/store/yk7hci7pg3n2kyjh8il317wvd5nam3aw-python3-3.6.7/lib/python3.6/multiprocessing/connection.py\", line 379, in _recv\n",
      "    chunk = read(handle, remaining)\n",
      "KeyboardInterrupt\n"
     ]
    },
    {
     "ename": "KeyboardInterrupt",
     "evalue": "",
     "output_type": "error",
     "traceback": [
      "\u001b[0;31m---------------------------------------------------------------------------\u001b[0m",
      "\u001b[0;31mKeyboardInterrupt\u001b[0m                         Traceback (most recent call last)",
      "\u001b[0;32m<ipython-input-7-0f245542c96e>\u001b[0m in \u001b[0;36m<module>\u001b[0;34m\u001b[0m\n\u001b[1;32m      1\u001b[0m launch6_data_rand_ = run_threaded(run_network_scenario_file, random_seeds=[12, 13],\n\u001b[1;32m      2\u001b[0m                                   \u001b[0mfile\u001b[0m\u001b[0;34m=\u001b[0m\u001b[0;34m'../launches/launch6.yaml'\u001b[0m\u001b[0;34m,\u001b[0m \u001b[0mrouter_types\u001b[0m\u001b[0;34m=\u001b[0m\u001b[0;34m[\u001b[0m\u001b[0;34m'simple_q'\u001b[0m\u001b[0;34m,\u001b[0m \u001b[0;34m'link_state'\u001b[0m\u001b[0;34m]\u001b[0m\u001b[0;34m,\u001b[0m\u001b[0;34m\u001b[0m\u001b[0;34m\u001b[0m\u001b[0m\n\u001b[0;32m----> 3\u001b[0;31m                                   progress_step=500)\n\u001b[0m\u001b[1;32m      4\u001b[0m \u001b[0mlaunch6_data_rand\u001b[0m \u001b[0;34m=\u001b[0m \u001b[0mcombine_launch_data\u001b[0m\u001b[0;34m(\u001b[0m\u001b[0mlaunch6_data_rand_\u001b[0m\u001b[0;34m)\u001b[0m\u001b[0;34m\u001b[0m\u001b[0;34m\u001b[0m\u001b[0m\n",
      "\u001b[0;32m<ipython-input-6-32b67de9971f>\u001b[0m in \u001b[0;36mrun_threaded\u001b[0;34m(func, router_types, random_seeds, *args, **kwargs)\u001b[0m\n\u001b[1;32m     43\u001b[0m     \u001b[0;31m# TODO: fix progressbars somehow\u001b[0m\u001b[0;34m\u001b[0m\u001b[0;34m\u001b[0m\u001b[0;34m\u001b[0m\u001b[0m\n\u001b[1;32m     44\u001b[0m     \u001b[0;32mwhile\u001b[0m \u001b[0mlen\u001b[0m\u001b[0;34m(\u001b[0m\u001b[0mbars\u001b[0m\u001b[0;34m)\u001b[0m \u001b[0;34m>\u001b[0m \u001b[0;36m0\u001b[0m\u001b[0;34m:\u001b[0m\u001b[0;34m\u001b[0m\u001b[0;34m\u001b[0m\u001b[0m\n\u001b[0;32m---> 45\u001b[0;31m         \u001b[0;34m(\u001b[0m\u001b[0mrt\u001b[0m\u001b[0;34m,\u001b[0m \u001b[0ms\u001b[0m\u001b[0;34m,\u001b[0m \u001b[0mval\u001b[0m\u001b[0;34m)\u001b[0m \u001b[0;34m=\u001b[0m \u001b[0mqueue\u001b[0m\u001b[0;34m.\u001b[0m\u001b[0mget\u001b[0m\u001b[0;34m(\u001b[0m\u001b[0;34m)\u001b[0m\u001b[0;34m\u001b[0m\u001b[0;34m\u001b[0m\u001b[0m\n\u001b[0m\u001b[1;32m     46\u001b[0m         \u001b[0mjob_id\u001b[0m \u001b[0;34m=\u001b[0m \u001b[0mmk_job_id\u001b[0m\u001b[0;34m(\u001b[0m\u001b[0mrt\u001b[0m\u001b[0;34m,\u001b[0m \u001b[0ms\u001b[0m\u001b[0;34m)\u001b[0m\u001b[0;34m\u001b[0m\u001b[0;34m\u001b[0m\u001b[0m\n\u001b[1;32m     47\u001b[0m         \u001b[0;32mif\u001b[0m \u001b[0mval\u001b[0m \u001b[0;32mis\u001b[0m \u001b[0;32mNone\u001b[0m\u001b[0;34m:\u001b[0m\u001b[0;34m\u001b[0m\u001b[0;34m\u001b[0m\u001b[0m\n",
      "\u001b[0;32m<string>\u001b[0m in \u001b[0;36mget\u001b[0;34m(self, *args, **kwds)\u001b[0m\n",
      "\u001b[0;32m/nix/store/yk7hci7pg3n2kyjh8il317wvd5nam3aw-python3-3.6.7/lib/python3.6/multiprocessing/managers.py\u001b[0m in \u001b[0;36m_callmethod\u001b[0;34m(self, methodname, args, kwds)\u001b[0m\n\u001b[1;32m    755\u001b[0m \u001b[0;34m\u001b[0m\u001b[0m\n\u001b[1;32m    756\u001b[0m         \u001b[0mconn\u001b[0m\u001b[0;34m.\u001b[0m\u001b[0msend\u001b[0m\u001b[0;34m(\u001b[0m\u001b[0;34m(\u001b[0m\u001b[0mself\u001b[0m\u001b[0;34m.\u001b[0m\u001b[0m_id\u001b[0m\u001b[0;34m,\u001b[0m \u001b[0mmethodname\u001b[0m\u001b[0;34m,\u001b[0m \u001b[0margs\u001b[0m\u001b[0;34m,\u001b[0m \u001b[0mkwds\u001b[0m\u001b[0;34m)\u001b[0m\u001b[0;34m)\u001b[0m\u001b[0;34m\u001b[0m\u001b[0;34m\u001b[0m\u001b[0m\n\u001b[0;32m--> 757\u001b[0;31m         \u001b[0mkind\u001b[0m\u001b[0;34m,\u001b[0m \u001b[0mresult\u001b[0m \u001b[0;34m=\u001b[0m \u001b[0mconn\u001b[0m\u001b[0;34m.\u001b[0m\u001b[0mrecv\u001b[0m\u001b[0;34m(\u001b[0m\u001b[0;34m)\u001b[0m\u001b[0;34m\u001b[0m\u001b[0;34m\u001b[0m\u001b[0m\n\u001b[0m\u001b[1;32m    758\u001b[0m \u001b[0;34m\u001b[0m\u001b[0m\n\u001b[1;32m    759\u001b[0m         \u001b[0;32mif\u001b[0m \u001b[0mkind\u001b[0m \u001b[0;34m==\u001b[0m \u001b[0;34m'#RETURN'\u001b[0m\u001b[0;34m:\u001b[0m\u001b[0;34m\u001b[0m\u001b[0;34m\u001b[0m\u001b[0m\n",
      "\u001b[0;32m/nix/store/yk7hci7pg3n2kyjh8il317wvd5nam3aw-python3-3.6.7/lib/python3.6/multiprocessing/connection.py\u001b[0m in \u001b[0;36mrecv\u001b[0;34m(self)\u001b[0m\n\u001b[1;32m    248\u001b[0m         \u001b[0mself\u001b[0m\u001b[0;34m.\u001b[0m\u001b[0m_check_closed\u001b[0m\u001b[0;34m(\u001b[0m\u001b[0;34m)\u001b[0m\u001b[0;34m\u001b[0m\u001b[0;34m\u001b[0m\u001b[0m\n\u001b[1;32m    249\u001b[0m         \u001b[0mself\u001b[0m\u001b[0;34m.\u001b[0m\u001b[0m_check_readable\u001b[0m\u001b[0;34m(\u001b[0m\u001b[0;34m)\u001b[0m\u001b[0;34m\u001b[0m\u001b[0;34m\u001b[0m\u001b[0m\n\u001b[0;32m--> 250\u001b[0;31m         \u001b[0mbuf\u001b[0m \u001b[0;34m=\u001b[0m \u001b[0mself\u001b[0m\u001b[0;34m.\u001b[0m\u001b[0m_recv_bytes\u001b[0m\u001b[0;34m(\u001b[0m\u001b[0;34m)\u001b[0m\u001b[0;34m\u001b[0m\u001b[0;34m\u001b[0m\u001b[0m\n\u001b[0m\u001b[1;32m    251\u001b[0m         \u001b[0;32mreturn\u001b[0m \u001b[0m_ForkingPickler\u001b[0m\u001b[0;34m.\u001b[0m\u001b[0mloads\u001b[0m\u001b[0;34m(\u001b[0m\u001b[0mbuf\u001b[0m\u001b[0;34m.\u001b[0m\u001b[0mgetbuffer\u001b[0m\u001b[0;34m(\u001b[0m\u001b[0;34m)\u001b[0m\u001b[0;34m)\u001b[0m\u001b[0;34m\u001b[0m\u001b[0;34m\u001b[0m\u001b[0m\n\u001b[1;32m    252\u001b[0m \u001b[0;34m\u001b[0m\u001b[0m\n",
      "\u001b[0;32m/nix/store/yk7hci7pg3n2kyjh8il317wvd5nam3aw-python3-3.6.7/lib/python3.6/multiprocessing/connection.py\u001b[0m in \u001b[0;36m_recv_bytes\u001b[0;34m(self, maxsize)\u001b[0m\n\u001b[1;32m    405\u001b[0m \u001b[0;34m\u001b[0m\u001b[0m\n\u001b[1;32m    406\u001b[0m     \u001b[0;32mdef\u001b[0m \u001b[0m_recv_bytes\u001b[0m\u001b[0;34m(\u001b[0m\u001b[0mself\u001b[0m\u001b[0;34m,\u001b[0m \u001b[0mmaxsize\u001b[0m\u001b[0;34m=\u001b[0m\u001b[0;32mNone\u001b[0m\u001b[0;34m)\u001b[0m\u001b[0;34m:\u001b[0m\u001b[0;34m\u001b[0m\u001b[0;34m\u001b[0m\u001b[0m\n\u001b[0;32m--> 407\u001b[0;31m         \u001b[0mbuf\u001b[0m \u001b[0;34m=\u001b[0m \u001b[0mself\u001b[0m\u001b[0;34m.\u001b[0m\u001b[0m_recv\u001b[0m\u001b[0;34m(\u001b[0m\u001b[0;36m4\u001b[0m\u001b[0;34m)\u001b[0m\u001b[0;34m\u001b[0m\u001b[0;34m\u001b[0m\u001b[0m\n\u001b[0m\u001b[1;32m    408\u001b[0m         \u001b[0msize\u001b[0m\u001b[0;34m,\u001b[0m \u001b[0;34m=\u001b[0m \u001b[0mstruct\u001b[0m\u001b[0;34m.\u001b[0m\u001b[0munpack\u001b[0m\u001b[0;34m(\u001b[0m\u001b[0;34m\"!i\"\u001b[0m\u001b[0;34m,\u001b[0m \u001b[0mbuf\u001b[0m\u001b[0;34m.\u001b[0m\u001b[0mgetvalue\u001b[0m\u001b[0;34m(\u001b[0m\u001b[0;34m)\u001b[0m\u001b[0;34m)\u001b[0m\u001b[0;34m\u001b[0m\u001b[0;34m\u001b[0m\u001b[0m\n\u001b[1;32m    409\u001b[0m         \u001b[0;32mif\u001b[0m \u001b[0mmaxsize\u001b[0m \u001b[0;32mis\u001b[0m \u001b[0;32mnot\u001b[0m \u001b[0;32mNone\u001b[0m \u001b[0;32mand\u001b[0m \u001b[0msize\u001b[0m \u001b[0;34m>\u001b[0m \u001b[0mmaxsize\u001b[0m\u001b[0;34m:\u001b[0m\u001b[0;34m\u001b[0m\u001b[0;34m\u001b[0m\u001b[0m\n",
      "\u001b[0;32m/nix/store/yk7hci7pg3n2kyjh8il317wvd5nam3aw-python3-3.6.7/lib/python3.6/multiprocessing/connection.py\u001b[0m in \u001b[0;36m_recv\u001b[0;34m(self, size, read)\u001b[0m\n\u001b[1;32m    377\u001b[0m         \u001b[0mremaining\u001b[0m \u001b[0;34m=\u001b[0m \u001b[0msize\u001b[0m\u001b[0;34m\u001b[0m\u001b[0;34m\u001b[0m\u001b[0m\n\u001b[1;32m    378\u001b[0m         \u001b[0;32mwhile\u001b[0m \u001b[0mremaining\u001b[0m \u001b[0;34m>\u001b[0m \u001b[0;36m0\u001b[0m\u001b[0;34m:\u001b[0m\u001b[0;34m\u001b[0m\u001b[0;34m\u001b[0m\u001b[0m\n\u001b[0;32m--> 379\u001b[0;31m             \u001b[0mchunk\u001b[0m \u001b[0;34m=\u001b[0m \u001b[0mread\u001b[0m\u001b[0;34m(\u001b[0m\u001b[0mhandle\u001b[0m\u001b[0;34m,\u001b[0m \u001b[0mremaining\u001b[0m\u001b[0;34m)\u001b[0m\u001b[0;34m\u001b[0m\u001b[0;34m\u001b[0m\u001b[0m\n\u001b[0m\u001b[1;32m    380\u001b[0m             \u001b[0mn\u001b[0m \u001b[0;34m=\u001b[0m \u001b[0mlen\u001b[0m\u001b[0;34m(\u001b[0m\u001b[0mchunk\u001b[0m\u001b[0;34m)\u001b[0m\u001b[0;34m\u001b[0m\u001b[0;34m\u001b[0m\u001b[0m\n\u001b[1;32m    381\u001b[0m             \u001b[0;32mif\u001b[0m \u001b[0mn\u001b[0m \u001b[0;34m==\u001b[0m \u001b[0;36m0\u001b[0m\u001b[0;34m:\u001b[0m\u001b[0;34m\u001b[0m\u001b[0;34m\u001b[0m\u001b[0m\n",
      "\u001b[0;31mKeyboardInterrupt\u001b[0m: "
     ]
    }
   ],
   "source": [
    "launch6_data_rand_ = run_threaded(run_network_scenario_file, random_seeds=[12, 13],\n",
    "                                  file='../launches/launch6.yaml', router_types=['simple_q', 'link_state'],\n",
    "                                  progress_step=500)\n",
    "launch6_data_rand = combine_launch_data(launch6_data_rand_)"
   ]
  },
  {
   "cell_type": "code",
   "execution_count": 9,
   "metadata": {},
   "outputs": [],
   "source": [
    "dummy_data = run_network_scenario_file(random_seed=12, file='../launches/launch6.yaml',\n",
    "                                       router_type='simple_q')"
   ]
  },
  {
   "cell_type": "code",
   "execution_count": 10,
   "metadata": {},
   "outputs": [
    {
     "data": {
      "image/png": "[encoded data removed]",
      "text/plain": [
       "<Figure size 1080x360 with 1 Axes>"
      ]
     },
     "metadata": {
      "needs_background": "light"
     },
     "output_type": "display_data"
    }
   ],
   "source": [
    "plot_avgs(simple_q=dummy_data)"
   ]
  },
  {
   "cell_type": "code",
   "execution_count": 11,
   "metadata": {},
   "outputs": [
    {
     "name": "stderr",
     "output_type": "stream",
     "text": [
      "0it [00:00, ?it/s]"
     ]
    },
    {
     "name": "stdout",
     "output_type": "stream",
     "text": [
      "INFO:tensorflow:Restoring parameters from ../tf_models/dqn_rmsprop_amatrix_ff_tanh_64_64\n",
      "INFO:tensorflow:Restoring parameters from ../tf_models/dqn_rmsprop_amatrix_ff_tanh_64_64\n",
      "INFO:tensorflow:Restoring parameters from ../tf_models/dqn_rmsprop_amatrix_ff_tanh_64_64\n",
      "INFO:tensorflow:Restoring parameters from ../tf_models/dqn_rmsprop_amatrix_ff_tanh_64_64\n",
      "INFO:tensorflow:Restoring parameters from ../tf_models/dqn_rmsprop_amatrix_ff_tanh_64_64\n",
      "INFO:tensorflow:Restoring parameters from ../tf_models/dqn_rmsprop_amatrix_ff_tanh_64_64\n",
      "INFO:tensorflow:Restoring parameters from ../tf_models/dqn_rmsprop_amatrix_ff_tanh_64_64\n",
      "INFO:tensorflow:Restoring parameters from ../tf_models/dqn_rmsprop_amatrix_ff_tanh_64_64\n",
      "INFO:tensorflow:Restoring parameters from ../tf_models/dqn_rmsprop_amatrix_ff_tanh_64_64\n",
      "INFO:tensorflow:Restoring parameters from ../tf_models/dqn_rmsprop_amatrix_ff_tanh_64_64\n"
     ]
    },
    {
     "name": "stderr",
     "output_type": "stream",
     "text": [
      "16300it [02:17, 247.28it/s]\n"
     ]
    },
    {
     "data": {
      "image/png": "[encoded data removed]",
      "text/plain": [
       "<Figure size 1080x360 with 1 Axes>"
      ]
     },
     "metadata": {
      "needs_background": "light"
     },
     "output_type": "display_data"
    }
   ],
   "source": [
    "with tqdm() as bar:\n",
    "    queue = DummyProgressbarQueue(bar)\n",
    "    dummy_data2 = run_network_scenario_file(random_seed=12, file='../launches/launch6.yaml',\n",
    "                                            router_type='dqn', progress_step=100, progress_queue=queue)\n",
    "plot_avgs(simple_q=dummy_data2)"
   ]
  },
  {
   "cell_type": "code",
   "execution_count": null,
   "metadata": {},
   "outputs": [],
   "source": []
  }
 ],
 "metadata": {
  "kernelspec": {
   "display_name": "Python 3",
   "language": "python",
   "name": "python3"
  },
  "language_info": {
   "codemirror_mode": {
    "name": "ipython",
    "version": 3
   },
   "file_extension": ".py",
   "mimetype": "text/x-python",
   "name": "python",
   "nbconvert_exporter": "python",
   "pygments_lexer": "ipython3",
   "version": "3.6.7"
  }
 },
 "nbformat": 4,
 "nbformat_minor": 2
}
