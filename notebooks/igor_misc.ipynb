{
 "cells": [
  {
   "cell_type": "markdown",
   "metadata": {},
   "source": [
    "## Taking softmax is the same as taking sigmoid of the difference of Q values!"
   ]
  },
  {
   "cell_type": "code",
   "execution_count": 3,
   "metadata": {},
   "outputs": [
    {
     "name": "stdout",
     "output_type": "stream",
     "text": [
      "tensor(0.0013, dtype=torch.float64) tensor(0.9987, dtype=torch.float64)\n",
      "tensor(0.0013, dtype=torch.float64) tensor(0.9987, dtype=torch.float64)\n",
      "tensor(-4.4409e-16, dtype=torch.float64) tensor(4.4409e-16, dtype=torch.float64)\n"
     ]
    },
    {
     "data": {
      "image/png": "[encoded data removed]",
      "text/plain": [
       "<Figure size 720x504 with 3 Axes>"
      ]
     },
     "metadata": {
      "needs_background": "light"
     },
     "output_type": "display_data"
    }
   ],
   "source": [
    "import torch\n",
    "import matplotlib.pyplot as plt\n",
    "import numpy as np\n",
    "\n",
    "MIN_TEMP = 1.5\n",
    "\n",
    "get_range = lambda: torch.tensor(np.linspace(-150, -50, 100))\n",
    "a = get_range()\n",
    "b = get_range()\n",
    "a = a.view((a.numel(), 1)).expand((a.numel(), a.numel())).unsqueeze(2)\n",
    "b = b.view((1, b.numel())).expand((b.numel(), b.numel())).unsqueeze(2)\n",
    "#print(a)\n",
    "#print(b)\n",
    "grid = torch.cat((a, b), dim=2)\n",
    "#temp = MIN_TEMP\n",
    "temp = MIN_TEMP * 10\n",
    "f = lambda x: (x / temp).softmax(dim=2)[:, :, 0]\n",
    "g = lambda x: ((x[:, :, 0] - x[:, :, 1]) / temp).sigmoid()\n",
    "h = lambda x: f(x) - g(x)\n",
    "funcs = [f, g, h]\n",
    "fig, axes = plt.subplots(1, len(funcs), figsize=(10, 7))\n",
    "for func, ax in zip(funcs, axes):\n",
    "    result = func(grid)\n",
    "    ax.imshow(result)\n",
    "    print(result.min(), result.max())"
   ]
  },
  {
   "cell_type": "markdown",
   "metadata": {},
   "source": [
    "## Singular values of row matrices"
   ]
  },
  {
   "cell_type": "code",
   "execution_count": 5,
   "metadata": {},
   "outputs": [
    {
     "name": "stdout",
     "output_type": "stream",
     "text": [
      "*** n = 1 ***\n",
      "matrix: Matrix([[a**2 - x]])\n",
      "determinant: a**2 - x\n",
      "eigenvalues: [a**2]\n",
      "*** n = 2 ***\n",
      "matrix: Matrix([[a**2 - x, a*b], [a*b, b**2 - x]])\n",
      "determinant: x*(-a**2 - b**2 + x)\n",
      "eigenvalues: [0, a**2 + b**2]\n",
      "*** n = 3 ***\n",
      "matrix: Matrix([[a**2 - x, a*b, a*c], [a*b, b**2 - x, b*c], [a*c, b*c, c**2 - x]])\n",
      "determinant: x**2*(a**2 + b**2 + c**2 - x)\n",
      "eigenvalues: [0, a**2 + b**2 + c**2]\n",
      "*** n = 4 ***\n",
      "matrix: Matrix([[a**2 - x, a*b, a*c, a*d], [a*b, b**2 - x, b*c, b*d], [a*c, b*c, c**2 - x, c*d], [a*d, b*d, c*d, d**2 - x]])\n",
      "determinant: x**3*(-a**2 - b**2 - c**2 - d**2 + x)\n",
      "eigenvalues: [0, a**2 + b**2 + c**2 + d**2]\n",
      "*** n = 5 ***\n",
      "matrix: Matrix([[a**2 - x, a*b, a*c, a*d, a*e], [a*b, b**2 - x, b*c, b*d, b*e], [a*c, b*c, c**2 - x, c*d, c*e], [a*d, b*d, c*d, d**2 - x, d*e], [a*e, b*e, c*e, d*e, e**2 - x]])\n",
      "determinant: x**4*(a**2 + b**2 + c**2 + d**2 + e**2 - x)\n",
      "eigenvalues: [0, a**2 + b**2 + c**2 + d**2 + e**2]\n"
     ]
    }
   ],
   "source": [
    "import sympy\n",
    "\n",
    "for n in range(1, 6):\n",
    "    print(f\"*** n = {n} ***\")\n",
    "    params = sympy.symbols([f\"{chr(97 + i)}\" for i in range(n)] + [\"x\"])\n",
    "    m = sympy.Matrix([[params[i] for i in range(n)]])\n",
    "    #print(m)\n",
    "    m = m.T @ m\n",
    "    #print(m)\n",
    "    m = m - sympy.diag(*[params[-1]] * n)\n",
    "    print(\"matrix:\", m)\n",
    "    det = m.det().simplify()\n",
    "    print(\"determinant:\", det)\n",
    "    print(\"eigenvalues:\", sympy.solve(det, params[-1]))"
   ]
  },
  {
   "cell_type": "markdown",
   "metadata": {},
   "source": [
    "## Singular values of two-row matrices"
   ]
  },
  {
   "cell_type": "code",
   "execution_count": 6,
   "metadata": {},
   "outputs": [
    {
     "name": "stdout",
     "output_type": "stream",
     "text": [
      "*** n = 1 ***\n",
      "matrix: Matrix([[a1**2 + a2**2 - x]])\n",
      "determinant: a1**2 + a2**2 - x\n",
      "eigenvalues: [a1**2 + a2**2]\n",
      "*** n = 2 ***\n",
      "matrix: Matrix([[a1**2 + a2**2 - x, a1*b1 + a2*b2], [a1*b1 + a2*b2, b1**2 + b2**2 - x]])\n",
      "determinant: -(a1*b1 + a2*b2)**2 + (a1**2 + a2**2 - x)*(b1**2 + b2**2 - x)\n",
      "eigenvalues: [a1**2/2 + a2**2/2 + b1**2/2 + b2**2/2 - sqrt((a1**2 - 2*a1*b2 + a2**2 + 2*a2*b1 + b1**2 + b2**2)*(a1**2 + 2*a1*b2 + a2**2 - 2*a2*b1 + b1**2 + b2**2))/2, a1**2/2 + a2**2/2 + b1**2/2 + b2**2/2 + sqrt((a1**2 - 2*a1*b2 + a2**2 + 2*a2*b1 + b1**2 + b2**2)*(a1**2 + 2*a1*b2 + a2**2 - 2*a2*b1 + b1**2 + b2**2))/2]\n",
      "*** n = 3 ***\n",
      "matrix: Matrix([[a1**2 + a2**2 - x, a1*b1 + a2*b2, a1*c1 + a2*c2], [a1*b1 + a2*b2, b1**2 + b2**2 - x, b1*c1 + b2*c2], [a1*c1 + a2*c2, b1*c1 + b2*c2, c1**2 + c2**2 - x]])\n",
      "determinant: (a1*b1 + a2*b2)**2*(-c1**2 - c2**2 + x) + 2*(a1*b1 + a2*b2)*(a1*c1 + a2*c2)*(b1*c1 + b2*c2) + (a1*c1 + a2*c2)**2*(-b1**2 - b2**2 + x) + (b1*c1 + b2*c2)**2*(-a1**2 - a2**2 + x) + (a1**2 + a2**2 - x)*(b1**2 + b2**2 - x)*(c1**2 + c2**2 - x)\n",
      "eigenvalues: [0, (a1**2 + a2**2 + b1**2 + b2**2 + c1**2 + c2**2)/2 - sqrt(a1**4 + 2*a1**2*a2**2 + 2*a1**2*b1**2 - 2*a1**2*b2**2 + 2*a1**2*c1**2 - 2*a1**2*c2**2 + 8*a1*a2*b1*b2 + 8*a1*a2*c1*c2 + a2**4 - 2*a2**2*b1**2 + 2*a2**2*b2**2 - 2*a2**2*c1**2 + 2*a2**2*c2**2 + b1**4 + 2*b1**2*b2**2 + 2*b1**2*c1**2 - 2*b1**2*c2**2 + 8*b1*b2*c1*c2 + b2**4 - 2*b2**2*c1**2 + 2*b2**2*c2**2 + c1**4 + 2*c1**2*c2**2 + c2**4)/2, (a1**2 + a2**2 + b1**2 + b2**2 + c1**2 + c2**2)/2 + sqrt(a1**4 + 2*a1**2*a2**2 + 2*a1**2*b1**2 - 2*a1**2*b2**2 + 2*a1**2*c1**2 - 2*a1**2*c2**2 + 8*a1*a2*b1*b2 + 8*a1*a2*c1*c2 + a2**4 - 2*a2**2*b1**2 + 2*a2**2*b2**2 - 2*a2**2*c1**2 + 2*a2**2*c2**2 + b1**4 + 2*b1**2*b2**2 + 2*b1**2*c1**2 - 2*b1**2*c2**2 + 8*b1*b2*c1*c2 + b2**4 - 2*b2**2*c1**2 + 2*b2**2*c2**2 + c1**4 + 2*c1**2*c2**2 + c2**4)/2]\n",
      "*** n = 4 ***\n",
      "matrix: Matrix([[a1**2 + a2**2 - x, a1*b1 + a2*b2, a1*c1 + a2*c2, a1*d1 + a2*d2], [a1*b1 + a2*b2, b1**2 + b2**2 - x, b1*c1 + b2*c2, b1*d1 + b2*d2], [a1*c1 + a2*c2, b1*c1 + b2*c2, c1**2 + c2**2 - x, c1*d1 + c2*d2], [a1*d1 + a2*d2, b1*d1 + b2*d2, c1*d1 + c2*d2, d1**2 + d2**2 - x]])\n",
      "determinant: x**2*(a1**2*b2**2 + a1**2*c2**2 + a1**2*d2**2 - a1**2*x - 2*a1*a2*b1*b2 - 2*a1*a2*c1*c2 - 2*a1*a2*d1*d2 + a2**2*b1**2 + a2**2*c1**2 + a2**2*d1**2 - a2**2*x + b1**2*c2**2 + b1**2*d2**2 - b1**2*x - 2*b1*b2*c1*c2 - 2*b1*b2*d1*d2 + b2**2*c1**2 + b2**2*d1**2 - b2**2*x + c1**2*d2**2 - c1**2*x - 2*c1*c2*d1*d2 + c2**2*d1**2 - c2**2*x - d1**2*x - d2**2*x + x**2)\n",
      "eigenvalues: [0, a1**2/2 + a2**2/2 + b1**2/2 + b2**2/2 + c1**2/2 + c2**2/2 + d1**2/2 + d2**2/2 - sqrt(a1**4 + 2*a1**2*a2**2 + 2*a1**2*b1**2 - 2*a1**2*b2**2 + 2*a1**2*c1**2 - 2*a1**2*c2**2 + 2*a1**2*d1**2 - 2*a1**2*d2**2 + 8*a1*a2*b1*b2 + 8*a1*a2*c1*c2 + 8*a1*a2*d1*d2 + a2**4 - 2*a2**2*b1**2 + 2*a2**2*b2**2 - 2*a2**2*c1**2 + 2*a2**2*c2**2 - 2*a2**2*d1**2 + 2*a2**2*d2**2 + b1**4 + 2*b1**2*b2**2 + 2*b1**2*c1**2 - 2*b1**2*c2**2 + 2*b1**2*d1**2 - 2*b1**2*d2**2 + 8*b1*b2*c1*c2 + 8*b1*b2*d1*d2 + b2**4 - 2*b2**2*c1**2 + 2*b2**2*c2**2 - 2*b2**2*d1**2 + 2*b2**2*d2**2 + c1**4 + 2*c1**2*c2**2 + 2*c1**2*d1**2 - 2*c1**2*d2**2 + 8*c1*c2*d1*d2 + c2**4 - 2*c2**2*d1**2 + 2*c2**2*d2**2 + d1**4 + 2*d1**2*d2**2 + d2**4)/2, a1**2/2 + a2**2/2 + b1**2/2 + b2**2/2 + c1**2/2 + c2**2/2 + d1**2/2 + d2**2/2 + sqrt(a1**4 + 2*a1**2*a2**2 + 2*a1**2*b1**2 - 2*a1**2*b2**2 + 2*a1**2*c1**2 - 2*a1**2*c2**2 + 2*a1**2*d1**2 - 2*a1**2*d2**2 + 8*a1*a2*b1*b2 + 8*a1*a2*c1*c2 + 8*a1*a2*d1*d2 + a2**4 - 2*a2**2*b1**2 + 2*a2**2*b2**2 - 2*a2**2*c1**2 + 2*a2**2*c2**2 - 2*a2**2*d1**2 + 2*a2**2*d2**2 + b1**4 + 2*b1**2*b2**2 + 2*b1**2*c1**2 - 2*b1**2*c2**2 + 2*b1**2*d1**2 - 2*b1**2*d2**2 + 8*b1*b2*c1*c2 + 8*b1*b2*d1*d2 + b2**4 - 2*b2**2*c1**2 + 2*b2**2*c2**2 - 2*b2**2*d1**2 + 2*b2**2*d2**2 + c1**4 + 2*c1**2*c2**2 + 2*c1**2*d1**2 - 2*c1**2*d2**2 + 8*c1*c2*d1*d2 + c2**4 - 2*c2**2*d1**2 + 2*c2**2*d2**2 + d1**4 + 2*d1**2*d2**2 + d2**4)/2]\n",
      "*** n = 5 ***\n",
      "matrix: Matrix([[a1**2 + a2**2 - x, a1*b1 + a2*b2, a1*c1 + a2*c2, a1*d1 + a2*d2, a1*e1 + a2*e2], [a1*b1 + a2*b2, b1**2 + b2**2 - x, b1*c1 + b2*c2, b1*d1 + b2*d2, b1*e1 + b2*e2], [a1*c1 + a2*c2, b1*c1 + b2*c2, c1**2 + c2**2 - x, c1*d1 + c2*d2, c1*e1 + c2*e2], [a1*d1 + a2*d2, b1*d1 + b2*d2, c1*d1 + c2*d2, d1**2 + d2**2 - x, d1*e1 + d2*e2], [a1*e1 + a2*e2, b1*e1 + b2*e2, c1*e1 + c2*e2, d1*e1 + d2*e2, e1**2 + e2**2 - x]])\n",
      "determinant: x**3*(-a1**2*b2**2 - a1**2*c2**2 - a1**2*d2**2 - a1**2*e2**2 + a1**2*x + 2*a1*a2*b1*b2 + 2*a1*a2*c1*c2 + 2*a1*a2*d1*d2 + 2*a1*a2*e1*e2 - a2**2*b1**2 - a2**2*c1**2 - a2**2*d1**2 - a2**2*e1**2 + a2**2*x - b1**2*c2**2 - b1**2*d2**2 - b1**2*e2**2 + b1**2*x + 2*b1*b2*c1*c2 + 2*b1*b2*d1*d2 + 2*b1*b2*e1*e2 - b2**2*c1**2 - b2**2*d1**2 - b2**2*e1**2 + b2**2*x - c1**2*d2**2 - c1**2*e2**2 + c1**2*x + 2*c1*c2*d1*d2 + 2*c1*c2*e1*e2 - c2**2*d1**2 - c2**2*e1**2 + c2**2*x - d1**2*e2**2 + d1**2*x + 2*d1*d2*e1*e2 - d2**2*e1**2 + d2**2*x + e1**2*x + e2**2*x - x**2)\n",
      "eigenvalues: [0, a1**2/2 + a2**2/2 + b1**2/2 + b2**2/2 + c1**2/2 + c2**2/2 + d1**2/2 + d2**2/2 + e1**2/2 + e2**2/2 - sqrt(a1**4 + 2*a1**2*a2**2 + 2*a1**2*b1**2 - 2*a1**2*b2**2 + 2*a1**2*c1**2 - 2*a1**2*c2**2 + 2*a1**2*d1**2 - 2*a1**2*d2**2 + 2*a1**2*e1**2 - 2*a1**2*e2**2 + 8*a1*a2*b1*b2 + 8*a1*a2*c1*c2 + 8*a1*a2*d1*d2 + 8*a1*a2*e1*e2 + a2**4 - 2*a2**2*b1**2 + 2*a2**2*b2**2 - 2*a2**2*c1**2 + 2*a2**2*c2**2 - 2*a2**2*d1**2 + 2*a2**2*d2**2 - 2*a2**2*e1**2 + 2*a2**2*e2**2 + b1**4 + 2*b1**2*b2**2 + 2*b1**2*c1**2 - 2*b1**2*c2**2 + 2*b1**2*d1**2 - 2*b1**2*d2**2 + 2*b1**2*e1**2 - 2*b1**2*e2**2 + 8*b1*b2*c1*c2 + 8*b1*b2*d1*d2 + 8*b1*b2*e1*e2 + b2**4 - 2*b2**2*c1**2 + 2*b2**2*c2**2 - 2*b2**2*d1**2 + 2*b2**2*d2**2 - 2*b2**2*e1**2 + 2*b2**2*e2**2 + c1**4 + 2*c1**2*c2**2 + 2*c1**2*d1**2 - 2*c1**2*d2**2 + 2*c1**2*e1**2 - 2*c1**2*e2**2 + 8*c1*c2*d1*d2 + 8*c1*c2*e1*e2 + c2**4 - 2*c2**2*d1**2 + 2*c2**2*d2**2 - 2*c2**2*e1**2 + 2*c2**2*e2**2 + d1**4 + 2*d1**2*d2**2 + 2*d1**2*e1**2 - 2*d1**2*e2**2 + 8*d1*d2*e1*e2 + d2**4 - 2*d2**2*e1**2 + 2*d2**2*e2**2 + e1**4 + 2*e1**2*e2**2 + e2**4)/2, a1**2/2 + a2**2/2 + b1**2/2 + b2**2/2 + c1**2/2 + c2**2/2 + d1**2/2 + d2**2/2 + e1**2/2 + e2**2/2 + sqrt(a1**4 + 2*a1**2*a2**2 + 2*a1**2*b1**2 - 2*a1**2*b2**2 + 2*a1**2*c1**2 - 2*a1**2*c2**2 + 2*a1**2*d1**2 - 2*a1**2*d2**2 + 2*a1**2*e1**2 - 2*a1**2*e2**2 + 8*a1*a2*b1*b2 + 8*a1*a2*c1*c2 + 8*a1*a2*d1*d2 + 8*a1*a2*e1*e2 + a2**4 - 2*a2**2*b1**2 + 2*a2**2*b2**2 - 2*a2**2*c1**2 + 2*a2**2*c2**2 - 2*a2**2*d1**2 + 2*a2**2*d2**2 - 2*a2**2*e1**2 + 2*a2**2*e2**2 + b1**4 + 2*b1**2*b2**2 + 2*b1**2*c1**2 - 2*b1**2*c2**2 + 2*b1**2*d1**2 - 2*b1**2*d2**2 + 2*b1**2*e1**2 - 2*b1**2*e2**2 + 8*b1*b2*c1*c2 + 8*b1*b2*d1*d2 + 8*b1*b2*e1*e2 + b2**4 - 2*b2**2*c1**2 + 2*b2**2*c2**2 - 2*b2**2*d1**2 + 2*b2**2*d2**2 - 2*b2**2*e1**2 + 2*b2**2*e2**2 + c1**4 + 2*c1**2*c2**2 + 2*c1**2*d1**2 - 2*c1**2*d2**2 + 2*c1**2*e1**2 - 2*c1**2*e2**2 + 8*c1*c2*d1*d2 + 8*c1*c2*e1*e2 + c2**4 - 2*c2**2*d1**2 + 2*c2**2*d2**2 - 2*c2**2*e1**2 + 2*c2**2*e2**2 + d1**4 + 2*d1**2*d2**2 + 2*d1**2*e1**2 - 2*d1**2*e2**2 + 8*d1*d2*e1*e2 + d2**4 - 2*d2**2*e1**2 + 2*d2**2*e2**2 + e1**4 + 2*e1**2*e2**2 + e2**4)/2]\n"
     ]
    }
   ],
   "source": [
    "for n in range(1, 6):\n",
    "    print(f\"*** n = {n} ***\")\n",
    "    first_row = sympy.symbols([f\"{chr(97 + i)}1\" for i in range(n)])\n",
    "    second_row = sympy.symbols([f\"{chr(97 + i)}2\" for i in range(n)])\n",
    "    params = first_row + second_row + sympy.symbols([\"x\"])\n",
    "    m = sympy.Matrix([first_row, second_row])\n",
    "    #print(m)\n",
    "    m = m.T @ m\n",
    "    #print(m)\n",
    "    m = m - sympy.diag(*[params[-1]] * n)\n",
    "    print(\"matrix:\", m)\n",
    "    det = m.det().simplify()\n",
    "    print(\"determinant:\", det)\n",
    "    print(\"eigenvalues:\", sympy.solve(det, params[-1]))"
   ]
  },
  {
   "cell_type": "code",
   "execution_count": null,
   "metadata": {},
   "outputs": [],
   "source": []
  }
 ],
 "metadata": {
  "kernelspec": {
   "display_name": "Python 3",
   "language": "python",
   "name": "python3"
  },
  "language_info": {
   "codemirror_mode": {
    "name": "ipython",
    "version": 3
   },
   "file_extension": ".py",
   "mimetype": "text/x-python",
   "name": "python",
   "nbconvert_exporter": "python",
   "pygments_lexer": "ipython3",
   "version": "3.7.6"
  }
 },
 "nbformat": 4,
 "nbformat_minor": 4
}
