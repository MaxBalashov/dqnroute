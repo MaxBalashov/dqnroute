{
 "cells": [
  {
   "cell_type": "markdown",
   "metadata": {},
   "source": [
    "## Lipschitz constant estimation (TensorFlow 2)"
   ]
  },
  {
   "cell_type": "code",
   "execution_count": 3,
   "metadata": {},
   "outputs": [
    {
     "name": "stdout",
     "output_type": "stream",
     "text": [
      "2.1.0\n"
     ]
    }
   ],
   "source": [
    "# for a single probability\n",
    "import numpy as np\n",
    "import tensorflow as tf\n",
    "print(tf.__version__)\n",
    "\n",
    "embedding_dim = 2\n",
    "hidden_dim = 2\n",
    "\n",
    "# constant tensors\n",
    "delta_e = tf.constant(np.random.normal(size=(2 * embedding_dim, 1)), dtype=tf.float32)\n",
    "A = tf.constant(np.random.normal(size=(hidden_dim, 2 * embedding_dim)), dtype=tf.float32)\n",
    "A_hat = tf.constant(np.random.normal(size=A.shape), dtype=tf.float32)\n",
    "b = tf.constant(np.random.normal(size=(hidden_dim, 1)), dtype=tf.float32)\n",
    "b_hat = tf.constant(np.random.normal(size=b.shape), dtype=tf.float32)\n",
    "C = tf.constant(np.random.normal(size=(1, hidden_dim)), dtype=tf.float32)\n",
    "C_hat = tf.constant(np.random.normal(size=C.shape), dtype=tf.float32)\n",
    "d = tf.constant(np.random.normal(size=(1, 1)), dtype=tf.float32)\n",
    "d_hat = tf.constant(np.random.normal(size=d.shape), dtype=tf.float32)\n",
    "#print(delta_e, A, A_hat, b, b_hat, C, C_hat, d, d_hat)"
   ]
  },
  {
   "cell_type": "code",
   "execution_count": 83,
   "metadata": {},
   "outputs": [
    {
     "name": "stdout",
     "output_type": "stream",
     "text": [
      "tf.Tensor(0.07519977, shape=(), dtype=float32)\n",
      "tf.Tensor(0.07519977, shape=(), dtype=float32)\n",
      "<class 'tensorflow.core.framework.graph_pb2.GraphDef'>\n"
     ]
    }
   ],
   "source": [
    "@tf.function\n",
    "def compute_q_derivative(beta):\n",
    "    with tf.GradientTape() as g:\n",
    "        g.watch(beta)\n",
    "        x = beta * d_hat\n",
    "        #x = (C + beta * C_hat) @ tf.nn.relu((A + beta * A_hat) @ delta_e + b + beta * b_hat) + d + beta * d_hat\n",
    "        return g.gradient(x, beta)\n",
    "\n",
    "# obtain a concrete execution graph (it looks like that only types matter)\n",
    "compute_q_derivative = compute_q_derivative.get_concrete_function(tf.constant(0.))\n",
    "print(compute_q_derivative(tf.constant(1.0)))\n",
    "print(compute_q_derivative(tf.constant(-1.0)))\n",
    "\n",
    "graph = compute_q_derivative.graph\n",
    "#print(help(graph.outer_graph))\n",
    "graphdef = graph.as_graph_def()\n",
    "print(type(graphdef))\n",
    "# overly verbose\n",
    "# print(graphdef)\n",
    "# print(graph.as_default())\n",
    "#print(graph.as_graph_element(compute_q_derivative))\n",
    "#print(dir(graph))"
   ]
  },
  {
   "cell_type": "code",
   "execution_count": 37,
   "metadata": {},
   "outputs": [
    {
     "name": "stdout",
     "output_type": "stream",
     "text": [
      "Matrix([[-1.68016425229171*(0.652868932416494 - 0.335767740653988*beta)*Heaviside(1.17150940479832 - 1.68016425229171*beta) + 0.472485873134512*(-1.02506115133706*beta - 0.761158444748154)*Heaviside(0.472485873134512*beta - 0.860566554393897) - 0.335767740653988*Max(0, 1.17150940479832 - 1.68016425229171*beta) - 1.02506115133706*Max(0, 0.472485873134512*beta - 0.860566554393897) - 0.0640979205763398]])\n"
     ]
    }
   ],
   "source": [
    "# Let's try with sympy\n",
    "\n",
    "import numpy as np\n",
    "import sympy\n",
    "\n",
    "embedding_dim = 2\n",
    "hidden_dim = 2\n",
    "\n",
    "delta_e = sympy.Matrix(np.random.normal(size=(2 * embedding_dim, 1)))\n",
    "A = sympy.Matrix(np.random.normal(size=(hidden_dim, 2 * embedding_dim)))\n",
    "A_hat = sympy.Matrix(np.random.normal(size=A.shape))\n",
    "b = sympy.Matrix(np.random.normal(size=(hidden_dim, 1)))\n",
    "b_hat = sympy.Matrix(np.random.normal(size=b.shape))\n",
    "C = sympy.Matrix(np.random.normal(size=(1, hidden_dim)))\n",
    "C_hat = sympy.Matrix(np.random.normal(size=C.shape))\n",
    "d = sympy.Matrix(np.random.normal(size=(1, 1)))\n",
    "d_hat = sympy.Matrix(np.random.normal(size=d.shape))\n",
    "\n",
    "params = sympy.symbols([\"beta\"])\n",
    "beta = params[0]\n",
    "\n",
    "relu = sympy.Function('relu')\n",
    "\n",
    "class relu(sympy.Function):\n",
    "    @classmethod\n",
    "    def eval(cls, x):\n",
    "        return x.applyfunc(lambda elem: sympy.Max(elem, 0))\n",
    "\n",
    "    def _eval_is_real(self):\n",
    "        return True\n",
    "\n",
    "#print(dir(relu))\n",
    "#print(relu)\n",
    "#print(relu(delta_e))\n",
    "\n",
    "#x = beta * d_hat\n",
    "#x = relu(beta * d_hat)\n",
    "x = (C + beta * C_hat) @ relu((A + beta * A_hat) @ delta_e + b + beta * b_hat) + d + beta * d_hat\n",
    "dx_dbeta = x.diff(beta)\n",
    "print(dx_dbeta)"
   ]
  },
  {
   "cell_type": "code",
   "execution_count": null,
   "metadata": {},
   "outputs": [],
   "source": []
  }
 ],
 "metadata": {
  "kernelspec": {
   "display_name": "Python 3",
   "language": "python",
   "name": "python3"
  },
  "language_info": {
   "codemirror_mode": {
    "name": "ipython",
    "version": 3
   },
   "file_extension": ".py",
   "mimetype": "text/x-python",
   "name": "python",
   "nbconvert_exporter": "python",
   "pygments_lexer": "ipython3",
   "version": "3.7.6"
  }
 },
 "nbformat": 4,
 "nbformat_minor": 4
}
