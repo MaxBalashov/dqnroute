{
 "cells": [
  {
   "cell_type": "code",
   "execution_count": null,
   "metadata": {},
   "outputs": [],
   "source": [
    "%matplotlib inline\n",
    "import random\n",
    "import torch\n",
    "import torch.nn as nn\n",
    "import torch.optim as optim\n",
    "import numpy as np\n",
    "import pandas as pd\n",
    "import matplotlib.pyplot as plt\n",
    "\n",
    "from dqnroute.utils import *\n",
    "\n",
    "from sklearn.model_selection import train_test_split\n",
    "from cycler import cycler"
   ]
  },
  {
   "cell_type": "code",
   "execution_count": null,
   "metadata": {},
   "outputs": [],
   "source": [
    "target_cols = get_target_cols(10)\n",
    "neighbors_cols = get_neighbors_cols(10)\n",
    "addr_cols = get_addr_cols(10)\n",
    "dst_cols = get_dst_cols(10)\n",
    "amatrix_cols = get_amatrix_cols(10)\n",
    "left_cols = ['time', 'pkg_id']+neighbors_cols+amatrix_cols+target_cols\n",
    "new_cols = ['dst', 'addr'] + left_cols"
   ]
  },
  {
   "cell_type": "code",
   "execution_count": null,
   "metadata": {},
   "outputs": [],
   "source": [
    "data = pd.read_csv('../logs/data_generated2_new.csv', names=new_cols)"
   ]
  },
  {
   "cell_type": "code",
   "execution_count": null,
   "metadata": {},
   "outputs": [],
   "source": [
    "import gc\n",
    "gc.collect()"
   ]
  },
  {
   "cell_type": "code",
   "execution_count": null,
   "metadata": {},
   "outputs": [],
   "source": [
    "data.head()"
   ]
  },
  {
   "cell_type": "code",
   "execution_count": null,
   "metadata": {},
   "outputs": [],
   "source": [
    "data.shape"
   ]
  },
  {
   "cell_type": "code",
   "execution_count": null,
   "metadata": {},
   "outputs": [],
   "source": [
    "%load_ext autoreload\n",
    "%autoreload 2\n",
    "\n",
    "from dqnroute.networks import *\n",
    "from functools import partial\n",
    "from tqdm import tqdm_notebook"
   ]
  },
  {
   "cell_type": "code",
   "execution_count": null,
   "metadata": {},
   "outputs": [],
   "source": [
    "def qnetwork_batches(net, data, batch_size=32):\n",
    "    n = net.graph_size\n",
    "    target_cols = get_target_cols(n)\n",
    "    data_cols = ['addr', 'dst', get_neighbors_cols(n)]\n",
    "    for (tag, dim) in net.add_inputs:\n",
    "        if tag == 'amatrix':\n",
    "            data_cols.append(get_amatrix_cols(n))\n",
    "        else:\n",
    "            data_cols.append(mk_num_list(tag + '_', n))\n",
    "\n",
    "    for (a, b) in make_batches(data.shape[0], batch_size):\n",
    "        batch = data[a:b]\n",
    "        inputs = tuple(torch.tensor(batch[cols].values, dtype=torch.float)\n",
    "                       for cols in data_cols)\n",
    "        output = torch.tensor(batch[target_cols].values, dtype=torch.float)\n",
    "        yield (inputs, output)\n",
    "\n",
    "def qnetwork_pretrain_epoch(net, optimizer, data, **kwargs):\n",
    "    loss_func = nn.MSELoss()\n",
    "    for (batch, target) in qnetwork_batches(net, data, **kwargs):\n",
    "        optimizer.zero_grad()\n",
    "        output = net(*batch)\n",
    "        loss = loss_func(output, target)\n",
    "        loss.backward()\n",
    "        optimizer.step()\n",
    "        yield float(loss)\n",
    "        \n",
    "def qnetwork_pretrain(net, data, optimizer='rmsprop', epochs=1,\n",
    "                      save_net=True, **kwargs):\n",
    "    optimizer = get_optimizer(optimizer, kwargs)(net.parameters())\n",
    "    epochs_losses = []\n",
    "    \n",
    "    for i in tqdm_notebook(range(epochs)):\n",
    "        sum_loss = 0\n",
    "        loss_cnt = 0\n",
    "        for loss in tqdm_notebook(qnetwork_pretrain_epoch(net, optimizer, data, **kwargs),\n",
    "                                  desc='epoch {}'.format(i)):\n",
    "            sum_loss += loss\n",
    "            loss_cnt += 1\n",
    "        epochs_losses.append(sum_loss / loss_cnt)\n",
    "        \n",
    "    if save_net:\n",
    "        net.save()\n",
    "    \n",
    "    return epochs_losses\n",
    "\n",
    "def shuffle(df):\n",
    "    return df.reindex(np.random.permutation(df.index))"
   ]
  },
  {
   "cell_type": "markdown",
   "metadata": {},
   "source": [
    "# Feed-forward сети"
   ]
  },
  {
   "cell_type": "code",
   "execution_count": null,
   "metadata": {},
   "outputs": [],
   "source": [
    "seed = 42\n",
    "torch.manual_seed(seed)\n",
    "random.seed(seed)\n",
    "np.random.seed(seed)"
   ]
  },
  {
   "cell_type": "code",
   "execution_count": null,
   "metadata": {},
   "outputs": [],
   "source": [
    "QNetworkAmatrix = partial(QNetwork, additional_inputs=[{'tag': 'amatrix'}])\n",
    "\n",
    "ff_network_amatrix = QNetworkAmatrix(10, activation='tanh')\n",
    "ff_network_amatrix_64_3 = QNetworkAmatrix(10, layers=[64, 64, 64], activation='tanh')\n",
    "ff_network_amatrix_128_2 = QNetworkAmatrix(10, layers=[128, 128], activation='tanh')\n",
    "ff_network_amatrix_32_2 = QNetworkAmatrix(10, layers=[32, 32], activation='tanh')\n",
    "ff_network_amatrix_32_3 = QNetworkAmatrix(10, layers=[32, 32, 32], activation='tanh')"
   ]
  },
  {
   "cell_type": "code",
   "execution_count": null,
   "metadata": {},
   "outputs": [],
   "source": [
    "ff_network_amatrix_losses = qnetwork_pretrain(ff_network_amatrix, shuffle(data), epochs=10)"
   ]
  },
  {
   "cell_type": "code",
   "execution_count": null,
   "metadata": {},
   "outputs": [],
   "source": [
    "ff_network_amatrix_64_3_losses = qnetwork_pretrain(ff_network_amatrix_64_3, shuffle(data), epochs=10)"
   ]
  },
  {
   "cell_type": "code",
   "execution_count": null,
   "metadata": {},
   "outputs": [],
   "source": [
    "ff_network_amatrix_128_2_losses = qnetwork_pretrain(ff_network_amatrix_128_2, shuffle(data), epochs=10)"
   ]
  },
  {
   "cell_type": "code",
   "execution_count": null,
   "metadata": {},
   "outputs": [],
   "source": [
    "ff_network_amatrix_32_2_losses = qnetwork_pretrain(ff_network_amatrix_32_2, shuffle(data), epochs=10)"
   ]
  },
  {
   "cell_type": "code",
   "execution_count": null,
   "metadata": {},
   "outputs": [],
   "source": [
    "ff_network_amatrix_32_3_losses = qnetwork_pretrain(ff_network_amatrix_32_3, shuffle(data), epochs=10)"
   ]
  },
  {
   "cell_type": "code",
   "execution_count": null,
   "metadata": {},
   "outputs": [],
   "source": [
    "losses_layers = np.array([ff_network_amatrix_losses,\n",
    "                          ff_network_amatrix_32_2_losses,\n",
    "                          ff_network_amatrix_32_3_losses,\n",
    "                          ff_network_amatrix_64_3_losses,\n",
    "                          ff_network_amatrix_128_2_losses]).transpose()\n",
    "\n",
    "losses_layers_df = pd.DataFrame(data=losses_layers, columns=['64x2', '32x2', '32x3', '64x3', '128x2'])\n",
    "losses_layers_df.to_csv('../logs/pre_train_data/layers_comparison.csv')"
   ]
  },
  {
   "cell_type": "code",
   "execution_count": null,
   "metadata": {},
   "outputs": [],
   "source": [
    "losses_layers_df = pd.read_csv('../logs/pre_train_data/layers_comparison.csv')\n",
    "\n",
    "ff_network_amatrix_losses = losses_layers_df['64x2']\n",
    "ff_network_amatrix_32_2_losses = losses_layers_df['32x2']\n",
    "ff_network_amatrix_32_3_losses = losses_layers_df['32x3']\n",
    "ff_network_amatrix_64_3_losses = losses_layers_df['64x3']\n",
    "ff_network_amatrix_128_2_losses = losses_layers_df['128x2']\n",
    "\n",
    "x = range(2, 11)\n",
    "fsize = 16\n",
    "plt.figure(figsize=(13, 7))\n",
    "plt.plot(x, ff_network_amatrix_losses[1:], label='64x2 layers')\n",
    "plt.plot(x, ff_network_amatrix_32_2_losses[1:], label='32x2 layers')\n",
    "plt.plot(x, ff_network_amatrix_32_3_losses[1:], label='32x3 layers')\n",
    "plt.plot(x, ff_network_amatrix_128_2_losses[1:], label='128x2')\n",
    "plt.plot(x, ff_network_amatrix_64_3_losses[1:], label='64x3')\n",
    "plt.legend(prop={'size': fsize})\n",
    "plt.xlabel('Epoch', fontsize=fsize)\n",
    "plt.xticks(x)\n",
    "plt.grid()\n",
    "plt.ylabel('MSE', fontsize=fsize)\n",
    "plt.title('Comparison of FF network configurations by pre-training speed', fontsize=fsize)\n",
    "plt.show()"
   ]
  },
  {
   "cell_type": "code",
   "execution_count": null,
   "metadata": {},
   "outputs": [],
   "source": [
    "ff_network_simple = QNetwork(10)\n",
    "ff_network_amatrix = QNetworkAmatrix(10)"
   ]
  },
  {
   "cell_type": "code",
   "execution_count": null,
   "metadata": {},
   "outputs": [],
   "source": [
    "data_full_network = data[data['pkg_id'] < 5000]"
   ]
  },
  {
   "cell_type": "code",
   "execution_count": null,
   "metadata": {},
   "outputs": [],
   "source": [
    "ff_network_simple_losses = qnetwork_pretrain(ff_network_simple, shuffle(data_full_network), epochs=20)"
   ]
  },
  {
   "cell_type": "code",
   "execution_count": null,
   "metadata": {},
   "outputs": [],
   "source": [
    "ff_network_amatrix_losses = qnetwork_pretrain(ff_network_amatrix, shuffle(data), epochs=20)"
   ]
  },
  {
   "cell_type": "code",
   "execution_count": null,
   "metadata": {},
   "outputs": [],
   "source": [
    "ff_network_amatrix_adam_losses = qnetwork_pretrain(ff_network_amatrix, shuffle(data),\n",
    "                                                   optimizer='adam', epochs=20, save_net=False)"
   ]
  },
  {
   "cell_type": "code",
   "execution_count": null,
   "metadata": {},
   "outputs": [],
   "source": [
    "ff_network_amatrix_adagrad_losses = qnetwork_pretrain(ff_network_amatrix, shuffle(data),\n",
    "                                                      optimizer='adagrad', epochs=20, save_net=False)"
   ]
  },
  {
   "cell_type": "code",
   "execution_count": null,
   "metadata": {},
   "outputs": [],
   "source": [
    "ff_network_amatrix_adadelta_losses = qnetwork_pretrain(ff_network_amatrix, shuffle(data),\n",
    "                                                       optimizer='adadelta', epochs=20, save_net=False)"
   ]
  },
  {
   "cell_type": "code",
   "execution_count": null,
   "metadata": {},
   "outputs": [],
   "source": [
    "losses = np.array([ff_network_amatrix_losses, ff_network_amatrix_adam_losses,\n",
    "                     ff_network_amatrix_adagrad_losses, ff_network_amatrix_adadelta_losses]).transpose()"
   ]
  },
  {
   "cell_type": "code",
   "execution_count": null,
   "metadata": {},
   "outputs": [],
   "source": [
    "losses_df = pd.DataFrame(data=losses, columns=['rmsprop', 'adam', 'adagrad', 'adadelta'])\n",
    "losses_df.to_csv('../logs/pre_train_data/optimizer_comparison.csv')"
   ]
  },
  {
   "cell_type": "code",
   "execution_count": null,
   "metadata": {},
   "outputs": [],
   "source": [
    "losses_df = pd.read_csv('../logs/pre_train_data/optimizer_comparison.csv')\n",
    "\n",
    "ff_network_amatrix_losses = losses_df['rmsprop'][:10]\n",
    "ff_network_amatrix_adam_losses = losses_df['adam'][:10]\n",
    "ff_network_amatrix_adagrad_losses = losses_df['adagrad'][:10]\n",
    "ff_network_amatrix_adadelta_losses = losses_df['adadelta'][:10]\n",
    "\n",
    "x = range(1, 11)\n",
    "fsize = 25\n",
    "plt.figure(figsize=(13, 14))\n",
    "plt.plot(x, ff_network_amatrix_losses, label='RMSProp')\n",
    "plt.plot(x, ff_network_amatrix_adam_losses, label='Adam')\n",
    "plt.plot(x, ff_network_amatrix_adagrad_losses, label='AdaGrad')\n",
    "plt.plot(x, ff_network_amatrix_adadelta_losses, label='AdaDelta')\n",
    "plt.legend(prop={'size': fsize})\n",
    "plt.xlabel('Номер эпохи', fontsize=fsize)\n",
    "plt.xticks(x)\n",
    "plt.grid()\n",
    "plt.ylabel('MSE', fontsize=fsize)\n",
    "plt.title('Сравнение качества предобучения с разными\\n алгоритмами оптимизации (ReLU слои)', fontsize=fsize)\n",
    "plt.show()"
   ]
  },
  {
   "cell_type": "code",
   "execution_count": null,
   "metadata": {},
   "outputs": [],
   "source": [
    "ff_network_tanh_amatrix = QNetworkAmatrix(10, activation='tanh')"
   ]
  },
  {
   "cell_type": "code",
   "execution_count": null,
   "metadata": {},
   "outputs": [],
   "source": [
    "ff_network_tanh_amatrix_losses = qnetwork_pretrain(ff_network_tanh_amatrix, shuffle(data), epochs=10, save_net=False)"
   ]
  },
  {
   "cell_type": "code",
   "execution_count": null,
   "metadata": {},
   "outputs": [],
   "source": [
    "ff_network_tanh_amatrix_adam_losses = qnetwork_pretrain(ff_network_tanh_amatrix, shuffle(data), epochs=10,\n",
    "                                                        optimizer='adam', save_net=False)"
   ]
  },
  {
   "cell_type": "code",
   "execution_count": null,
   "metadata": {},
   "outputs": [],
   "source": [
    "ff_network_tanh_amatrix_adagrad_losses = qnetwork_pretrain(ff_network_tanh_amatrix, shuffle(data), epochs=10,\n",
    "                                                           optimizer='adagrad', save_net=False)"
   ]
  },
  {
   "cell_type": "code",
   "execution_count": null,
   "metadata": {},
   "outputs": [],
   "source": [
    "ff_network_tanh_amatrix_adadelta_losses = qnetwork_pretrain(ff_network_tanh_amatrix, shuffle(data), epochs=10,\n",
    "                                                            optimizer='adadelta', save_net=False)"
   ]
  },
  {
   "cell_type": "code",
   "execution_count": null,
   "metadata": {},
   "outputs": [],
   "source": [
    "losses_tanh = np.array([ff_network_tanh_amatrix_losses, ff_network_tanh_amatrix_adam_losses,\n",
    "                        ff_network_tanh_amatrix_adagrad_losses, ff_network_tanh_amatrix_adadelta_losses]).transpose()\n",
    "losses_tanh_df = pd.DataFrame(data=losses_tanh, columns=['rmsprop', 'adam', 'adagrad', 'adadelta'])\n",
    "losses_tanh_df.to_csv('../logs/pre_train_data/optimizer_comparison_tanh.csv')"
   ]
  },
  {
   "cell_type": "code",
   "execution_count": null,
   "metadata": {},
   "outputs": [],
   "source": [
    "color_c = cycler('color', ['k'])\n",
    "style_c = cycler('linestyle', ['-', '--', ':', '-.'])\n",
    "markr_c = cycler('marker', ['', '.', 'o'])\n",
    "c_cms = color_c * markr_c * style_c\n",
    "\n",
    "losses_tanh_df = pd.read_csv('../logs/pre_train_data/optimizer_comparison_tanh.csv')\n",
    "\n",
    "ff_network_tanh_amatrix_losses = losses_tanh_df['rmsprop']\n",
    "ff_network_tanh_amatrix_adam_losses = losses_tanh_df['adam']\n",
    "ff_network_tanh_amatrix_adagrad_losses = losses_tanh_df['adagrad']\n",
    "ff_network_tanh_amatrix_adadelta_losses = losses_tanh_df['adadelta']\n",
    "\n",
    "x = range(1, 11)\n",
    "fsize = 14\n",
    "ticksize = 10\n",
    "lw=3\n",
    "f = plt.figure(figsize=(7, 5))\n",
    "plt.plot(x, ff_network_tanh_amatrix_losses, label='RMSProp', linewidth=lw, alpha=0.6)#, color='k', linestyle='-')\n",
    "plt.plot(x, ff_network_tanh_amatrix_adam_losses, label='Adam', linewidth=lw, alpha=0.6)#, color='k', linestyle='--')\n",
    "plt.plot(x, ff_network_tanh_amatrix_adagrad_losses, label='AdaGrad', linewidth=lw)#, color='k', linestyle=':')\n",
    "plt.plot(x, ff_network_tanh_amatrix_adadelta_losses, label='AdaDelta', linewidth=lw)#, color='k', linestyle='-.')\n",
    "plt.legend(prop={'size': 14})\n",
    "plt.xlabel('Epoch', fontsize=fsize)\n",
    "plt.xticks(x)\n",
    "plt.rc('xtick', labelsize=ticksize)\n",
    "plt.rc('ytick', labelsize=ticksize)\n",
    "plt.grid()\n",
    "plt.ylabel('MSE', fontsize=fsize)\n",
    "plt.ylim(0, 1)\n",
    "plt.title('Comparison of optimization algorithms by pre-training speed', fontsize=fsize)\n",
    "plt.show()\n",
    "\n",
    "plt.savefig(\"../img/opt-algos-pre-training-comparison.pdf\", bbox_inches='tight')"
   ]
  },
  {
   "cell_type": "markdown",
   "metadata": {},
   "source": [
    "# Конвейеры"
   ]
  },
  {
   "cell_type": "code",
   "execution_count": null,
   "metadata": {},
   "outputs": [],
   "source": [
    "conveyor_network_ng_no_inp = QNetwork(22, scope='conveyor_test_ng', activation='tanh')\n",
    "conveyor_network_ng_amatrix = QNetwork(22, scope='conveyor_test_ng', activation='tanh',\n",
    "                                       additional_inputs=[{'tag': 'amatrix'}])\n",
    "conveyor_network_ng_full = QNetwork(22, scope='conveyor_test_ng', activation='tanh',\n",
    "                                    additional_inputs=[{'tag': 'amatrix'}, {'tag':'work_status'}])"
   ]
  },
  {
   "cell_type": "code",
   "execution_count": null,
   "metadata": {},
   "outputs": [],
   "source": [
    "data_conv_ng = pd.read_csv('../logs/data_conveyor_gen_energy_test.csv', names=['belt_id']+get_conveyor_data_cols(22))"
   ]
  },
  {
   "cell_type": "code",
   "execution_count": null,
   "metadata": {},
   "outputs": [],
   "source": [
    "data_conv_ng.head()"
   ]
  },
  {
   "cell_type": "code",
   "execution_count": null,
   "metadata": {},
   "outputs": [],
   "source": [
    "conveyor_network_ng_no_inp_losses = qnetwork_pretrain(conveyor_network_ng_no_inp, shuffle(data_conv_ng), epochs=5)"
   ]
  },
  {
   "cell_type": "code",
   "execution_count": null,
   "metadata": {},
   "outputs": [],
   "source": [
    "conveyor_network_ng_amatrix_losses = qnetwork_pretrain(conveyor_network_ng_amatrix, shuffle(data_conv_ng), epochs=10)"
   ]
  },
  {
   "cell_type": "code",
   "execution_count": null,
   "metadata": {},
   "outputs": [],
   "source": [
    "conveyor_network_ng_full_losses = qnetwork_pretrain(conveyor_network_ng_full, shuffle(data_conv_ng), epochs=10)"
   ]
  },
  {
   "cell_type": "code",
   "execution_count": null,
   "metadata": {},
   "outputs": [],
   "source": [
    "conveyor_network_ng_no_inp_losses"
   ]
  },
  {
   "cell_type": "code",
   "execution_count": null,
   "metadata": {},
   "outputs": [],
   "source": [
    "conveyor_network_ng_amatrix_losses"
   ]
  },
  {
   "cell_type": "code",
   "execution_count": null,
   "metadata": {},
   "outputs": [],
   "source": [
    "conveyor_network_ng_full_losses"
   ]
  },
  {
   "cell_type": "code",
   "execution_count": null,
   "metadata": {},
   "outputs": [],
   "source": []
  }
 ],
 "metadata": {
  "kernelspec": {
   "display_name": "Python 3",
   "language": "python",
   "name": "python3"
  },
  "language_info": {
   "codemirror_mode": {
    "name": "ipython",
    "version": 3
   },
   "file_extension": ".py",
   "mimetype": "text/x-python",
   "name": "python",
   "nbconvert_exporter": "python",
   "pygments_lexer": "ipython3"
  }
 },
 "nbformat": 4,
 "nbformat_minor": 2
}
