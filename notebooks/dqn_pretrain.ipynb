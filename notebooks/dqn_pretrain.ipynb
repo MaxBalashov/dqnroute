{
 "cells": [
  {
   "cell_type": "code",
   "execution_count": 2,
   "metadata": {},
   "outputs": [],
   "source": [
    "%matplotlib inline\n",
    "#from keras.models import Model\n",
    "#from keras.layers import *\n",
    "#from keras.optimizers import *\n",
    "#from keras.utils import plot_model\n",
    "\n",
    "#import tensorflow as tf\n",
    "#import keras.initializers as kinit\n",
    "import numpy as np\n",
    "import pandas as pd\n",
    "import matplotlib.pyplot as plt\n",
    "\n",
    "#from dqnroute.utils import *\n",
    "\n",
    "from sklearn.model_selection import train_test_split\n",
    "from cycler import cycler"
   ]
  },
  {
   "cell_type": "code",
   "execution_count": 4,
   "metadata": {},
   "outputs": [],
   "source": [
    "target_cols = get_target_cols(10)\n",
    "neighbors_cols = get_neighbors_cols(10)\n",
    "addr_cols = get_addr_cols(10)\n",
    "dst_cols = get_dst_cols(10)\n",
    "amatrix_cols = get_amatrix_cols(10)\n",
    "left_cols = ['time', 'pkg_id']+neighbors_cols+amatrix_cols+target_cols\n",
    "new_cols = ['dst', 'addr'] + left_cols"
   ]
  },
  {
   "cell_type": "code",
   "execution_count": 5,
   "metadata": {},
   "outputs": [],
   "source": [
    "data = pd.read_csv('logs/data_generated2_new.csv', names=new_cols)"
   ]
  },
  {
   "cell_type": "code",
   "execution_count": 6,
   "metadata": {},
   "outputs": [
    {
     "data": {
      "text/plain": [
       "11"
      ]
     },
     "execution_count": 6,
     "metadata": {},
     "output_type": "execute_result"
    }
   ],
   "source": [
    "import gc\n",
    "gc.collect()"
   ]
  },
  {
   "cell_type": "code",
   "execution_count": 5,
   "metadata": {},
   "outputs": [
    {
     "data": {
      "text/html": [
       "<div>\n",
       "<style>\n",
       "    .dataframe thead tr:only-child th {\n",
       "        text-align: right;\n",
       "    }\n",
       "\n",
       "    .dataframe thead th {\n",
       "        text-align: left;\n",
       "    }\n",
       "\n",
       "    .dataframe tbody tr th {\n",
       "        vertical-align: top;\n",
       "    }\n",
       "</style>\n",
       "<table border=\"1\" class=\"dataframe\">\n",
       "  <thead>\n",
       "    <tr style=\"text-align: right;\">\n",
       "      <th></th>\n",
       "      <th>dst</th>\n",
       "      <th>addr</th>\n",
       "      <th>time</th>\n",
       "      <th>pkg_id</th>\n",
       "      <th>neighbors_0</th>\n",
       "      <th>neighbors_1</th>\n",
       "      <th>neighbors_2</th>\n",
       "      <th>neighbors_3</th>\n",
       "      <th>neighbors_4</th>\n",
       "      <th>neighbors_5</th>\n",
       "      <th>...</th>\n",
       "      <th>predict_0</th>\n",
       "      <th>predict_1</th>\n",
       "      <th>predict_2</th>\n",
       "      <th>predict_3</th>\n",
       "      <th>predict_4</th>\n",
       "      <th>predict_5</th>\n",
       "      <th>predict_6</th>\n",
       "      <th>predict_7</th>\n",
       "      <th>predict_8</th>\n",
       "      <th>predict_9</th>\n",
       "    </tr>\n",
       "  </thead>\n",
       "  <tbody>\n",
       "    <tr>\n",
       "      <th>0</th>\n",
       "      <td>0</td>\n",
       "      <td>1.0</td>\n",
       "      <td>10.0</td>\n",
       "      <td>1.0</td>\n",
       "      <td>1.0</td>\n",
       "      <td>0.0</td>\n",
       "      <td>0.0</td>\n",
       "      <td>0.0</td>\n",
       "      <td>0.0</td>\n",
       "      <td>0.0</td>\n",
       "      <td>...</td>\n",
       "      <td>-10.0</td>\n",
       "      <td>-1000000.0</td>\n",
       "      <td>-1000000.0</td>\n",
       "      <td>-1000000.0</td>\n",
       "      <td>-1000000.0</td>\n",
       "      <td>-1000000.0</td>\n",
       "      <td>-30.0</td>\n",
       "      <td>-1000000.0</td>\n",
       "      <td>-30.0</td>\n",
       "      <td>-1000000.0</td>\n",
       "    </tr>\n",
       "    <tr>\n",
       "      <th>1</th>\n",
       "      <td>0</td>\n",
       "      <td>0.0</td>\n",
       "      <td>20.0</td>\n",
       "      <td>1.0</td>\n",
       "      <td>0.0</td>\n",
       "      <td>1.0</td>\n",
       "      <td>1.0</td>\n",
       "      <td>0.0</td>\n",
       "      <td>0.0</td>\n",
       "      <td>0.0</td>\n",
       "      <td>...</td>\n",
       "      <td>-1000000.0</td>\n",
       "      <td>-20.0</td>\n",
       "      <td>-20.0</td>\n",
       "      <td>-1000000.0</td>\n",
       "      <td>-1000000.0</td>\n",
       "      <td>-1000000.0</td>\n",
       "      <td>-1000000.0</td>\n",
       "      <td>-1000000.0</td>\n",
       "      <td>-1000000.0</td>\n",
       "      <td>-1000000.0</td>\n",
       "    </tr>\n",
       "    <tr>\n",
       "      <th>2</th>\n",
       "      <td>1</td>\n",
       "      <td>2.0</td>\n",
       "      <td>20.0</td>\n",
       "      <td>2.0</td>\n",
       "      <td>1.0</td>\n",
       "      <td>0.0</td>\n",
       "      <td>0.0</td>\n",
       "      <td>0.0</td>\n",
       "      <td>0.0</td>\n",
       "      <td>0.0</td>\n",
       "      <td>...</td>\n",
       "      <td>-20.0</td>\n",
       "      <td>-1000000.0</td>\n",
       "      <td>-1000000.0</td>\n",
       "      <td>-1000000.0</td>\n",
       "      <td>-1000000.0</td>\n",
       "      <td>-1000000.0</td>\n",
       "      <td>-20.0</td>\n",
       "      <td>-1000000.0</td>\n",
       "      <td>-1000000.0</td>\n",
       "      <td>-1000000.0</td>\n",
       "    </tr>\n",
       "    <tr>\n",
       "      <th>3</th>\n",
       "      <td>1</td>\n",
       "      <td>0.0</td>\n",
       "      <td>30.0</td>\n",
       "      <td>2.0</td>\n",
       "      <td>0.0</td>\n",
       "      <td>1.0</td>\n",
       "      <td>1.0</td>\n",
       "      <td>0.0</td>\n",
       "      <td>0.0</td>\n",
       "      <td>0.0</td>\n",
       "      <td>...</td>\n",
       "      <td>-1000000.0</td>\n",
       "      <td>-10.0</td>\n",
       "      <td>-30.0</td>\n",
       "      <td>-1000000.0</td>\n",
       "      <td>-1000000.0</td>\n",
       "      <td>-1000000.0</td>\n",
       "      <td>-1000000.0</td>\n",
       "      <td>-1000000.0</td>\n",
       "      <td>-1000000.0</td>\n",
       "      <td>-1000000.0</td>\n",
       "    </tr>\n",
       "    <tr>\n",
       "      <th>4</th>\n",
       "      <td>1</td>\n",
       "      <td>1.0</td>\n",
       "      <td>40.0</td>\n",
       "      <td>2.0</td>\n",
       "      <td>1.0</td>\n",
       "      <td>0.0</td>\n",
       "      <td>0.0</td>\n",
       "      <td>0.0</td>\n",
       "      <td>0.0</td>\n",
       "      <td>0.0</td>\n",
       "      <td>...</td>\n",
       "      <td>-20.0</td>\n",
       "      <td>-1000000.0</td>\n",
       "      <td>-1000000.0</td>\n",
       "      <td>-1000000.0</td>\n",
       "      <td>-1000000.0</td>\n",
       "      <td>-1000000.0</td>\n",
       "      <td>-20.0</td>\n",
       "      <td>-1000000.0</td>\n",
       "      <td>-20.0</td>\n",
       "      <td>-1000000.0</td>\n",
       "    </tr>\n",
       "  </tbody>\n",
       "</table>\n",
       "<p>5 rows × 124 columns</p>\n",
       "</div>"
      ],
      "text/plain": [
       "   dst  addr  time  pkg_id  neighbors_0  neighbors_1  neighbors_2  \\\n",
       "0    0   1.0  10.0     1.0          1.0          0.0          0.0   \n",
       "1    0   0.0  20.0     1.0          0.0          1.0          1.0   \n",
       "2    1   2.0  20.0     2.0          1.0          0.0          0.0   \n",
       "3    1   0.0  30.0     2.0          0.0          1.0          1.0   \n",
       "4    1   1.0  40.0     2.0          1.0          0.0          0.0   \n",
       "\n",
       "   neighbors_3  neighbors_4  neighbors_5    ...      predict_0  predict_1  \\\n",
       "0          0.0          0.0          0.0    ...          -10.0 -1000000.0   \n",
       "1          0.0          0.0          0.0    ...     -1000000.0      -20.0   \n",
       "2          0.0          0.0          0.0    ...          -20.0 -1000000.0   \n",
       "3          0.0          0.0          0.0    ...     -1000000.0      -10.0   \n",
       "4          0.0          0.0          0.0    ...          -20.0 -1000000.0   \n",
       "\n",
       "   predict_2  predict_3  predict_4  predict_5  predict_6  predict_7  \\\n",
       "0 -1000000.0 -1000000.0 -1000000.0 -1000000.0      -30.0 -1000000.0   \n",
       "1      -20.0 -1000000.0 -1000000.0 -1000000.0 -1000000.0 -1000000.0   \n",
       "2 -1000000.0 -1000000.0 -1000000.0 -1000000.0      -20.0 -1000000.0   \n",
       "3      -30.0 -1000000.0 -1000000.0 -1000000.0 -1000000.0 -1000000.0   \n",
       "4 -1000000.0 -1000000.0 -1000000.0 -1000000.0      -20.0 -1000000.0   \n",
       "\n",
       "   predict_8  predict_9  \n",
       "0      -30.0 -1000000.0  \n",
       "1 -1000000.0 -1000000.0  \n",
       "2 -1000000.0 -1000000.0  \n",
       "3 -1000000.0 -1000000.0  \n",
       "4      -20.0 -1000000.0  \n",
       "\n",
       "[5 rows x 124 columns]"
      ]
     },
     "execution_count": 5,
     "metadata": {},
     "output_type": "execute_result"
    }
   ],
   "source": [
    "data.head()"
   ]
  },
  {
   "cell_type": "code",
   "execution_count": 21,
   "metadata": {},
   "outputs": [
    {
     "data": {
      "text/plain": [
       "(231072, 124)"
      ]
     },
     "execution_count": 21,
     "metadata": {},
     "output_type": "execute_result"
    }
   ],
   "source": [
    "data.shape"
   ]
  },
  {
   "cell_type": "raw",
   "metadata": {},
   "source": [
    "# To transfer some data to new format\n",
    "\n",
    "left_cols = ['time', 'pkg_id']+neighbors_cols+amatrix_cols+target_cols\n",
    "data_new = pd.DataFrame(columns=['dst', 'addr']+left_cols)\n",
    "data_new[left_cols] = data[left_cols]\n",
    "data_new['addr'] = data['cur_node']"
   ]
  },
  {
   "cell_type": "raw",
   "metadata": {},
   "source": [
    "def decode_1hot(prefix, n):\n",
    "    def foo(series):\n",
    "        for i in range(n):\n",
    "            if series[prefix+str(i)] == 1:\n",
    "                return i\n",
    "        return -1\n",
    "    return foo\n",
    "\n",
    "data_new['dst'] = data.apply(decode_1hot('dst_', 10), axis=1)"
   ]
  },
  {
   "cell_type": "raw",
   "metadata": {},
   "source": [
    "data_new.to_csv('logs/data_generated2_new.csv', index=False, header=False)"
   ]
  },
  {
   "cell_type": "code",
   "execution_count": 6,
   "metadata": {
    "collapsed": true
   },
   "outputs": [],
   "source": [
    "from dqnroute.networks import *"
   ]
  },
  {
   "cell_type": "markdown",
   "metadata": {},
   "source": [
    "# Feed-forward сети"
   ]
  },
  {
   "cell_type": "code",
   "execution_count": 7,
   "metadata": {
    "collapsed": true
   },
   "outputs": [],
   "source": [
    "tf.reset_default_graph()\n",
    "\n",
    "ff_network_amatrix = FFNetworkAmatrix(10, activation='tanh')\n",
    "ff_network_amatrix_64_3 = FFNetworkAmatrix(10, layers=[64, 64, 64], activation='tanh')\n",
    "ff_network_amatrix_128_2 = FFNetworkAmatrix(10, layers=[128, 128], activation='tanh')\n",
    "ff_network_amatrix_32_2 = FFNetworkAmatrix(10, layers=[32, 32], activation='tanh')\n",
    "ff_network_amatrix_32_3 = FFNetworkAmatrix(10, layers=[32, 32, 32], activation='tanh')\n",
    "\n",
    "init = tf.global_variables_initializer()\n",
    "sess = tf.Session()\n",
    "sess.run(init)"
   ]
  },
  {
   "cell_type": "code",
   "execution_count": 10,
   "metadata": {
    "collapsed": true
   },
   "outputs": [],
   "source": [
    "def shuffle(df):\n",
    "    return df.reindex(np.random.permutation(df.index))"
   ]
  },
  {
   "cell_type": "code",
   "execution_count": 11,
   "metadata": {},
   "outputs": [
    {
     "name": "stdout",
     "output_type": "stream",
     "text": [
      "Epoch 0... loss: 18.35928629652613\n",
      "Epoch 1... loss: 2.4398025982747398\n",
      "Epoch 2... loss: 1.4162721513438927\n",
      "Epoch 3... loss: 0.9567133855941866\n",
      "Epoch 4... loss: 0.713304538863251\n",
      "Epoch 5... loss: 0.5672282260502001\n",
      "Epoch 6... loss: 0.4741966205073466\n",
      "Epoch 7... loss: 0.4079173888906418\n",
      "Epoch 8... loss: 0.35840067739566595\n",
      "Epoch 9... loss: 0.3198429483075813\n",
      "CPU times: user 5min 50s, sys: 7.23 s, total: 5min 57s\n",
      "Wall time: 5min\n"
     ]
    }
   ],
   "source": [
    "%%time\n",
    "ff_network_amatrix_losses = ff_network_amatrix.preTrain(sess, shuffle(data), epochs=10)"
   ]
  },
  {
   "cell_type": "code",
   "execution_count": 12,
   "metadata": {},
   "outputs": [
    {
     "name": "stdout",
     "output_type": "stream",
     "text": [
      "Epoch 0... loss: 16.836515784857923\n",
      "Epoch 1... loss: 1.8041205671029712\n",
      "Epoch 2... loss: 0.8349385165001049\n",
      "Epoch 3... loss: 0.4786408298948501\n",
      "Epoch 4... loss: 0.3156055845026164\n",
      "Epoch 5... loss: 0.23056221030123214\n",
      "Epoch 6... loss: 0.18068864278669686\n",
      "Epoch 7... loss: 0.15006248760757446\n",
      "Epoch 8... loss: 0.12917691958107838\n",
      "Epoch 9... loss: 0.11383773361973329\n",
      "CPU times: user 6min 10s, sys: 8.39 s, total: 6min 18s\n",
      "Wall time: 5min 12s\n"
     ]
    }
   ],
   "source": [
    "%%time\n",
    "ff_network_amatrix_64_3_losses = ff_network_amatrix_64_3.preTrain(sess, shuffle(data), epochs=10)"
   ]
  },
  {
   "cell_type": "code",
   "execution_count": 13,
   "metadata": {},
   "outputs": [
    {
     "data": {
      "text/plain": [
       "'../tf_models/dqn_rmsprop_amatrix_ff_tanh_64_64_64'"
      ]
     },
     "execution_count": 13,
     "metadata": {},
     "output_type": "execute_result"
    }
   ],
   "source": [
    "ff_network_amatrix_64_3.save(sess)"
   ]
  },
  {
   "cell_type": "code",
   "execution_count": 14,
   "metadata": {},
   "outputs": [
    {
     "name": "stdout",
     "output_type": "stream",
     "text": [
      "Epoch 0... loss: 11.342912123133447\n",
      "Epoch 1... loss: 1.0356249634376145\n",
      "Epoch 2... loss: 0.42708521173396874\n",
      "Epoch 3... loss: 0.2384972932546394\n",
      "Epoch 4... loss: 0.16029064324882417\n",
      "Epoch 5... loss: 0.11961423758334308\n",
      "Epoch 6... loss: 0.0962739755649606\n",
      "Epoch 7... loss: 0.08121331210515535\n",
      "Epoch 8... loss: 0.07026203959796455\n",
      "Epoch 9... loss: 0.06253893920405512\n",
      "CPU times: user 6min 28s, sys: 8.38 s, total: 6min 36s\n",
      "Wall time: 5min 16s\n"
     ]
    }
   ],
   "source": [
    "%%time\n",
    "ff_network_amatrix_128_2_losses = ff_network_amatrix_128_2.preTrain(sess, shuffle(data), epochs=10)"
   ]
  },
  {
   "cell_type": "code",
   "execution_count": 46,
   "metadata": {},
   "outputs": [
    {
     "data": {
      "text/plain": [
       "'../tf_models/dqn_rmsprop_amatrix_ff_tanh_128_128'"
      ]
     },
     "execution_count": 46,
     "metadata": {},
     "output_type": "execute_result"
    }
   ],
   "source": [
    "ff_network_amatrix_128_2.save(sess)"
   ]
  },
  {
   "cell_type": "code",
   "execution_count": 15,
   "metadata": {},
   "outputs": [
    {
     "name": "stdout",
     "output_type": "stream",
     "text": [
      "Epoch 0... loss: 33.95642717398694\n",
      "Epoch 1... loss: 4.876535116247714\n",
      "Epoch 2... loss: 3.782084513686235\n",
      "Epoch 3... loss: 3.2410197062532653\n",
      "Epoch 4... loss: 2.8619094535908594\n",
      "Epoch 5... loss: 2.572697910051104\n",
      "Epoch 6... loss: 2.337027454158306\n",
      "Epoch 7... loss: 2.1565764326003265\n",
      "Epoch 8... loss: 2.020667880451625\n",
      "Epoch 9... loss: 1.913358991549065\n",
      "CPU times: user 4min 44s, sys: 8.41 s, total: 4min 52s\n",
      "Wall time: 3min 56s\n"
     ]
    }
   ],
   "source": [
    "%%time\n",
    "ff_network_amatrix_32_2_losses = ff_network_amatrix_32_2.preTrain(sess, shuffle(data), epochs=10)"
   ]
  },
  {
   "cell_type": "code",
   "execution_count": 16,
   "metadata": {},
   "outputs": [
    {
     "data": {
      "text/plain": [
       "'../tf_models/dqn_rmsprop_amatrix_ff_tanh_32_32'"
      ]
     },
     "execution_count": 16,
     "metadata": {},
     "output_type": "execute_result"
    }
   ],
   "source": [
    "ff_network_amatrix_32_2.save(sess)"
   ]
  },
  {
   "cell_type": "code",
   "execution_count": 17,
   "metadata": {},
   "outputs": [
    {
     "name": "stdout",
     "output_type": "stream",
     "text": [
      "Epoch 0... loss: 32.7849481089791\n",
      "Epoch 1... loss: 4.332442664494229\n",
      "Epoch 2... loss: 2.8467106653570617\n",
      "Epoch 3... loss: 2.1781808747477256\n",
      "Epoch 4... loss: 1.789665062124421\n",
      "Epoch 5... loss: 1.5149829605703389\n",
      "Epoch 6... loss: 1.3105952059516053\n",
      "Epoch 7... loss: 1.1565390199468235\n",
      "Epoch 8... loss: 1.0307644755287921\n",
      "Epoch 9... loss: 0.928927910243717\n",
      "CPU times: user 4min 33s, sys: 9.13 s, total: 4min 43s\n",
      "Wall time: 3min 40s\n"
     ]
    }
   ],
   "source": [
    "%%time\n",
    "ff_network_amatrix_32_3_losses = ff_network_amatrix_32_3.preTrain(sess, shuffle(data), epochs=10)"
   ]
  },
  {
   "cell_type": "code",
   "execution_count": 18,
   "metadata": {},
   "outputs": [
    {
     "data": {
      "text/plain": [
       "'../tf_models/dqn_rmsprop_amatrix_ff_tanh_32_32_32'"
      ]
     },
     "execution_count": 18,
     "metadata": {},
     "output_type": "execute_result"
    }
   ],
   "source": [
    "ff_network_amatrix_32_3.save(sess)"
   ]
  },
  {
   "cell_type": "code",
   "execution_count": 19,
   "metadata": {
    "collapsed": true
   },
   "outputs": [],
   "source": [
    "losses_layers = np.array([ff_network_amatrix_losses,\n",
    "                          ff_network_amatrix_32_2_losses,\n",
    "                          ff_network_amatrix_32_3_losses,\n",
    "                          ff_network_amatrix_64_3_losses,\n",
    "                          ff_network_amatrix_128_2_losses]).transpose()\n",
    "\n",
    "losses_layers_df = pd.DataFrame(data=losses_lay/sers, columns=['64x2', '32x2', '32x3', '64x3', '128x2'])\n",
    "losses_layers_df.to_csv('logs/pre_train_data/layers_comparison.csv')"
   ]
  },
  {
   "cell_type": "code",
   "execution_count": 20,
   "metadata": {},
   "outputs": [
    {
     "data": {
      "image/png": "[encoded data removed]",
      "text/plain": [
       "<matplotlib.figure.Figure at 0x7fb15f864198>"
      ]
     },
     "metadata": {},
     "output_type": "display_data"
    }
   ],
   "source": [
    "losses_layers_df = pd.read_csv('logs/pre_train_data/layers_comparison.csv')\n",
    "\n",
    "ff_network_amatrix_losses = losses_layers_df['64x2']\n",
    "ff_network_amatrix_32_2_losses = losses_layers_df['32x2']\n",
    "ff_network_amatrix_32_3_losses = losses_layers_df['32x3']\n",
    "ff_network_amatrix_64_3_losses = losses_layers_df['64x3']\n",
    "ff_network_amatrix_128_2_losses = losses_layers_df['128x2']\n",
    "\n",
    "x = range(2, 11)\n",
    "fsize = 16\n",
    "plt.figure(figsize=(13, 7))\n",
    "plt.plot(x, ff_network_amatrix_losses[1:], label='64x2 layers')\n",
    "plt.plot(x, ff_network_amatrix_32_2_losses[1:], label='32x2 layers')\n",
    "plt.plot(x, ff_network_amatrix_32_3_losses[1:], label='32x3 layers')\n",
    "plt.plot(x, ff_network_amatrix_128_2_losses[1:], label='128x2')\n",
    "plt.plot(x, ff_network_amatrix_64_3_losses[1:], label='64x3')\n",
    "plt.legend(prop={'size': fsize})\n",
    "plt.xlabel('Epoch', fontsize=fsize)\n",
    "plt.xticks(x)\n",
    "plt.grid()\n",
    "plt.ylabel('MSE', fontsize=fsize)\n",
    "plt.title('Comparison of FF network configurations by pre-training speed', fontsize=fsize)\n",
    "plt.show()"
   ]
  },
  {
   "cell_type": "markdown",
   "metadata": {},
   "source": [
    "### tf.reset_default_graph()\n",
    "\n",
    "ff_network_simple = FFNetwork(10)\n",
    "ff_network_amatrix = FFNetworkAmatrix(10)\n",
    "ff_network_amatrix_tr = FFNetworkAmatrixTriangle(10)\n",
    "\n",
    "ff_network_amatrix_adam = FFNetworkAmatrix(10, optimizer='adam')\n",
    "ff_network_amatrix_adagrad = FFNetworkAmatrix(10, optimizer='adagrad')\n",
    "ff_network_amatrix_adadelta = FFNetworkAmatrix(10, optimizer='adadelta')"
   ]
  },
  {
   "cell_type": "code",
   "execution_count": 10,
   "metadata": {
    "collapsed": true
   },
   "outputs": [],
   "source": [
    "init = tf.global_variables_initializer()\n",
    "sess = tf.Session()\n",
    "sess.run(init)"
   ]
  },
  {
   "cell_type": "code",
   "execution_count": 8,
   "metadata": {
    "collapsed": true
   },
   "outputs": [],
   "source": [
    "data_full_network = data[data['pkg_id'] < 5000]"
   ]
  },
  {
   "cell_type": "code",
   "execution_count": 26,
   "metadata": {},
   "outputs": [
    {
     "name": "stdout",
     "output_type": "stream",
     "text": [
      "Epoch 0... loss: 78.62262120980483\n",
      "Epoch 1... loss: 14.871742471364827\n",
      "Epoch 2... loss: 4.260363800938313\n",
      "Epoch 3... loss: 0.8365916058994256\n",
      "Epoch 4... loss: 0.28186956027952526\n",
      "Epoch 5... loss: 0.1647236649878323\n",
      "Epoch 6... loss: 0.12434248215733812\n",
      "Epoch 7... loss: 0.10642319223485314\n",
      "Epoch 8... loss: 0.09659994973872717\n",
      "Epoch 9... loss: 0.09093777423437971\n",
      "Epoch 10... loss: 0.08589388681933857\n",
      "Epoch 11... loss: 0.08302899016640507\n",
      "Epoch 12... loss: 0.08044574869295153\n",
      "Epoch 13... loss: 0.07823737811727019\n",
      "Epoch 14... loss: 0.07608946208627178\n",
      "Epoch 15... loss: 0.07424916666036901\n",
      "Epoch 16... loss: 0.07282610023752428\n",
      "Epoch 17... loss: 0.07133147623031759\n",
      "Epoch 18... loss: 0.069781496307741\n",
      "Epoch 19... loss: 0.06859436953225388\n"
     ]
    }
   ],
   "source": [
    "ff_network_simple_losses = ff_network_simple.preTrain(sess, shuffle(data_full_network), epochs=20)"
   ]
  },
  {
   "cell_type": "code",
   "execution_count": 27,
   "metadata": {},
   "outputs": [
    {
     "data": {
      "text/plain": [
       "'../tf_models/dqn_rmsprop_ff_relu_64_64'"
      ]
     },
     "execution_count": 27,
     "metadata": {},
     "output_type": "execute_result"
    }
   ],
   "source": [
    "ff_network_simple.save(sess)"
   ]
  },
  {
   "cell_type": "code",
   "execution_count": 28,
   "metadata": {},
   "outputs": [
    {
     "name": "stdout",
     "output_type": "stream",
     "text": [
      "Epoch 0... loss: 20.447906135786372\n",
      "Epoch 1... loss: 4.643661883230306\n",
      "Epoch 2... loss: 3.303941338870552\n",
      "Epoch 3... loss: 2.512625103932209\n",
      "Epoch 4... loss: 1.979670456490545\n",
      "Epoch 5... loss: 1.5798248242405772\n",
      "Epoch 6... loss: 1.298530455070459\n",
      "Epoch 7... loss: 1.0862983740229568\n",
      "Epoch 8... loss: 0.9365235086566044\n",
      "Epoch 9... loss: 0.8269598113831812\n",
      "Epoch 10... loss: 0.7394502467683867\n",
      "Epoch 11... loss: 0.662241900987431\n",
      "Epoch 12... loss: 0.6033494135045292\n",
      "Epoch 13... loss: 0.558769474823114\n",
      "Epoch 14... loss: 0.5240698578577757\n",
      "Epoch 15... loss: 0.494669383216591\n",
      "Epoch 16... loss: 0.4690791726640644\n",
      "Epoch 17... loss: 0.44661703671532116\n",
      "Epoch 18... loss: 0.42604318502792576\n",
      "Epoch 19... loss: 0.40814511780881796\n"
     ]
    }
   ],
   "source": [
    "ff_network_amatrix_losses = ff_network_amatrix.preTrain(sess, shuffle(data), epochs=20)"
   ]
  },
  {
   "cell_type": "code",
   "execution_count": 29,
   "metadata": {},
   "outputs": [
    {
     "data": {
      "text/plain": [
       "'../tf_models/dqn_rmsprop_amatrix_ff_relu_64_64'"
      ]
     },
     "execution_count": 29,
     "metadata": {},
     "output_type": "execute_result"
    }
   ],
   "source": [
    "ff_network_amatrix.save(sess)"
   ]
  },
  {
   "cell_type": "code",
   "execution_count": 30,
   "metadata": {},
   "outputs": [
    {
     "name": "stdout",
     "output_type": "stream",
     "text": [
      "Epoch 0... loss: 17.73343786087546\n",
      "Epoch 1... loss: 3.965088716290892\n",
      "Epoch 2... loss: 2.9608694781409852\n",
      "Epoch 3... loss: 2.3558959019611687\n",
      "Epoch 4... loss: 1.9409874854094764\n",
      "Epoch 5... loss: 1.6296584677446946\n",
      "Epoch 6... loss: 1.3909740541561078\n",
      "Epoch 7... loss: 1.1945236260137173\n",
      "Epoch 8... loss: 1.0377609800341518\n",
      "Epoch 9... loss: 0.9219173991833676\n",
      "Epoch 10... loss: 0.8369315630667198\n",
      "Epoch 11... loss: 0.7637257822669951\n",
      "Epoch 12... loss: 0.7040777457559427\n",
      "Epoch 13... loss: 0.652798731944317\n",
      "Epoch 14... loss: 0.6088730448287142\n",
      "Epoch 15... loss: 0.5713581746304041\n",
      "Epoch 16... loss: 0.5407442001940851\n",
      "Epoch 17... loss: 0.5126001889678253\n",
      "Epoch 18... loss: 0.4848593620485653\n",
      "Epoch 19... loss: 0.46057583310154726\n"
     ]
    }
   ],
   "source": [
    "ff_network_amatrix_tr_losses = ff_network_amatrix_tr.preTrain(sess, shuffle(data), epochs=20)"
   ]
  },
  {
   "cell_type": "code",
   "execution_count": 31,
   "metadata": {},
   "outputs": [
    {
     "data": {
      "text/plain": [
       "'../tf_models/dqn_rmsprop_amatrix_tr_ff_relu_64_64'"
      ]
     },
     "execution_count": 31,
     "metadata": {},
     "output_type": "execute_result"
    }
   ],
   "source": [
    "ff_network_amatrix_tr.save(sess)"
   ]
  },
  {
   "cell_type": "code",
   "execution_count": 32,
   "metadata": {},
   "outputs": [
    {
     "name": "stdout",
     "output_type": "stream",
     "text": [
      "Epoch 0... loss: 18.251712229208607\n",
      "Epoch 1... loss: 4.522735943367996\n",
      "Epoch 2... loss: 3.1688380884160097\n",
      "Epoch 3... loss: 2.347656447510032\n",
      "Epoch 4... loss: 1.8067276861393258\n",
      "Epoch 5... loss: 1.4408513568037353\n",
      "Epoch 6... loss: 1.1705549874888153\n",
      "Epoch 7... loss: 0.9539229440575177\n",
      "Epoch 8... loss: 0.7906851241742453\n",
      "Epoch 9... loss: 0.655029917663855\n",
      "Epoch 10... loss: 0.5521822214011026\n",
      "Epoch 11... loss: 0.4741663847883691\n",
      "Epoch 12... loss: 0.41776333243715486\n",
      "Epoch 13... loss: 0.37288195718987266\n",
      "Epoch 14... loss: 0.33720442236683207\n",
      "Epoch 15... loss: 0.30859404751351793\n",
      "Epoch 16... loss: 0.2863175475833456\n",
      "Epoch 17... loss: 0.26862353909120484\n",
      "Epoch 18... loss: 0.25449410466078226\n",
      "Epoch 19... loss: 0.2421659543561384\n"
     ]
    }
   ],
   "source": [
    "ff_network_amatrix_adam_losses = ff_network_amatrix_adam.preTrain(sess, shuffle(data), epochs=20)"
   ]
  },
  {
   "cell_type": "code",
   "execution_count": 33,
   "metadata": {},
   "outputs": [
    {
     "data": {
      "text/plain": [
       "'../tf_models/dqn_adam_amatrix_ff_relu_64_64'"
      ]
     },
     "execution_count": 33,
     "metadata": {},
     "output_type": "execute_result"
    }
   ],
   "source": [
    "ff_network_amatrix_adam.save(sess)"
   ]
  },
  {
   "cell_type": "code",
   "execution_count": 34,
   "metadata": {},
   "outputs": [
    {
     "name": "stdout",
     "output_type": "stream",
     "text": [
      "Epoch 0... loss: 129.6132658316709\n",
      "Epoch 1... loss: 79.7928481372072\n",
      "Epoch 2... loss: 63.463012115527114\n",
      "Epoch 3... loss: 55.79988768054184\n",
      "Epoch 4... loss: 50.26219939815752\n",
      "Epoch 5... loss: 46.31411260846017\n",
      "Epoch 6... loss: 43.65559214275145\n",
      "Epoch 7... loss: 41.901402938730776\n",
      "Epoch 8... loss: 40.69410583930338\n",
      "Epoch 9... loss: 39.69435130326541\n",
      "Epoch 10... loss: 38.87582319275756\n",
      "Epoch 11... loss: 38.138846371910475\n",
      "Epoch 12... loss: 37.46851772291973\n",
      "Epoch 13... loss: 36.85230224988679\n",
      "Epoch 14... loss: 36.27548524174824\n",
      "Epoch 15... loss: 35.740752488387095\n",
      "Epoch 16... loss: 35.23820375131613\n",
      "Epoch 17... loss: 34.76230677520283\n",
      "Epoch 18... loss: 34.300490917781104\n",
      "Epoch 19... loss: 33.85898477828762\n"
     ]
    }
   ],
   "source": [
    "ff_network_amatrix_adagrad_losses = ff_network_amatrix_adagrad.preTrain(sess, shuffle(data), epochs=20)"
   ]
  },
  {
   "cell_type": "code",
   "execution_count": 35,
   "metadata": {},
   "outputs": [
    {
     "data": {
      "text/plain": [
       "'../tf_models/dqn_adagrad_amatrix_ff_relu_64_64'"
      ]
     },
     "execution_count": 35,
     "metadata": {},
     "output_type": "execute_result"
    }
   ],
   "source": [
    "ff_network_amatrix_adagrad.save(sess)"
   ]
  },
  {
   "cell_type": "code",
   "execution_count": 36,
   "metadata": {},
   "outputs": [
    {
     "name": "stdout",
     "output_type": "stream",
     "text": [
      "Epoch 0... loss: 223.17744997323277\n",
      "Epoch 1... loss: 220.6154737685166\n",
      "Epoch 2... loss: 217.36360020856088\n",
      "Epoch 3... loss: 213.23554778617432\n",
      "Epoch 4... loss: 208.28389799896988\n",
      "Epoch 5... loss: 202.74543598229462\n",
      "Epoch 6... loss: 197.11197701763072\n",
      "Epoch 7... loss: 191.8599632114209\n",
      "Epoch 8... loss: 187.28719960175596\n",
      "Epoch 9... loss: 183.5743980793358\n",
      "Epoch 10... loss: 180.67894511691026\n",
      "Epoch 11... loss: 178.4399657376898\n",
      "Epoch 12... loss: 176.6785804231879\n",
      "Epoch 13... loss: 175.2311832347152\n",
      "Epoch 14... loss: 173.97149175568114\n",
      "Epoch 15... loss: 172.82159598054292\n",
      "Epoch 16... loss: 171.72006022410122\n",
      "Epoch 17... loss: 170.62789654120928\n",
      "Epoch 18... loss: 169.519518030365\n",
      "Epoch 19... loss: 168.38394785660356\n"
     ]
    }
   ],
   "source": [
    "ff_network_amatrix_adadelta_losses = ff_network_amatrix_adadelta.preTrain(sess, shuffle(data), epochs=20)"
   ]
  },
  {
   "cell_type": "code",
   "execution_count": 37,
   "metadata": {},
   "outputs": [
    {
     "data": {
      "text/plain": [
       "'../tf_models/dqn_adadelta_amatrix_ff_relu_64_64'"
      ]
     },
     "execution_count": 37,
     "metadata": {},
     "output_type": "execute_result"
    }
   ],
   "source": [
    "ff_network_amatrix_adadelta.save(sess)"
   ]
  },
  {
   "cell_type": "code",
   "execution_count": 38,
   "metadata": {
    "collapsed": true
   },
   "outputs": [],
   "source": [
    "losses = np.array([ff_network_amatrix_losses, ff_network_amatrix_adam_losses,\n",
    "                     ff_network_amatrix_adagrad_losses, ff_network_amatrix_adadelta_losses]).transpose()"
   ]
  },
  {
   "cell_type": "code",
   "execution_count": 40,
   "metadata": {
    "collapsed": true
   },
   "outputs": [],
   "source": [
    "losses_df = pd.DataFrame(data=losses, columns=['rmsprop', 'adam', 'adagrad', 'adadelta'])\n",
    "losses_df.to_csv('logs/pre_train_data/optimizer_comparison.csv')"
   ]
  },
  {
   "cell_type": "code",
   "execution_count": 7,
   "metadata": {},
   "outputs": [
    {
     "data": {
      "image/png": "[encoded data removed]",
      "text/plain": [
       "<Figure size 936x1008 with 1 Axes>"
      ]
     },
     "metadata": {},
     "output_type": "display_data"
    }
   ],
   "source": [
    "losses_df = pd.read_csv('logs/pre_train_data/optimizer_comparison.csv')\n",
    "\n",
    "ff_network_amatrix_losses = losses_df['rmsprop'][:10]\n",
    "ff_network_amatrix_adam_losses = losses_df['adam'][:10]\n",
    "ff_network_amatrix_adagrad_losses = losses_df['adagrad'][:10]\n",
    "ff_network_amatrix_adadelta_losses = losses_df['adadelta'][:10]\n",
    "\n",
    "x = range(1, 11)\n",
    "fsize = 25\n",
    "plt.figure(figsize=(13, 14))\n",
    "plt.plot(x, ff_network_amatrix_losses, label='RMSProp')\n",
    "plt.plot(x, ff_network_amatrix_adam_losses, label='Adam')\n",
    "plt.plot(x, ff_network_amatrix_adagrad_losses, label='AdaGrad')\n",
    "plt.plot(x, ff_network_amatrix_adadelta_losses, label='AdaDelta')\n",
    "plt.legend(prop={'size': fsize})\n",
    "plt.xlabel('Номер эпохи', fontsize=fsize)\n",
    "plt.xticks(x)\n",
    "plt.grid()\n",
    "plt.ylabel('MSE', fontsize=fsize)\n",
    "plt.title('Сравнение качества предобучения с разными\\n алгоритмами оптимизации (ReLU слои)', fontsize=fsize)\n",
    "plt.show()"
   ]
  },
  {
   "cell_type": "code",
   "execution_count": 2,
   "metadata": {},
   "outputs": [
    {
     "ename": "NameError",
     "evalue": "name 'tf' is not defined",
     "output_type": "error",
     "traceback": [
      "\u001b[0;31m---------------------------------------------------------------------------\u001b[0m",
      "\u001b[0;31mNameError\u001b[0m                                 Traceback (most recent call last)",
      "\u001b[0;32m<ipython-input-2-68e206071894>\u001b[0m in \u001b[0;36m<module>\u001b[0;34m()\u001b[0m\n\u001b[0;32m----> 1\u001b[0;31m \u001b[0mtf\u001b[0m\u001b[0;34m.\u001b[0m\u001b[0mreset_default_graph\u001b[0m\u001b[0;34m(\u001b[0m\u001b[0;34m)\u001b[0m\u001b[0;34m\u001b[0m\u001b[0m\n\u001b[0m\u001b[1;32m      2\u001b[0m \u001b[0mff_network_tanh_amatrix\u001b[0m \u001b[0;34m=\u001b[0m \u001b[0mFFNetworkAmatrix\u001b[0m\u001b[0;34m(\u001b[0m\u001b[0;36m10\u001b[0m\u001b[0;34m,\u001b[0m \u001b[0mactivation\u001b[0m\u001b[0;34m=\u001b[0m\u001b[0;34m'tanh'\u001b[0m\u001b[0;34m)\u001b[0m\u001b[0;34m\u001b[0m\u001b[0m\n\u001b[1;32m      3\u001b[0m \u001b[0mff_network_tanh_amatrix_adam\u001b[0m \u001b[0;34m=\u001b[0m \u001b[0mFFNetworkAmatrix\u001b[0m\u001b[0;34m(\u001b[0m\u001b[0;36m10\u001b[0m\u001b[0;34m,\u001b[0m \u001b[0mactivation\u001b[0m\u001b[0;34m=\u001b[0m\u001b[0;34m'tanh'\u001b[0m\u001b[0;34m,\u001b[0m \u001b[0moptimizer\u001b[0m\u001b[0;34m=\u001b[0m\u001b[0;34m'adam'\u001b[0m\u001b[0;34m)\u001b[0m\u001b[0;34m\u001b[0m\u001b[0m\n\u001b[1;32m      4\u001b[0m \u001b[0mff_network_tanh_amatrix_adagrad\u001b[0m \u001b[0;34m=\u001b[0m \u001b[0mFFNetworkAmatrix\u001b[0m\u001b[0;34m(\u001b[0m\u001b[0;36m10\u001b[0m\u001b[0;34m,\u001b[0m \u001b[0mactivation\u001b[0m\u001b[0;34m=\u001b[0m\u001b[0;34m'tanh'\u001b[0m\u001b[0;34m,\u001b[0m \u001b[0moptimizer\u001b[0m\u001b[0;34m=\u001b[0m\u001b[0;34m'adagrad'\u001b[0m\u001b[0;34m)\u001b[0m\u001b[0;34m\u001b[0m\u001b[0m\n\u001b[1;32m      5\u001b[0m \u001b[0mff_network_tanh_amatrix_adadelta\u001b[0m \u001b[0;34m=\u001b[0m \u001b[0mFFNetworkAmatrix\u001b[0m\u001b[0;34m(\u001b[0m\u001b[0;36m10\u001b[0m\u001b[0;34m,\u001b[0m \u001b[0mactivation\u001b[0m\u001b[0;34m=\u001b[0m\u001b[0;34m'tanh'\u001b[0m\u001b[0;34m,\u001b[0m \u001b[0moptimizer\u001b[0m\u001b[0;34m=\u001b[0m\u001b[0;34m'adadelta'\u001b[0m\u001b[0;34m)\u001b[0m\u001b[0;34m\u001b[0m\u001b[0m\n",
      "\u001b[0;31mNameError\u001b[0m: name 'tf' is not defined"
     ]
    }
   ],
   "source": [
    "tf.reset_default_graph()\n",
    "ff_network_tanh_amatrix = FFNetworkAmatrix(10, activation='tanh')\n",
    "ff_network_tanh_amatrix_adam = FFNetworkAmatrix(10, activation='tanh', optimizer='adam')\n",
    "ff_network_tanh_amatrix_adagrad = FFNetworkAmatrix(10, activation='tanh', optimizer='adagrad')\n",
    "ff_network_tanh_amatrix_adadelta = FFNetworkAmatrix(10, activation='tanh', optimizer='adadelta')\n",
    "\n",
    "init = tf.global_variables_initializer()\n",
    "sess = tf.Session()\n",
    "sess.run(init)"
   ]
  },
  {
   "cell_type": "code",
   "execution_count": 45,
   "metadata": {},
   "outputs": [
    {
     "name": "stdout",
     "output_type": "stream",
     "text": [
      "Epoch 0... loss: 18.84966305246183\n",
      "Epoch 1... loss: 2.45752388508824\n",
      "Epoch 2... loss: 1.463543187501341\n",
      "Epoch 3... loss: 1.0098030265142608\n",
      "Epoch 4... loss: 0.7571165459982462\n",
      "Epoch 5... loss: 0.5998193318164343\n",
      "Epoch 6... loss: 0.49711272623371905\n",
      "Epoch 7... loss: 0.4265700919408413\n",
      "Epoch 8... loss: 0.3756035615897314\n",
      "Epoch 9... loss: 0.33703799223535824\n"
     ]
    }
   ],
   "source": [
    "ff_network_tanh_amatrix_losses = ff_network_tanh_amatrix.preTrain(sess, shuffle(data), epochs=10)"
   ]
  },
  {
   "cell_type": "code",
   "execution_count": 46,
   "metadata": {},
   "outputs": [
    {
     "data": {
      "text/plain": [
       "'../tf_models/dqn_rmsprop_amatrix_ff_tanh_64_64'"
      ]
     },
     "execution_count": 46,
     "metadata": {},
     "output_type": "execute_result"
    }
   ],
   "source": [
    "ff_network_tanh_amatrix.save(sess)"
   ]
  },
  {
   "cell_type": "code",
   "execution_count": 47,
   "metadata": {},
   "outputs": [
    {
     "name": "stdout",
     "output_type": "stream",
     "text": [
      "Epoch 0... loss: 20.022885224575184\n",
      "Epoch 1... loss: 2.188629159169124\n",
      "Epoch 2... loss: 1.1706813584402844\n",
      "Epoch 3... loss: 0.7619433470494429\n",
      "Epoch 4... loss: 0.5492963327143665\n",
      "Epoch 5... loss: 0.42163002784439374\n",
      "Epoch 6... loss: 0.34204116490900544\n",
      "Epoch 7... loss: 0.2900665131195185\n",
      "Epoch 8... loss: 0.2537400776662501\n",
      "Epoch 9... loss: 0.22617352314643163\n"
     ]
    }
   ],
   "source": [
    "ff_network_tanh_amatrix_adam_losses = ff_network_tanh_amatrix_adam.preTrain(sess, shuffle(data), epochs=10)"
   ]
  },
  {
   "cell_type": "code",
   "execution_count": 48,
   "metadata": {},
   "outputs": [
    {
     "data": {
      "text/plain": [
       "'../tf_models/dqn_adam_amatrix_ff_tanh_64_64'"
      ]
     },
     "execution_count": 48,
     "metadata": {},
     "output_type": "execute_result"
    }
   ],
   "source": [
    "ff_network_tanh_amatrix_adam.save(sess)"
   ]
  },
  {
   "cell_type": "code",
   "execution_count": 50,
   "metadata": {},
   "outputs": [
    {
     "name": "stdout",
     "output_type": "stream",
     "text": [
      "Epoch 0... loss: 149.6334080724501\n",
      "Epoch 1... loss: 114.1964033227468\n",
      "Epoch 2... loss: 99.08177573607249\n",
      "Epoch 3... loss: 89.31521609456499\n",
      "Epoch 4... loss: 81.8709168206323\n",
      "Epoch 5... loss: 75.90880427659673\n",
      "Epoch 6... loss: 71.1963441228292\n",
      "Epoch 7... loss: 67.29120818400808\n",
      "Epoch 8... loss: 64.00484463171753\n",
      "Epoch 9... loss: 61.18513347375857\n"
     ]
    }
   ],
   "source": [
    "ff_network_tanh_amatrix_adagrad_losses = ff_network_tanh_amatrix_adagrad.preTrain(sess, shuffle(data), epochs=10)"
   ]
  },
  {
   "cell_type": "code",
   "execution_count": 51,
   "metadata": {},
   "outputs": [
    {
     "data": {
      "text/plain": [
       "'../tf_models/dqn_adagrad_amatrix_ff_tanh_64_64'"
      ]
     },
     "execution_count": 51,
     "metadata": {},
     "output_type": "execute_result"
    }
   ],
   "source": [
    "ff_network_tanh_amatrix_adagrad.save(sess)"
   ]
  },
  {
   "cell_type": "code",
   "execution_count": 52,
   "metadata": {},
   "outputs": [
    {
     "name": "stdout",
     "output_type": "stream",
     "text": [
      "Epoch 0... loss: 224.6652748394237\n",
      "Epoch 1... loss: 216.3212846101709\n",
      "Epoch 2... loss: 209.37164132414458\n",
      "Epoch 3... loss: 203.91158543602447\n",
      "Epoch 4... loss: 199.6533976439838\n",
      "Epoch 5... loss: 196.26813822250884\n",
      "Epoch 6... loss: 193.4874666238026\n",
      "Epoch 7... loss: 191.11470282353486\n",
      "Epoch 8... loss: 189.01284978211777\n",
      "Epoch 9... loss: 187.0857596382212\n"
     ]
    }
   ],
   "source": [
    "ff_network_tanh_amatrix_adadelta_losses = ff_network_tanh_amatrix_adadelta.preTrain(sess, shuffle(data), epochs=10)"
   ]
  },
  {
   "cell_type": "code",
   "execution_count": 53,
   "metadata": {},
   "outputs": [
    {
     "data": {
      "text/plain": [
       "'../tf_models/dqn_adadelta_amatrix_ff_tanh_64_64'"
      ]
     },
     "execution_count": 53,
     "metadata": {},
     "output_type": "execute_result"
    }
   ],
   "source": [
    "ff_network_tanh_amatrix_adadelta.save(sess)"
   ]
  },
  {
   "cell_type": "code",
   "execution_count": 54,
   "metadata": {
    "collapsed": true
   },
   "outputs": [],
   "source": [
    "losses_tanh = np.array([ff_network_tanh_amatrix_losses, ff_network_tanh_amatrix_adam_losses,\n",
    "                        ff_network_tanh_amatrix_adagrad_losses, ff_network_tanh_amatrix_adadelta_losses]).transpose()\n",
    "losses_tanh_df = pd.DataFrame(data=losses_tanh, columns=['rmsprop', 'adam', 'adagrad', 'adadelta'])\n",
    "losses_tanh_df.to_csv('logs/pre_train_data/optimizer_comparison_tanh.csv')"
   ]
  },
  {
   "cell_type": "code",
   "execution_count": 5,
   "metadata": {},
   "outputs": [
    {
     "data": {
      "image/png": "[encoded data removed]",
      "text/plain": [
       "<Figure size 504x360 with 1 Axes>"
      ]
     },
     "metadata": {
      "needs_background": "light"
     },
     "output_type": "display_data"
    },
    {
     "data": {
      "text/plain": [
       "<Figure size 432x288 with 0 Axes>"
      ]
     },
     "metadata": {},
     "output_type": "display_data"
    }
   ],
   "source": [
    "color_c = cycler('color', ['k'])\n",
    "style_c = cycler('linestyle', ['-', '--', ':', '-.'])\n",
    "markr_c = cycler('marker', ['', '.', 'o'])\n",
    "c_cms = color_c * markr_c * style_c\n",
    "\n",
    "losses_tanh_df = pd.read_csv('logs/pre_train_data/optimizer_comparison_tanh.csv')\n",
    "\n",
    "ff_network_tanh_amatrix_losses = losses_tanh_df['rmsprop']\n",
    "ff_network_tanh_amatrix_adam_losses = losses_tanh_df['adam']\n",
    "ff_network_tanh_amatrix_adagrad_losses = losses_tanh_df['adagrad']\n",
    "ff_network_tanh_amatrix_adadelta_losses = losses_tanh_df['adadelta']\n",
    "\n",
    "x = range(1, 11)\n",
    "fsize = 14\n",
    "ticksize = 10\n",
    "lw=3\n",
    "f = plt.figure(figsize=(7, 5))\n",
    "plt.plot(x, ff_network_tanh_amatrix_losses, label='RMSProp', linewidth=lw, alpha=0.6)#, color='k', linestyle='-')\n",
    "plt.plot(x, ff_network_tanh_amatrix_adam_losses, label='Adam', linewidth=lw, alpha=0.6)#, color='k', linestyle='--')\n",
    "plt.plot(x, ff_network_tanh_amatrix_adagrad_losses, label='AdaGrad', linewidth=lw)#, color='k', linestyle=':')\n",
    "plt.plot(x, ff_network_tanh_amatrix_adadelta_losses, label='AdaDelta', linewidth=lw)#, color='k', linestyle='-.')\n",
    "plt.legend(prop={'size': 14})\n",
    "plt.xlabel('Epoch', fontsize=fsize)\n",
    "plt.xticks(x)\n",
    "plt.rc('xtick', labelsize=ticksize)\n",
    "plt.rc('ytick', labelsize=ticksize)\n",
    "plt.grid()\n",
    "plt.ylabel('MSE', fontsize=fsize)\n",
    "plt.title('Comparison of optimization algorithms by pre-training speed', fontsize=fsize)\n",
    "plt.show()\n",
    "\n",
    "plt.savefig(\"opt-algos-pre-training-comparison.pdf\", bbox_inches='tight')"
   ]
  },
  {
   "cell_type": "code",
   "execution_count": 25,
   "metadata": {
    "collapsed": true
   },
   "outputs": [],
   "source": [
    "tf.reset_default_graph()\n",
    "ff_network_sigmoid_amatrix = FFNetworkAmatrix(10, activation='sigmoid')\n",
    "ff_network_sigmoid_amatrix_adam = FFNetworkAmatrix(10, activation='sigmoid', optimizer='adam')\n",
    "\n",
    "init = tf.global_variables_initializer()\n",
    "sess = tf.Session()\n",
    "sess.run(init)"
   ]
  },
  {
   "cell_type": "code",
   "execution_count": 28,
   "metadata": {},
   "outputs": [
    {
     "name": "stdout",
     "output_type": "stream",
     "text": [
      "Epoch 0... loss: 48.12509211832228\n",
      "Epoch 1... loss: 5.840886983601048\n",
      "Epoch 2... loss: 3.2665749973264235\n",
      "Epoch 3... loss: 2.1980364923166147\n",
      "Epoch 4... loss: 1.6159512516146732\n",
      "Epoch 5... loss: 1.2481771640055497\n",
      "Epoch 6... loss: 0.9968086905863093\n",
      "Epoch 7... loss: 0.8224211112067171\n",
      "Epoch 8... loss: 0.6923834301893474\n",
      "Epoch 9... loss: 0.5906389240717693\n"
     ]
    }
   ],
   "source": [
    "ff_network_sigmoid_amatrix_losses = ff_network_sigmoid_amatrix.preTrain(sess, shuffle(data), epochs=10)"
   ]
  },
  {
   "cell_type": "code",
   "execution_count": 29,
   "metadata": {},
   "outputs": [
    {
     "data": {
      "text/plain": [
       "'../tf_models/dqn_rmsprop_amatrix_ff_sigmoid_64_64'"
      ]
     },
     "execution_count": 29,
     "metadata": {},
     "output_type": "execute_result"
    }
   ],
   "source": [
    "ff_network_sigmoid_amatrix.save(sess)"
   ]
  },
  {
   "cell_type": "code",
   "execution_count": 30,
   "metadata": {},
   "outputs": [
    {
     "name": "stdout",
     "output_type": "stream",
     "text": [
      "Epoch 0... loss: 47.27875211179099\n",
      "Epoch 1... loss: 5.190331884243369\n",
      "Epoch 2... loss: 2.943751434237487\n",
      "Epoch 3... loss: 1.8905661246062084\n",
      "Epoch 4... loss: 1.275770114409496\n",
      "Epoch 5... loss: 0.9274750830245272\n",
      "Epoch 6... loss: 0.7111772563240895\n",
      "Epoch 7... loss: 0.5640053773868151\n",
      "Epoch 8... loss: 0.4592344688854956\n",
      "Epoch 9... loss: 0.3820924540439185\n"
     ]
    }
   ],
   "source": [
    "ff_network_sigmoid_amatrix_adam_losses = ff_network_sigmoid_amatrix_adam.preTrain(sess, shuffle(data), epochs=10)"
   ]
  },
  {
   "cell_type": "code",
   "execution_count": 31,
   "metadata": {},
   "outputs": [
    {
     "data": {
      "text/plain": [
       "'../tf_models/dqn_adam_amatrix_ff_sigmoid_64_64'"
      ]
     },
     "execution_count": 31,
     "metadata": {},
     "output_type": "execute_result"
    }
   ],
   "source": [
    "ff_network_sigmoid_amatrix_adam.save(sess)"
   ]
  },
  {
   "cell_type": "code",
   "execution_count": 33,
   "metadata": {},
   "outputs": [
    {
     "data": {
      "image/png": "[encoded data removed]",
      "text/plain": [
       "<matplotlib.figure.Figure at 0x7f58281842b0>"
      ]
     },
     "metadata": {},
     "output_type": "display_data"
    }
   ],
   "source": [
    "x = range(2, 11)\n",
    "\n",
    "plt.figure(figsize=(17, 10))\n",
    "fsize = 25\n",
    "\n",
    "plt.plot(x, ff_network_amatrix_losses[1:10], label='RMSProp (ReLU)')\n",
    "plt.plot(x, ff_network_amatrix_adam_losses[1:10], label='Adam (ReLU)')\n",
    "plt.plot(x, ff_network_tanh_amatrix_losses[1:], label='RMSProp (tanh)')\n",
    "plt.plot(x, ff_network_tanh_amatrix_adam_losses[1:], label='Adam (tanh)')\n",
    "plt.plot(x, ff_network_sigmoid_amatrix_losses[1:], label='RMSProp (sigmoid)')\n",
    "plt.plot(x, ff_network_sigmoid_amatrix_adam_losses[1:], label='Adam (sigmoid)')\n",
    "plt.legend(prop={'size': 20})\n",
    "plt.xlabel('Номер эпохи', fontsize=fsize)\n",
    "plt.xticks(x)\n",
    "plt.grid()\n",
    "plt.ylabel('MSE', fontsize=fsize)\n",
    "plt.title('Сравнение качества предобучения между Adam и\\n RMSProp с разными функциями активации', fontsize=fsize)\n",
    "plt.show()"
   ]
  },
  {
   "cell_type": "markdown",
   "metadata": {},
   "source": [
    "# Рекуррентые сети"
   ]
  },
  {
   "cell_type": "markdown",
   "metadata": {},
   "source": [
    "## Предобучение по наблюдениям ноды"
   ]
  },
  {
   "cell_type": "code",
   "execution_count": 22,
   "metadata": {
    "collapsed": true
   },
   "outputs": [],
   "source": [
    "tf.reset_default_graph()\n",
    "rnn_network_amatrix = RQNetworkAmatrix(10, ff_activation='tanh')\n",
    "rnn_network_gru_amatrix = RQNetworkAmatrix(10, ff_activation='tanh', cell_type='gru')\n",
    "\n",
    "init = tf.global_variables_initializer()\n",
    "sess = tf.Session()\n",
    "sess.run(init)"
   ]
  },
  {
   "cell_type": "code",
   "execution_count": 18,
   "metadata": {},
   "outputs": [
    {
     "name": "stdout",
     "output_type": "stream",
     "text": [
      "Epoch 0... loss: 22.700221331989134\n",
      "Epoch 1... loss: 10.436203931558397\n",
      "Epoch 2... loss: 7.34969959951009\n",
      "Epoch 3... loss: 5.652958536798937\n",
      "Epoch 4... loss: 4.819467243110423\n",
      "Epoch 5... loss: 3.7777842119126834\n",
      "Epoch 6... loss: 3.0046638865995536\n",
      "Epoch 7... loss: 2.5072981469347098\n",
      "Epoch 8... loss: 2.290658500411371\n",
      "Epoch 9... loss: 2.261133800110553\n",
      "Epoch 10... loss: 1.8341901319892149\n",
      "Epoch 11... loss: 1.886589976742574\n",
      "Epoch 12... loss: 1.6760508062580588\n",
      "Epoch 13... loss: 1.6055046764686132\n",
      "Epoch 14... loss: 1.3673140661884235\n",
      "Epoch 15... loss: 1.476091236526539\n",
      "Epoch 16... loss: 1.3376008899442147\n",
      "Epoch 17... loss: 1.237031949761027\n",
      "Epoch 18... loss: 1.0866884822853795\n",
      "Epoch 19... loss: 1.0546218610201477\n"
     ]
    }
   ],
   "source": [
    "rnn_network_amatrix_losses = rnn_network_amatrix.preTrain(sess, data, epochs=20, episode_length=8,\n",
    "                                                          shuffle_eps=True)"
   ]
  },
  {
   "cell_type": "code",
   "execution_count": 19,
   "metadata": {},
   "outputs": [
    {
     "data": {
      "text/plain": [
       "'../tf_models/dqn_rmsprop_amatrix_lstm_tanh_64-tanh_64'"
      ]
     },
     "execution_count": 19,
     "metadata": {},
     "output_type": "execute_result"
    }
   ],
   "source": [
    "rnn_network_amatrix.save(sess)"
   ]
  },
  {
   "cell_type": "code",
   "execution_count": 24,
   "metadata": {},
   "outputs": [
    {
     "name": "stdout",
     "output_type": "stream",
     "text": [
      "Epoch 0... loss: 17.32520866877974\n",
      "Epoch 1... loss: 6.6033907899090405\n",
      "Epoch 2... loss: 5.535827183954417\n",
      "Epoch 3... loss: 4.724957161532681\n",
      "Epoch 4... loss: 4.056318650203591\n",
      "Epoch 5... loss: 4.67689899464117\n",
      "Epoch 6... loss: 4.320189676294365\n",
      "Epoch 7... loss: 4.132425909925949\n",
      "Epoch 8... loss: 4.129385792202288\n",
      "Epoch 9... loss: 3.5509402205704723\n",
      "Epoch 10... loss: 3.1280606219716067\n",
      "Epoch 11... loss: 3.7581393460414403\n",
      "Epoch 12... loss: 3.340589578295507\n",
      "Epoch 13... loss: 3.267126967894157\n",
      "Epoch 14... loss: 3.2062551382489763\n",
      "Epoch 15... loss: 3.1697990393006847\n",
      "Epoch 16... loss: 3.084718013292355\n",
      "Epoch 17... loss: 2.733407387599107\n",
      "Epoch 18... loss: 2.5626299205125744\n",
      "Epoch 19... loss: 2.4841605547119285\n",
      "CPU times: user 1h 40min 42s, sys: 8min 46s, total: 1h 49min 28s\n",
      "Wall time: 51min 49s\n"
     ]
    }
   ],
   "source": [
    "%%time\n",
    "rnn_network_gru_amatrix_losses = rnn_network_gru_amatrix.preTrain(sess, data, epochs=20, episode_length=8,\n",
    "                                                                  shuffle_eps=True)"
   ]
  },
  {
   "cell_type": "code",
   "execution_count": 25,
   "metadata": {},
   "outputs": [
    {
     "data": {
      "text/plain": [
       "'../tf_models/dqn_rmsprop_amatrix_gru_tanh_64-tanh_64'"
      ]
     },
     "execution_count": 25,
     "metadata": {},
     "output_type": "execute_result"
    }
   ],
   "source": [
    "rnn_network_gru_amatrix.save(sess)"
   ]
  },
  {
   "cell_type": "markdown",
   "metadata": {},
   "source": [
    "## Предобучение вдоль пути пакета"
   ]
  },
  {
   "cell_type": "code",
   "execution_count": 8,
   "metadata": {
    "collapsed": true
   },
   "outputs": [],
   "source": [
    "tf.reset_default_graph()\n",
    "rnn_network_amatrix_per_pkg = RQNetworkAmatrix(10, ff_activation='tanh', scope='per_pkg')\n",
    "#rnn_network_gru_amatrix_per_pkg = RQNetworkAmatrix(10, ff_activation='tanh', cell_type='gru', scope='per_pkg')\n",
    "\n",
    "init = tf.global_variables_initializer()\n",
    "sess = tf.Session()\n",
    "sess.run(init)"
   ]
  },
  {
   "cell_type": "code",
   "execution_count": 9,
   "metadata": {},
   "outputs": [
    {
     "name": "stdout",
     "output_type": "stream",
     "text": [
      "Epoch 0... loss: 7.722103755181913\n",
      "Epoch 1... loss: 1.3163191965565086\n",
      "Epoch 2... loss: 0.7889296287332017\n",
      "Epoch 3... loss: 0.5537869784601462\n",
      "Epoch 4... loss: 0.44370705402914723\n",
      "CPU times: user 47min 57s, sys: 2min 40s, total: 50min 37s\n",
      "Wall time: 31min 41s\n"
     ]
    }
   ],
   "source": [
    "%%time\n",
    "rnn_network_amatrix_per_pkg_losses = rnn_network_amatrix_per_pkg.preTrain(sess, data, epochs=5,\n",
    "                                                                          episode_col='pkg_id', shuffle_eps=True)"
   ]
  },
  {
   "cell_type": "code",
   "execution_count": 10,
   "metadata": {},
   "outputs": [
    {
     "data": {
      "text/plain": [
       "'../tf_models/dqn_rmsprop_amatrix_per_pkg_lstm_tanh_64-tanh_64'"
      ]
     },
     "execution_count": 10,
     "metadata": {},
     "output_type": "execute_result"
    }
   ],
   "source": [
    "rnn_network_amatrix_per_pkg.save(sess)"
   ]
  },
  {
   "cell_type": "markdown",
   "metadata": {},
   "source": [
    "# Конвейеры"
   ]
  },
  {
   "cell_type": "code",
   "execution_count": 56,
   "metadata": {
    "collapsed": true
   },
   "outputs": [],
   "source": [
    "tf.reset_default_graph()\n",
    "conveyor_network = FFNetworkAddFlatAmatrix(16, scope='conveyor_test', flat_inputs={'work_status':'graph_size'})\n",
    "init = tf.global_variables_initializer()\n",
    "sess = tf.Session()\n",
    "sess.run(init)"
   ]
  },
  {
   "cell_type": "code",
   "execution_count": 57,
   "metadata": {
    "collapsed": true
   },
   "outputs": [],
   "source": [
    "data_conv = pd.read_csv('logs/data_conveyor_gen_test2.csv', names=get_conveyor_data_cols(16))"
   ]
  },
  {
   "cell_type": "code",
   "execution_count": 58,
   "metadata": {},
   "outputs": [
    {
     "data": {
      "text/html": [
       "<div>\n",
       "<table border=\"1\" class=\"dataframe\">\n",
       "  <thead>\n",
       "    <tr style=\"text-align: right;\">\n",
       "      <th></th>\n",
       "      <th>dst</th>\n",
       "      <th>addr</th>\n",
       "      <th>time</th>\n",
       "      <th>pkg_id</th>\n",
       "      <th>neighbors_0</th>\n",
       "      <th>neighbors_1</th>\n",
       "      <th>neighbors_2</th>\n",
       "      <th>neighbors_3</th>\n",
       "      <th>neighbors_4</th>\n",
       "      <th>neighbors_5</th>\n",
       "      <th>...</th>\n",
       "      <th>predict_6</th>\n",
       "      <th>predict_7</th>\n",
       "      <th>predict_8</th>\n",
       "      <th>predict_9</th>\n",
       "      <th>predict_10</th>\n",
       "      <th>predict_11</th>\n",
       "      <th>predict_12</th>\n",
       "      <th>predict_13</th>\n",
       "      <th>predict_14</th>\n",
       "      <th>predict_15</th>\n",
       "    </tr>\n",
       "  </thead>\n",
       "  <tbody>\n",
       "    <tr>\n",
       "      <th>0</th>\n",
       "      <td>13.0</td>\n",
       "      <td>2.0</td>\n",
       "      <td>10.0</td>\n",
       "      <td>1.0</td>\n",
       "      <td>0.0</td>\n",
       "      <td>0.0</td>\n",
       "      <td>0.0</td>\n",
       "      <td>1.0</td>\n",
       "      <td>0.0</td>\n",
       "      <td>0.0</td>\n",
       "      <td>...</td>\n",
       "      <td>-1000000.0</td>\n",
       "      <td>-1000000.0</td>\n",
       "      <td>-1000000.0</td>\n",
       "      <td>-1000000.0</td>\n",
       "      <td>-1000000.0</td>\n",
       "      <td>-1000000.0</td>\n",
       "      <td>-1000000.0</td>\n",
       "      <td>-1000000.0</td>\n",
       "      <td>-1000000.0</td>\n",
       "      <td>-1000000.0</td>\n",
       "    </tr>\n",
       "    <tr>\n",
       "      <th>1</th>\n",
       "      <td>13.0</td>\n",
       "      <td>3.0</td>\n",
       "      <td>20.0</td>\n",
       "      <td>1.0</td>\n",
       "      <td>0.0</td>\n",
       "      <td>0.0</td>\n",
       "      <td>0.0</td>\n",
       "      <td>0.0</td>\n",
       "      <td>0.0</td>\n",
       "      <td>0.0</td>\n",
       "      <td>...</td>\n",
       "      <td>-1000000.0</td>\n",
       "      <td>-30.0</td>\n",
       "      <td>-1000000.0</td>\n",
       "      <td>-1000000.0</td>\n",
       "      <td>-1000000.0</td>\n",
       "      <td>-10.0</td>\n",
       "      <td>-1000000.0</td>\n",
       "      <td>-1000000.0</td>\n",
       "      <td>-1000000.0</td>\n",
       "      <td>-1000000.0</td>\n",
       "    </tr>\n",
       "    <tr>\n",
       "      <th>2</th>\n",
       "      <td>13.0</td>\n",
       "      <td>11.0</td>\n",
       "      <td>30.0</td>\n",
       "      <td>1.0</td>\n",
       "      <td>0.0</td>\n",
       "      <td>0.0</td>\n",
       "      <td>0.0</td>\n",
       "      <td>0.0</td>\n",
       "      <td>0.0</td>\n",
       "      <td>0.0</td>\n",
       "      <td>...</td>\n",
       "      <td>-1000000.0</td>\n",
       "      <td>-1000000.0</td>\n",
       "      <td>-1000000.0</td>\n",
       "      <td>-1000000.0</td>\n",
       "      <td>-1000000.0</td>\n",
       "      <td>-1000000.0</td>\n",
       "      <td>-1000000.0</td>\n",
       "      <td>-0.0</td>\n",
       "      <td>-1000000.0</td>\n",
       "      <td>-1000000.0</td>\n",
       "    </tr>\n",
       "    <tr>\n",
       "      <th>3</th>\n",
       "      <td>15.0</td>\n",
       "      <td>0.0</td>\n",
       "      <td>20.0</td>\n",
       "      <td>2.0</td>\n",
       "      <td>0.0</td>\n",
       "      <td>0.0</td>\n",
       "      <td>0.0</td>\n",
       "      <td>0.0</td>\n",
       "      <td>0.0</td>\n",
       "      <td>1.0</td>\n",
       "      <td>...</td>\n",
       "      <td>-1000000.0</td>\n",
       "      <td>-1000000.0</td>\n",
       "      <td>-1000000.0</td>\n",
       "      <td>-1000000.0</td>\n",
       "      <td>-1000000.0</td>\n",
       "      <td>-1000000.0</td>\n",
       "      <td>-1000000.0</td>\n",
       "      <td>-1000000.0</td>\n",
       "      <td>-1000000.0</td>\n",
       "      <td>-1000000.0</td>\n",
       "    </tr>\n",
       "    <tr>\n",
       "      <th>4</th>\n",
       "      <td>15.0</td>\n",
       "      <td>5.0</td>\n",
       "      <td>30.0</td>\n",
       "      <td>2.0</td>\n",
       "      <td>0.0</td>\n",
       "      <td>0.0</td>\n",
       "      <td>0.0</td>\n",
       "      <td>0.0</td>\n",
       "      <td>0.0</td>\n",
       "      <td>0.0</td>\n",
       "      <td>...</td>\n",
       "      <td>-1000000.0</td>\n",
       "      <td>-1000000.0</td>\n",
       "      <td>-20.0</td>\n",
       "      <td>-1000000.0</td>\n",
       "      <td>-1000000.0</td>\n",
       "      <td>-1000000.0</td>\n",
       "      <td>-1000000.0</td>\n",
       "      <td>-1000000.0</td>\n",
       "      <td>-1000000.0</td>\n",
       "      <td>-1000000.0</td>\n",
       "    </tr>\n",
       "  </tbody>\n",
       "</table>\n",
       "<p>5 rows × 308 columns</p>\n",
       "</div>"
      ],
      "text/plain": [
       "    dst  addr  time  pkg_id  neighbors_0  neighbors_1  neighbors_2  \\\n",
       "0  13.0   2.0  10.0     1.0          0.0          0.0          0.0   \n",
       "1  13.0   3.0  20.0     1.0          0.0          0.0          0.0   \n",
       "2  13.0  11.0  30.0     1.0          0.0          0.0          0.0   \n",
       "3  15.0   0.0  20.0     2.0          0.0          0.0          0.0   \n",
       "4  15.0   5.0  30.0     2.0          0.0          0.0          0.0   \n",
       "\n",
       "   neighbors_3  neighbors_4  neighbors_5     ...      predict_6  predict_7  \\\n",
       "0          1.0          0.0          0.0     ...     -1000000.0 -1000000.0   \n",
       "1          0.0          0.0          0.0     ...     -1000000.0      -30.0   \n",
       "2          0.0          0.0          0.0     ...     -1000000.0 -1000000.0   \n",
       "3          0.0          0.0          1.0     ...     -1000000.0 -1000000.0   \n",
       "4          0.0          0.0          0.0     ...     -1000000.0 -1000000.0   \n",
       "\n",
       "   predict_8  predict_9  predict_10  predict_11  predict_12  predict_13  \\\n",
       "0 -1000000.0 -1000000.0  -1000000.0  -1000000.0  -1000000.0  -1000000.0   \n",
       "1 -1000000.0 -1000000.0  -1000000.0       -10.0  -1000000.0  -1000000.0   \n",
       "2 -1000000.0 -1000000.0  -1000000.0  -1000000.0  -1000000.0        -0.0   \n",
       "3 -1000000.0 -1000000.0  -1000000.0  -1000000.0  -1000000.0  -1000000.0   \n",
       "4      -20.0 -1000000.0  -1000000.0  -1000000.0  -1000000.0  -1000000.0   \n",
       "\n",
       "   predict_14  predict_15  \n",
       "0  -1000000.0  -1000000.0  \n",
       "1  -1000000.0  -1000000.0  \n",
       "2  -1000000.0  -1000000.0  \n",
       "3  -1000000.0  -1000000.0  \n",
       "4  -1000000.0  -1000000.0  \n",
       "\n",
       "[5 rows x 308 columns]"
      ]
     },
     "execution_count": 58,
     "metadata": {},
     "output_type": "execute_result"
    }
   ],
   "source": [
    "data_conv.head()"
   ]
  },
  {
   "cell_type": "code",
   "execution_count": 59,
   "metadata": {},
   "outputs": [
    {
     "data": {
      "text/plain": [
       "{'addr': array([  2.,   3.,  11., ...,  10.,   9.,  12.]),\n",
       " 'amatrix': array([[ 0.,  0.,  0., ...,  0.,  0.,  0.],\n",
       "        [ 0.,  0.,  0., ...,  0.,  0.,  0.],\n",
       "        [ 0.,  0.,  0., ...,  0.,  0.,  0.],\n",
       "        ..., \n",
       "        [ 0.,  0.,  0., ...,  0.,  0.,  0.],\n",
       "        [ 0.,  0.,  0., ...,  0.,  0.,  0.],\n",
       "        [ 0.,  0.,  0., ...,  0.,  0.,  0.]]),\n",
       " 'dst': array([ 13.,  13.,  13., ...,  14.,  14.,  14.]),\n",
       " 'neighbors': array([[ 0.,  0.,  0., ...,  0.,  0.,  0.],\n",
       "        [ 0.,  0.,  0., ...,  0.,  0.,  0.],\n",
       "        [ 0.,  0.,  0., ...,  1.,  0.,  0.],\n",
       "        ..., \n",
       "        [ 0.,  0.,  0., ...,  0.,  0.,  0.],\n",
       "        [ 0.,  0.,  0., ...,  0.,  0.,  0.],\n",
       "        [ 0.,  0.,  0., ...,  0.,  1.,  0.]]),\n",
       " 'work_status': array([[ 0.,  0.,  1., ...,  0.,  0.,  0.],\n",
       "        [ 0.,  0.,  1., ...,  0.,  0.,  0.],\n",
       "        [ 0.,  0.,  0., ...,  1.,  0.,  0.],\n",
       "        ..., \n",
       "        [ 1.,  0.,  0., ...,  0.,  0.,  1.],\n",
       "        [ 0.,  0.,  0., ...,  0.,  1.,  0.],\n",
       "        [ 0.,  0.,  0., ...,  1.,  1.,  0.]])}"
      ]
     },
     "execution_count": 59,
     "metadata": {},
     "output_type": "execute_result"
    }
   ],
   "source": [
    "conveyor_network.makeInputFromData(data_conv)"
   ]
  },
  {
   "cell_type": "code",
   "execution_count": 60,
   "metadata": {},
   "outputs": [
    {
     "name": "stdout",
     "output_type": "stream",
     "text": [
      "Epoch 0... loss: 44.434306599735436\n",
      "Epoch 1... loss: 25.684749391343857\n",
      "Epoch 2... loss: 10.443390450446435\n",
      "Epoch 3... loss: 4.235161440045226\n",
      "Epoch 4... loss: 2.426896776249206\n",
      "Epoch 5... loss: 1.431958681617687\n",
      "Epoch 6... loss: 0.9349156933672288\n",
      "Epoch 7... loss: 0.604355698707057\n",
      "Epoch 8... loss: 0.4350917832134596\n",
      "Epoch 9... loss: 0.3487723258390925\n"
     ]
    }
   ],
   "source": [
    "conveyor_network_amatrix_losses = conveyor_network.preTrain(sess, shuffle(data_conv), epochs=10)"
   ]
  },
  {
   "cell_type": "code",
   "execution_count": 61,
   "metadata": {},
   "outputs": [
    {
     "data": {
      "text/plain": [
       "'../tf_models/dqn_rmsprop_amatrix_work_status16_conveyor_test_ff_relu_64_64'"
      ]
     },
     "execution_count": 61,
     "metadata": {},
     "output_type": "execute_result"
    }
   ],
   "source": [
    "conveyor_network.save(sess)"
   ]
  },
  {
   "cell_type": "code",
   "execution_count": 19,
   "metadata": {
    "collapsed": true
   },
   "outputs": [],
   "source": [
    "tf.reset_default_graph()\n",
    "conveyor_network_ng_no_inp = FFNetwork(22, scope='conveyor_test_ng')\n",
    "conveyor_network_ng = FFNetworkAddFlatAmatrix(22, scope='conveyor_test_ng', flat_inputs={'work_status':'graph_size'})\n",
    "conveyor_rnn_ng = RQNetworkAddFlatAmatrix(22, ff_activation='tanh', \n",
    "                                          flat_inputs={'work_status':'graph_size'},\n",
    "                                          scope='conveyor_test_ng') \n",
    "conveyor_rnn_pp_ng = RQNetworkAddFlatAmatrix(22, ff_activation='tanh', \n",
    "                                             flat_inputs={'work_status':'graph_size'},\n",
    "                                             scope='conveyor_test_ng_per_pkg')\n",
    "init = tf.global_variables_initializer()\n",
    "sess = tf.Session()\n",
    "sess.run(init)"
   ]
  },
  {
   "cell_type": "code",
   "execution_count": 20,
   "metadata": {
    "collapsed": true
   },
   "outputs": [],
   "source": [
    "data_conv_ng = pd.read_csv('logs/data_conveyor_gen_energy_test.csv', names=['belt_id']+get_conveyor_data_cols(22))"
   ]
  },
  {
   "cell_type": "code",
   "execution_count": 21,
   "metadata": {},
   "outputs": [
    {
     "data": {
      "text/html": [
       "<div>\n",
       "<table border=\"1\" class=\"dataframe\">\n",
       "  <thead>\n",
       "    <tr style=\"text-align: right;\">\n",
       "      <th></th>\n",
       "      <th>belt_id</th>\n",
       "      <th>dst</th>\n",
       "      <th>addr</th>\n",
       "      <th>time</th>\n",
       "      <th>pkg_id</th>\n",
       "      <th>neighbors_0</th>\n",
       "      <th>neighbors_1</th>\n",
       "      <th>neighbors_2</th>\n",
       "      <th>neighbors_3</th>\n",
       "      <th>neighbors_4</th>\n",
       "      <th>...</th>\n",
       "      <th>predict_12</th>\n",
       "      <th>predict_13</th>\n",
       "      <th>predict_14</th>\n",
       "      <th>predict_15</th>\n",
       "      <th>predict_16</th>\n",
       "      <th>predict_17</th>\n",
       "      <th>predict_18</th>\n",
       "      <th>predict_19</th>\n",
       "      <th>predict_20</th>\n",
       "      <th>predict_21</th>\n",
       "    </tr>\n",
       "  </thead>\n",
       "  <tbody>\n",
       "    <tr>\n",
       "      <th>0</th>\n",
       "      <td>0.0</td>\n",
       "      <td>18.0</td>\n",
       "      <td>0.0</td>\n",
       "      <td>10.0</td>\n",
       "      <td>1.0</td>\n",
       "      <td>0.0</td>\n",
       "      <td>0.0</td>\n",
       "      <td>1.0</td>\n",
       "      <td>0.0</td>\n",
       "      <td>0.0</td>\n",
       "      <td>...</td>\n",
       "      <td>-1000000.0</td>\n",
       "      <td>-1000000.0</td>\n",
       "      <td>-1000000.0</td>\n",
       "      <td>-1000000.0</td>\n",
       "      <td>-1000000.0</td>\n",
       "      <td>-1000000.0</td>\n",
       "      <td>-1000000.0</td>\n",
       "      <td>-1000000.0</td>\n",
       "      <td>-1000000.0</td>\n",
       "      <td>-1000000.0</td>\n",
       "    </tr>\n",
       "    <tr>\n",
       "      <th>1</th>\n",
       "      <td>0.0</td>\n",
       "      <td>18.0</td>\n",
       "      <td>2.0</td>\n",
       "      <td>20.0</td>\n",
       "      <td>1.0</td>\n",
       "      <td>0.0</td>\n",
       "      <td>0.0</td>\n",
       "      <td>0.0</td>\n",
       "      <td>1.0</td>\n",
       "      <td>0.0</td>\n",
       "      <td>...</td>\n",
       "      <td>-1000000.0</td>\n",
       "      <td>-1000000.0</td>\n",
       "      <td>-1000000.0</td>\n",
       "      <td>-1000000.0</td>\n",
       "      <td>-1000000.0</td>\n",
       "      <td>-1000000.0</td>\n",
       "      <td>-1000000.0</td>\n",
       "      <td>-1000000.0</td>\n",
       "      <td>-1000000.0</td>\n",
       "      <td>-1000000.0</td>\n",
       "    </tr>\n",
       "    <tr>\n",
       "      <th>2</th>\n",
       "      <td>0.0</td>\n",
       "      <td>18.0</td>\n",
       "      <td>3.0</td>\n",
       "      <td>30.0</td>\n",
       "      <td>1.0</td>\n",
       "      <td>0.0</td>\n",
       "      <td>0.0</td>\n",
       "      <td>0.0</td>\n",
       "      <td>0.0</td>\n",
       "      <td>1.0</td>\n",
       "      <td>...</td>\n",
       "      <td>-1000000.0</td>\n",
       "      <td>-1000000.0</td>\n",
       "      <td>-1000000.0</td>\n",
       "      <td>-1000000.0</td>\n",
       "      <td>-1000000.0</td>\n",
       "      <td>-1000000.0</td>\n",
       "      <td>-1000000.0</td>\n",
       "      <td>-1000000.0</td>\n",
       "      <td>-1000000.0</td>\n",
       "      <td>-1000000.0</td>\n",
       "    </tr>\n",
       "    <tr>\n",
       "      <th>3</th>\n",
       "      <td>0.0</td>\n",
       "      <td>18.0</td>\n",
       "      <td>4.0</td>\n",
       "      <td>40.0</td>\n",
       "      <td>1.0</td>\n",
       "      <td>0.0</td>\n",
       "      <td>0.0</td>\n",
       "      <td>0.0</td>\n",
       "      <td>0.0</td>\n",
       "      <td>0.0</td>\n",
       "      <td>...</td>\n",
       "      <td>-1000000.0</td>\n",
       "      <td>-1000000.0</td>\n",
       "      <td>-1000000.0</td>\n",
       "      <td>-1000000.0</td>\n",
       "      <td>-1000000.0</td>\n",
       "      <td>-1000000.0</td>\n",
       "      <td>-1000000.0</td>\n",
       "      <td>-1000000.0</td>\n",
       "      <td>-1000000.0</td>\n",
       "      <td>-1000000.0</td>\n",
       "    </tr>\n",
       "    <tr>\n",
       "      <th>4</th>\n",
       "      <td>2.0</td>\n",
       "      <td>18.0</td>\n",
       "      <td>7.0</td>\n",
       "      <td>50.0</td>\n",
       "      <td>1.0</td>\n",
       "      <td>0.0</td>\n",
       "      <td>0.0</td>\n",
       "      <td>0.0</td>\n",
       "      <td>0.0</td>\n",
       "      <td>0.0</td>\n",
       "      <td>...</td>\n",
       "      <td>-1000000.0</td>\n",
       "      <td>-1000000.0</td>\n",
       "      <td>-1000000.0</td>\n",
       "      <td>-1000000.0</td>\n",
       "      <td>-1000000.0</td>\n",
       "      <td>-1000000.0</td>\n",
       "      <td>-1000000.0</td>\n",
       "      <td>-1000000.0</td>\n",
       "      <td>-1000000.0</td>\n",
       "      <td>-1000000.0</td>\n",
       "    </tr>\n",
       "  </tbody>\n",
       "</table>\n",
       "<p>5 rows × 555 columns</p>\n",
       "</div>"
      ],
      "text/plain": [
       "   belt_id   dst  addr  time  pkg_id  neighbors_0  neighbors_1  neighbors_2  \\\n",
       "0      0.0  18.0   0.0  10.0     1.0          0.0          0.0          1.0   \n",
       "1      0.0  18.0   2.0  20.0     1.0          0.0          0.0          0.0   \n",
       "2      0.0  18.0   3.0  30.0     1.0          0.0          0.0          0.0   \n",
       "3      0.0  18.0   4.0  40.0     1.0          0.0          0.0          0.0   \n",
       "4      2.0  18.0   7.0  50.0     1.0          0.0          0.0          0.0   \n",
       "\n",
       "   neighbors_3  neighbors_4     ...      predict_12  predict_13  predict_14  \\\n",
       "0          0.0          0.0     ...      -1000000.0  -1000000.0  -1000000.0   \n",
       "1          1.0          0.0     ...      -1000000.0  -1000000.0  -1000000.0   \n",
       "2          0.0          1.0     ...      -1000000.0  -1000000.0  -1000000.0   \n",
       "3          0.0          0.0     ...      -1000000.0  -1000000.0  -1000000.0   \n",
       "4          0.0          0.0     ...      -1000000.0  -1000000.0  -1000000.0   \n",
       "\n",
       "   predict_15  predict_16  predict_17  predict_18  predict_19  predict_20  \\\n",
       "0  -1000000.0  -1000000.0  -1000000.0  -1000000.0  -1000000.0  -1000000.0   \n",
       "1  -1000000.0  -1000000.0  -1000000.0  -1000000.0  -1000000.0  -1000000.0   \n",
       "2  -1000000.0  -1000000.0  -1000000.0  -1000000.0  -1000000.0  -1000000.0   \n",
       "3  -1000000.0  -1000000.0  -1000000.0  -1000000.0  -1000000.0  -1000000.0   \n",
       "4  -1000000.0  -1000000.0  -1000000.0  -1000000.0  -1000000.0  -1000000.0   \n",
       "\n",
       "   predict_21  \n",
       "0  -1000000.0  \n",
       "1  -1000000.0  \n",
       "2  -1000000.0  \n",
       "3  -1000000.0  \n",
       "4  -1000000.0  \n",
       "\n",
       "[5 rows x 555 columns]"
      ]
     },
     "execution_count": 21,
     "metadata": {},
     "output_type": "execute_result"
    }
   ],
   "source": [
    "data_conv_ng.head()"
   ]
  },
  {
   "cell_type": "code",
   "execution_count": 23,
   "metadata": {},
   "outputs": [
    {
     "name": "stdout",
     "output_type": "stream",
     "text": [
      "Epoch 0... loss: 0.20001798869066295\n",
      "Epoch 1... loss: 0.07961566418054558\n",
      "Epoch 2... loss: 0.04483793437747019\n",
      "Epoch 3... loss: 0.03315841511690191\n",
      "Epoch 4... loss: 0.028280684484967164\n"
     ]
    }
   ],
   "source": [
    "conveyor_network_ng_no_inp_losses = conveyor_network_ng_no_inp.preTrain(sess, shuffle(data_conv_ng), epochs=5)"
   ]
  },
  {
   "cell_type": "code",
   "execution_count": 24,
   "metadata": {},
   "outputs": [
    {
     "data": {
      "text/plain": [
       "'../tf_models/dqn_rmsprop_conveyor_test_ng_ff_relu_64_64'"
      ]
     },
     "execution_count": 24,
     "metadata": {},
     "output_type": "execute_result"
    }
   ],
   "source": [
    "conveyor_network_ng_no_inp.save(sess)"
   ]
  },
  {
   "cell_type": "code",
   "execution_count": 16,
   "metadata": {},
   "outputs": [
    {
     "name": "stdout",
     "output_type": "stream",
     "text": [
      "Epoch 0... loss: 43.51222013745989\n",
      "Epoch 1... loss: 19.68220436459496\n",
      "Epoch 2... loss: 6.572651724588304\n",
      "Epoch 3... loss: 3.9815329358691263\n",
      "Epoch 4... loss: 3.135512413865044\n",
      "Epoch 5... loss: 2.489451770839237\n",
      "Epoch 6... loss: 1.872145863657906\n",
      "Epoch 7... loss: 1.2366749139059157\n",
      "Epoch 8... loss: 0.7022510056694349\n",
      "Epoch 9... loss: 0.3865967393631027\n"
     ]
    }
   ],
   "source": [
    "conveyor_network_ng_losses = conveyor_network_ng.preTrain(sess, shuffle(data_conv_ng), epochs=10)"
   ]
  },
  {
   "cell_type": "code",
   "execution_count": 12,
   "metadata": {},
   "outputs": [
    {
     "data": {
      "text/plain": [
       "'../tf_models/dqn_rmsprop_amatrix_work_status22_conveyor_test_ng_ff_relu_64_64'"
      ]
     },
     "execution_count": 12,
     "metadata": {},
     "output_type": "execute_result"
    }
   ],
   "source": [
    "conveyor_network_ng.save(sess)"
   ]
  },
  {
   "cell_type": "code",
   "execution_count": 16,
   "metadata": {},
   "outputs": [
    {
     "name": "stdout",
     "output_type": "stream",
     "text": [
      "Epoch 0... loss: 0.40214842979673293\n"
     ]
    }
   ],
   "source": [
    "conveyor_rnn_ng_losses = conveyor_rnn_ng.preTrain(sess, data_conv_ng, epochs=1, episode_length=8,\n",
    "                                                  episode_col='belt_id', shuffle_eps=True)"
   ]
  },
  {
   "cell_type": "code",
   "execution_count": 70,
   "metadata": {},
   "outputs": [
    {
     "data": {
      "text/plain": [
       "'../tf_models/dqn_rmsprop_amatrix_work_status22_conveyor_test_ng_lstm_tanh_64-tanh_64'"
      ]
     },
     "execution_count": 70,
     "metadata": {},
     "output_type": "execute_result"
    }
   ],
   "source": [
    "conveyor_rnn_ng.save(sess)"
   ]
  },
  {
   "cell_type": "code",
   "execution_count": 10,
   "metadata": {},
   "outputs": [
    {
     "name": "stdout",
     "output_type": "stream",
     "text": [
      "Epoch 0... loss: 15.810810847997665\n",
      "Epoch 1... loss: 1.9607475604424254\n",
      "Epoch 2... loss: 0.32505450949887743\n"
     ]
    }
   ],
   "source": [
    "conveyor_rnn_pp_ng_losses = conveyor_rnn_pp_ng.preTrain(sess, data_conv_ng, epochs=3,\n",
    "                                                        episode_col='pkg_id', shuffle_eps=True)"
   ]
  },
  {
   "cell_type": "code",
   "execution_count": 11,
   "metadata": {},
   "outputs": [
    {
     "data": {
      "text/plain": [
       "'../tf_models/dqn_rmsprop_amatrix_work_status22_conveyor_test_ng_per_pkg_lstm_tanh_64-tanh_64'"
      ]
     },
     "execution_count": 11,
     "metadata": {},
     "output_type": "execute_result"
    }
   ],
   "source": [
    "conveyor_rnn_pp_ng.save(sess)"
   ]
  },
  {
   "cell_type": "code",
   "execution_count": null,
   "metadata": {
    "collapsed": true
   },
   "outputs": [],
   "source": []
  }
 ],
 "metadata": {
  "kernelspec": {
   "display_name": "Python 3",
   "language": "python",
   "name": "python3"
  },
  "language_info": {
   "codemirror_mode": {
    "name": "ipython",
    "version": 3
   },
   "file_extension": ".py",
   "mimetype": "text/x-python",
   "name": "python",
   "nbconvert_exporter": "python",
   "pygments_lexer": "ipython3",
   "version": "3.6.7"
  }
 },
 "nbformat": 4,
 "nbformat_minor": 2
}
