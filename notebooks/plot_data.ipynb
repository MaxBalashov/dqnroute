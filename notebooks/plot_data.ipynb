{
 "cells": [
  {
   "cell_type": "code",
   "execution_count": null,
   "metadata": {},
   "outputs": [],
   "source": [
    "import numpy as np\n",
    "import matplotlib.pyplot as plt\n",
    "import pandas as pd\n",
    "\n",
    "from cycler import cycler"
   ]
  },
  {
   "cell_type": "code",
   "execution_count": null,
   "metadata": {},
   "outputs": [],
   "source": [
    "results_ls = pd.read_csv('logs/results4_link_state.csv')\n",
    "results_sq = pd.read_csv('logs/results4_sq.csv')\n",
    "results_pq = pd.read_csv('logs/results4_pq.csv')\n",
    "results_dqn = pd.read_csv('logs/results4_dqn.csv')"
   ]
  },
  {
   "cell_type": "code",
   "execution_count": null,
   "metadata": {},
   "outputs": [],
   "source": [
    "results_ls.head()"
   ]
  },
  {
   "cell_type": "code",
   "execution_count": null,
   "metadata": {},
   "outputs": [],
   "source": [
    "results_dqn.head()"
   ]
  },
  {
   "cell_type": "code",
   "execution_count": null,
   "metadata": {},
   "outputs": [],
   "source": [
    "def setAxLinesBW(ax):\n",
    "    \"\"\"\n",
    "    Take each Line2D in the axes, ax, and convert the line style to be \n",
    "    suitable for black and white viewing.\n",
    "    \"\"\"\n",
    "    MARKERSIZE = 3\n",
    "\n",
    "    COLORMAP = {\n",
    "        'b': {'marker': None, 'dash': (None,None)},\n",
    "        'g': {'marker': None, 'dash': [5,5]},\n",
    "        'r': {'marker': None, 'dash': [5,3,1,3]},\n",
    "        'c': {'marker': None, 'dash': [1,3]},\n",
    "        'm': {'marker': None, 'dash': [5,2,5,2,5,10]},\n",
    "        'y': {'marker': None, 'dash': [5,3,1,2,1,10]},\n",
    "        'k': {'marker': 'o', 'dash': (None,None)} #[1,2,1,10]}\n",
    "        }\n",
    "\n",
    "\n",
    "    lines_to_adjust = ax.get_lines()\n",
    "    try:\n",
    "        lines_to_adjust += ax.get_legend().get_lines()\n",
    "    except AttributeError:\n",
    "        pass\n",
    "\n",
    "    for line in lines_to_adjust:\n",
    "        origColor = line.get_color()\n",
    "        line.set_color('black')\n",
    "        line.set_dashes(COLORMAP[origColor]['dash'])\n",
    "        line.set_marker(COLORMAP[origColor]['marker'])\n",
    "        line.set_markersize(MARKERSIZE)"
   ]
  },
  {
   "cell_type": "code",
   "execution_count": null,
   "metadata": {},
   "outputs": [],
   "source": [
    "def read_multi_run(file, n=3, prefixes=['']):\n",
    "    final_df = None\n",
    "    for prefix in prefixes:\n",
    "        avg_c = 'avg' if prefix=='' else prefix+'_avg'\n",
    "    \n",
    "        df = pd.read_csv(file.format(1))\n",
    "        df = df[['time', avg_c]]\n",
    "        avg_cols = [avg_c]\n",
    "    \n",
    "        for i in range(2, n+1):\n",
    "            df2 = pd.read_csv(file.format(i))\n",
    "            acol = avg_c+str(i)\n",
    "            df[acol] = df2[avg_c]\n",
    "            avg_cols.append(acol)\n",
    "        \n",
    "        df[avg_c+'_total'] = df.apply(lambda row: np.mean([row[acol] for acol in avg_cols]), axis=1)\n",
    "        df[avg_c+'_max'] = df.apply(lambda row: np.amax([row[acol] for acol in avg_cols]), axis=1)\n",
    "        df[avg_c+'_min'] = df.apply(lambda row: np.amin([row[acol] for acol in avg_cols]), axis=1)\n",
    "        df = df.drop(avg_cols, axis=1)\n",
    "        if final_df is None:\n",
    "            final_df = df\n",
    "        else:\n",
    "            final_df = final_df.merge(df, on='time')\n",
    "    return final_df\n",
    "    "
   ]
  },
  {
   "cell_type": "code",
   "execution_count": null,
   "metadata": {},
   "outputs": [],
   "source": [
    "df = read_multi_run('logs/results6/link_state.{}.csv', 3)"
   ]
  },
  {
   "cell_type": "code",
   "execution_count": null,
   "metadata": {},
   "outputs": [],
   "source": [
    "df.head()"
   ]
  },
  {
   "cell_type": "code",
   "execution_count": null,
   "metadata": {},
   "outputs": [],
   "source": [
    "color_c = cycler('color', ['k'])\n",
    "style_c = cycler('linestyle', ['-', '--', ':', '-.'])\n",
    "markr_c = cycler('marker', ['', 'v', 'o'])\n",
    "c_cms = color_c * markr_c * style_c"
   ]
  },
  {
   "cell_type": "code",
   "execution_count": null,
   "metadata": {},
   "outputs": [],
   "source": []
  },
  {
   "cell_type": "code",
   "execution_count": null,
   "metadata": {},
   "outputs": [],
   "source": [
    "def plot_graph(title, ress, prefix='', figsize=(13, 6), ylim=None, xlim=None,\n",
    "               xlabel='Time of simulation model', ylabel='Average packet delivery time',\n",
    "               legend_size=18, font_size=24, tick_size=14, color=False, save_path=None):\n",
    "    min_avg = 10000000\n",
    "    max_avg = 0\n",
    "    f= plt.figure(figsize=figsize)\n",
    "    avg_col = 'avg' if prefix=='' else prefix+'_avg'\n",
    "    \n",
    "    if color:\n",
    "        plt.gca().set_prop_cycle(None)\n",
    "    else:\n",
    "        plt.gca().set_prop_cycle(c_cms)\n",
    "        \n",
    "    plt.rc('xtick', labelsize=tick_size)\n",
    "    plt.rc('ytick', labelsize=tick_size)\n",
    "    \n",
    "    for (label, res) in ress:\n",
    "        min_avg = min(min_avg, np.amin(res[avg_col]))\n",
    "        max_avg = max(max_avg, np.amax(res[avg_col]))\n",
    "        res.drop_duplicates('time', keep='last', inplace=True)\n",
    "        plt.plot(res['time'], res[avg_col] ,label=label, alpha=0.5)\n",
    "    plt.xlabel(xlabel, fontsize=font_size)\n",
    "    plt.ylabel(ylabel, fontsize=font_size)\n",
    "    plt.legend(prop={'size':legend_size})\n",
    "    \n",
    "    if ylim is None:\n",
    "        plt.ylim((min_avg - 15, max_avg + 15))\n",
    "    else:\n",
    "        plt.ylim(ylim)\n",
    "        \n",
    "    if xlim is not None:\n",
    "        plt.xlim(xlim)\n",
    "\n",
    "    plt.title(title, fontsize=font_size)\n",
    "    plt.show()\n",
    "    \n",
    "    if save_path is not None:\n",
    "        f.savefig(save_path, bbox_inches='tight')\n",
    "    \n",
    "def plot_multi_graph(title, ress, prefix='', figsize=(13, 8), ylim=None, xlim=None,\n",
    "               xlabel='Time of simulation model', ylabel='Average packet delivery time',\n",
    "               legend_size=18, font_size=24, tick_size=14, lw=3, elw=2,\n",
    "               color=False, save_path=None):\n",
    "    plt.gca().set_prop_cycle(None)\n",
    "    min_avg = 10000000\n",
    "    max_avg = 0\n",
    "    f = plt.figure(figsize=figsize)\n",
    "    avg_pref = 'avg' if prefix=='' else prefix+'_avg'\n",
    "    \n",
    "    for ((label, res), prop) in zip(ress, c_cms):\n",
    "        min_avg = min(min_avg, np.amin(res[avg_pref+'_total']))\n",
    "        max_avg = max(max_avg, np.amax(res[avg_pref+'_total']))\n",
    "        minerr = res[avg_pref+'_total'] - res[avg_pref+'_min']\n",
    "        maxerr = res[avg_pref+'_max'] - res[avg_pref+'_total']\n",
    "        \n",
    "        plt_kwargs = {\"yerr\": [minerr, maxerr], \"label\": label, \"alpha\": 0.5,\n",
    "                      \"linewidth\": lw, \"elinewidth\": elw}\n",
    "        if not color:\n",
    "            plt_kwargs[\"color\"] = prop['color']\n",
    "            plt_kwargs[\"ls\"] = prop['linestyle']\n",
    "            plt_kwargs[\"marker\"] = prop['marker']\n",
    "            \n",
    "        eb = plt.errorbar(res['time'], res[avg_pref+'_total'], **plt_kwargs)\n",
    "        if not color:\n",
    "            eb[-1][0].set_linestyle(prop['linestyle'])\n",
    "        #plt.plot(res['time'], res[avg_pref+'_total'], label=label, alpha=0.5)\n",
    "        #plt.fill_between(res['time'], res[avg_pref+'_max'], res[avg_pref+'_min'], alpha=0.15)\n",
    "    plt.xlabel(xlabel, fontsize=font_size)\n",
    "    plt.ylabel(ylabel, fontsize=font_size)\n",
    "    plt.rc('xtick', labelsize=tick_size)\n",
    "    plt.rc('ytick', labelsize=tick_size)\n",
    "    plt.legend(prop={'size':legend_size})\n",
    "    \n",
    "    if ylim is None:\n",
    "        plt.ylim((min_avg - 15, max_avg + 15))\n",
    "    else:\n",
    "        plt.ylim(ylim)\n",
    "        \n",
    "    if xlim is not None:\n",
    "        plt.xlim(xlim)\n",
    "    \n",
    "    plt.title(title, fontsize=font_size)\n",
    "    plt.show()\n",
    "    \n",
    "    if save_path is not None:\n",
    "        f.savefig(save_path, bbox_inches='tight')\n",
    "    "
   ]
  },
  {
   "cell_type": "code",
   "execution_count": null,
   "metadata": {},
   "outputs": [],
   "source": [
    "def count_mean_multi(ress, f=np.mean, prefix=''):\n",
    "    avg_pref = 'avg' if prefix=='' else prefix+'_avg'\n",
    "    df = pd.DataFrame(columns=list(zip(*ress))[0])\n",
    "    ms = []\n",
    "    for (label, res) in ress:\n",
    "        ms.append(round(f(res[avg_pref+'_total']), 1))\n",
    "    df.loc[0] = ms\n",
    "    return df"
   ]
  },
  {
   "cell_type": "code",
   "execution_count": null,
   "metadata": {},
   "outputs": [],
   "source": [
    "title = 'Низкая нагрузка, обрыв и последующее восстановление среднего линка в графе'\n",
    "plot_graph(title, ress=[('Link-state', results_ls), ('Simple Q-routing', results_sq), ('DQN routing', results_dqn)])"
   ]
  },
  {
   "cell_type": "code",
   "execution_count": null,
   "metadata": {},
   "outputs": [],
   "source": [
    "results2_ls = pd.read_csv('logs/results6_link_state.csv')\n",
    "results2_sq = pd.read_csv('logs/results6_sq.csv')\n",
    "#results2_pq = pd.read_csv('logs/results6_pq.csv')\n",
    "results2_dqn = pd.read_csv('logs/results6/dqn.3.csv')\n",
    "#results2_dqn_out_links = pd.read_csv('logs/results6_dqn_out_links.csv')\n",
    "#results2_dqn_adviced = pd.read_csv('logs/results6_dqn_advice_2.csv')\n",
    "#results2_dqn_load_states = pd.read_csv('logs/results6_dqn_load_states.csv')\n",
    "results2_dqn_adam = pd.read_csv('logs/results6/dqn_adam.3.csv')\n",
    "results2_dqn_rnn = pd.read_csv('logs/results6/dqn_32x2.3.csv')"
   ]
  },
  {
   "cell_type": "code",
   "execution_count": null,
   "metadata": {},
   "outputs": [],
   "source": [
    "title = 'Низкая нагрузка - высокая нагрузка - низкая нагрузка'\n",
    "plot_graph(title, ress=[('DQN routing', results2_dqn),# ('DQN (AdamOptimizer)', results2_dqn_adam),\n",
    "                        ('DRQN routing', results2_dqn_rnn)])"
   ]
  },
  {
   "cell_type": "code",
   "execution_count": null,
   "metadata": {},
   "outputs": [],
   "source": [
    "results6_multi_ls = read_multi_run('logs/results6/link_state.{}.csv', 3)\n",
    "results6_multi_sq = read_multi_run('logs/results6/simple_q.{}.csv', 3)\n",
    "results6_multi_dqn = read_multi_run('logs/results6/dqn_tanh.{}.csv', 3)\n",
    "ress=[('Link-state', results6_multi_ls),\n",
    "      ('Simple Q-routing', results6_multi_sq),\n",
    "      ('DQN routing', results6_multi_dqn)]\n",
    "plot_multi_graph('Abrupt peak load', ress, elw=1, font_size=16, legend_size=14, color=False, figsize=(14,5),\n",
    "                 save_path=\"peak-load-main_bw.pdf\")\n",
    "print(count_mean_multi(ress))"
   ]
  },
  {
   "cell_type": "code",
   "execution_count": null,
   "metadata": {},
   "outputs": [],
   "source": [
    "results6_multi_dqn_32x2 = read_multi_run('logs/results6/dqn_32x2.{}.csv', 3)\n",
    "results6_multi_dqn_32x3 = read_multi_run('logs/results6/dqn_32x3.{}.csv', 3)\n",
    "results6_multi_dqn_128x2 = read_multi_run('logs/results6/dqn_128x2.{}.csv', 3)\n",
    "results6_multi_dqn_64x3 = read_multi_run('logs/results6/dqn_64x3.{}.csv', 3)\n",
    "ress=[('64x2', results6_multi_dqn),\n",
    "                       ('32x2', results6_multi_dqn_32x2),\n",
    "                       ('32x3', results6_multi_dqn_32x3),\n",
    "                       ('128x2', results6_multi_dqn_128x2),\n",
    "                       ('64x3', results6_multi_dqn_64x3)]\n",
    "plot_multi_graph('Abrupt peak load (comparison of feed-forward NNs configuration)', ress)\n",
    "print(count_mean_multi(ress))"
   ]
  },
  {
   "cell_type": "code",
   "execution_count": null,
   "metadata": {},
   "outputs": [],
   "source": [
    "results6_multi_dqn_no_softmax = read_multi_run('logs/results6/dqn_no_softmax.{}.csv', 3)\n",
    "plot_multi_graph('Abrupt peak load (analyzing effect of softmax strategy)',\n",
    "                 ress=[('Simple Q-routing', results6_multi_sq),\n",
    "                       ('DQN with softmax', results6_multi_dqn),\n",
    "                       ('DQN without softmax', results6_multi_dqn_no_softmax)],\n",
    "                 elw=1, font_size=16, legend_size=14, color=False, figsize=(14,5), save_path=\"softmax-comparison_bw.pdf\")"
   ]
  },
  {
   "cell_type": "code",
   "execution_count": null,
   "metadata": {},
   "outputs": [],
   "source": [
    "results6_multi_dqn_tanh = read_multi_run('logs/results6/dqn_tanh.{}.csv', 3)\n",
    "results6_multi_dqn_sigmoid = read_multi_run('logs/results6/dqn_sigmoid.{}.csv', 3)\n",
    "plot_multi_graph('Abrupt peak load (comparison of activation functions)',\n",
    "                 ress=[('ReLU', results6_multi_dqn),\n",
    "                       ('tanh', results6_multi_dqn_tanh),\n",
    "                       ('sigmoid', results6_multi_dqn_sigmoid)])"
   ]
  },
  {
   "cell_type": "code",
   "execution_count": null,
   "metadata": {},
   "outputs": [],
   "source": [
    "results6_multi_dqn_rnn = read_multi_run('logs/results6/dqn_rnn.{}.csv', 3)\n",
    "results6_multi_dqn_rnn_pp = read_multi_run('logs/results6/dqn_rnn_per_pkg.{}.csv', 3)\n",
    "ress=[('DQN', results6_multi_dqn),\n",
    "                       ('DRQN', results6_multi_dqn_rnn),\n",
    "                       ('DRQN (package-wise)', results6_multi_dqn_rnn_pp)]\n",
    "plot_multi_graph('Abrupt peak load (comparison between DQN and DRQN)', ress,\n",
    "                 elw=1, font_size=16, legend_size=14, color=False, figsize=(14,5), save_path=\"peak-load-nns_bw.pdf\")\n",
    "print(count_mean_multi(ress))"
   ]
  },
  {
   "cell_type": "code",
   "execution_count": null,
   "metadata": {},
   "outputs": [],
   "source": [
    "results6_multi_dqn_adam = read_multi_run('logs/results6/dqn_adam.{}.csv', 3)\n",
    "plot_multi_graph('Abrupt peak load (comparison between RMSProp and Adam)', figsize=(7, 5),\n",
    "                 font_size=14, tick_size=10, legend_size=14, color=False,\n",
    "                 ress=[('RMSProp', results6_multi_dqn),\n",
    "                       ('Adam', results6_multi_dqn_adam)], save_path=\"adam-vs-rmsprop_bw.pdf\")"
   ]
  },
  {
   "cell_type": "code",
   "execution_count": null,
   "metadata": {},
   "outputs": [],
   "source": [
    "results2_dqn_2 = pd.read_csv('logs/results6_dqn_uniform_xp.csv')\n",
    "results2_dqn_3 = pd.read_csv('logs/results6_xp_tests/dqn_prioritized_xp_last32.1.csv')\n",
    "results2_dqn_4 = pd.read_csv('logs/results6_dqn_uniform_xp_last32.csv')\n",
    "title = 'Сравнение адаптивности алгоритма с применением Experience Replay и без'\n",
    "plot_graph(title, ress=[('No XP', results2_dqn), ('Uniform XP', results2_dqn_2),\n",
    "                        ('Prioritized XP', results2_dqn_3), ('Uniform XP - 32 last samples', results2_dqn_4)])"
   ]
  },
  {
   "cell_type": "code",
   "execution_count": null,
   "metadata": {},
   "outputs": [],
   "source": [
    "results6_xp_multi_dqn = read_multi_run('logs/results6/dqn_tanh.{}.csv', 3)\n",
    "results6_xp_multi_dqn_uniform_xp = read_multi_run('logs/results6_xp_tests/dqn_uniform_xp.{}.csv', 3)\n",
    "results6_xp_multi_dqn_prioritized_xp = read_multi_run('logs/results6_xp_tests/dqn_prioritized_xp.{}.csv', 3)\n",
    "results6_xp_multi_dqn_prioritized_xp_last32 = read_multi_run('logs/results6_xp_tests/dqn_prioritized_xp_last32.{}.csv', 3)\n",
    "results6_xp_multi_dqn_last32_xp = read_multi_run('logs/results6_xp_tests/dqn_last32_xp.{}.csv', 3)"
   ]
  },
  {
   "cell_type": "code",
   "execution_count": null,
   "metadata": {},
   "outputs": [],
   "source": [
    "title = 'Analysis of effect of Experience Replay on algorithm performance'\n",
    "plot_multi_graph(title, ress=[('No XP', results6_xp_multi_dqn), ('Uniform XP', results6_xp_multi_dqn_uniform_xp),\n",
    "                              ('Prioritized XP', results6_xp_multi_dqn_prioritized_xp),\n",
    "                              ('Short XP - 32 last samples', results6_xp_multi_dqn_last32_xp),\n",
    "                              ('Short prioritized XP - 32 last samples', results6_xp_multi_dqn_prioritized_xp_last32)],\n",
    "                 elw=1, font_size=16, legend_size=14, color=False, figsize=(14,5), save_path=\"xp-comparison_bw.pdf\")"
   ]
  },
  {
   "cell_type": "code",
   "execution_count": null,
   "metadata": {},
   "outputs": [],
   "source": [
    "results3_ls = pd.read_csv('logs/results7_ls.csv')\n",
    "results3_sq = pd.read_csv('logs/results7_sq.csv')\n",
    "results3_dqn = pd.read_csv('logs/results7_dqn.csv')\n",
    "title = 'Обрыв двух ребер один за другим с последующим восстановлением'\n",
    "plot_graph(title, ress=[('Link-state', results3_ls), ('Simple Q-routing', results3_sq), ('DQN routing', results3_dqn)])"
   ]
  },
  {
   "cell_type": "code",
   "execution_count": null,
   "metadata": {},
   "outputs": [],
   "source": [
    "results4_ls = pd.read_csv('logs/results8/link_state.1.csv')\n",
    "results4_sq = pd.read_csv('logs/results8/simple_q.1.csv')\n",
    "results4_dqn = pd.read_csv('logs/results8/dqn.1.csv')\n",
    "resutls4_dqn_rnn = pd.read_csv('logs/results8/dqn_rnn.1.csv')\n",
    "title = 'Обрыв трех ребер одно за другим с последующим восстановлением в обратном порядке'\n",
    "plot_graph(title, ress=[('Link-state', results4_ls), ('Simple Q-routing', results4_sq),\n",
    "            ('DQN routing', results4_dqn), ('DRQN (router memory)', resutls4_dqn_rnn)])"
   ]
  },
  {
   "cell_type": "code",
   "execution_count": null,
   "metadata": {},
   "outputs": [],
   "source": [
    "results_no_pretrain = pd.read_csv('logs/results5_no_pretrain_dqn.csv')\n",
    "results5_ls = pd.read_csv('logs/results5_link_state.csv')\n",
    "plot_graph('Behavior of NNs without preliminary learning', ress=[('DQN', results_no_pretrain), ('Link-state', results5_ls)],\n",
    "           xlim=(0, 45000), ylim=(0, 1000), font_size=18, tick_size=14, figsize=(10, 5), color=False,\n",
    "           save_path=\"no-pretrain-divergence_bw.pdf\")"
   ]
  },
  {
   "cell_type": "code",
   "execution_count": null,
   "metadata": {},
   "outputs": [],
   "source": [
    "results6_ls = pd.read_csv('logs/results10_ls.csv')\n",
    "results6_sq = pd.read_csv('logs/results10_sq.csv')\n",
    "#results2_pq = pd.read_csv('logs/results6_pq.csv')\n",
    "results6_dqn = pd.read_csv('logs/results10_dqn.csv')\n",
    "results6_dqn_out_links = pd.read_csv('logs/results10_dqn_out_links.csv')\n",
    "results6_dqn_adviced = pd.read_csv('logs/results10_dqn_advice_2.csv')"
   ]
  },
  {
   "cell_type": "code",
   "execution_count": null,
   "metadata": {},
   "outputs": [],
   "source": [
    "title = 'Несколько эпизодов пиковой нагрузки'\n",
    "plot_graph(title, ress=[('Link-state', results6_ls), ('Simple Q-routing', results6_sq),\n",
    "          ('DQN + advice', results6_dqn_adviced)])"
   ]
  },
  {
   "cell_type": "code",
   "execution_count": null,
   "metadata": {},
   "outputs": [],
   "source": [
    "results8_multi_ls = read_multi_run('logs/results8/link_state.{}.csv', 3)\n",
    "results8_multi_sq = read_multi_run('logs/results8/simple_q.{}.csv', 3)\n",
    "results8_multi_dqn = read_multi_run('logs/results8/dqn.{}.csv', 3)"
   ]
  },
  {
   "cell_type": "code",
   "execution_count": null,
   "metadata": {},
   "outputs": [],
   "source": [
    "title = 'Succsessive breaks of three links followed by restoring'\n",
    "ress=[('Link-state', results8_multi_ls), ('Simple Q-routing', results8_multi_sq),\n",
    "          ('DQN routing', results8_multi_dqn)]\n",
    "plot_multi_graph(title, ress, elw=1, font_size=20, legend_size=14, color=False, figsize=(14,7),\n",
    "                 save_path=\"topology-change-main_bw.pdf\")\n",
    "print(count_mean_multi(ress))"
   ]
  },
  {
   "cell_type": "code",
   "execution_count": null,
   "metadata": {},
   "outputs": [],
   "source": [
    "results8_multi_dqn_rnn = read_multi_run('logs/results8/dqn_rnn.{}.csv')\n",
    "results8_multi_dqn_rnn_per_pkg = read_multi_run('logs/results8/dqn_rnn_per_pkg.{}.csv')\n",
    "ress=[('DQN', results8_multi_dqn),\n",
    "                       ('DRQN (router memory)', results8_multi_dqn_rnn),\n",
    "                       ('DRQN (packet memory)', results8_multi_dqn_rnn_per_pkg)]\n",
    " #('DQN with upper triangle', results8_multi_dqn_matrix_tr)]\n",
    "plot_multi_graph('Succsessive breaks of three links followed by restoring', ress,\n",
    "                 elw=1, font_size=20, legend_size=14, color=False, figsize=(14,7),\n",
    "                 save_path=\"topology-change-nns_bw.pdf\")\n",
    "print(count_mean_multi(ress))"
   ]
  },
  {
   "cell_type": "code",
   "execution_count": null,
   "metadata": {},
   "outputs": [],
   "source": [
    "results8_multi_dqn_nomatrix = read_multi_run('logs/results8/dqn_new_none.{}.csv', 3)\n",
    "results8_multi_dqn_matrix_tr = read_multi_run('logs/results8/dqn_new_amatrix_tr.{}.csv', 3)\n",
    "#results8_dqn_matrix = pd.read_csv('logs/results8/dqn.1.csv')\n",
    "ress=[('DQN with adjacency matrix', results8_multi_dqn),\n",
    "                       ('DQN without adjacency matrix', results8_multi_dqn_nomatrix),\n",
    "                       ('Simple Q-routing', results8_multi_sq)]\n",
    "#('DQN with upper triangle', results8_multi_dqn_matrix_tr)]\n",
    "plot_multi_graph('Succsessive breaks of three links followed by restoring', ress,\n",
    "                 elw=1, font_size=14, legend_size=14, color=False, figsize=(14,8))\n",
    "print(count_mean_multi(ress))"
   ]
  },
  {
   "cell_type": "code",
   "execution_count": null,
   "metadata": {},
   "outputs": [],
   "source": [
    "results10_multi_ls = read_multi_run('logs/results10/link_state.{}.csv', 3)\n",
    "results10_multi_sq = read_multi_run('logs/results10/simple_q.{}.csv', 3)\n",
    "results10_multi_dqn = read_multi_run('logs/results10/dqn.{}.csv', 3)"
   ]
  },
  {
   "cell_type": "code",
   "execution_count": null,
   "metadata": {},
   "outputs": [],
   "source": [
    "title = 'Несколько эпизодов пиковой нагрузки'\n",
    "plot_multi_graph(title, ress=[('Link-state', results10_multi_ls), ('Simple Q-routing', results10_multi_sq),\n",
    "          ('DQN routing', results10_multi_dqn)])"
   ]
  },
  {
   "cell_type": "markdown",
   "metadata": {},
   "source": [
    "# Конвейеры"
   ]
  },
  {
   "cell_type": "code",
   "execution_count": null,
   "metadata": {},
   "outputs": [],
   "source": [
    "results_conv_test_ls = pd.read_csv('logs/conveyor_test/ls.csv')\n",
    "results_conv_test_sq = pd.read_csv('logs/conveyor_test/simple_q.csv')\n",
    "results_conv_test_dqn = pd.read_csv('logs/conveyor_test/dqn.csv')\n",
    "plot_graph('conveyor test', prefix='time',\n",
    "           ress=[('Link-state', results_conv_test_ls),\n",
    "                 ('Simple Q-routing', results_conv_test_sq),\n",
    "                 ('DQN routing', results_conv_test_dqn)])"
   ]
  },
  {
   "cell_type": "code",
   "execution_count": null,
   "metadata": {},
   "outputs": [],
   "source": [
    "plot_graph('тест конвейера', prefix='energy', ylabel='Средние энергозатраты',\n",
    "           ress=[('Link-state', results_conv_test_ls),\n",
    "                 ('Simple Q-routing', results_conv_test_sq),\n",
    "                 ('DQN routing', results_conv_test_dqn)])"
   ]
  },
  {
   "cell_type": "code",
   "execution_count": null,
   "metadata": {},
   "outputs": [],
   "source": [
    "results_conv_test_e1_ls = pd.read_csv('logs/conveyor_test/ls_energy_1.csv')\n",
    "results_conv_test_e1_sq = pd.read_csv('logs/conveyor_test/simple_q_energy_1.csv')\n",
    "results_conv_test_e1_dqn = pd.read_csv('logs/conveyor_test/dqn_energy_1.csv')\n",
    "results_conv_test_e1_ws_dqn = pd.read_csv('logs/conveyor_test/dqn_energy_1_work_status.csv')\n",
    "plot_graph('тест конвейера (вес энергии=1)', prefix='time',\n",
    "           ress=[('Link-state', results_conv_test_e1_ls),\n",
    "                 ('Simple Q-routing', results_conv_test_e1_sq),\n",
    "                 ('DQN routing', results_conv_test_e1_dqn),\n",
    "                 ('DQN + work status vector', results_conv_test_e1_ws_dqn)])"
   ]
  },
  {
   "cell_type": "code",
   "execution_count": null,
   "metadata": {},
   "outputs": [],
   "source": [
    "plot_graph('тест конвейера (вес энергии=1)', prefix='energy', ylabel='Средние энергозатраты',\n",
    "           ress=[('Link-state', results_conv_test_e1_ls),\n",
    "                 ('Simple Q-routing', results_conv_test_e1_sq),\n",
    "                 ('DQN routing', results_conv_test_e1_dqn),\n",
    "                 ('DQN + work status vector', results_conv_test_e1_ws_dqn)])"
   ]
  },
  {
   "cell_type": "code",
   "execution_count": null,
   "metadata": {},
   "outputs": [],
   "source": [
    "results_conv_ng_test_ls = pd.read_csv('logs/conveyor_energy_test/ls_en1.2.csv')\n",
    "results_conv_ng_test_sq = pd.read_csv('logs/conveyor_energy_test/simple_q_en1.2.csv')\n",
    "results_conv_ng_test_dqn = pd.read_csv('logs/conveyor_energy_test/dqn_no_inp.2.csv')\n",
    "plot_graph('тест конвейера (время)', prefix='time',\n",
    "           ress=[('Link-state', results_conv_ng_test_ls),\n",
    "                 ('Simple Q-routing', results_conv_ng_test_sq),\n",
    "                 ('DQN routing', results_conv_ng_test_dqn)])\n",
    "plot_graph('тест конвейера (энергия)', prefix='energy', ylabel='Суммарные энергозатраты',\n",
    "           ress=[('Link-state', results_conv_ng_test_ls),\n",
    "                 ('Simple Q-routing', results_conv_ng_test_sq),\n",
    "                 ('DRQN routing (package-wise)', results_conv_ng_test_dqn)])"
   ]
  },
  {
   "cell_type": "code",
   "execution_count": null,
   "metadata": {},
   "outputs": [],
   "source": [
    "results_multi_conv_ng_test_ls = read_multi_run('logs/conveyor_energy_test/ls_en1.{}.csv', prefixes=['time', 'energy'])\n",
    "results_multi_conv_ng_test_sq = read_multi_run('logs/conveyor_energy_test/simple_q_en1.{}.csv', prefixes=['time', 'energy'])\n",
    "results_multi_conv_ng_test_dqn = read_multi_run('logs/conveyor_energy_test/dqn_en1.{}.csv', prefixes=['time', 'energy'])\n",
    "ress=[('Link-state', results_multi_conv_ng_test_ls),\n",
    "                       ('Simple Q-routing', results_multi_conv_ng_test_sq),\n",
    "                       ('DQN routing', results_multi_conv_ng_test_dqn)]\n",
    "plot_multi_graph('Routing considering energy consumption, time', prefix='time', ress=ress,\n",
    "                 elw=1, font_size=18, legend_size=14, color=False, figsize=(7,7), save_path=\"bhs-1-main_bw.pdf\")\n",
    "print(count_mean_multi(ress, prefix='time'))\n",
    "plot_multi_graph('Routing considering energy consumption, energy', prefix='energy',\n",
    "                 ylabel='Total energy consumption', ress=ress,\n",
    "                 elw=1, font_size=18, legend_size=14, color=False, figsize=(7,7), save_path=\"bhs-1-main-energy_bw.pdf\")\n",
    "print(count_mean_multi(ress, prefix='energy', f=np.sum))"
   ]
  },
  {
   "cell_type": "code",
   "execution_count": null,
   "metadata": {},
   "outputs": [],
   "source": [
    "results_multi_conv_ng_test_dqn_rnn_pp = read_multi_run('logs/conveyor_energy_test/dqn_rnn_per_pkg_en1.{}.csv',\n",
    "                                                       prefixes=['time', 'energy'])\n",
    "results_multi_conv_ng_test_dqn_rnn = read_multi_run('logs/conveyor_energy_test/dqn_rnn_en1.{}.csv',\n",
    "                                                    prefixes=['time', 'energy'])\n",
    "ress=[('DQN', results_multi_conv_ng_test_dqn),\n",
    "                       ('DRQN, router memory', results_multi_conv_ng_test_dqn_rnn),\n",
    "                       ('DRQN, packet memory', results_multi_conv_ng_test_dqn_rnn_pp)]\n",
    "plot_multi_graph('Comparison of NN architectures, time', prefix='time', ress=ress,\n",
    "                 elw=1, font_size=18, legend_size=14, color=False, figsize=(7,7), save_path=\"bhs-1-nns_bw.pdf\")\n",
    "print(count_mean_multi(ress, prefix='time'))\n",
    "plot_multi_graph('Comparison of NN architectures, energy', prefix='energy',\n",
    "                 ylabel='Total energy consumption', ress=ress,\n",
    "                 elw=1, font_size=18, legend_size=14, color=False, figsize=(7,7), save_path=\"bhs-1-nns-energy_bw.pdf\")\n",
    "print(count_mean_multi(ress, prefix='energy', f=np.sum))"
   ]
  },
  {
   "cell_type": "code",
   "execution_count": null,
   "metadata": {},
   "outputs": [],
   "source": [
    "results_conv_ng2_test_ls = pd.read_csv('logs/conveyor_energy_test_2/ls.1.csv')\n",
    "results_conv_ng2_test_sq = pd.read_csv('logs/conveyor_energy_test_2/simple_q_en06.1.csv')\n",
    "results_conv_ng2_test_dqn = pd.read_csv('logs/conveyor_energy_test_2/dqn_en06.1.csv')\n",
    "plot_graph('тест конвейера (время)', prefix='time',\n",
    "           ress=[('Link-state', results_conv_ng2_test_ls),\n",
    "                 ('Simple Q-routing', results_conv_ng2_test_sq),\n",
    "                 ('DQN routing', results_conv_ng2_test_dqn)])\n",
    "plot_graph('тест конвейера (энергия)', prefix='energy', ylabel='Суммарные энергозатраты',\n",
    "           ress=[('Link-state', results_conv_ng2_test_ls),\n",
    "                 ('Simple Q-routing', results_conv_ng2_test_sq),\n",
    "                 ('DQN routing', results_conv_ng2_test_dqn)])"
   ]
  },
  {
   "cell_type": "code",
   "execution_count": null,
   "metadata": {},
   "outputs": [],
   "source": [
    "results_multi_conv_ng2_test_ls = read_multi_run('logs/conveyor_energy_test_2/ls.{}.csv',\n",
    "                                                prefixes=['time', 'energy'])\n",
    "results_multi_conv_ng2_test_sq = read_multi_run('logs/conveyor_energy_test_2/simple_q_hmm.{}.csv',\n",
    "                                                prefixes=['time', 'energy'])\n",
    "results_multi_conv_ng2_test_dqn = read_multi_run('logs/conveyor_energy_test_2/dqn_hmm.{}.csv',\n",
    "                                                 prefixes=['time', 'energy'])\n",
    "ress=[('Link-state', results_multi_conv_ng2_test_ls),\n",
    "                       ('Simple Q-routing', results_multi_conv_ng2_test_sq),\n",
    "                       ('DQN routing', results_multi_conv_ng2_test_dqn)]\n",
    "plot_multi_graph('Gradual increase of load (α = 1), time', prefix='time', ress=ress,\n",
    "                 elw=1, font_size=18, legend_size=14, color=False, figsize=(7,7), save_path=\"bhs-2-a1_bw.pdf\")\n",
    "print(count_mean_multi(ress, prefix='time'))\n",
    "plot_multi_graph('Gradual increase of load (α = 1), energy', prefix='energy', ylabel='Total energy consumption',\n",
    "                 ress=ress, elw=1, font_size=18, legend_size=14, color=False, figsize=(7,7), save_path=\"bhs-2-a1-energy_bw.pdf\")\n",
    "print(count_mean_multi(ress, prefix='energy', f=np.sum))"
   ]
  },
  {
   "cell_type": "code",
   "execution_count": null,
   "metadata": {},
   "outputs": [],
   "source": [
    "results_multi_conv_ng2_test_ls = read_multi_run('logs/conveyor_energy_test_2/ls.{}.csv',\n",
    "                                                prefixes=['time', 'energy'])\n",
    "results_multi_conv_ng2_test_sq = read_multi_run('logs/conveyor_energy_test_2/simple_q_en06.{}.csv',\n",
    "                                                prefixes=['time', 'energy'])\n",
    "results_multi_conv_ng2_test_dqn = read_multi_run('logs/conveyor_energy_test_2/dqn_en06.{}.csv',\n",
    "                                                 prefixes=['time', 'energy'])\n",
    "ress=[('Link-state', results_multi_conv_ng2_test_ls),\n",
    "                       ('Simple Q-routing', results_multi_conv_ng2_test_sq),\n",
    "                       ('DQN routing', results_multi_conv_ng2_test_dqn)]\n",
    "plot_multi_graph('Gradual increase of load (α = 0.6), time', prefix='time', ress=ress,\n",
    "                 elw=1, font_size=18, legend_size=14, color=False, figsize=(7,7), save_path=\"bhs-2-a06_bw.pdf\")\n",
    "print(count_mean_multi(ress, prefix='time'))\n",
    "plot_multi_graph('Gradual increase of load (α = 0.6), energy', prefix='energy', ylabel='Total energy consumption',\n",
    "                 ress=ress, elw=1, font_size=18, legend_size=14, color=False, figsize=(7,7),\n",
    "                 save_path=\"bhs-2-a06-energy_bw.pdf\")\n",
    "print(count_mean_multi(ress, prefix='energy', f=np.sum))"
   ]
  },
  {
   "cell_type": "code",
   "execution_count": null,
   "metadata": {},
   "outputs": [],
   "source": [
    "results_multi_conv_ng_test_dqn_no_inp = read_multi_run('logs/conveyor_energy_test/dqn_no_inp.{}.csv',\n",
    "                                                       prefixes=['time', 'energy'])\n",
    "plot_multi_graph('Working without info about neighbors\\' state, time', prefix='time',\n",
    "                 ress=[('Simple Q-routing', results_multi_conv_ng_test_sq),\n",
    "                       ('DQN routing', results_multi_conv_ng_test_dqn),\n",
    "                       ('DQN routing, no work status info', results_multi_conv_ng_test_dqn_no_inp)],\n",
    "                 figsize=(13, 14), font_size=25, legend_size=20, lw=4, elw=2)\n",
    "plot_multi_graph('Working without info about neighbors\\' state, energy', prefix='energy', ylabel='Total energy consumption',\n",
    "                 ress=[('Simple Q-routing', results_multi_conv_ng_test_sq),\n",
    "                       ('DQN routing', results_multi_conv_ng_test_dqn),\n",
    "                       ('DQN routing, no work status info', results_multi_conv_ng_test_dqn_no_inp)],\n",
    "                 figsize=(13, 14), font_size=25, legend_size=20, lw=4, elw=2)"
   ]
  },
  {
   "cell_type": "code",
   "execution_count": null,
   "metadata": {},
   "outputs": [],
   "source": []
  },
  {
   "cell_type": "code",
   "execution_count": null,
   "metadata": {},
   "outputs": [],
   "source": []
  },
  {
   "cell_type": "code",
   "execution_count": null,
   "metadata": {},
   "outputs": [],
   "source": []
  },
  {
   "cell_type": "code",
   "execution_count": null,
   "metadata": {},
   "outputs": [],
   "source": []
  },
  {
   "cell_type": "code",
   "execution_count": null,
   "metadata": {},
   "outputs": [],
   "source": []
  },
  {
   "cell_type": "code",
   "execution_count": null,
   "metadata": {},
   "outputs": [],
   "source": []
  },
  {
   "cell_type": "code",
   "execution_count": null,
   "metadata": {},
   "outputs": [],
   "source": []
  },
  {
   "cell_type": "code",
   "execution_count": null,
   "metadata": {},
   "outputs": [],
   "source": []
  },
  {
   "cell_type": "code",
   "execution_count": null,
   "metadata": {},
   "outputs": [],
   "source": []
  },
  {
   "cell_type": "code",
   "execution_count": null,
   "metadata": {},
   "outputs": [],
   "source": []
  },
  {
   "cell_type": "code",
   "execution_count": null,
   "metadata": {},
   "outputs": [],
   "source": []
  },
  {
   "cell_type": "code",
   "execution_count": null,
   "metadata": {},
   "outputs": [],
   "source": []
  },
  {
   "cell_type": "code",
   "execution_count": null,
   "metadata": {},
   "outputs": [],
   "source": []
  },
  {
   "cell_type": "code",
   "execution_count": null,
   "metadata": {},
   "outputs": [],
   "source": []
  },
  {
   "cell_type": "code",
   "execution_count": null,
   "metadata": {},
   "outputs": [],
   "source": []
  }
 ],
 "metadata": {
  "kernelspec": {
   "display_name": "Python 3",
   "language": "python",
   "name": "python3"
  },
  "language_info": {
   "codemirror_mode": {
    "name": "ipython",
    "version": 3
   },
   "file_extension": ".py",
   "mimetype": "text/x-python",
   "name": "python",
   "nbconvert_exporter": "python",
   "pygments_lexer": "ipython3"
  }
 },
 "nbformat": 4,
 "nbformat_minor": 2
}
