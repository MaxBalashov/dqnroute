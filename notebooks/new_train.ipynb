{
 "cells": [
  {
   "cell_type": "markdown",
   "metadata": {},
   "source": [
    "## Load everything"
   ]
  },
  {
   "cell_type": "code",
   "execution_count": 1,
   "metadata": {},
   "outputs": [],
   "source": [
    "import yaml\n",
    "import sys\n",
    "import traceback\n",
    "import logging\n",
    "import contextlib\n",
    "import numpy as np\n",
    "import pandas as pd\n",
    "import matplotlib.pyplot as plt\n",
    "import seaborn as sns\n",
    "import torch\n",
    "import torch.nn as nn\n",
    "import sympy\n",
    "\n",
    "%matplotlib inline\n",
    "\n",
    "from tqdm.notebook import tqdm\n",
    "from typing import *\n",
    "\n",
    "%load_ext autoreload\n",
    "%autoreload 2\n",
    "\n",
    "import os\n",
    "current_dir = os.getcwd()\n",
    "os.chdir(\"../src\")\n",
    "from dqnroute import *\n",
    "os.chdir(current_dir)\n",
    "\n",
    "logger = logging.getLogger(DQNROUTE_LOGGER)\n",
    "TORCH_MODELS_DIR = '../torch_models'\n",
    "LOG_DATA_DIR = '../logs/runs'\n",
    "np.set_printoptions(linewidth=500)\n",
    "\n",
    "_legend_txt_replace = {\n",
    "    'networks': {\n",
    "        'link_state': 'Shortest paths', 'simple_q': 'Q-routing', 'pred_q': 'PQ-routing',\n",
    "        'glob_dyn': 'Global-dynamic', 'dqn': 'DQN', 'dqn_oneout': 'DQN (1-out)',\n",
    "        'dqn_emb': 'DQN-LE', 'centralized_simple': 'Centralized control'\n",
    "    },\n",
    "    'conveyors': {\n",
    "        'link_state': 'Vyatkin-Black', 'simple_q': 'Q-routing', 'pred_q': 'PQ-routing',\n",
    "        'glob_dyn': 'Global-dynamic', 'dqn': 'DQN', 'dqn_oneout': 'DQN (1-out)',\n",
    "        'dqn_emb': 'DQN-LE', 'centralized_simple': 'BSR'\n",
    "    }\n",
    "}\n",
    "_targets = {'time': 'avg','energy': 'sum', 'collisions': 'sum'}\n",
    "_ylabels = {\n",
    "    'time': 'Mean delivery time', 'energy': 'Total energy consumption', 'collisions': 'Cargo collisions'\n",
    "}\n",
    "\n",
    "def print_sums(df):\n",
    "    types = set(df['router_type'])\n",
    "    for tp in types:\n",
    "        x = df.loc[df['router_type']==tp, 'count'].sum()\n",
    "        txt = _legend_txt_replace.get(tp, tp)\n",
    "        print('  {}: {}'.format(txt, x))\n",
    "\n",
    "def plot_data(data, meaning='time', figsize=(15,5), xlim=None, ylim=None, xlabel='Simulation time',\n",
    "              ylabel=None, font_size=14, title=None, save_path=None, draw_collisions=False,\n",
    "              context='networks', **kwargs):\n",
    "    if 'time' not in data.columns:\n",
    "        datas = split_dataframe(data, preserved_cols=['router_type', 'seed'])\n",
    "        for tag, df in datas:\n",
    "            if tag == 'collisions' and not draw_collisions:\n",
    "                print('Number of collisions:')\n",
    "                print_sums(df)\n",
    "                continue\n",
    "                \n",
    "            xlim = kwargs.get(tag+'_xlim', xlim)\n",
    "            ylim = kwargs.get(tag+'_ylim', ylim)\n",
    "            save_path = kwargs.get(tag+'_save_path', save_path)\n",
    "            plot_data(df, meaning=tag, figsize=figsize, xlim=xlim, ylim=ylim,\n",
    "                      xlabel=xlabel, ylabel=ylabel, font_size=font_size,\n",
    "                      title=title, save_path=save_path, context='conveyors')\n",
    "        return \n",
    "    \n",
    "    target = _targets[meaning]\n",
    "    if ylabel is None:\n",
    "        ylabel = _ylabels[meaning]\n",
    "        \n",
    "    fig = plt.figure(figsize=figsize)\n",
    "    ax = sns.lineplot(x='time', y=target, hue='router_type', data=data,\n",
    "                      err_kws={'alpha': 0.1})\n",
    "    \n",
    "    handles, labels = ax.get_legend_handles_labels()\n",
    "    new_labels = list(map(lambda l: _legend_txt_replace[context].get(l, l), labels[1:]))\n",
    "    ax.legend(handles=handles[1:], labels=new_labels, fontsize=font_size)\n",
    "    \n",
    "    ax.tick_params(axis='both', which='both', labelsize=int(font_size*0.75))\n",
    "        \n",
    "    if xlim is not None:\n",
    "        ax.set_xlim(xlim)\n",
    "    if ylim is not None:\n",
    "        ax.set_ylim(ylim)\n",
    "    if title is not None:\n",
    "        ax.set_title(title)\n",
    "    \n",
    "    ax.set_xlabel(xlabel, fontsize=font_size)\n",
    "    ax.set_ylabel(ylabel, fontsize=font_size)\n",
    "    \n",
    "    plt.show(fig)\n",
    "    \n",
    "    if save_path is not None:\n",
    "        fig.savefig('../img/' + save_path, bbox_inches='tight')\n",
    "\n",
    "def split_data(dct):\n",
    "    results = []\n",
    "    \n",
    "    def add_res(i, key, val):\n",
    "        while len(results) <= i:\n",
    "            results.append({})\n",
    "        results[i][key] = val\n",
    "    \n",
    "    for (key, vals) in dct.items():\n",
    "        for (i, val) in enumerate(vals):\n",
    "            add_res(i, key, val)\n",
    "    return tuple(results)\n",
    "    \n",
    "def combine_launch_data(launch_data):\n",
    "    dfs = []\n",
    "    for (job_id, data) in launch_data.items():\n",
    "        router_type, seed = un_job_id(job_id)\n",
    "        df = data.copy()\n",
    "        add_cols(df, router_type=router_type, seed=seed)\n",
    "        dfs.append(df)\n",
    "    return pd.concat(dfs, axis=0)\n",
    "\n",
    "class DummyTqdmFile(object):\n",
    "    \"\"\"Dummy file-like that will write to tqdm\"\"\"\n",
    "    file = None\n",
    "    def __init__(self, file):\n",
    "        self.file = file\n",
    "\n",
    "    def write(self, x):\n",
    "        # Avoid print() second call (useless \\n)\n",
    "        if len(x.rstrip()) > 0:\n",
    "            tqdm.write(x, file=self.file)\n",
    "\n",
    "    def flush(self):\n",
    "        return getattr(self.file, \"flush\", lambda: None)()\n",
    "\n",
    "@contextlib.contextmanager\n",
    "def std_out_err_redirect_tqdm():\n",
    "    orig_out_err = sys.stdout, sys.stderr\n",
    "    try:\n",
    "        sys.stdout, sys.stderr = map(DummyTqdmFile, orig_out_err)\n",
    "        yield orig_out_err[0]\n",
    "    # Relay exceptions\n",
    "    except Exception as exc:\n",
    "        raise exc\n",
    "    # Always restore sys.stdout/err if necessary\n",
    "    finally:\n",
    "        sys.stdout, sys.stderr = orig_out_err"
   ]
  },
  {
   "cell_type": "markdown",
   "metadata": {},
   "source": [
    "## Run simulation"
   ]
  },
  {
   "cell_type": "code",
   "execution_count": 2,
   "metadata": {},
   "outputs": [
    {
     "data": {
      "application/vnd.jupyter.widget-view+json": {
       "model_id": "f8557e7b1ed3482a82f8ddd57287d58b",
       "version_major": 2,
       "version_minor": 0
      },
      "text/plain": [
       "HBox(children=(FloatProgress(value=1.0, bar_style='info', description='dqn_emb-44', max=1.0, style=ProgressSty…"
      ]
     },
     "metadata": {},
     "output_type": "display_data"
    },
    {
     "name": "stdout",
     "output_type": "stream",
     "text": [
      "\n"
     ]
    }
   ],
   "source": [
    "def run_single(file: str, router_type: str, random_seed: int, **kwargs):\n",
    "    job_id = mk_job_id(router_type, random_seed)\n",
    "    with tqdm(desc=job_id) as bar:\n",
    "        queue = DummyProgressbarQueue(bar)\n",
    "        runner = ConveyorsRunner(run_params=file, router_type=router_type,\n",
    "                                 random_seed=random_seed, progress_queue=queue, **kwargs)\n",
    "        event_series = runner.run(**kwargs)\n",
    "    return event_series, runner\n",
    "\n",
    "#scenario, emb_dim, graph_size = '../launches/igor/acyclic_conveyor_energy_test.yaml', 10, 20\n",
    "scenario, emb_dim, graph_size = '../launches/igor/conveyor_cyclic_energy_test.yaml', 5, 8\n",
    "#scenario, emb_dim, graph_size = '../launches/igor/conveyor_cyclic2_energy_test.yaml', 5, 16\n",
    "#scenario, emb_dim, graph_size = '../launches/igor/tarau2010.yaml', 8, 27\n",
    "#scenario, emb_dim, graph_size = '../launches/igor/johnstone2010.yaml', 12, 54\n",
    "\n",
    "os.environ[\"IGOR_OVERRIDDEN_DQN_LOAD_FILENAME\"] = \\\n",
    "    f\"igor_trained_{emb_dim}_{graph_size}_{os.path.split(scenario)[1]}.bin\"\n",
    "\n",
    "# 'link_state', 'simple_q', 'dqn_emb'\n",
    "router_type='dqn_emb'\n",
    "#router_type='link_state'\n",
    "\n",
    "event_series, runner = run_single(file=scenario, router_type=router_type, progress_step=500,\n",
    "                                  ignore_saved=[True], random_seed=44)"
   ]
  },
  {
   "cell_type": "markdown",
   "metadata": {},
   "source": [
    "## Explore the graph"
   ]
  },
  {
   "cell_type": "code",
   "execution_count": 3,
   "metadata": {},
   "outputs": [
    {
     "name": "stdout",
     "output_type": "stream",
     "text": [
      "Graph size = 8\n",
      "conveyor 0: [(('sourcing_diverter', 0), 0)], length = 20\n",
      "conveyor 1: [(('junction', 3), 0), (('junction', 4), 20)], length = 40\n",
      "conveyor 2: [(('junction', 0), 0)], length = 20\n",
      "conveyor 3: [(('junction', 1), 0), (('diverter', 0), 20)], length = 40\n",
      "conveyor 4: [(('junction', 2), 0)], length = 20\n",
      "conveyor 5: [(('source', 0), 0)], length = 20\n",
      "Reachability matrix:\n",
      "11111111 # from ('source', 0)\n",
      "01111111 # from ('diverter', 0)\n",
      "01111111 # from ('junction', 0)\n",
      "01111111 # from ('junction', 1)\n",
      "01111111 # from ('junction', 2)\n",
      "01111111 # from ('junction', 3)\n",
      "01111111 # from ('junction', 4)\n",
      "00000001 # from ('sink', 0)\n"
     ]
    }
   ],
   "source": [
    "from dqnroute.verification.router_graph import RouterGraph\n",
    "g = RouterGraph(runner.world)\n",
    "print(\"Reachability matrix:\")\n",
    "g.print_reachability_matrix()"
   ]
  },
  {
   "cell_type": "markdown",
   "metadata": {},
   "source": [
    "## Visualize the graph"
   ]
  },
  {
   "cell_type": "code",
   "execution_count": 4,
   "metadata": {},
   "outputs": [
    {
     "data": {
      "image/png": "[encoded data removed]",
      "text/plain": [
       "<Figure size 1296x1296 with 1 Axes>"
      ]
     },
     "metadata": {
      "needs_background": "light"
     },
     "output_type": "display_data"
    }
   ],
   "source": [
    "gv_graph = g.to_graphviz()\n",
    "prefix = \"../img/graph.\"\n",
    "gv_graph.write(prefix + \"gv\")\n",
    "for path in [prefix + \"png\", prefix + \"pdf\"]:\n",
    "    gv_graph.draw(path, prog=\"circo\", args=\"-Gdpi=300 -Gmargin=0 -Grankdir=LR\")\n",
    "fig, ax = plt.subplots(figsize=(18, 18))\n",
    "ax.get_yaxis().set_visible(False)\n",
    "ax.get_xaxis().set_visible(False)\n",
    "plt.imshow(plt.imread(prefix + \"png\"));"
   ]
  },
  {
   "cell_type": "markdown",
   "metadata": {},
   "source": [
    "### Test routing from each source to each sink (with argmax choices)\n",
    "\n",
    "* At junctions, there are routers that do not have choice\n",
    "* Other routeres are at diverters and they have only two choices\n",
    "* Argmax choices are unrealistic: during the real system operation, routeres behave stochastically"
   ]
  },
  {
   "cell_type": "code",
   "execution_count": 5,
   "metadata": {},
   "outputs": [
    {
     "name": "stdout",
     "output_type": "stream",
     "text": [
      "Testing delivery from ('source', 0) to ('sink', 0)...\n",
      "    in: ('source', 0)\n",
      "    in: ('junction', 4)\n",
      "    in: ('junction', 0)\n",
      "    in: ('junction', 1)\n",
      "    in: ('diverter', 0)\n",
      "        Q(('diverter', 0) -> ('junction', 2) | ('sink', 0)) = -74.6251\n",
      "        Q(('diverter', 0) -> ('sink', 0) | ('sink', 0)) = -62.5796\n",
      "    in: ('sink', 0)\n",
      "    OK\n"
     ]
    }
   ],
   "source": [
    "for source in g.sources:\n",
    "    for sink in g.sinks:\n",
    "        print(f\"Testing delivery from {source} to {sink}...\")\n",
    "        current_node = source\n",
    "        visited_nodes = set()\n",
    "        sink_embedding, _, _ = g.node_to_embeddings(sink, sink)\n",
    "        while True:\n",
    "            if current_node in visited_nodes:\n",
    "                print(\"    FAIL due to cycle\")\n",
    "                break\n",
    "            visited_nodes.add(current_node)\n",
    "            print(\"    in:\", current_node)\n",
    "            if current_node[0] == \"sink\":\n",
    "                print(\"    \", end=\"\")\n",
    "                print(\"OK\" if current_node == sink else \"FAIL due to wrong destination\")\n",
    "                break\n",
    "            elif current_node[0] in [\"source\", \"junction\"]:\n",
    "                out_nodes = g.get_out_nodes(current_node)\n",
    "                assert len(out_nodes) == 1\n",
    "                current_node = out_nodes[0]\n",
    "            elif current_node[0] == \"diverter\":\n",
    "                current_embedding, neighbors, neighbor_embeddings = g.node_to_embeddings(current_node, sink)\n",
    "                q_values = []\n",
    "                for neighbor, neighbor_embedding in zip(neighbors, neighbor_embeddings):\n",
    "                    with torch.no_grad():\n",
    "                        q = g.q_forward(current_embedding, sink_embedding, neighbor_embedding).item()\n",
    "                    print(f\"        Q({current_node} -> {neighbor} | {sink}) = {q:.4f}\")\n",
    "                    q_values += [q]\n",
    "                best_neighbor_index = np.argmax(np.array(q_values))\n",
    "                current_node = neighbors[best_neighbor_index]\n",
    "            else:\n",
    "                raise AssertionError()"
   ]
  },
  {
   "cell_type": "code",
   "execution_count": null,
   "metadata": {},
   "outputs": [],
   "source": []
  }
 ],
 "metadata": {
  "kernelspec": {
   "display_name": "Python 3",
   "language": "python",
   "name": "python3"
  },
  "language_info": {
   "codemirror_mode": {
    "name": "ipython",
    "version": 3
   },
   "file_extension": ".py",
   "mimetype": "text/x-python",
   "name": "python",
   "nbconvert_exporter": "python",
   "pygments_lexer": "ipython3",
   "version": "3.7.6"
  }
 },
 "nbformat": 4,
 "nbformat_minor": 4
}
